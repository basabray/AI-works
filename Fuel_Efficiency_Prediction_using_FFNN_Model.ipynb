{
  "nbformat": 4,
  "nbformat_minor": 0,
  "metadata": {
    "colab": {
      "name": "Fuel Efficiency Prediction using FFNN Model.ipynb",
      "provenance": [],
      "collapsed_sections": [],
      "authorship_tag": "ABX9TyOEwSFQB7nZVPq+zUekzUWd",
      "include_colab_link": true
    },
    "kernelspec": {
      "name": "python3",
      "display_name": "Python 3"
    },
    "language_info": {
      "name": "python"
    }
  },
  "cells": [
    {
      "cell_type": "markdown",
      "metadata": {
        "id": "view-in-github",
        "colab_type": "text"
      },
      "source": [
        "<a href=\"https://colab.research.google.com/github/bray2020/AI-works/blob/main/Fuel_Efficiency_Prediction_using_FFNN_Model.ipynb\" target=\"_parent\"><img src=\"https://colab.research.google.com/assets/colab-badge.svg\" alt=\"Open In Colab\"/></a>"
      ]
    },
    {
      "cell_type": "markdown",
      "metadata": {
        "id": "Ova1QSocSLjc"
      },
      "source": [
        "# This is an automobile dataset to predict the fuel efficiency , 'MPG'"
      ]
    },
    {
      "cell_type": "markdown",
      "metadata": {
        "id": "Jd4c4TMpSEXL"
      },
      "source": [
        "**Technical aspects:**\n",
        "- Perform appropriate exploratory data analysis technique to treat missing values, to\n",
        "visualize the required plot etc.\n",
        "- Divide the data into train and test set with 80:20 ratio.\n",
        "- Perform appropriate normalization technique.\n",
        "- Build the NN model with adequate number of hidden layers, appropriate optimizer and\n",
        "loss functions.\n",
        "- Display the model summary and give your explanation on number of trainable\n",
        "parameters.\n",
        "- Fit the model by taking validation data as 20% of training data.\n",
        "- Plot the graph of Number of epochs vs/ training and validation loss\n",
        "- Check whether any overfitting is there in the model. If yes, apply early stopping\n",
        "technique to avoid it.\n",
        "- Evaluate the model and predict it on testing data.\n",
        "- Draw a graph of actual values v/s predicted values (regression line and scatter plot)"
      ]
    },
    {
      "cell_type": "markdown",
      "metadata": {
        "id": "hJHPJ2nZnUr9"
      },
      "source": [
        "**Importing necessary packages:**"
      ]
    },
    {
      "cell_type": "code",
      "metadata": {
        "id": "j6w0bKGNSIhc"
      },
      "source": [
        "import tensorflow as tf\n",
        "import pandas as pd\n",
        "import numpy as np\n",
        "from   tensorflow import keras\n",
        "import matplotlib.pyplot as plt\n",
        "import seaborn as sns\n",
        "from tensorflow.keras import layers"
      ],
      "execution_count": 1,
      "outputs": []
    },
    {
      "cell_type": "markdown",
      "metadata": {
        "id": "h0oeFu9qnYrS"
      },
      "source": [
        "**Load the data and store it into a dataframe, named 'dataset' as mentioned:**"
      ]
    },
    {
      "cell_type": "code",
      "metadata": {
        "id": "E2dLCyMjRMJl"
      },
      "source": [
        "dataset_path = keras.utils.get_file(\"auto-mpg.data\", \"http://archive.ics.uci.edu/ml/machine-learning-databases/auto-mpg/auto-mpg.data\")\n",
        "column_names = ['MPG','Cylinders','Displacement','Horsepower','Weight', 'Acceleration', 'Model Year', 'Origin'] \n",
        "dataset = pd.read_csv(dataset_path, names=column_names, na_values = \"?\", comment='\\t', sep=\" \", skipinitialspace=True)"
      ],
      "execution_count": 2,
      "outputs": []
    },
    {
      "cell_type": "markdown",
      "metadata": {
        "id": "4cDmSytQSiTl"
      },
      "source": [
        "**Basic Data Exploration, Misisng value treatment and Visualization**"
      ]
    },
    {
      "cell_type": "code",
      "metadata": {
        "colab": {
          "base_uri": "https://localhost:8080/",
          "height": 0
        },
        "id": "s9V4pL0wRV6z",
        "outputId": "3f497673-7d7b-478c-de5e-b286b99ef090"
      },
      "source": [
        "dataset.shape"
      ],
      "execution_count": 3,
      "outputs": [
        {
          "output_type": "execute_result",
          "data": {
            "text/plain": [
              "(398, 8)"
            ]
          },
          "metadata": {
            "tags": []
          },
          "execution_count": 3
        }
      ]
    },
    {
      "cell_type": "markdown",
      "metadata": {
        "id": "se4pGEV-oAkL"
      },
      "source": [
        "- The dataset is having 398 rows and 8 columns including the traget column, 'MPG'"
      ]
    },
    {
      "cell_type": "code",
      "metadata": {
        "colab": {
          "base_uri": "https://localhost:8080/",
          "height": 195
        },
        "id": "QI7HloT6RZ6P",
        "outputId": "387b1935-5df5-48ce-c89d-65d161803444"
      },
      "source": [
        "#Displaying first 5 records\n",
        "dataset.head()"
      ],
      "execution_count": 4,
      "outputs": [
        {
          "output_type": "execute_result",
          "data": {
            "text/html": [
              "<div>\n",
              "<style scoped>\n",
              "    .dataframe tbody tr th:only-of-type {\n",
              "        vertical-align: middle;\n",
              "    }\n",
              "\n",
              "    .dataframe tbody tr th {\n",
              "        vertical-align: top;\n",
              "    }\n",
              "\n",
              "    .dataframe thead th {\n",
              "        text-align: right;\n",
              "    }\n",
              "</style>\n",
              "<table border=\"1\" class=\"dataframe\">\n",
              "  <thead>\n",
              "    <tr style=\"text-align: right;\">\n",
              "      <th></th>\n",
              "      <th>MPG</th>\n",
              "      <th>Cylinders</th>\n",
              "      <th>Displacement</th>\n",
              "      <th>Horsepower</th>\n",
              "      <th>Weight</th>\n",
              "      <th>Acceleration</th>\n",
              "      <th>Model Year</th>\n",
              "      <th>Origin</th>\n",
              "    </tr>\n",
              "  </thead>\n",
              "  <tbody>\n",
              "    <tr>\n",
              "      <th>0</th>\n",
              "      <td>18.0</td>\n",
              "      <td>8</td>\n",
              "      <td>307.0</td>\n",
              "      <td>130.0</td>\n",
              "      <td>3504.0</td>\n",
              "      <td>12.0</td>\n",
              "      <td>70</td>\n",
              "      <td>1</td>\n",
              "    </tr>\n",
              "    <tr>\n",
              "      <th>1</th>\n",
              "      <td>15.0</td>\n",
              "      <td>8</td>\n",
              "      <td>350.0</td>\n",
              "      <td>165.0</td>\n",
              "      <td>3693.0</td>\n",
              "      <td>11.5</td>\n",
              "      <td>70</td>\n",
              "      <td>1</td>\n",
              "    </tr>\n",
              "    <tr>\n",
              "      <th>2</th>\n",
              "      <td>18.0</td>\n",
              "      <td>8</td>\n",
              "      <td>318.0</td>\n",
              "      <td>150.0</td>\n",
              "      <td>3436.0</td>\n",
              "      <td>11.0</td>\n",
              "      <td>70</td>\n",
              "      <td>1</td>\n",
              "    </tr>\n",
              "    <tr>\n",
              "      <th>3</th>\n",
              "      <td>16.0</td>\n",
              "      <td>8</td>\n",
              "      <td>304.0</td>\n",
              "      <td>150.0</td>\n",
              "      <td>3433.0</td>\n",
              "      <td>12.0</td>\n",
              "      <td>70</td>\n",
              "      <td>1</td>\n",
              "    </tr>\n",
              "    <tr>\n",
              "      <th>4</th>\n",
              "      <td>17.0</td>\n",
              "      <td>8</td>\n",
              "      <td>302.0</td>\n",
              "      <td>140.0</td>\n",
              "      <td>3449.0</td>\n",
              "      <td>10.5</td>\n",
              "      <td>70</td>\n",
              "      <td>1</td>\n",
              "    </tr>\n",
              "  </tbody>\n",
              "</table>\n",
              "</div>"
            ],
            "text/plain": [
              "    MPG  Cylinders  Displacement  ...  Acceleration  Model Year  Origin\n",
              "0  18.0          8         307.0  ...          12.0          70       1\n",
              "1  15.0          8         350.0  ...          11.5          70       1\n",
              "2  18.0          8         318.0  ...          11.0          70       1\n",
              "3  16.0          8         304.0  ...          12.0          70       1\n",
              "4  17.0          8         302.0  ...          10.5          70       1\n",
              "\n",
              "[5 rows x 8 columns]"
            ]
          },
          "metadata": {
            "tags": []
          },
          "execution_count": 4
        }
      ]
    },
    {
      "cell_type": "code",
      "metadata": {
        "colab": {
          "base_uri": "https://localhost:8080/",
          "height": 0
        },
        "id": "5xL_Dn9TRb3a",
        "outputId": "09e26481-60f0-47c5-97ef-a3089ce637b9"
      },
      "source": [
        "#Displaying basic data summary: columns, data types, null values present or not etc\n",
        "dataset.info()"
      ],
      "execution_count": 5,
      "outputs": [
        {
          "output_type": "stream",
          "text": [
            "<class 'pandas.core.frame.DataFrame'>\n",
            "RangeIndex: 398 entries, 0 to 397\n",
            "Data columns (total 8 columns):\n",
            " #   Column        Non-Null Count  Dtype  \n",
            "---  ------        --------------  -----  \n",
            " 0   MPG           398 non-null    float64\n",
            " 1   Cylinders     398 non-null    int64  \n",
            " 2   Displacement  398 non-null    float64\n",
            " 3   Horsepower    392 non-null    float64\n",
            " 4   Weight        398 non-null    float64\n",
            " 5   Acceleration  398 non-null    float64\n",
            " 6   Model Year    398 non-null    int64  \n",
            " 7   Origin        398 non-null    int64  \n",
            "dtypes: float64(5), int64(3)\n",
            "memory usage: 25.0 KB\n"
          ],
          "name": "stdout"
        }
      ]
    },
    {
      "cell_type": "markdown",
      "metadata": {
        "id": "hqS-JJeGc9-e"
      },
      "source": [
        "- From above information it seems that only the feature 'Horsepower' has 6 missing values "
      ]
    },
    {
      "cell_type": "markdown",
      "metadata": {
        "id": "ma_OMZVJdMG5"
      },
      "source": [
        "**Missing value treatment:**"
      ]
    },
    {
      "cell_type": "code",
      "metadata": {
        "colab": {
          "base_uri": "https://localhost:8080/",
          "height": 0
        },
        "id": "x8qXtPf4deQv",
        "outputId": "2201d231-c3a3-4207-b1e0-6048e9557d9c"
      },
      "source": [
        "print('Total Missing values:', dataset.isnull().sum())\n",
        "print()\n",
        "print('Missing value percentage is:', round(((dataset['Horsepower'].isnull().sum()/dataset.shape[0])*100), 2))"
      ],
      "execution_count": 6,
      "outputs": [
        {
          "output_type": "stream",
          "text": [
            "Total Missing values: MPG             0\n",
            "Cylinders       0\n",
            "Displacement    0\n",
            "Horsepower      6\n",
            "Weight          0\n",
            "Acceleration    0\n",
            "Model Year      0\n",
            "Origin          0\n",
            "dtype: int64\n",
            "\n",
            "Missing value percentage is: 1.51\n"
          ],
          "name": "stdout"
        }
      ]
    },
    {
      "cell_type": "markdown",
      "metadata": {
        "id": "_E3YDamNeNwz"
      },
      "source": [
        "- As the percentage of missing value is low, hence proceeding with dropping the missing values as of now"
      ]
    },
    {
      "cell_type": "code",
      "metadata": {
        "colab": {
          "base_uri": "https://localhost:8080/",
          "height": 0
        },
        "id": "wHWFjy79dXHj",
        "outputId": "24f8c490-5464-4ef5-c318-7c353e600d9e"
      },
      "source": [
        "dataset.dropna(inplace=True)\n",
        "dataset.isnull().sum()"
      ],
      "execution_count": 7,
      "outputs": [
        {
          "output_type": "execute_result",
          "data": {
            "text/plain": [
              "MPG             0\n",
              "Cylinders       0\n",
              "Displacement    0\n",
              "Horsepower      0\n",
              "Weight          0\n",
              "Acceleration    0\n",
              "Model Year      0\n",
              "Origin          0\n",
              "dtype: int64"
            ]
          },
          "metadata": {
            "tags": []
          },
          "execution_count": 7
        }
      ]
    },
    {
      "cell_type": "code",
      "metadata": {
        "colab": {
          "base_uri": "https://localhost:8080/",
          "height": 0
        },
        "id": "KwdizrtaTrlo",
        "outputId": "b6fcadef-df89-4d70-e280-a120cdb92565"
      },
      "source": [
        "#visualizing the features:\n",
        "dataset.columns"
      ],
      "execution_count": 8,
      "outputs": [
        {
          "output_type": "execute_result",
          "data": {
            "text/plain": [
              "Index(['MPG', 'Cylinders', 'Displacement', 'Horsepower', 'Weight',\n",
              "       'Acceleration', 'Model Year', 'Origin'],\n",
              "      dtype='object')"
            ]
          },
          "metadata": {
            "tags": []
          },
          "execution_count": 8
        }
      ]
    },
    {
      "cell_type": "code",
      "metadata": {
        "colab": {
          "base_uri": "https://localhost:8080/",
          "height": 656
        },
        "id": "C5F3rKm2SeZz",
        "outputId": "76b77e8b-7f70-4238-f7ea-17a740224f02"
      },
      "source": [
        "sns.pairplot(dataset[['MPG', 'Cylinders', 'Displacement', 'Horsepower', 'Weight', 'Acceleration']], height = 1.5, diag_kind=\"kde\")\n",
        "plt.show();"
      ],
      "execution_count": 9,
      "outputs": [
        {
          "output_type": "display_data",
          "data": {
            "image/png": "[encoded data removed]",
            "text/plain": [
              "<Figure size 648x648 with 42 Axes>"
            ]
          },
          "metadata": {
            "tags": [],
            "needs_background": "light"
          }
        }
      ]
    },
    {
      "cell_type": "markdown",
      "metadata": {
        "id": "i3p2GLN-yOeO"
      },
      "source": [
        ""
      ]
    },
    {
      "cell_type": "markdown",
      "metadata": {
        "id": "55QB0FbzUXKQ"
      },
      "source": [
        "**Divide the data into train set and test set (80:20 ratio):**"
      ]
    },
    {
      "cell_type": "code",
      "metadata": {
        "id": "p7PpOgUyS8EE"
      },
      "source": [
        "train_dataset = dataset.sample(frac=0.8, random_state=0)\n",
        "test_dataset =  dataset.drop(train_dataset.index)"
      ],
      "execution_count": 10,
      "outputs": []
    },
    {
      "cell_type": "code",
      "metadata": {
        "colab": {
          "base_uri": "https://localhost:8080/",
          "height": 254
        },
        "id": "ejUftpjDUwzn",
        "outputId": "e3bbb83d-0eb6-4b08-897b-1091b2765d6d"
      },
      "source": [
        "#Take the transpose of all the input features decription/summary data:\n",
        "train_stats = train_dataset.describe()\n",
        "train_stats.pop('MPG')\n",
        "train_stats = train_stats.transpose()\n",
        "train_stats"
      ],
      "execution_count": 11,
      "outputs": [
        {
          "output_type": "execute_result",
          "data": {
            "text/html": [
              "<div>\n",
              "<style scoped>\n",
              "    .dataframe tbody tr th:only-of-type {\n",
              "        vertical-align: middle;\n",
              "    }\n",
              "\n",
              "    .dataframe tbody tr th {\n",
              "        vertical-align: top;\n",
              "    }\n",
              "\n",
              "    .dataframe thead th {\n",
              "        text-align: right;\n",
              "    }\n",
              "</style>\n",
              "<table border=\"1\" class=\"dataframe\">\n",
              "  <thead>\n",
              "    <tr style=\"text-align: right;\">\n",
              "      <th></th>\n",
              "      <th>count</th>\n",
              "      <th>mean</th>\n",
              "      <th>std</th>\n",
              "      <th>min</th>\n",
              "      <th>25%</th>\n",
              "      <th>50%</th>\n",
              "      <th>75%</th>\n",
              "      <th>max</th>\n",
              "    </tr>\n",
              "  </thead>\n",
              "  <tbody>\n",
              "    <tr>\n",
              "      <th>Cylinders</th>\n",
              "      <td>314.0</td>\n",
              "      <td>5.477707</td>\n",
              "      <td>1.699788</td>\n",
              "      <td>3.0</td>\n",
              "      <td>4.00</td>\n",
              "      <td>4.0</td>\n",
              "      <td>8.00</td>\n",
              "      <td>8.0</td>\n",
              "    </tr>\n",
              "    <tr>\n",
              "      <th>Displacement</th>\n",
              "      <td>314.0</td>\n",
              "      <td>195.318471</td>\n",
              "      <td>104.331589</td>\n",
              "      <td>68.0</td>\n",
              "      <td>105.50</td>\n",
              "      <td>151.0</td>\n",
              "      <td>265.75</td>\n",
              "      <td>455.0</td>\n",
              "    </tr>\n",
              "    <tr>\n",
              "      <th>Horsepower</th>\n",
              "      <td>314.0</td>\n",
              "      <td>104.869427</td>\n",
              "      <td>38.096214</td>\n",
              "      <td>46.0</td>\n",
              "      <td>76.25</td>\n",
              "      <td>94.5</td>\n",
              "      <td>128.00</td>\n",
              "      <td>225.0</td>\n",
              "    </tr>\n",
              "    <tr>\n",
              "      <th>Weight</th>\n",
              "      <td>314.0</td>\n",
              "      <td>2990.251592</td>\n",
              "      <td>843.898596</td>\n",
              "      <td>1649.0</td>\n",
              "      <td>2256.50</td>\n",
              "      <td>2822.5</td>\n",
              "      <td>3608.00</td>\n",
              "      <td>5140.0</td>\n",
              "    </tr>\n",
              "    <tr>\n",
              "      <th>Acceleration</th>\n",
              "      <td>314.0</td>\n",
              "      <td>15.559236</td>\n",
              "      <td>2.789230</td>\n",
              "      <td>8.0</td>\n",
              "      <td>13.80</td>\n",
              "      <td>15.5</td>\n",
              "      <td>17.20</td>\n",
              "      <td>24.8</td>\n",
              "    </tr>\n",
              "    <tr>\n",
              "      <th>Model Year</th>\n",
              "      <td>314.0</td>\n",
              "      <td>75.898089</td>\n",
              "      <td>3.675642</td>\n",
              "      <td>70.0</td>\n",
              "      <td>73.00</td>\n",
              "      <td>76.0</td>\n",
              "      <td>79.00</td>\n",
              "      <td>82.0</td>\n",
              "    </tr>\n",
              "    <tr>\n",
              "      <th>Origin</th>\n",
              "      <td>314.0</td>\n",
              "      <td>1.573248</td>\n",
              "      <td>0.800988</td>\n",
              "      <td>1.0</td>\n",
              "      <td>1.00</td>\n",
              "      <td>1.0</td>\n",
              "      <td>2.00</td>\n",
              "      <td>3.0</td>\n",
              "    </tr>\n",
              "  </tbody>\n",
              "</table>\n",
              "</div>"
            ],
            "text/plain": [
              "              count         mean         std  ...     50%      75%     max\n",
              "Cylinders     314.0     5.477707    1.699788  ...     4.0     8.00     8.0\n",
              "Displacement  314.0   195.318471  104.331589  ...   151.0   265.75   455.0\n",
              "Horsepower    314.0   104.869427   38.096214  ...    94.5   128.00   225.0\n",
              "Weight        314.0  2990.251592  843.898596  ...  2822.5  3608.00  5140.0\n",
              "Acceleration  314.0    15.559236    2.789230  ...    15.5    17.20    24.8\n",
              "Model Year    314.0    75.898089    3.675642  ...    76.0    79.00    82.0\n",
              "Origin        314.0     1.573248    0.800988  ...     1.0     2.00     3.0\n",
              "\n",
              "[7 rows x 8 columns]"
            ]
          },
          "metadata": {
            "tags": []
          },
          "execution_count": 11
        }
      ]
    },
    {
      "cell_type": "markdown",
      "metadata": {
        "id": "CyVDlAgoU78e"
      },
      "source": [
        "**Split the input features from the target/label column:**\n",
        "- Separating the target/label column 'MPG' from the input features of both train and test sets."
      ]
    },
    {
      "cell_type": "code",
      "metadata": {
        "id": "2U2BRM98U4zr"
      },
      "source": [
        "train_labels = train_dataset.pop('MPG')    \n",
        "test_labels = test_dataset.pop('MPG')   "
      ],
      "execution_count": 12,
      "outputs": []
    },
    {
      "cell_type": "markdown",
      "metadata": {
        "id": "v_4m2tPHVPJb"
      },
      "source": [
        "**Normalize the data: Applied Standardization technique to normalize the data**"
      ]
    },
    {
      "cell_type": "code",
      "metadata": {
        "id": "-81IljswVF8T"
      },
      "source": [
        "def norm(x):\n",
        "  return (x- train_stats['mean']) / train_stats['std']\n",
        "\n",
        "normed_train_data = norm(train_dataset)\n",
        "normed_test_data = norm(test_dataset)"
      ],
      "execution_count": 13,
      "outputs": []
    },
    {
      "cell_type": "markdown",
      "metadata": {
        "id": "I9dYirXuVkI4"
      },
      "source": [
        "**FFNN (MLP architecture) Model Building:**\n",
        "- Considered 2 hidden layers\n",
        "- The 1st hidden layer has 50 neurons, input shape is=(7, ) because 7 input features and each feature is a 1-D column vector. Activation function used 'relu'\n",
        "- The 2nd hidden layer also has 50 neurons. The same activation function 'relu' is used in this layer as well\n",
        "- The last layer is the output layer, no activation func is needed cause it is a regression problem. So, the output/target 'y' can take value ranging from -infinity to +infinity\n",
        "- For loss optimization 'RMSprop' is used with default learning rate\n",
        "- Loss functions is Mean Squared Error ('mse')\n",
        "- Model performance matrics used 'Mean Absolute Error' and 'Mean Squared Error'"
      ]
    },
    {
      "cell_type": "code",
      "metadata": {
        "id": "cF6D3CtnVZa5"
      },
      "source": [
        "def build_model():\n",
        "\n",
        "  model = keras.Sequential([\n",
        "                            layers.Dense(50, activation=\"relu\", input_shape=[len(train_dataset.keys())]),   \n",
        "                            layers.Dense(50, activation=\"relu\"),                                             \n",
        "                            layers.Dense(1)                                                                 \n",
        "                            ])\n",
        "  \n",
        "  optimizer = tf.keras.optimizers.RMSprop(learning_rate=0.001)   \n",
        "\n",
        "  model.compile(loss=\"mse\",                                      \n",
        "                optimizer=optimizer,\n",
        "                metrics=['mae','mse'])\n",
        "  \n",
        "  return model"
      ],
      "execution_count": 14,
      "outputs": []
    },
    {
      "cell_type": "code",
      "metadata": {
        "id": "i5q8vaUVWG62"
      },
      "source": [
        "#creating the model objcet: \n",
        "model = build_model()"
      ],
      "execution_count": 15,
      "outputs": []
    },
    {
      "cell_type": "markdown",
      "metadata": {
        "id": "py1N9YpZY1UF"
      },
      "source": [
        "**Displaying the model summary:**"
      ]
    },
    {
      "cell_type": "code",
      "metadata": {
        "colab": {
          "base_uri": "https://localhost:8080/",
          "height": 0
        },
        "id": "mPEeJmMIWIlu",
        "outputId": "7d6b8737-3ac2-4299-c6fe-d32779611a19"
      },
      "source": [
        "#print the model summary:\n",
        "model.summary()"
      ],
      "execution_count": 16,
      "outputs": [
        {
          "output_type": "stream",
          "text": [
            "Model: \"sequential\"\n",
            "_________________________________________________________________\n",
            "Layer (type)                 Output Shape              Param #   \n",
            "=================================================================\n",
            "dense (Dense)                (None, 50)                400       \n",
            "_________________________________________________________________\n",
            "dense_1 (Dense)              (None, 50)                2550      \n",
            "_________________________________________________________________\n",
            "dense_2 (Dense)              (None, 1)                 51        \n",
            "=================================================================\n",
            "Total params: 3,001\n",
            "Trainable params: 3,001\n",
            "Non-trainable params: 0\n",
            "_________________________________________________________________\n"
          ],
          "name": "stdout"
        }
      ]
    },
    {
      "cell_type": "markdown",
      "metadata": {
        "id": "5Q85Of5xY50p"
      },
      "source": [
        "- There are total 3001 trainable parameters in this NN (therefore, total weights and bias is 3001)\n",
        "- Calculation of the trainable parameters in the layers are as following:\n",
        "- 1st hidden layer total 400 trainable parameters (7*50+50 = 400)\n",
        "- 2nd hidden layer total 2550 trainable parameters (50*50+50 = 2550)\n",
        "- output layer total 51 trainable parameters (50*1+1 = 51)"
      ]
    },
    {
      "cell_type": "markdown",
      "metadata": {
        "id": "yCl_VJDUWvkM"
      },
      "source": [
        "**Train the model by taking validation data as 20% of training set:**\n",
        "- validation set taken as 20% of the training data\n",
        "- number of epochs = 500\n",
        "- and 'verbose=1' to display the details of the model (loss, performance metrics etc at each epoch)"
      ]
    },
    {
      "cell_type": "code",
      "metadata": {
        "colab": {
          "base_uri": "https://localhost:8080/",
          "height": 0
        },
        "id": "U9BthnaSWQz4",
        "outputId": "0cf85303-2169-4cf7-b818-efb93bb69f86"
      },
      "source": [
        "#display training progress by printing a single dot for each complete epoch\n",
        "class PrintDot(keras.callbacks.Callback):\n",
        "  def op_epoch_end(self,epoch,logs):\n",
        "    if epoch % 100 ==0:\n",
        "      print('')\n",
        "    print(\".\",end='')\n",
        "\n",
        "EPOCHS = 500\n",
        "\n",
        "history = model.fit(\n",
        "    normed_train_data, train_labels,\n",
        "    epochs=EPOCHS, validation_split = 0.2, verbose=1)"
      ],
      "execution_count": 17,
      "outputs": [
        {
          "output_type": "stream",
          "text": [
            "Epoch 1/500\n",
            "8/8 [==============================] - 1s 68ms/step - loss: 571.5505 - mae: 22.6609 - mse: 571.5505 - val_loss: 567.8807 - val_mae: 22.4812 - val_mse: 567.8807\n",
            "Epoch 2/500\n",
            "8/8 [==============================] - 0s 8ms/step - loss: 561.9115 - mae: 22.3230 - mse: 561.9115 - val_loss: 525.3059 - val_mae: 21.4908 - val_mse: 525.3059\n",
            "Epoch 3/500\n",
            "8/8 [==============================] - 0s 7ms/step - loss: 453.5661 - mae: 19.9038 - mse: 453.5661 - val_loss: 479.3463 - val_mae: 20.4079 - val_mse: 479.3463\n",
            "Epoch 4/500\n",
            "8/8 [==============================] - 0s 8ms/step - loss: 443.9520 - mae: 19.6350 - mse: 443.9520 - val_loss: 431.4598 - val_mae: 19.2209 - val_mse: 431.4598\n",
            "Epoch 5/500\n",
            "8/8 [==============================] - 0s 8ms/step - loss: 380.2824 - mae: 18.0248 - mse: 380.2824 - val_loss: 381.2573 - val_mae: 17.9051 - val_mse: 381.2573\n",
            "Epoch 6/500\n",
            "8/8 [==============================] - 0s 7ms/step - loss: 337.2828 - mae: 16.8948 - mse: 337.2828 - val_loss: 328.8421 - val_mae: 16.4396 - val_mse: 328.8421\n",
            "Epoch 7/500\n",
            "8/8 [==============================] - 0s 8ms/step - loss: 301.1047 - mae: 15.7801 - mse: 301.1047 - val_loss: 277.5164 - val_mae: 14.8958 - val_mse: 277.5164\n",
            "Epoch 8/500\n",
            "8/8 [==============================] - 0s 8ms/step - loss: 268.6551 - mae: 14.9457 - mse: 268.6551 - val_loss: 226.6531 - val_mae: 13.3125 - val_mse: 226.6531\n",
            "Epoch 9/500\n",
            "8/8 [==============================] - 0s 7ms/step - loss: 202.1263 - mae: 12.6920 - mse: 202.1263 - val_loss: 177.9592 - val_mae: 11.7502 - val_mse: 177.9592\n",
            "Epoch 10/500\n",
            "8/8 [==============================] - 0s 9ms/step - loss: 149.9226 - mae: 10.7193 - mse: 149.9226 - val_loss: 132.9100 - val_mae: 10.1417 - val_mse: 132.9100\n",
            "Epoch 11/500\n",
            "8/8 [==============================] - 0s 9ms/step - loss: 110.6817 - mae: 9.0756 - mse: 110.6817 - val_loss: 94.9801 - val_mae: 8.5102 - val_mse: 94.9801\n",
            "Epoch 12/500\n",
            "8/8 [==============================] - 0s 8ms/step - loss: 87.5919 - mae: 8.0591 - mse: 87.5919 - val_loss: 66.1261 - val_mae: 6.9688 - val_mse: 66.1261\n",
            "Epoch 13/500\n",
            "8/8 [==============================] - 0s 7ms/step - loss: 66.0943 - mae: 6.6651 - mse: 66.0943 - val_loss: 46.2305 - val_mae: 5.7456 - val_mse: 46.2305\n",
            "Epoch 14/500\n",
            "8/8 [==============================] - 0s 8ms/step - loss: 44.4684 - mae: 5.4582 - mse: 44.4684 - val_loss: 34.8536 - val_mae: 4.9782 - val_mse: 34.8536\n",
            "Epoch 15/500\n",
            "8/8 [==============================] - 0s 8ms/step - loss: 36.0231 - mae: 4.7218 - mse: 36.0231 - val_loss: 28.9949 - val_mae: 4.4783 - val_mse: 28.9949\n",
            "Epoch 16/500\n",
            "8/8 [==============================] - 0s 8ms/step - loss: 30.2929 - mae: 4.2590 - mse: 30.2929 - val_loss: 25.8225 - val_mae: 4.1794 - val_mse: 25.8225\n",
            "Epoch 17/500\n",
            "8/8 [==============================] - 0s 7ms/step - loss: 27.5980 - mae: 4.1248 - mse: 27.5980 - val_loss: 23.4639 - val_mae: 3.9528 - val_mse: 23.4639\n",
            "Epoch 18/500\n",
            "8/8 [==============================] - 0s 8ms/step - loss: 24.1081 - mae: 3.7958 - mse: 24.1081 - val_loss: 21.4768 - val_mae: 3.7519 - val_mse: 21.4768\n",
            "Epoch 19/500\n",
            "8/8 [==============================] - 0s 11ms/step - loss: 20.8210 - mae: 3.6081 - mse: 20.8210 - val_loss: 19.8486 - val_mae: 3.6289 - val_mse: 19.8486\n",
            "Epoch 20/500\n",
            "8/8 [==============================] - 0s 9ms/step - loss: 20.5637 - mae: 3.4196 - mse: 20.5637 - val_loss: 18.2825 - val_mae: 3.4453 - val_mse: 18.2825\n",
            "Epoch 21/500\n",
            "8/8 [==============================] - 0s 8ms/step - loss: 16.6817 - mae: 3.2396 - mse: 16.6817 - val_loss: 16.7839 - val_mae: 3.3029 - val_mse: 16.7839\n",
            "Epoch 22/500\n",
            "8/8 [==============================] - 0s 8ms/step - loss: 18.1292 - mae: 3.2395 - mse: 18.1292 - val_loss: 15.8537 - val_mae: 3.1828 - val_mse: 15.8537\n",
            "Epoch 23/500\n",
            "8/8 [==============================] - 0s 8ms/step - loss: 15.4697 - mae: 3.0276 - mse: 15.4697 - val_loss: 14.9053 - val_mae: 3.1213 - val_mse: 14.9053\n",
            "Epoch 24/500\n",
            "8/8 [==============================] - 0s 8ms/step - loss: 16.3345 - mae: 3.0540 - mse: 16.3345 - val_loss: 14.2575 - val_mae: 3.0490 - val_mse: 14.2575\n",
            "Epoch 25/500\n",
            "8/8 [==============================] - 0s 7ms/step - loss: 17.0463 - mae: 3.0875 - mse: 17.0463 - val_loss: 13.5747 - val_mae: 2.9686 - val_mse: 13.5747\n",
            "Epoch 26/500\n",
            "8/8 [==============================] - 0s 8ms/step - loss: 14.3422 - mae: 2.8693 - mse: 14.3422 - val_loss: 13.0175 - val_mae: 2.9029 - val_mse: 13.0175\n",
            "Epoch 27/500\n",
            "8/8 [==============================] - 0s 8ms/step - loss: 13.4782 - mae: 2.7532 - mse: 13.4782 - val_loss: 12.6613 - val_mae: 2.8412 - val_mse: 12.6613\n",
            "Epoch 28/500\n",
            "8/8 [==============================] - 0s 8ms/step - loss: 10.3201 - mae: 2.4672 - mse: 10.3201 - val_loss: 12.3370 - val_mae: 2.8342 - val_mse: 12.3370\n",
            "Epoch 29/500\n",
            "8/8 [==============================] - 0s 7ms/step - loss: 11.9787 - mae: 2.5598 - mse: 11.9787 - val_loss: 12.0254 - val_mae: 2.7701 - val_mse: 12.0254\n",
            "Epoch 30/500\n",
            "8/8 [==============================] - 0s 8ms/step - loss: 11.3224 - mae: 2.5057 - mse: 11.3224 - val_loss: 11.7482 - val_mae: 2.7589 - val_mse: 11.7482\n",
            "Epoch 31/500\n",
            "8/8 [==============================] - 0s 8ms/step - loss: 12.7299 - mae: 2.5430 - mse: 12.7299 - val_loss: 11.3840 - val_mae: 2.6793 - val_mse: 11.3840\n",
            "Epoch 32/500\n",
            "8/8 [==============================] - 0s 8ms/step - loss: 11.3039 - mae: 2.4353 - mse: 11.3039 - val_loss: 11.2328 - val_mae: 2.6502 - val_mse: 11.2328\n",
            "Epoch 33/500\n",
            "8/8 [==============================] - 0s 8ms/step - loss: 10.9077 - mae: 2.4070 - mse: 10.9077 - val_loss: 11.2361 - val_mae: 2.6476 - val_mse: 11.2361\n",
            "Epoch 34/500\n",
            "8/8 [==============================] - 0s 8ms/step - loss: 10.6776 - mae: 2.4255 - mse: 10.6776 - val_loss: 11.4434 - val_mae: 2.7424 - val_mse: 11.4434\n",
            "Epoch 35/500\n",
            "8/8 [==============================] - 0s 9ms/step - loss: 10.4148 - mae: 2.3122 - mse: 10.4148 - val_loss: 10.8234 - val_mae: 2.6236 - val_mse: 10.8234\n",
            "Epoch 36/500\n",
            "8/8 [==============================] - 0s 8ms/step - loss: 10.8822 - mae: 2.4115 - mse: 10.8822 - val_loss: 10.7522 - val_mae: 2.5629 - val_mse: 10.7522\n",
            "Epoch 37/500\n",
            "8/8 [==============================] - 0s 8ms/step - loss: 12.6763 - mae: 2.5177 - mse: 12.6763 - val_loss: 10.5384 - val_mae: 2.5464 - val_mse: 10.5384\n",
            "Epoch 38/500\n",
            "8/8 [==============================] - 0s 7ms/step - loss: 9.7258 - mae: 2.1816 - mse: 9.7258 - val_loss: 10.7128 - val_mae: 2.6287 - val_mse: 10.7128\n",
            "Epoch 39/500\n",
            "8/8 [==============================] - 0s 8ms/step - loss: 10.5034 - mae: 2.3506 - mse: 10.5034 - val_loss: 10.5630 - val_mae: 2.5906 - val_mse: 10.5630\n",
            "Epoch 40/500\n",
            "8/8 [==============================] - 0s 7ms/step - loss: 10.0354 - mae: 2.2913 - mse: 10.0354 - val_loss: 10.3129 - val_mae: 2.5485 - val_mse: 10.3129\n",
            "Epoch 41/500\n",
            "8/8 [==============================] - 0s 9ms/step - loss: 8.5605 - mae: 2.0064 - mse: 8.5605 - val_loss: 10.2557 - val_mae: 2.5447 - val_mse: 10.2557\n",
            "Epoch 42/500\n",
            "8/8 [==============================] - 0s 8ms/step - loss: 9.3123 - mae: 2.2177 - mse: 9.3123 - val_loss: 10.8016 - val_mae: 2.6326 - val_mse: 10.8016\n",
            "Epoch 43/500\n",
            "8/8 [==============================] - 0s 7ms/step - loss: 10.6481 - mae: 2.3418 - mse: 10.6481 - val_loss: 10.2075 - val_mae: 2.5320 - val_mse: 10.2075\n",
            "Epoch 44/500\n",
            "8/8 [==============================] - 0s 8ms/step - loss: 9.0497 - mae: 2.2165 - mse: 9.0497 - val_loss: 10.2083 - val_mae: 2.5389 - val_mse: 10.2083\n",
            "Epoch 45/500\n",
            "8/8 [==============================] - 0s 7ms/step - loss: 8.1558 - mae: 2.0197 - mse: 8.1558 - val_loss: 10.1884 - val_mae: 2.5096 - val_mse: 10.1884\n",
            "Epoch 46/500\n",
            "8/8 [==============================] - 0s 7ms/step - loss: 8.9829 - mae: 2.1435 - mse: 8.9829 - val_loss: 9.9144 - val_mae: 2.4884 - val_mse: 9.9144\n",
            "Epoch 47/500\n",
            "8/8 [==============================] - 0s 9ms/step - loss: 9.1554 - mae: 2.1554 - mse: 9.1554 - val_loss: 10.1017 - val_mae: 2.4682 - val_mse: 10.1017\n",
            "Epoch 48/500\n",
            "8/8 [==============================] - 0s 7ms/step - loss: 9.8000 - mae: 2.2075 - mse: 9.8000 - val_loss: 10.0655 - val_mae: 2.5010 - val_mse: 10.0655\n",
            "Epoch 49/500\n",
            "8/8 [==============================] - 0s 7ms/step - loss: 8.9408 - mae: 2.0964 - mse: 8.9408 - val_loss: 9.8779 - val_mae: 2.4721 - val_mse: 9.8779\n",
            "Epoch 50/500\n",
            "8/8 [==============================] - 0s 8ms/step - loss: 8.4254 - mae: 2.0172 - mse: 8.4254 - val_loss: 9.7578 - val_mae: 2.4588 - val_mse: 9.7578\n",
            "Epoch 51/500\n",
            "8/8 [==============================] - 0s 8ms/step - loss: 8.3371 - mae: 2.0845 - mse: 8.3371 - val_loss: 9.7669 - val_mae: 2.4425 - val_mse: 9.7669\n",
            "Epoch 52/500\n",
            "8/8 [==============================] - 0s 9ms/step - loss: 7.9699 - mae: 2.0975 - mse: 7.9699 - val_loss: 9.9607 - val_mae: 2.4846 - val_mse: 9.9607\n",
            "Epoch 53/500\n",
            "8/8 [==============================] - 0s 7ms/step - loss: 9.8425 - mae: 2.2387 - mse: 9.8425 - val_loss: 9.7412 - val_mae: 2.4462 - val_mse: 9.7412\n",
            "Epoch 54/500\n",
            "8/8 [==============================] - 0s 7ms/step - loss: 7.2749 - mae: 1.9301 - mse: 7.2749 - val_loss: 9.7389 - val_mae: 2.4384 - val_mse: 9.7389\n",
            "Epoch 55/500\n",
            "8/8 [==============================] - 0s 7ms/step - loss: 8.6145 - mae: 2.0327 - mse: 8.6145 - val_loss: 9.7011 - val_mae: 2.4158 - val_mse: 9.7011\n",
            "Epoch 56/500\n",
            "8/8 [==============================] - 0s 8ms/step - loss: 8.3111 - mae: 2.0794 - mse: 8.3111 - val_loss: 9.6918 - val_mae: 2.4365 - val_mse: 9.6918\n",
            "Epoch 57/500\n",
            "8/8 [==============================] - 0s 9ms/step - loss: 7.1400 - mae: 1.8715 - mse: 7.1400 - val_loss: 9.7402 - val_mae: 2.4589 - val_mse: 9.7402\n",
            "Epoch 58/500\n",
            "8/8 [==============================] - 0s 8ms/step - loss: 8.7306 - mae: 2.0304 - mse: 8.7306 - val_loss: 9.8894 - val_mae: 2.4763 - val_mse: 9.8894\n",
            "Epoch 59/500\n",
            "8/8 [==============================] - 0s 8ms/step - loss: 9.4418 - mae: 2.1706 - mse: 9.4418 - val_loss: 9.6791 - val_mae: 2.4351 - val_mse: 9.6791\n",
            "Epoch 60/500\n",
            "8/8 [==============================] - 0s 9ms/step - loss: 6.3319 - mae: 1.7870 - mse: 6.3319 - val_loss: 10.0683 - val_mae: 2.4950 - val_mse: 10.0683\n",
            "Epoch 61/500\n",
            "8/8 [==============================] - 0s 9ms/step - loss: 7.8627 - mae: 1.9924 - mse: 7.8627 - val_loss: 9.7072 - val_mae: 2.4183 - val_mse: 9.7072\n",
            "Epoch 62/500\n",
            "8/8 [==============================] - 0s 8ms/step - loss: 7.7433 - mae: 1.9813 - mse: 7.7433 - val_loss: 9.6051 - val_mae: 2.4277 - val_mse: 9.6051\n",
            "Epoch 63/500\n",
            "8/8 [==============================] - 0s 8ms/step - loss: 8.4708 - mae: 2.0524 - mse: 8.4708 - val_loss: 9.8135 - val_mae: 2.3879 - val_mse: 9.8135\n",
            "Epoch 64/500\n",
            "8/8 [==============================] - 0s 7ms/step - loss: 7.4448 - mae: 1.9341 - mse: 7.4448 - val_loss: 9.4975 - val_mae: 2.3869 - val_mse: 9.4975\n",
            "Epoch 65/500\n",
            "8/8 [==============================] - 0s 7ms/step - loss: 6.4840 - mae: 1.8407 - mse: 6.4840 - val_loss: 9.6757 - val_mae: 2.4423 - val_mse: 9.6757\n",
            "Epoch 66/500\n",
            "8/8 [==============================] - 0s 9ms/step - loss: 7.1849 - mae: 1.8521 - mse: 7.1849 - val_loss: 9.4931 - val_mae: 2.4116 - val_mse: 9.4931\n",
            "Epoch 67/500\n",
            "8/8 [==============================] - 0s 8ms/step - loss: 9.6014 - mae: 2.2472 - mse: 9.6014 - val_loss: 10.1778 - val_mae: 2.5312 - val_mse: 10.1778\n",
            "Epoch 68/500\n",
            "8/8 [==============================] - 0s 8ms/step - loss: 7.5471 - mae: 1.9372 - mse: 7.5471 - val_loss: 9.4006 - val_mae: 2.3921 - val_mse: 9.4006\n",
            "Epoch 69/500\n",
            "8/8 [==============================] - 0s 7ms/step - loss: 7.7849 - mae: 1.9899 - mse: 7.7849 - val_loss: 9.3213 - val_mae: 2.3598 - val_mse: 9.3213\n",
            "Epoch 70/500\n",
            "8/8 [==============================] - 0s 7ms/step - loss: 7.4042 - mae: 1.9002 - mse: 7.4042 - val_loss: 9.3812 - val_mae: 2.3815 - val_mse: 9.3812\n",
            "Epoch 71/500\n",
            "8/8 [==============================] - 0s 8ms/step - loss: 7.0067 - mae: 1.8069 - mse: 7.0067 - val_loss: 9.2811 - val_mae: 2.3645 - val_mse: 9.2811\n",
            "Epoch 72/500\n",
            "8/8 [==============================] - 0s 8ms/step - loss: 6.3871 - mae: 1.8028 - mse: 6.3871 - val_loss: 9.5326 - val_mae: 2.4006 - val_mse: 9.5326\n",
            "Epoch 73/500\n",
            "8/8 [==============================] - 0s 8ms/step - loss: 5.2635 - mae: 1.6584 - mse: 5.2635 - val_loss: 9.3710 - val_mae: 2.3654 - val_mse: 9.3710\n",
            "Epoch 74/500\n",
            "8/8 [==============================] - 0s 7ms/step - loss: 7.0908 - mae: 1.8303 - mse: 7.0908 - val_loss: 9.3316 - val_mae: 2.3828 - val_mse: 9.3316\n",
            "Epoch 75/500\n",
            "8/8 [==============================] - 0s 8ms/step - loss: 8.0543 - mae: 1.9173 - mse: 8.0543 - val_loss: 9.2252 - val_mae: 2.3603 - val_mse: 9.2252\n",
            "Epoch 76/500\n",
            "8/8 [==============================] - 0s 9ms/step - loss: 7.5264 - mae: 1.9468 - mse: 7.5264 - val_loss: 9.4061 - val_mae: 2.4005 - val_mse: 9.4061\n",
            "Epoch 77/500\n",
            "8/8 [==============================] - 0s 8ms/step - loss: 6.5037 - mae: 1.7315 - mse: 6.5037 - val_loss: 9.5640 - val_mae: 2.4327 - val_mse: 9.5640\n",
            "Epoch 78/500\n",
            "8/8 [==============================] - 0s 9ms/step - loss: 6.6553 - mae: 1.7927 - mse: 6.6553 - val_loss: 9.3970 - val_mae: 2.3860 - val_mse: 9.3970\n",
            "Epoch 79/500\n",
            "8/8 [==============================] - 0s 8ms/step - loss: 6.9037 - mae: 1.8496 - mse: 6.9037 - val_loss: 9.3302 - val_mae: 2.3514 - val_mse: 9.3302\n",
            "Epoch 80/500\n",
            "8/8 [==============================] - 0s 7ms/step - loss: 7.4923 - mae: 1.9440 - mse: 7.4923 - val_loss: 9.4386 - val_mae: 2.4011 - val_mse: 9.4386\n",
            "Epoch 81/500\n",
            "8/8 [==============================] - 0s 8ms/step - loss: 6.9586 - mae: 1.8689 - mse: 6.9586 - val_loss: 9.3814 - val_mae: 2.3310 - val_mse: 9.3814\n",
            "Epoch 82/500\n",
            "8/8 [==============================] - 0s 7ms/step - loss: 7.0706 - mae: 1.8608 - mse: 7.0706 - val_loss: 9.3182 - val_mae: 2.3578 - val_mse: 9.3182\n",
            "Epoch 83/500\n",
            "8/8 [==============================] - 0s 8ms/step - loss: 6.6013 - mae: 1.8279 - mse: 6.6013 - val_loss: 9.3209 - val_mae: 2.3386 - val_mse: 9.3209\n",
            "Epoch 84/500\n",
            "8/8 [==============================] - 0s 8ms/step - loss: 7.3747 - mae: 1.8845 - mse: 7.3747 - val_loss: 9.4040 - val_mae: 2.3853 - val_mse: 9.4040\n",
            "Epoch 85/500\n",
            "8/8 [==============================] - 0s 10ms/step - loss: 6.1044 - mae: 1.8012 - mse: 6.1044 - val_loss: 9.3795 - val_mae: 2.3283 - val_mse: 9.3795\n",
            "Epoch 86/500\n",
            "8/8 [==============================] - 0s 8ms/step - loss: 5.6639 - mae: 1.6587 - mse: 5.6639 - val_loss: 9.4051 - val_mae: 2.3916 - val_mse: 9.4051\n",
            "Epoch 87/500\n",
            "8/8 [==============================] - 0s 8ms/step - loss: 6.2246 - mae: 1.7790 - mse: 6.2246 - val_loss: 9.4395 - val_mae: 2.3198 - val_mse: 9.4395\n",
            "Epoch 88/500\n",
            "8/8 [==============================] - 0s 7ms/step - loss: 5.5450 - mae: 1.6636 - mse: 5.5450 - val_loss: 9.4065 - val_mae: 2.3860 - val_mse: 9.4065\n",
            "Epoch 89/500\n",
            "8/8 [==============================] - 0s 7ms/step - loss: 6.6397 - mae: 1.7887 - mse: 6.6397 - val_loss: 9.3876 - val_mae: 2.3922 - val_mse: 9.3876\n",
            "Epoch 90/500\n",
            "8/8 [==============================] - 0s 8ms/step - loss: 7.1243 - mae: 1.8772 - mse: 7.1243 - val_loss: 9.4250 - val_mae: 2.3963 - val_mse: 9.4250\n",
            "Epoch 91/500\n",
            "8/8 [==============================] - 0s 8ms/step - loss: 6.8966 - mae: 1.8524 - mse: 6.8966 - val_loss: 9.1285 - val_mae: 2.3197 - val_mse: 9.1285\n",
            "Epoch 92/500\n",
            "8/8 [==============================] - 0s 8ms/step - loss: 6.8391 - mae: 1.8606 - mse: 6.8391 - val_loss: 9.4060 - val_mae: 2.4132 - val_mse: 9.4060\n",
            "Epoch 93/500\n",
            "8/8 [==============================] - 0s 7ms/step - loss: 7.3710 - mae: 1.8311 - mse: 7.3710 - val_loss: 9.7784 - val_mae: 2.4793 - val_mse: 9.7784\n",
            "Epoch 94/500\n",
            "8/8 [==============================] - 0s 7ms/step - loss: 6.5749 - mae: 1.8010 - mse: 6.5749 - val_loss: 9.1841 - val_mae: 2.3135 - val_mse: 9.1841\n",
            "Epoch 95/500\n",
            "8/8 [==============================] - 0s 8ms/step - loss: 6.8919 - mae: 1.8277 - mse: 6.8919 - val_loss: 9.2050 - val_mae: 2.3667 - val_mse: 9.2050\n",
            "Epoch 96/500\n",
            "8/8 [==============================] - 0s 8ms/step - loss: 7.1149 - mae: 1.8616 - mse: 7.1149 - val_loss: 9.0689 - val_mae: 2.3126 - val_mse: 9.0689\n",
            "Epoch 97/500\n",
            "8/8 [==============================] - 0s 8ms/step - loss: 5.6116 - mae: 1.6705 - mse: 5.6116 - val_loss: 9.1454 - val_mae: 2.3242 - val_mse: 9.1454\n",
            "Epoch 98/500\n",
            "8/8 [==============================] - 0s 7ms/step - loss: 7.8483 - mae: 1.9816 - mse: 7.8483 - val_loss: 9.3209 - val_mae: 2.3948 - val_mse: 9.3209\n",
            "Epoch 99/500\n",
            "8/8 [==============================] - 0s 7ms/step - loss: 6.7322 - mae: 1.7589 - mse: 6.7322 - val_loss: 9.0105 - val_mae: 2.3037 - val_mse: 9.0105\n",
            "Epoch 100/500\n",
            "8/8 [==============================] - 0s 8ms/step - loss: 6.4694 - mae: 1.7785 - mse: 6.4694 - val_loss: 9.0521 - val_mae: 2.3043 - val_mse: 9.0521\n",
            "Epoch 101/500\n",
            "8/8 [==============================] - 0s 8ms/step - loss: 7.5010 - mae: 1.8634 - mse: 7.5010 - val_loss: 9.0839 - val_mae: 2.2803 - val_mse: 9.0839\n",
            "Epoch 102/500\n",
            "8/8 [==============================] - 0s 9ms/step - loss: 6.7483 - mae: 1.7920 - mse: 6.7483 - val_loss: 9.1772 - val_mae: 2.2844 - val_mse: 9.1772\n",
            "Epoch 103/500\n",
            "8/8 [==============================] - 0s 7ms/step - loss: 5.7214 - mae: 1.6559 - mse: 5.7214 - val_loss: 9.6854 - val_mae: 2.4639 - val_mse: 9.6854\n",
            "Epoch 104/500\n",
            "8/8 [==============================] - 0s 8ms/step - loss: 6.9471 - mae: 1.7837 - mse: 6.9471 - val_loss: 9.2059 - val_mae: 2.3530 - val_mse: 9.2059\n",
            "Epoch 105/500\n",
            "8/8 [==============================] - 0s 9ms/step - loss: 5.9038 - mae: 1.7919 - mse: 5.9038 - val_loss: 9.1061 - val_mae: 2.2960 - val_mse: 9.1061\n",
            "Epoch 106/500\n",
            "8/8 [==============================] - 0s 8ms/step - loss: 4.9451 - mae: 1.5226 - mse: 4.9451 - val_loss: 9.2533 - val_mae: 2.2742 - val_mse: 9.2533\n",
            "Epoch 107/500\n",
            "8/8 [==============================] - 0s 8ms/step - loss: 6.2613 - mae: 1.8072 - mse: 6.2613 - val_loss: 9.5037 - val_mae: 2.4339 - val_mse: 9.5037\n",
            "Epoch 108/500\n",
            "8/8 [==============================] - 0s 8ms/step - loss: 7.0336 - mae: 1.8147 - mse: 7.0336 - val_loss: 9.0431 - val_mae: 2.2549 - val_mse: 9.0431\n",
            "Epoch 109/500\n",
            "8/8 [==============================] - 0s 8ms/step - loss: 5.6167 - mae: 1.6669 - mse: 5.6167 - val_loss: 9.0746 - val_mae: 2.3397 - val_mse: 9.0746\n",
            "Epoch 110/500\n",
            "8/8 [==============================] - 0s 8ms/step - loss: 6.8346 - mae: 1.6995 - mse: 6.8346 - val_loss: 9.0943 - val_mae: 2.3399 - val_mse: 9.0943\n",
            "Epoch 111/500\n",
            "8/8 [==============================] - 0s 8ms/step - loss: 4.6919 - mae: 1.5610 - mse: 4.6919 - val_loss: 9.4160 - val_mae: 2.2536 - val_mse: 9.4160\n",
            "Epoch 112/500\n",
            "8/8 [==============================] - 0s 7ms/step - loss: 6.2302 - mae: 1.8086 - mse: 6.2302 - val_loss: 9.1582 - val_mae: 2.2472 - val_mse: 9.1582\n",
            "Epoch 113/500\n",
            "8/8 [==============================] - 0s 8ms/step - loss: 5.8267 - mae: 1.6673 - mse: 5.8267 - val_loss: 9.0990 - val_mae: 2.2798 - val_mse: 9.0990\n",
            "Epoch 114/500\n",
            "8/8 [==============================] - 0s 8ms/step - loss: 5.7255 - mae: 1.7398 - mse: 5.7255 - val_loss: 9.1270 - val_mae: 2.2773 - val_mse: 9.1270\n",
            "Epoch 115/500\n",
            "8/8 [==============================] - 0s 8ms/step - loss: 6.0560 - mae: 1.7294 - mse: 6.0560 - val_loss: 9.0105 - val_mae: 2.2824 - val_mse: 9.0105\n",
            "Epoch 116/500\n",
            "8/8 [==============================] - 0s 8ms/step - loss: 5.9535 - mae: 1.7289 - mse: 5.9535 - val_loss: 8.9504 - val_mae: 2.2573 - val_mse: 8.9504\n",
            "Epoch 117/500\n",
            "8/8 [==============================] - 0s 7ms/step - loss: 6.1504 - mae: 1.7726 - mse: 6.1504 - val_loss: 9.3226 - val_mae: 2.2649 - val_mse: 9.3226\n",
            "Epoch 118/500\n",
            "8/8 [==============================] - 0s 7ms/step - loss: 5.4741 - mae: 1.7233 - mse: 5.4741 - val_loss: 9.3016 - val_mae: 2.3899 - val_mse: 9.3016\n",
            "Epoch 119/500\n",
            "8/8 [==============================] - 0s 9ms/step - loss: 5.3944 - mae: 1.6697 - mse: 5.3944 - val_loss: 9.1057 - val_mae: 2.2396 - val_mse: 9.1057\n",
            "Epoch 120/500\n",
            "8/8 [==============================] - 0s 7ms/step - loss: 6.0273 - mae: 1.7145 - mse: 6.0273 - val_loss: 8.8793 - val_mae: 2.2400 - val_mse: 8.8793\n",
            "Epoch 121/500\n",
            "8/8 [==============================] - 0s 7ms/step - loss: 6.9656 - mae: 1.8684 - mse: 6.9656 - val_loss: 8.9569 - val_mae: 2.2269 - val_mse: 8.9569\n",
            "Epoch 122/500\n",
            "8/8 [==============================] - 0s 7ms/step - loss: 7.0124 - mae: 1.7830 - mse: 7.0124 - val_loss: 8.7647 - val_mae: 2.2616 - val_mse: 8.7647\n",
            "Epoch 123/500\n",
            "8/8 [==============================] - 0s 8ms/step - loss: 5.3170 - mae: 1.5606 - mse: 5.3170 - val_loss: 8.9567 - val_mae: 2.3040 - val_mse: 8.9567\n",
            "Epoch 124/500\n",
            "8/8 [==============================] - 0s 8ms/step - loss: 5.1663 - mae: 1.5859 - mse: 5.1663 - val_loss: 9.2667 - val_mae: 2.2113 - val_mse: 9.2667\n",
            "Epoch 125/500\n",
            "8/8 [==============================] - 0s 9ms/step - loss: 5.0554 - mae: 1.6361 - mse: 5.0554 - val_loss: 8.8347 - val_mae: 2.2788 - val_mse: 8.8347\n",
            "Epoch 126/500\n",
            "8/8 [==============================] - 0s 8ms/step - loss: 6.2365 - mae: 1.7126 - mse: 6.2365 - val_loss: 8.8147 - val_mae: 2.2175 - val_mse: 8.8147\n",
            "Epoch 127/500\n",
            "8/8 [==============================] - 0s 8ms/step - loss: 7.3503 - mae: 1.8099 - mse: 7.3503 - val_loss: 8.9870 - val_mae: 2.3321 - val_mse: 8.9870\n",
            "Epoch 128/500\n",
            "8/8 [==============================] - 0s 8ms/step - loss: 5.9495 - mae: 1.7144 - mse: 5.9495 - val_loss: 8.9190 - val_mae: 2.2820 - val_mse: 8.9190\n",
            "Epoch 129/500\n",
            "8/8 [==============================] - 0s 8ms/step - loss: 5.4264 - mae: 1.6378 - mse: 5.4264 - val_loss: 8.9352 - val_mae: 2.3095 - val_mse: 8.9352\n",
            "Epoch 130/500\n",
            "8/8 [==============================] - 0s 7ms/step - loss: 5.5341 - mae: 1.5879 - mse: 5.5341 - val_loss: 8.8997 - val_mae: 2.3062 - val_mse: 8.8997\n",
            "Epoch 131/500\n",
            "8/8 [==============================] - 0s 8ms/step - loss: 6.7658 - mae: 1.6922 - mse: 6.7658 - val_loss: 9.0755 - val_mae: 2.3353 - val_mse: 9.0755\n",
            "Epoch 132/500\n",
            "8/8 [==============================] - 0s 8ms/step - loss: 4.9383 - mae: 1.5700 - mse: 4.9383 - val_loss: 9.2558 - val_mae: 2.3792 - val_mse: 9.2558\n",
            "Epoch 133/500\n",
            "8/8 [==============================] - 0s 9ms/step - loss: 6.5596 - mae: 1.7954 - mse: 6.5596 - val_loss: 8.9506 - val_mae: 2.3113 - val_mse: 8.9506\n",
            "Epoch 134/500\n",
            "8/8 [==============================] - 0s 7ms/step - loss: 5.4868 - mae: 1.6190 - mse: 5.4868 - val_loss: 8.7966 - val_mae: 2.2149 - val_mse: 8.7966\n",
            "Epoch 135/500\n",
            "8/8 [==============================] - 0s 8ms/step - loss: 5.5938 - mae: 1.6942 - mse: 5.5938 - val_loss: 8.8826 - val_mae: 2.2058 - val_mse: 8.8826\n",
            "Epoch 136/500\n",
            "8/8 [==============================] - 0s 8ms/step - loss: 5.3942 - mae: 1.6450 - mse: 5.3942 - val_loss: 8.8089 - val_mae: 2.2639 - val_mse: 8.8089\n",
            "Epoch 137/500\n",
            "8/8 [==============================] - 0s 8ms/step - loss: 7.7195 - mae: 1.9124 - mse: 7.7195 - val_loss: 8.7633 - val_mae: 2.2748 - val_mse: 8.7633\n",
            "Epoch 138/500\n",
            "8/8 [==============================] - 0s 8ms/step - loss: 5.7138 - mae: 1.6930 - mse: 5.7138 - val_loss: 8.9277 - val_mae: 2.3189 - val_mse: 8.9277\n",
            "Epoch 139/500\n",
            "8/8 [==============================] - 0s 8ms/step - loss: 5.8538 - mae: 1.6266 - mse: 5.8538 - val_loss: 8.7587 - val_mae: 2.2658 - val_mse: 8.7587\n",
            "Epoch 140/500\n",
            "8/8 [==============================] - 0s 8ms/step - loss: 4.8089 - mae: 1.5108 - mse: 4.8089 - val_loss: 8.8860 - val_mae: 2.3079 - val_mse: 8.8860\n",
            "Epoch 141/500\n",
            "8/8 [==============================] - 0s 8ms/step - loss: 5.2072 - mae: 1.6155 - mse: 5.2072 - val_loss: 8.8652 - val_mae: 2.3019 - val_mse: 8.8652\n",
            "Epoch 142/500\n",
            "8/8 [==============================] - 0s 9ms/step - loss: 6.2791 - mae: 1.7379 - mse: 6.2791 - val_loss: 9.0231 - val_mae: 2.3368 - val_mse: 9.0231\n",
            "Epoch 143/500\n",
            "8/8 [==============================] - 0s 8ms/step - loss: 6.5551 - mae: 1.7477 - mse: 6.5551 - val_loss: 8.8684 - val_mae: 2.2942 - val_mse: 8.8684\n",
            "Epoch 144/500\n",
            "8/8 [==============================] - 0s 8ms/step - loss: 6.9202 - mae: 1.8071 - mse: 6.9202 - val_loss: 8.8859 - val_mae: 2.3071 - val_mse: 8.8859\n",
            "Epoch 145/500\n",
            "8/8 [==============================] - 0s 7ms/step - loss: 5.4032 - mae: 1.6470 - mse: 5.4032 - val_loss: 8.7779 - val_mae: 2.2866 - val_mse: 8.7779\n",
            "Epoch 146/500\n",
            "8/8 [==============================] - 0s 9ms/step - loss: 5.6268 - mae: 1.6509 - mse: 5.6268 - val_loss: 8.7046 - val_mae: 2.2234 - val_mse: 8.7046\n",
            "Epoch 147/500\n",
            "8/8 [==============================] - 0s 13ms/step - loss: 6.6408 - mae: 1.8226 - mse: 6.6408 - val_loss: 8.7252 - val_mae: 2.2708 - val_mse: 8.7252\n",
            "Epoch 148/500\n",
            "8/8 [==============================] - 0s 8ms/step - loss: 5.7782 - mae: 1.6631 - mse: 5.7782 - val_loss: 8.9919 - val_mae: 2.1888 - val_mse: 8.9919\n",
            "Epoch 149/500\n",
            "8/8 [==============================] - 0s 7ms/step - loss: 5.6474 - mae: 1.6630 - mse: 5.6474 - val_loss: 8.7957 - val_mae: 2.2743 - val_mse: 8.7957\n",
            "Epoch 150/500\n",
            "8/8 [==============================] - 0s 7ms/step - loss: 5.5132 - mae: 1.6571 - mse: 5.5132 - val_loss: 8.8367 - val_mae: 2.2782 - val_mse: 8.8367\n",
            "Epoch 151/500\n",
            "8/8 [==============================] - 0s 8ms/step - loss: 5.7220 - mae: 1.6264 - mse: 5.7220 - val_loss: 9.0519 - val_mae: 2.1820 - val_mse: 9.0519\n",
            "Epoch 152/500\n",
            "8/8 [==============================] - 0s 8ms/step - loss: 5.4537 - mae: 1.6400 - mse: 5.4537 - val_loss: 8.7840 - val_mae: 2.2876 - val_mse: 8.7840\n",
            "Epoch 153/500\n",
            "8/8 [==============================] - 0s 8ms/step - loss: 5.1497 - mae: 1.6005 - mse: 5.1497 - val_loss: 8.7541 - val_mae: 2.2095 - val_mse: 8.7541\n",
            "Epoch 154/500\n",
            "8/8 [==============================] - 0s 8ms/step - loss: 5.8914 - mae: 1.7105 - mse: 5.8914 - val_loss: 9.1191 - val_mae: 2.3549 - val_mse: 9.1191\n",
            "Epoch 155/500\n",
            "8/8 [==============================] - 0s 8ms/step - loss: 5.5278 - mae: 1.6096 - mse: 5.5278 - val_loss: 8.9739 - val_mae: 2.3171 - val_mse: 8.9739\n",
            "Epoch 156/500\n",
            "8/8 [==============================] - 0s 8ms/step - loss: 6.7201 - mae: 1.7848 - mse: 6.7201 - val_loss: 8.8813 - val_mae: 2.2117 - val_mse: 8.8813\n",
            "Epoch 157/500\n",
            "8/8 [==============================] - 0s 8ms/step - loss: 6.5583 - mae: 1.7806 - mse: 6.5583 - val_loss: 8.7714 - val_mae: 2.2822 - val_mse: 8.7714\n",
            "Epoch 158/500\n",
            "8/8 [==============================] - 0s 8ms/step - loss: 5.1992 - mae: 1.5856 - mse: 5.1992 - val_loss: 8.8719 - val_mae: 2.3038 - val_mse: 8.8719\n",
            "Epoch 159/500\n",
            "8/8 [==============================] - 0s 9ms/step - loss: 5.4770 - mae: 1.6207 - mse: 5.4770 - val_loss: 8.9929 - val_mae: 2.3264 - val_mse: 8.9929\n",
            "Epoch 160/500\n",
            "8/8 [==============================] - 0s 7ms/step - loss: 4.9295 - mae: 1.5723 - mse: 4.9295 - val_loss: 9.0113 - val_mae: 2.1844 - val_mse: 9.0113\n",
            "Epoch 161/500\n",
            "8/8 [==============================] - 0s 8ms/step - loss: 5.5295 - mae: 1.6137 - mse: 5.5295 - val_loss: 8.7424 - val_mae: 2.1761 - val_mse: 8.7424\n",
            "Epoch 162/500\n",
            "8/8 [==============================] - 0s 8ms/step - loss: 5.2477 - mae: 1.6101 - mse: 5.2477 - val_loss: 8.8805 - val_mae: 2.2728 - val_mse: 8.8805\n",
            "Epoch 163/500\n",
            "8/8 [==============================] - 0s 8ms/step - loss: 5.1119 - mae: 1.5730 - mse: 5.1119 - val_loss: 8.9101 - val_mae: 2.2471 - val_mse: 8.9101\n",
            "Epoch 164/500\n",
            "8/8 [==============================] - 0s 8ms/step - loss: 5.0871 - mae: 1.5664 - mse: 5.0871 - val_loss: 8.7492 - val_mae: 2.2653 - val_mse: 8.7492\n",
            "Epoch 165/500\n",
            "8/8 [==============================] - 0s 8ms/step - loss: 6.4896 - mae: 1.7481 - mse: 6.4896 - val_loss: 8.7311 - val_mae: 2.2540 - val_mse: 8.7311\n",
            "Epoch 166/500\n",
            "8/8 [==============================] - 0s 8ms/step - loss: 5.7243 - mae: 1.6302 - mse: 5.7243 - val_loss: 8.8421 - val_mae: 2.2980 - val_mse: 8.8421\n",
            "Epoch 167/500\n",
            "8/8 [==============================] - 0s 9ms/step - loss: 6.2540 - mae: 1.6789 - mse: 6.2540 - val_loss: 8.7436 - val_mae: 2.2678 - val_mse: 8.7436\n",
            "Epoch 168/500\n",
            "8/8 [==============================] - 0s 7ms/step - loss: 5.2572 - mae: 1.5882 - mse: 5.2572 - val_loss: 8.9457 - val_mae: 2.2063 - val_mse: 8.9457\n",
            "Epoch 169/500\n",
            "8/8 [==============================] - 0s 8ms/step - loss: 5.8820 - mae: 1.7157 - mse: 5.8820 - val_loss: 9.2963 - val_mae: 2.3834 - val_mse: 9.2963\n",
            "Epoch 170/500\n",
            "8/8 [==============================] - 0s 10ms/step - loss: 6.1584 - mae: 1.7002 - mse: 6.1584 - val_loss: 8.8350 - val_mae: 2.2499 - val_mse: 8.8350\n",
            "Epoch 171/500\n",
            "8/8 [==============================] - 0s 8ms/step - loss: 5.2397 - mae: 1.5461 - mse: 5.2397 - val_loss: 8.9684 - val_mae: 2.3363 - val_mse: 8.9684\n",
            "Epoch 172/500\n",
            "8/8 [==============================] - 0s 8ms/step - loss: 4.9601 - mae: 1.5568 - mse: 4.9601 - val_loss: 9.0515 - val_mae: 2.1937 - val_mse: 9.0515\n",
            "Epoch 173/500\n",
            "8/8 [==============================] - 0s 9ms/step - loss: 4.8704 - mae: 1.5927 - mse: 4.8704 - val_loss: 9.0186 - val_mae: 2.3240 - val_mse: 9.0186\n",
            "Epoch 174/500\n",
            "8/8 [==============================] - 0s 9ms/step - loss: 5.8284 - mae: 1.6169 - mse: 5.8284 - val_loss: 8.8710 - val_mae: 2.3191 - val_mse: 8.8710\n",
            "Epoch 175/500\n",
            "8/8 [==============================] - 0s 8ms/step - loss: 5.9873 - mae: 1.7251 - mse: 5.9873 - val_loss: 8.8471 - val_mae: 2.2588 - val_mse: 8.8471\n",
            "Epoch 176/500\n",
            "8/8 [==============================] - 0s 8ms/step - loss: 5.0523 - mae: 1.5677 - mse: 5.0523 - val_loss: 8.8567 - val_mae: 2.2748 - val_mse: 8.8567\n",
            "Epoch 177/500\n",
            "8/8 [==============================] - 0s 8ms/step - loss: 5.5892 - mae: 1.6488 - mse: 5.5892 - val_loss: 9.0098 - val_mae: 2.1903 - val_mse: 9.0098\n",
            "Epoch 178/500\n",
            "8/8 [==============================] - 0s 8ms/step - loss: 5.7522 - mae: 1.7028 - mse: 5.7522 - val_loss: 8.6453 - val_mae: 2.2042 - val_mse: 8.6453\n",
            "Epoch 179/500\n",
            "8/8 [==============================] - 0s 8ms/step - loss: 5.6971 - mae: 1.6698 - mse: 5.6971 - val_loss: 8.9574 - val_mae: 2.2639 - val_mse: 8.9574\n",
            "Epoch 180/500\n",
            "8/8 [==============================] - 0s 8ms/step - loss: 5.5270 - mae: 1.6711 - mse: 5.5270 - val_loss: 8.9752 - val_mae: 2.2013 - val_mse: 8.9752\n",
            "Epoch 181/500\n",
            "8/8 [==============================] - 0s 8ms/step - loss: 5.1499 - mae: 1.5683 - mse: 5.1499 - val_loss: 8.8337 - val_mae: 2.1896 - val_mse: 8.8337\n",
            "Epoch 182/500\n",
            "8/8 [==============================] - 0s 8ms/step - loss: 6.2462 - mae: 1.7188 - mse: 6.2462 - val_loss: 8.8783 - val_mae: 2.2751 - val_mse: 8.8783\n",
            "Epoch 183/500\n",
            "8/8 [==============================] - 0s 8ms/step - loss: 5.0946 - mae: 1.5872 - mse: 5.0946 - val_loss: 9.0175 - val_mae: 2.3247 - val_mse: 9.0175\n",
            "Epoch 184/500\n",
            "8/8 [==============================] - 0s 9ms/step - loss: 5.4546 - mae: 1.6128 - mse: 5.4546 - val_loss: 8.6472 - val_mae: 2.2357 - val_mse: 8.6472\n",
            "Epoch 185/500\n",
            "8/8 [==============================] - 0s 9ms/step - loss: 5.4033 - mae: 1.6073 - mse: 5.4033 - val_loss: 8.7725 - val_mae: 2.2809 - val_mse: 8.7725\n",
            "Epoch 186/500\n",
            "8/8 [==============================] - 0s 8ms/step - loss: 5.8668 - mae: 1.6441 - mse: 5.8668 - val_loss: 8.7001 - val_mae: 2.2444 - val_mse: 8.7001\n",
            "Epoch 187/500\n",
            "8/8 [==============================] - 0s 9ms/step - loss: 5.3270 - mae: 1.5284 - mse: 5.3270 - val_loss: 9.0202 - val_mae: 2.1933 - val_mse: 9.0202\n",
            "Epoch 188/500\n",
            "8/8 [==============================] - 0s 9ms/step - loss: 6.2831 - mae: 1.6965 - mse: 6.2831 - val_loss: 8.7938 - val_mae: 2.2702 - val_mse: 8.7938\n",
            "Epoch 189/500\n",
            "8/8 [==============================] - 0s 9ms/step - loss: 4.7052 - mae: 1.4778 - mse: 4.7052 - val_loss: 9.0405 - val_mae: 2.3197 - val_mse: 9.0405\n",
            "Epoch 190/500\n",
            "8/8 [==============================] - 0s 7ms/step - loss: 4.9656 - mae: 1.5233 - mse: 4.9656 - val_loss: 9.2565 - val_mae: 2.3733 - val_mse: 9.2565\n",
            "Epoch 191/500\n",
            "8/8 [==============================] - 0s 7ms/step - loss: 5.1670 - mae: 1.5720 - mse: 5.1670 - val_loss: 8.7531 - val_mae: 2.2307 - val_mse: 8.7531\n",
            "Epoch 192/500\n",
            "8/8 [==============================] - 0s 9ms/step - loss: 5.6202 - mae: 1.6466 - mse: 5.6202 - val_loss: 9.1652 - val_mae: 2.3508 - val_mse: 9.1652\n",
            "Epoch 193/500\n",
            "8/8 [==============================] - 0s 8ms/step - loss: 6.5408 - mae: 1.7531 - mse: 6.5408 - val_loss: 8.8674 - val_mae: 2.2301 - val_mse: 8.8674\n",
            "Epoch 194/500\n",
            "8/8 [==============================] - 0s 8ms/step - loss: 4.6017 - mae: 1.5287 - mse: 4.6017 - val_loss: 8.9991 - val_mae: 2.1815 - val_mse: 8.9991\n",
            "Epoch 195/500\n",
            "8/8 [==============================] - 0s 8ms/step - loss: 5.9133 - mae: 1.6145 - mse: 5.9133 - val_loss: 8.7156 - val_mae: 2.2537 - val_mse: 8.7156\n",
            "Epoch 196/500\n",
            "8/8 [==============================] - 0s 8ms/step - loss: 4.6760 - mae: 1.5573 - mse: 4.6760 - val_loss: 8.6884 - val_mae: 2.1963 - val_mse: 8.6884\n",
            "Epoch 197/500\n",
            "8/8 [==============================] - 0s 7ms/step - loss: 5.3782 - mae: 1.5582 - mse: 5.3782 - val_loss: 9.0806 - val_mae: 2.3375 - val_mse: 9.0806\n",
            "Epoch 198/500\n",
            "8/8 [==============================] - 0s 8ms/step - loss: 4.1809 - mae: 1.4703 - mse: 4.1809 - val_loss: 8.8518 - val_mae: 2.1746 - val_mse: 8.8518\n",
            "Epoch 199/500\n",
            "8/8 [==============================] - 0s 8ms/step - loss: 4.5113 - mae: 1.5107 - mse: 4.5113 - val_loss: 8.8399 - val_mae: 2.2798 - val_mse: 8.8399\n",
            "Epoch 200/500\n",
            "8/8 [==============================] - 0s 10ms/step - loss: 5.0698 - mae: 1.5517 - mse: 5.0698 - val_loss: 8.7343 - val_mae: 2.2237 - val_mse: 8.7343\n",
            "Epoch 201/500\n",
            "8/8 [==============================] - 0s 9ms/step - loss: 4.4934 - mae: 1.4805 - mse: 4.4934 - val_loss: 8.7681 - val_mae: 2.2582 - val_mse: 8.7681\n",
            "Epoch 202/500\n",
            "8/8 [==============================] - 0s 9ms/step - loss: 5.1837 - mae: 1.6019 - mse: 5.1837 - val_loss: 8.8560 - val_mae: 2.2468 - val_mse: 8.8560\n",
            "Epoch 203/500\n",
            "8/8 [==============================] - 0s 8ms/step - loss: 4.9892 - mae: 1.5568 - mse: 4.9892 - val_loss: 8.9318 - val_mae: 2.3035 - val_mse: 8.9318\n",
            "Epoch 204/500\n",
            "8/8 [==============================] - 0s 9ms/step - loss: 5.5728 - mae: 1.5989 - mse: 5.5728 - val_loss: 8.9657 - val_mae: 2.3230 - val_mse: 8.9657\n",
            "Epoch 205/500\n",
            "8/8 [==============================] - 0s 9ms/step - loss: 5.5651 - mae: 1.5939 - mse: 5.5651 - val_loss: 8.8947 - val_mae: 2.1758 - val_mse: 8.8947\n",
            "Epoch 206/500\n",
            "8/8 [==============================] - 0s 7ms/step - loss: 6.5699 - mae: 1.7810 - mse: 6.5699 - val_loss: 8.7311 - val_mae: 2.2484 - val_mse: 8.7311\n",
            "Epoch 207/500\n",
            "8/8 [==============================] - 0s 8ms/step - loss: 4.4517 - mae: 1.4805 - mse: 4.4517 - val_loss: 8.9572 - val_mae: 2.3094 - val_mse: 8.9572\n",
            "Epoch 208/500\n",
            "8/8 [==============================] - 0s 8ms/step - loss: 5.0202 - mae: 1.5492 - mse: 5.0202 - val_loss: 8.7146 - val_mae: 2.1741 - val_mse: 8.7146\n",
            "Epoch 209/500\n",
            "8/8 [==============================] - 0s 8ms/step - loss: 6.1885 - mae: 1.6867 - mse: 6.1885 - val_loss: 8.8050 - val_mae: 2.1982 - val_mse: 8.8050\n",
            "Epoch 210/500\n",
            "8/8 [==============================] - 0s 8ms/step - loss: 5.0117 - mae: 1.5425 - mse: 5.0117 - val_loss: 8.7258 - val_mae: 2.2487 - val_mse: 8.7258\n",
            "Epoch 211/500\n",
            "8/8 [==============================] - 0s 7ms/step - loss: 4.4844 - mae: 1.4412 - mse: 4.4844 - val_loss: 8.6421 - val_mae: 2.2235 - val_mse: 8.6421\n",
            "Epoch 212/500\n",
            "8/8 [==============================] - 0s 8ms/step - loss: 5.0882 - mae: 1.5354 - mse: 5.0882 - val_loss: 8.7732 - val_mae: 2.1828 - val_mse: 8.7732\n",
            "Epoch 213/500\n",
            "8/8 [==============================] - 0s 9ms/step - loss: 5.3118 - mae: 1.5704 - mse: 5.3118 - val_loss: 8.6171 - val_mae: 2.1627 - val_mse: 8.6171\n",
            "Epoch 214/500\n",
            "8/8 [==============================] - 0s 8ms/step - loss: 6.1070 - mae: 1.6759 - mse: 6.1070 - val_loss: 8.9492 - val_mae: 2.3037 - val_mse: 8.9492\n",
            "Epoch 215/500\n",
            "8/8 [==============================] - 0s 8ms/step - loss: 4.3247 - mae: 1.4154 - mse: 4.3247 - val_loss: 8.7947 - val_mae: 2.2159 - val_mse: 8.7947\n",
            "Epoch 216/500\n",
            "8/8 [==============================] - 0s 9ms/step - loss: 5.6942 - mae: 1.6753 - mse: 5.6942 - val_loss: 8.8670 - val_mae: 2.2847 - val_mse: 8.8670\n",
            "Epoch 217/500\n",
            "8/8 [==============================] - 0s 8ms/step - loss: 4.7359 - mae: 1.4999 - mse: 4.7359 - val_loss: 9.0462 - val_mae: 2.3067 - val_mse: 9.0462\n",
            "Epoch 218/500\n",
            "8/8 [==============================] - 0s 8ms/step - loss: 5.0662 - mae: 1.5197 - mse: 5.0662 - val_loss: 8.7569 - val_mae: 2.2164 - val_mse: 8.7569\n",
            "Epoch 219/500\n",
            "8/8 [==============================] - 0s 9ms/step - loss: 4.5297 - mae: 1.4474 - mse: 4.5297 - val_loss: 8.6676 - val_mae: 2.2042 - val_mse: 8.6676\n",
            "Epoch 220/500\n",
            "8/8 [==============================] - 0s 8ms/step - loss: 5.0374 - mae: 1.5787 - mse: 5.0374 - val_loss: 8.7219 - val_mae: 2.1868 - val_mse: 8.7219\n",
            "Epoch 221/500\n",
            "8/8 [==============================] - 0s 8ms/step - loss: 5.1663 - mae: 1.5407 - mse: 5.1663 - val_loss: 8.7741 - val_mae: 2.2698 - val_mse: 8.7741\n",
            "Epoch 222/500\n",
            "8/8 [==============================] - 0s 8ms/step - loss: 5.9138 - mae: 1.6747 - mse: 5.9138 - val_loss: 8.7590 - val_mae: 2.2527 - val_mse: 8.7590\n",
            "Epoch 223/500\n",
            "8/8 [==============================] - 0s 7ms/step - loss: 4.7855 - mae: 1.5190 - mse: 4.7855 - val_loss: 9.1273 - val_mae: 2.3235 - val_mse: 9.1273\n",
            "Epoch 224/500\n",
            "8/8 [==============================] - 0s 7ms/step - loss: 5.6869 - mae: 1.5838 - mse: 5.6869 - val_loss: 9.0329 - val_mae: 2.3273 - val_mse: 9.0329\n",
            "Epoch 225/500\n",
            "8/8 [==============================] - 0s 8ms/step - loss: 6.7764 - mae: 1.7959 - mse: 6.7764 - val_loss: 8.6485 - val_mae: 2.2292 - val_mse: 8.6485\n",
            "Epoch 226/500\n",
            "8/8 [==============================] - 0s 9ms/step - loss: 5.3225 - mae: 1.5828 - mse: 5.3225 - val_loss: 8.9522 - val_mae: 2.2975 - val_mse: 8.9522\n",
            "Epoch 227/500\n",
            "8/8 [==============================] - 0s 8ms/step - loss: 5.0767 - mae: 1.6120 - mse: 5.0767 - val_loss: 8.6834 - val_mae: 2.2152 - val_mse: 8.6834\n",
            "Epoch 228/500\n",
            "8/8 [==============================] - 0s 8ms/step - loss: 4.9156 - mae: 1.5486 - mse: 4.9156 - val_loss: 8.8042 - val_mae: 2.1796 - val_mse: 8.8042\n",
            "Epoch 229/500\n",
            "8/8 [==============================] - 0s 9ms/step - loss: 5.6461 - mae: 1.6222 - mse: 5.6461 - val_loss: 8.7213 - val_mae: 2.2488 - val_mse: 8.7213\n",
            "Epoch 230/500\n",
            "8/8 [==============================] - 0s 9ms/step - loss: 5.1317 - mae: 1.5584 - mse: 5.1317 - val_loss: 9.2461 - val_mae: 2.3472 - val_mse: 9.2461\n",
            "Epoch 231/500\n",
            "8/8 [==============================] - 0s 8ms/step - loss: 4.3152 - mae: 1.4711 - mse: 4.3152 - val_loss: 8.7168 - val_mae: 2.1851 - val_mse: 8.7168\n",
            "Epoch 232/500\n",
            "8/8 [==============================] - 0s 8ms/step - loss: 5.0574 - mae: 1.4932 - mse: 5.0574 - val_loss: 8.7913 - val_mae: 2.2599 - val_mse: 8.7913\n",
            "Epoch 233/500\n",
            "8/8 [==============================] - 0s 9ms/step - loss: 4.9737 - mae: 1.4813 - mse: 4.9737 - val_loss: 8.8187 - val_mae: 2.2408 - val_mse: 8.8187\n",
            "Epoch 234/500\n",
            "8/8 [==============================] - 0s 9ms/step - loss: 4.2727 - mae: 1.4820 - mse: 4.2727 - val_loss: 8.8866 - val_mae: 2.1863 - val_mse: 8.8866\n",
            "Epoch 235/500\n",
            "8/8 [==============================] - 0s 8ms/step - loss: 5.4680 - mae: 1.6102 - mse: 5.4680 - val_loss: 8.7068 - val_mae: 2.2322 - val_mse: 8.7068\n",
            "Epoch 236/500\n",
            "8/8 [==============================] - 0s 8ms/step - loss: 5.3233 - mae: 1.5955 - mse: 5.3233 - val_loss: 8.9012 - val_mae: 2.2803 - val_mse: 8.9012\n",
            "Epoch 237/500\n",
            "8/8 [==============================] - 0s 8ms/step - loss: 5.1251 - mae: 1.5314 - mse: 5.1251 - val_loss: 8.8009 - val_mae: 2.2189 - val_mse: 8.8009\n",
            "Epoch 238/500\n",
            "8/8 [==============================] - 0s 7ms/step - loss: 4.6878 - mae: 1.4883 - mse: 4.6878 - val_loss: 8.7345 - val_mae: 2.1933 - val_mse: 8.7345\n",
            "Epoch 239/500\n",
            "8/8 [==============================] - 0s 8ms/step - loss: 5.5823 - mae: 1.5554 - mse: 5.5823 - val_loss: 8.8144 - val_mae: 2.1764 - val_mse: 8.8144\n",
            "Epoch 240/500\n",
            "8/8 [==============================] - 0s 9ms/step - loss: 5.3849 - mae: 1.6281 - mse: 5.3849 - val_loss: 9.0011 - val_mae: 2.2069 - val_mse: 9.0011\n",
            "Epoch 241/500\n",
            "8/8 [==============================] - 0s 8ms/step - loss: 5.4380 - mae: 1.6019 - mse: 5.4380 - val_loss: 9.2869 - val_mae: 2.3507 - val_mse: 9.2869\n",
            "Epoch 242/500\n",
            "8/8 [==============================] - 0s 10ms/step - loss: 4.9547 - mae: 1.5646 - mse: 4.9547 - val_loss: 8.7375 - val_mae: 2.2067 - val_mse: 8.7375\n",
            "Epoch 243/500\n",
            "8/8 [==============================] - 0s 8ms/step - loss: 4.3373 - mae: 1.4658 - mse: 4.3373 - val_loss: 9.4727 - val_mae: 2.2092 - val_mse: 9.4727\n",
            "Epoch 244/500\n",
            "8/8 [==============================] - 0s 8ms/step - loss: 5.3573 - mae: 1.5884 - mse: 5.3573 - val_loss: 8.8584 - val_mae: 2.2229 - val_mse: 8.8584\n",
            "Epoch 245/500\n",
            "8/8 [==============================] - 0s 9ms/step - loss: 4.7032 - mae: 1.4980 - mse: 4.7032 - val_loss: 8.8297 - val_mae: 2.1844 - val_mse: 8.8297\n",
            "Epoch 246/500\n",
            "8/8 [==============================] - 0s 8ms/step - loss: 5.8055 - mae: 1.6445 - mse: 5.8055 - val_loss: 8.8601 - val_mae: 2.2148 - val_mse: 8.8601\n",
            "Epoch 247/500\n",
            "8/8 [==============================] - 0s 8ms/step - loss: 4.0826 - mae: 1.4249 - mse: 4.0826 - val_loss: 8.7795 - val_mae: 2.2323 - val_mse: 8.7795\n",
            "Epoch 248/500\n",
            "8/8 [==============================] - 0s 9ms/step - loss: 5.2858 - mae: 1.5885 - mse: 5.2858 - val_loss: 8.6608 - val_mae: 2.1744 - val_mse: 8.6608\n",
            "Epoch 249/500\n",
            "8/8 [==============================] - 0s 8ms/step - loss: 5.2968 - mae: 1.5491 - mse: 5.2968 - val_loss: 8.7816 - val_mae: 2.1761 - val_mse: 8.7816\n",
            "Epoch 250/500\n",
            "8/8 [==============================] - 0s 9ms/step - loss: 3.8618 - mae: 1.3625 - mse: 3.8618 - val_loss: 8.9611 - val_mae: 2.1704 - val_mse: 8.9611\n",
            "Epoch 251/500\n",
            "8/8 [==============================] - 0s 8ms/step - loss: 4.5896 - mae: 1.5256 - mse: 4.5896 - val_loss: 8.7572 - val_mae: 2.2344 - val_mse: 8.7572\n",
            "Epoch 252/500\n",
            "8/8 [==============================] - 0s 8ms/step - loss: 5.1044 - mae: 1.5518 - mse: 5.1044 - val_loss: 8.6879 - val_mae: 2.2235 - val_mse: 8.6879\n",
            "Epoch 253/500\n",
            "8/8 [==============================] - 0s 9ms/step - loss: 5.6552 - mae: 1.5996 - mse: 5.6552 - val_loss: 8.7895 - val_mae: 2.2292 - val_mse: 8.7895\n",
            "Epoch 254/500\n",
            "8/8 [==============================] - 0s 9ms/step - loss: 5.1221 - mae: 1.5665 - mse: 5.1221 - val_loss: 8.7630 - val_mae: 2.2530 - val_mse: 8.7630\n",
            "Epoch 255/500\n",
            "8/8 [==============================] - 0s 9ms/step - loss: 5.0235 - mae: 1.4972 - mse: 5.0235 - val_loss: 8.8601 - val_mae: 2.1613 - val_mse: 8.8601\n",
            "Epoch 256/500\n",
            "8/8 [==============================] - 0s 7ms/step - loss: 4.8496 - mae: 1.4701 - mse: 4.8496 - val_loss: 8.8209 - val_mae: 2.2704 - val_mse: 8.8209\n",
            "Epoch 257/500\n",
            "8/8 [==============================] - 0s 8ms/step - loss: 4.7362 - mae: 1.4460 - mse: 4.7362 - val_loss: 8.7421 - val_mae: 2.2138 - val_mse: 8.7421\n",
            "Epoch 258/500\n",
            "8/8 [==============================] - 0s 8ms/step - loss: 5.1668 - mae: 1.6151 - mse: 5.1668 - val_loss: 8.9877 - val_mae: 2.2898 - val_mse: 8.9877\n",
            "Epoch 259/500\n",
            "8/8 [==============================] - 0s 9ms/step - loss: 5.2359 - mae: 1.5642 - mse: 5.2359 - val_loss: 8.7460 - val_mae: 2.1890 - val_mse: 8.7460\n",
            "Epoch 260/500\n",
            "8/8 [==============================] - 0s 9ms/step - loss: 5.2105 - mae: 1.5558 - mse: 5.2105 - val_loss: 8.9938 - val_mae: 2.2936 - val_mse: 8.9938\n",
            "Epoch 261/500\n",
            "8/8 [==============================] - 0s 7ms/step - loss: 5.7554 - mae: 1.5474 - mse: 5.7554 - val_loss: 8.8317 - val_mae: 2.2734 - val_mse: 8.8317\n",
            "Epoch 262/500\n",
            "8/8 [==============================] - 0s 8ms/step - loss: 5.5528 - mae: 1.5832 - mse: 5.5528 - val_loss: 8.6313 - val_mae: 2.2118 - val_mse: 8.6313\n",
            "Epoch 263/500\n",
            "8/8 [==============================] - 0s 9ms/step - loss: 4.6393 - mae: 1.4565 - mse: 4.6393 - val_loss: 9.0972 - val_mae: 2.3271 - val_mse: 9.0972\n",
            "Epoch 264/500\n",
            "8/8 [==============================] - 0s 9ms/step - loss: 5.0202 - mae: 1.5961 - mse: 5.0202 - val_loss: 8.6864 - val_mae: 2.2179 - val_mse: 8.6864\n",
            "Epoch 265/500\n",
            "8/8 [==============================] - 0s 7ms/step - loss: 4.7555 - mae: 1.4622 - mse: 4.7555 - val_loss: 8.7160 - val_mae: 2.2267 - val_mse: 8.7160\n",
            "Epoch 266/500\n",
            "8/8 [==============================] - 0s 8ms/step - loss: 5.0261 - mae: 1.4865 - mse: 5.0261 - val_loss: 8.7466 - val_mae: 2.2409 - val_mse: 8.7466\n",
            "Epoch 267/500\n",
            "8/8 [==============================] - 0s 9ms/step - loss: 5.3876 - mae: 1.5667 - mse: 5.3876 - val_loss: 8.6962 - val_mae: 2.2372 - val_mse: 8.6962\n",
            "Epoch 268/500\n",
            "8/8 [==============================] - 0s 8ms/step - loss: 5.1880 - mae: 1.5185 - mse: 5.1880 - val_loss: 8.8182 - val_mae: 2.2733 - val_mse: 8.8182\n",
            "Epoch 269/500\n",
            "8/8 [==============================] - 0s 9ms/step - loss: 5.4060 - mae: 1.5492 - mse: 5.4060 - val_loss: 8.8108 - val_mae: 2.2700 - val_mse: 8.8108\n",
            "Epoch 270/500\n",
            "8/8 [==============================] - 0s 8ms/step - loss: 5.0311 - mae: 1.5431 - mse: 5.0311 - val_loss: 8.6777 - val_mae: 2.2078 - val_mse: 8.6777\n",
            "Epoch 271/500\n",
            "8/8 [==============================] - 0s 8ms/step - loss: 4.6327 - mae: 1.3983 - mse: 4.6327 - val_loss: 8.8294 - val_mae: 2.2239 - val_mse: 8.8294\n",
            "Epoch 272/500\n",
            "8/8 [==============================] - 0s 8ms/step - loss: 4.4196 - mae: 1.4338 - mse: 4.4196 - val_loss: 8.6525 - val_mae: 2.1759 - val_mse: 8.6525\n",
            "Epoch 273/500\n",
            "8/8 [==============================] - 0s 8ms/step - loss: 4.4669 - mae: 1.4728 - mse: 4.4669 - val_loss: 8.8726 - val_mae: 2.2713 - val_mse: 8.8726\n",
            "Epoch 274/500\n",
            "8/8 [==============================] - 0s 8ms/step - loss: 4.7077 - mae: 1.5330 - mse: 4.7077 - val_loss: 8.8169 - val_mae: 2.2640 - val_mse: 8.8169\n",
            "Epoch 275/500\n",
            "8/8 [==============================] - 0s 8ms/step - loss: 4.3639 - mae: 1.3748 - mse: 4.3639 - val_loss: 8.6457 - val_mae: 2.2032 - val_mse: 8.6457\n",
            "Epoch 276/500\n",
            "8/8 [==============================] - 0s 8ms/step - loss: 5.1539 - mae: 1.4725 - mse: 5.1539 - val_loss: 8.7558 - val_mae: 2.1593 - val_mse: 8.7558\n",
            "Epoch 277/500\n",
            "8/8 [==============================] - 0s 8ms/step - loss: 5.8788 - mae: 1.6875 - mse: 5.8788 - val_loss: 8.6881 - val_mae: 2.2202 - val_mse: 8.6881\n",
            "Epoch 278/500\n",
            "8/8 [==============================] - 0s 9ms/step - loss: 5.2602 - mae: 1.5606 - mse: 5.2602 - val_loss: 8.6427 - val_mae: 2.1814 - val_mse: 8.6427\n",
            "Epoch 279/500\n",
            "8/8 [==============================] - 0s 8ms/step - loss: 5.1867 - mae: 1.5252 - mse: 5.1867 - val_loss: 8.8441 - val_mae: 2.2488 - val_mse: 8.8441\n",
            "Epoch 280/500\n",
            "8/8 [==============================] - 0s 8ms/step - loss: 4.5169 - mae: 1.4949 - mse: 4.5169 - val_loss: 8.7639 - val_mae: 2.1774 - val_mse: 8.7639\n",
            "Epoch 281/500\n",
            "8/8 [==============================] - 0s 10ms/step - loss: 4.7380 - mae: 1.4936 - mse: 4.7380 - val_loss: 9.0282 - val_mae: 2.3002 - val_mse: 9.0282\n",
            "Epoch 282/500\n",
            "8/8 [==============================] - 0s 8ms/step - loss: 4.4545 - mae: 1.4233 - mse: 4.4545 - val_loss: 8.8656 - val_mae: 2.2217 - val_mse: 8.8656\n",
            "Epoch 283/500\n",
            "8/8 [==============================] - 0s 8ms/step - loss: 5.9912 - mae: 1.6446 - mse: 5.9912 - val_loss: 9.0246 - val_mae: 2.2938 - val_mse: 9.0246\n",
            "Epoch 284/500\n",
            "8/8 [==============================] - 0s 9ms/step - loss: 4.7898 - mae: 1.4987 - mse: 4.7898 - val_loss: 8.6534 - val_mae: 2.2095 - val_mse: 8.6534\n",
            "Epoch 285/500\n",
            "8/8 [==============================] - 0s 8ms/step - loss: 4.9092 - mae: 1.5178 - mse: 4.9092 - val_loss: 8.6430 - val_mae: 2.1463 - val_mse: 8.6430\n",
            "Epoch 286/500\n",
            "8/8 [==============================] - 0s 9ms/step - loss: 4.4443 - mae: 1.4235 - mse: 4.4443 - val_loss: 8.6744 - val_mae: 2.2254 - val_mse: 8.6744\n",
            "Epoch 287/500\n",
            "8/8 [==============================] - 0s 8ms/step - loss: 5.4638 - mae: 1.5649 - mse: 5.4638 - val_loss: 8.6132 - val_mae: 2.2111 - val_mse: 8.6132\n",
            "Epoch 288/500\n",
            "8/8 [==============================] - 0s 8ms/step - loss: 4.3450 - mae: 1.4568 - mse: 4.3450 - val_loss: 8.6855 - val_mae: 2.2303 - val_mse: 8.6855\n",
            "Epoch 289/500\n",
            "8/8 [==============================] - 0s 9ms/step - loss: 4.9110 - mae: 1.4524 - mse: 4.9110 - val_loss: 8.7708 - val_mae: 2.2373 - val_mse: 8.7708\n",
            "Epoch 290/500\n",
            "8/8 [==============================] - 0s 8ms/step - loss: 6.4836 - mae: 1.6857 - mse: 6.4836 - val_loss: 8.8573 - val_mae: 2.2576 - val_mse: 8.8573\n",
            "Epoch 291/500\n",
            "8/8 [==============================] - 0s 8ms/step - loss: 4.4606 - mae: 1.3956 - mse: 4.4606 - val_loss: 8.7119 - val_mae: 2.2289 - val_mse: 8.7119\n",
            "Epoch 292/500\n",
            "8/8 [==============================] - 0s 9ms/step - loss: 4.8740 - mae: 1.4736 - mse: 4.8740 - val_loss: 8.7752 - val_mae: 2.1703 - val_mse: 8.7752\n",
            "Epoch 293/500\n",
            "8/8 [==============================] - 0s 9ms/step - loss: 5.2581 - mae: 1.5842 - mse: 5.2581 - val_loss: 8.8358 - val_mae: 2.1925 - val_mse: 8.8358\n",
            "Epoch 294/500\n",
            "8/8 [==============================] - 0s 9ms/step - loss: 4.3016 - mae: 1.3912 - mse: 4.3016 - val_loss: 8.8225 - val_mae: 2.2050 - val_mse: 8.8225\n",
            "Epoch 295/500\n",
            "8/8 [==============================] - 0s 9ms/step - loss: 5.1312 - mae: 1.5846 - mse: 5.1312 - val_loss: 8.6604 - val_mae: 2.1947 - val_mse: 8.6604\n",
            "Epoch 296/500\n",
            "8/8 [==============================] - 0s 10ms/step - loss: 5.1725 - mae: 1.5304 - mse: 5.1725 - val_loss: 9.0514 - val_mae: 2.2942 - val_mse: 9.0514\n",
            "Epoch 297/500\n",
            "8/8 [==============================] - 0s 8ms/step - loss: 5.0498 - mae: 1.5582 - mse: 5.0498 - val_loss: 8.9190 - val_mae: 2.2585 - val_mse: 8.9190\n",
            "Epoch 298/500\n",
            "8/8 [==============================] - 0s 9ms/step - loss: 5.9064 - mae: 1.5488 - mse: 5.9064 - val_loss: 8.7840 - val_mae: 2.2482 - val_mse: 8.7840\n",
            "Epoch 299/500\n",
            "8/8 [==============================] - 0s 9ms/step - loss: 5.8743 - mae: 1.6745 - mse: 5.8743 - val_loss: 8.7246 - val_mae: 2.2389 - val_mse: 8.7246\n",
            "Epoch 300/500\n",
            "8/8 [==============================] - 0s 9ms/step - loss: 3.8989 - mae: 1.3358 - mse: 3.8989 - val_loss: 8.7949 - val_mae: 2.2568 - val_mse: 8.7949\n",
            "Epoch 301/500\n",
            "8/8 [==============================] - 0s 9ms/step - loss: 5.7118 - mae: 1.5577 - mse: 5.7118 - val_loss: 8.7555 - val_mae: 2.2292 - val_mse: 8.7555\n",
            "Epoch 302/500\n",
            "8/8 [==============================] - 0s 9ms/step - loss: 5.8880 - mae: 1.6122 - mse: 5.8880 - val_loss: 9.0535 - val_mae: 2.2992 - val_mse: 9.0535\n",
            "Epoch 303/500\n",
            "8/8 [==============================] - 0s 10ms/step - loss: 3.7094 - mae: 1.3609 - mse: 3.7094 - val_loss: 8.9202 - val_mae: 2.2580 - val_mse: 8.9202\n",
            "Epoch 304/500\n",
            "8/8 [==============================] - 0s 8ms/step - loss: 3.9878 - mae: 1.4179 - mse: 3.9878 - val_loss: 8.7616 - val_mae: 2.2093 - val_mse: 8.7616\n",
            "Epoch 305/500\n",
            "8/8 [==============================] - 0s 10ms/step - loss: 4.7867 - mae: 1.4983 - mse: 4.7867 - val_loss: 8.7802 - val_mae: 2.2192 - val_mse: 8.7802\n",
            "Epoch 306/500\n",
            "8/8 [==============================] - 0s 10ms/step - loss: 4.3148 - mae: 1.4049 - mse: 4.3148 - val_loss: 8.6922 - val_mae: 2.2148 - val_mse: 8.6922\n",
            "Epoch 307/500\n",
            "8/8 [==============================] - 0s 8ms/step - loss: 4.5590 - mae: 1.4515 - mse: 4.5590 - val_loss: 8.7752 - val_mae: 2.2173 - val_mse: 8.7752\n",
            "Epoch 308/500\n",
            "8/8 [==============================] - 0s 9ms/step - loss: 4.0151 - mae: 1.3909 - mse: 4.0151 - val_loss: 8.7023 - val_mae: 2.1750 - val_mse: 8.7023\n",
            "Epoch 309/500\n",
            "8/8 [==============================] - 0s 8ms/step - loss: 5.2408 - mae: 1.5470 - mse: 5.2408 - val_loss: 8.6300 - val_mae: 2.1915 - val_mse: 8.6300\n",
            "Epoch 310/500\n",
            "8/8 [==============================] - 0s 8ms/step - loss: 4.3683 - mae: 1.4429 - mse: 4.3683 - val_loss: 8.7418 - val_mae: 2.2109 - val_mse: 8.7418\n",
            "Epoch 311/500\n",
            "8/8 [==============================] - 0s 8ms/step - loss: 4.4789 - mae: 1.4627 - mse: 4.4789 - val_loss: 9.1435 - val_mae: 2.2033 - val_mse: 9.1435\n",
            "Epoch 312/500\n",
            "8/8 [==============================] - 0s 8ms/step - loss: 5.2011 - mae: 1.5742 - mse: 5.2011 - val_loss: 8.9505 - val_mae: 2.2585 - val_mse: 8.9505\n",
            "Epoch 313/500\n",
            "8/8 [==============================] - 0s 8ms/step - loss: 5.8795 - mae: 1.5733 - mse: 5.8795 - val_loss: 9.1900 - val_mae: 2.3239 - val_mse: 9.1900\n",
            "Epoch 314/500\n",
            "8/8 [==============================] - 0s 9ms/step - loss: 4.1376 - mae: 1.4053 - mse: 4.1376 - val_loss: 8.9903 - val_mae: 2.2585 - val_mse: 8.9903\n",
            "Epoch 315/500\n",
            "8/8 [==============================] - 0s 8ms/step - loss: 5.9065 - mae: 1.5932 - mse: 5.9065 - val_loss: 8.8085 - val_mae: 2.2471 - val_mse: 8.8085\n",
            "Epoch 316/500\n",
            "8/8 [==============================] - 0s 9ms/step - loss: 5.8175 - mae: 1.5629 - mse: 5.8175 - val_loss: 8.7913 - val_mae: 2.2128 - val_mse: 8.7913\n",
            "Epoch 317/500\n",
            "8/8 [==============================] - 0s 9ms/step - loss: 4.0940 - mae: 1.4246 - mse: 4.0940 - val_loss: 8.6621 - val_mae: 2.1708 - val_mse: 8.6621\n",
            "Epoch 318/500\n",
            "8/8 [==============================] - 0s 9ms/step - loss: 6.2405 - mae: 1.7154 - mse: 6.2405 - val_loss: 8.8221 - val_mae: 2.2684 - val_mse: 8.8221\n",
            "Epoch 319/500\n",
            "8/8 [==============================] - 0s 9ms/step - loss: 3.8751 - mae: 1.3685 - mse: 3.8751 - val_loss: 8.6138 - val_mae: 2.2009 - val_mse: 8.6138\n",
            "Epoch 320/500\n",
            "8/8 [==============================] - 0s 9ms/step - loss: 5.1807 - mae: 1.5888 - mse: 5.1807 - val_loss: 8.7600 - val_mae: 2.2611 - val_mse: 8.7600\n",
            "Epoch 321/500\n",
            "8/8 [==============================] - 0s 8ms/step - loss: 4.8364 - mae: 1.4842 - mse: 4.8364 - val_loss: 9.1998 - val_mae: 2.3256 - val_mse: 9.1998\n",
            "Epoch 322/500\n",
            "8/8 [==============================] - 0s 8ms/step - loss: 4.4042 - mae: 1.4192 - mse: 4.4042 - val_loss: 8.8267 - val_mae: 2.2116 - val_mse: 8.8267\n",
            "Epoch 323/500\n",
            "8/8 [==============================] - 0s 9ms/step - loss: 4.3912 - mae: 1.4344 - mse: 4.3912 - val_loss: 8.9534 - val_mae: 2.2731 - val_mse: 8.9534\n",
            "Epoch 324/500\n",
            "8/8 [==============================] - 0s 8ms/step - loss: 5.5472 - mae: 1.5186 - mse: 5.5472 - val_loss: 8.8262 - val_mae: 2.2478 - val_mse: 8.8262\n",
            "Epoch 325/500\n",
            "8/8 [==============================] - 0s 8ms/step - loss: 3.2604 - mae: 1.2480 - mse: 3.2604 - val_loss: 8.6678 - val_mae: 2.1781 - val_mse: 8.6678\n",
            "Epoch 326/500\n",
            "8/8 [==============================] - 0s 9ms/step - loss: 4.7656 - mae: 1.4438 - mse: 4.7656 - val_loss: 8.7665 - val_mae: 2.1781 - val_mse: 8.7665\n",
            "Epoch 327/500\n",
            "8/8 [==============================] - 0s 8ms/step - loss: 5.0156 - mae: 1.5046 - mse: 5.0156 - val_loss: 8.6734 - val_mae: 2.2186 - val_mse: 8.6734\n",
            "Epoch 328/500\n",
            "8/8 [==============================] - 0s 9ms/step - loss: 4.8068 - mae: 1.4884 - mse: 4.8068 - val_loss: 8.8485 - val_mae: 2.2650 - val_mse: 8.8485\n",
            "Epoch 329/500\n",
            "8/8 [==============================] - 0s 9ms/step - loss: 4.2974 - mae: 1.4066 - mse: 4.2974 - val_loss: 8.7430 - val_mae: 2.1931 - val_mse: 8.7430\n",
            "Epoch 330/500\n",
            "8/8 [==============================] - 0s 10ms/step - loss: 6.5401 - mae: 1.7039 - mse: 6.5401 - val_loss: 8.7476 - val_mae: 2.2308 - val_mse: 8.7476\n",
            "Epoch 331/500\n",
            "8/8 [==============================] - 0s 8ms/step - loss: 4.1017 - mae: 1.3331 - mse: 4.1017 - val_loss: 8.8653 - val_mae: 2.2024 - val_mse: 8.8653\n",
            "Epoch 332/500\n",
            "8/8 [==============================] - 0s 8ms/step - loss: 4.9113 - mae: 1.5104 - mse: 4.9113 - val_loss: 8.8550 - val_mae: 2.2594 - val_mse: 8.8550\n",
            "Epoch 333/500\n",
            "8/8 [==============================] - 0s 9ms/step - loss: 3.9922 - mae: 1.4162 - mse: 3.9922 - val_loss: 8.5353 - val_mae: 2.1890 - val_mse: 8.5353\n",
            "Epoch 334/500\n",
            "8/8 [==============================] - 0s 9ms/step - loss: 4.5787 - mae: 1.3984 - mse: 4.5787 - val_loss: 8.5670 - val_mae: 2.2025 - val_mse: 8.5670\n",
            "Epoch 335/500\n",
            "8/8 [==============================] - 0s 9ms/step - loss: 4.6184 - mae: 1.4795 - mse: 4.6184 - val_loss: 8.6199 - val_mae: 2.2165 - val_mse: 8.6199\n",
            "Epoch 336/500\n",
            "8/8 [==============================] - 0s 9ms/step - loss: 4.4063 - mae: 1.4478 - mse: 4.4063 - val_loss: 8.7826 - val_mae: 2.2400 - val_mse: 8.7826\n",
            "Epoch 337/500\n",
            "8/8 [==============================] - 0s 8ms/step - loss: 4.8973 - mae: 1.4170 - mse: 4.8973 - val_loss: 8.9641 - val_mae: 2.2594 - val_mse: 8.9641\n",
            "Epoch 338/500\n",
            "8/8 [==============================] - 0s 9ms/step - loss: 4.5104 - mae: 1.4356 - mse: 4.5104 - val_loss: 8.9876 - val_mae: 2.2892 - val_mse: 8.9876\n",
            "Epoch 339/500\n",
            "8/8 [==============================] - 0s 9ms/step - loss: 4.1995 - mae: 1.3877 - mse: 4.1995 - val_loss: 8.7382 - val_mae: 2.2425 - val_mse: 8.7382\n",
            "Epoch 340/500\n",
            "8/8 [==============================] - 0s 8ms/step - loss: 4.8144 - mae: 1.4588 - mse: 4.8144 - val_loss: 8.8115 - val_mae: 2.2468 - val_mse: 8.8115\n",
            "Epoch 341/500\n",
            "8/8 [==============================] - 0s 8ms/step - loss: 4.0819 - mae: 1.3352 - mse: 4.0819 - val_loss: 8.6547 - val_mae: 2.1951 - val_mse: 8.6547\n",
            "Epoch 342/500\n",
            "8/8 [==============================] - 0s 9ms/step - loss: 4.6278 - mae: 1.4528 - mse: 4.6278 - val_loss: 8.7880 - val_mae: 2.2421 - val_mse: 8.7880\n",
            "Epoch 343/500\n",
            "8/8 [==============================] - 0s 9ms/step - loss: 4.7923 - mae: 1.4930 - mse: 4.7923 - val_loss: 8.7737 - val_mae: 2.2233 - val_mse: 8.7737\n",
            "Epoch 344/500\n",
            "8/8 [==============================] - 0s 8ms/step - loss: 3.7602 - mae: 1.3258 - mse: 3.7602 - val_loss: 8.8967 - val_mae: 2.2630 - val_mse: 8.8967\n",
            "Epoch 345/500\n",
            "8/8 [==============================] - 0s 8ms/step - loss: 5.4966 - mae: 1.5668 - mse: 5.4966 - val_loss: 8.8168 - val_mae: 2.2551 - val_mse: 8.8168\n",
            "Epoch 346/500\n",
            "8/8 [==============================] - 0s 8ms/step - loss: 5.3196 - mae: 1.5232 - mse: 5.3196 - val_loss: 8.9495 - val_mae: 2.2684 - val_mse: 8.9495\n",
            "Epoch 347/500\n",
            "8/8 [==============================] - 0s 8ms/step - loss: 5.0070 - mae: 1.4637 - mse: 5.0070 - val_loss: 8.7551 - val_mae: 2.2367 - val_mse: 8.7551\n",
            "Epoch 348/500\n",
            "8/8 [==============================] - 0s 8ms/step - loss: 4.7521 - mae: 1.4399 - mse: 4.7521 - val_loss: 8.9671 - val_mae: 2.2863 - val_mse: 8.9671\n",
            "Epoch 349/500\n",
            "8/8 [==============================] - 0s 11ms/step - loss: 5.0799 - mae: 1.5020 - mse: 5.0799 - val_loss: 8.6295 - val_mae: 2.1976 - val_mse: 8.6295\n",
            "Epoch 350/500\n",
            "8/8 [==============================] - 0s 9ms/step - loss: 3.9038 - mae: 1.3469 - mse: 3.9038 - val_loss: 8.8208 - val_mae: 2.2484 - val_mse: 8.8208\n",
            "Epoch 351/500\n",
            "8/8 [==============================] - 0s 9ms/step - loss: 4.1724 - mae: 1.3771 - mse: 4.1724 - val_loss: 8.8093 - val_mae: 2.2367 - val_mse: 8.8093\n",
            "Epoch 352/500\n",
            "8/8 [==============================] - 0s 9ms/step - loss: 4.0371 - mae: 1.3979 - mse: 4.0371 - val_loss: 8.6765 - val_mae: 2.2036 - val_mse: 8.6765\n",
            "Epoch 353/500\n",
            "8/8 [==============================] - 0s 9ms/step - loss: 3.8890 - mae: 1.3643 - mse: 3.8890 - val_loss: 8.9457 - val_mae: 2.2657 - val_mse: 8.9457\n",
            "Epoch 354/500\n",
            "8/8 [==============================] - 0s 9ms/step - loss: 4.0394 - mae: 1.3452 - mse: 4.0394 - val_loss: 8.7690 - val_mae: 2.2344 - val_mse: 8.7690\n",
            "Epoch 355/500\n",
            "8/8 [==============================] - 0s 8ms/step - loss: 4.8527 - mae: 1.4586 - mse: 4.8527 - val_loss: 8.6097 - val_mae: 2.2227 - val_mse: 8.6097\n",
            "Epoch 356/500\n",
            "8/8 [==============================] - 0s 8ms/step - loss: 4.1463 - mae: 1.3766 - mse: 4.1463 - val_loss: 8.8062 - val_mae: 2.2323 - val_mse: 8.8062\n",
            "Epoch 357/500\n",
            "8/8 [==============================] - 0s 8ms/step - loss: 4.6251 - mae: 1.4509 - mse: 4.6251 - val_loss: 9.0083 - val_mae: 2.2831 - val_mse: 9.0083\n",
            "Epoch 358/500\n",
            "8/8 [==============================] - 0s 9ms/step - loss: 4.8540 - mae: 1.4201 - mse: 4.8540 - val_loss: 8.8078 - val_mae: 2.2436 - val_mse: 8.8078\n",
            "Epoch 359/500\n",
            "8/8 [==============================] - 0s 8ms/step - loss: 5.1026 - mae: 1.5060 - mse: 5.1026 - val_loss: 8.7209 - val_mae: 2.2176 - val_mse: 8.7209\n",
            "Epoch 360/500\n",
            "8/8 [==============================] - 0s 11ms/step - loss: 5.0353 - mae: 1.4641 - mse: 5.0353 - val_loss: 8.6688 - val_mae: 2.1973 - val_mse: 8.6688\n",
            "Epoch 361/500\n",
            "8/8 [==============================] - 0s 9ms/step - loss: 5.1131 - mae: 1.4698 - mse: 5.1131 - val_loss: 8.8041 - val_mae: 2.2110 - val_mse: 8.8041\n",
            "Epoch 362/500\n",
            "8/8 [==============================] - 0s 9ms/step - loss: 3.9543 - mae: 1.3575 - mse: 3.9543 - val_loss: 8.5758 - val_mae: 2.2061 - val_mse: 8.5758\n",
            "Epoch 363/500\n",
            "8/8 [==============================] - 0s 10ms/step - loss: 4.7538 - mae: 1.4775 - mse: 4.7538 - val_loss: 8.7282 - val_mae: 2.2275 - val_mse: 8.7282\n",
            "Epoch 364/500\n",
            "8/8 [==============================] - 0s 8ms/step - loss: 4.3466 - mae: 1.3903 - mse: 4.3466 - val_loss: 8.7729 - val_mae: 2.2394 - val_mse: 8.7729\n",
            "Epoch 365/500\n",
            "8/8 [==============================] - 0s 8ms/step - loss: 5.9056 - mae: 1.5500 - mse: 5.9056 - val_loss: 8.6856 - val_mae: 2.2230 - val_mse: 8.6856\n",
            "Epoch 366/500\n",
            "8/8 [==============================] - 0s 8ms/step - loss: 4.4981 - mae: 1.4241 - mse: 4.4981 - val_loss: 8.5851 - val_mae: 2.2082 - val_mse: 8.5851\n",
            "Epoch 367/500\n",
            "8/8 [==============================] - 0s 9ms/step - loss: 3.6920 - mae: 1.3340 - mse: 3.6920 - val_loss: 8.6986 - val_mae: 2.2142 - val_mse: 8.6986\n",
            "Epoch 368/500\n",
            "8/8 [==============================] - 0s 8ms/step - loss: 4.1577 - mae: 1.3882 - mse: 4.1577 - val_loss: 8.7320 - val_mae: 2.2212 - val_mse: 8.7320\n",
            "Epoch 369/500\n",
            "8/8 [==============================] - 0s 8ms/step - loss: 4.5142 - mae: 1.4248 - mse: 4.5142 - val_loss: 8.7445 - val_mae: 2.2213 - val_mse: 8.7445\n",
            "Epoch 370/500\n",
            "8/8 [==============================] - 0s 8ms/step - loss: 4.6253 - mae: 1.4375 - mse: 4.6253 - val_loss: 8.9576 - val_mae: 2.2793 - val_mse: 8.9576\n",
            "Epoch 371/500\n",
            "8/8 [==============================] - 0s 10ms/step - loss: 4.6240 - mae: 1.4673 - mse: 4.6240 - val_loss: 9.3809 - val_mae: 2.3539 - val_mse: 9.3809\n",
            "Epoch 372/500\n",
            "8/8 [==============================] - 0s 9ms/step - loss: 4.5462 - mae: 1.3717 - mse: 4.5462 - val_loss: 8.9669 - val_mae: 2.2597 - val_mse: 8.9669\n",
            "Epoch 373/500\n",
            "8/8 [==============================] - 0s 8ms/step - loss: 5.8022 - mae: 1.6010 - mse: 5.8022 - val_loss: 9.1797 - val_mae: 2.3219 - val_mse: 9.1797\n",
            "Epoch 374/500\n",
            "8/8 [==============================] - 0s 8ms/step - loss: 4.4726 - mae: 1.4206 - mse: 4.4726 - val_loss: 8.6385 - val_mae: 2.2088 - val_mse: 8.6385\n",
            "Epoch 375/500\n",
            "8/8 [==============================] - 0s 9ms/step - loss: 5.0225 - mae: 1.4381 - mse: 5.0225 - val_loss: 8.7529 - val_mae: 2.2470 - val_mse: 8.7529\n",
            "Epoch 376/500\n",
            "8/8 [==============================] - 0s 8ms/step - loss: 4.4395 - mae: 1.3597 - mse: 4.4395 - val_loss: 8.7073 - val_mae: 2.2312 - val_mse: 8.7073\n",
            "Epoch 377/500\n",
            "8/8 [==============================] - 0s 11ms/step - loss: 5.1945 - mae: 1.5119 - mse: 5.1945 - val_loss: 8.7518 - val_mae: 2.1771 - val_mse: 8.7518\n",
            "Epoch 378/500\n",
            "8/8 [==============================] - 0s 9ms/step - loss: 4.8681 - mae: 1.4451 - mse: 4.8681 - val_loss: 8.6991 - val_mae: 2.2231 - val_mse: 8.6991\n",
            "Epoch 379/500\n",
            "8/8 [==============================] - 0s 8ms/step - loss: 3.6857 - mae: 1.3424 - mse: 3.6857 - val_loss: 8.9501 - val_mae: 2.2301 - val_mse: 8.9501\n",
            "Epoch 380/500\n",
            "8/8 [==============================] - 0s 10ms/step - loss: 4.1457 - mae: 1.3709 - mse: 4.1457 - val_loss: 8.8844 - val_mae: 2.1926 - val_mse: 8.8844\n",
            "Epoch 381/500\n",
            "8/8 [==============================] - 0s 8ms/step - loss: 5.6407 - mae: 1.5932 - mse: 5.6407 - val_loss: 8.7324 - val_mae: 2.2061 - val_mse: 8.7324\n",
            "Epoch 382/500\n",
            "8/8 [==============================] - 0s 9ms/step - loss: 4.4103 - mae: 1.3628 - mse: 4.4103 - val_loss: 8.9287 - val_mae: 2.2512 - val_mse: 8.9287\n",
            "Epoch 383/500\n",
            "8/8 [==============================] - 0s 9ms/step - loss: 4.8359 - mae: 1.4658 - mse: 4.8359 - val_loss: 8.8435 - val_mae: 2.2631 - val_mse: 8.8435\n",
            "Epoch 384/500\n",
            "8/8 [==============================] - 0s 8ms/step - loss: 4.3917 - mae: 1.3978 - mse: 4.3917 - val_loss: 8.6745 - val_mae: 2.2236 - val_mse: 8.6745\n",
            "Epoch 385/500\n",
            "8/8 [==============================] - 0s 9ms/step - loss: 3.9946 - mae: 1.3224 - mse: 3.9946 - val_loss: 8.6971 - val_mae: 2.2207 - val_mse: 8.6971\n",
            "Epoch 386/500\n",
            "8/8 [==============================] - 0s 10ms/step - loss: 4.8810 - mae: 1.4874 - mse: 4.8810 - val_loss: 8.6355 - val_mae: 2.2122 - val_mse: 8.6355\n",
            "Epoch 387/500\n",
            "8/8 [==============================] - 0s 9ms/step - loss: 4.2181 - mae: 1.3981 - mse: 4.2181 - val_loss: 8.7462 - val_mae: 2.1831 - val_mse: 8.7462\n",
            "Epoch 388/500\n",
            "8/8 [==============================] - 0s 8ms/step - loss: 3.8764 - mae: 1.3349 - mse: 3.8764 - val_loss: 9.1593 - val_mae: 2.3078 - val_mse: 9.1593\n",
            "Epoch 389/500\n",
            "8/8 [==============================] - 0s 9ms/step - loss: 4.8991 - mae: 1.4626 - mse: 4.8991 - val_loss: 8.6494 - val_mae: 2.2065 - val_mse: 8.6494\n",
            "Epoch 390/500\n",
            "8/8 [==============================] - 0s 9ms/step - loss: 5.6640 - mae: 1.5811 - mse: 5.6640 - val_loss: 8.8365 - val_mae: 2.2685 - val_mse: 8.8365\n",
            "Epoch 391/500\n",
            "8/8 [==============================] - 0s 9ms/step - loss: 4.4843 - mae: 1.4048 - mse: 4.4843 - val_loss: 8.9493 - val_mae: 2.2428 - val_mse: 8.9493\n",
            "Epoch 392/500\n",
            "8/8 [==============================] - 0s 8ms/step - loss: 4.1946 - mae: 1.4068 - mse: 4.1946 - val_loss: 8.8961 - val_mae: 2.2434 - val_mse: 8.8961\n",
            "Epoch 393/500\n",
            "8/8 [==============================] - 0s 9ms/step - loss: 5.3115 - mae: 1.5662 - mse: 5.3115 - val_loss: 9.1389 - val_mae: 2.2356 - val_mse: 9.1389\n",
            "Epoch 394/500\n",
            "8/8 [==============================] - 0s 8ms/step - loss: 4.3758 - mae: 1.4657 - mse: 4.3758 - val_loss: 9.3522 - val_mae: 2.3326 - val_mse: 9.3522\n",
            "Epoch 395/500\n",
            "8/8 [==============================] - 0s 10ms/step - loss: 4.4852 - mae: 1.3805 - mse: 4.4852 - val_loss: 8.7366 - val_mae: 2.2391 - val_mse: 8.7366\n",
            "Epoch 396/500\n",
            "8/8 [==============================] - 0s 9ms/step - loss: 4.1227 - mae: 1.3474 - mse: 4.1227 - val_loss: 8.9273 - val_mae: 2.2746 - val_mse: 8.9273\n",
            "Epoch 397/500\n",
            "8/8 [==============================] - 0s 10ms/step - loss: 4.0774 - mae: 1.3222 - mse: 4.0774 - val_loss: 8.9910 - val_mae: 2.3065 - val_mse: 8.9910\n",
            "Epoch 398/500\n",
            "8/8 [==============================] - 0s 9ms/step - loss: 4.8101 - mae: 1.4642 - mse: 4.8101 - val_loss: 8.8694 - val_mae: 2.2662 - val_mse: 8.8694\n",
            "Epoch 399/500\n",
            "8/8 [==============================] - 0s 9ms/step - loss: 4.5236 - mae: 1.3928 - mse: 4.5236 - val_loss: 8.8372 - val_mae: 2.2102 - val_mse: 8.8372\n",
            "Epoch 400/500\n",
            "8/8 [==============================] - 0s 8ms/step - loss: 5.2706 - mae: 1.5484 - mse: 5.2706 - val_loss: 8.7928 - val_mae: 2.2514 - val_mse: 8.7928\n",
            "Epoch 401/500\n",
            "8/8 [==============================] - 0s 8ms/step - loss: 4.2289 - mae: 1.3507 - mse: 4.2289 - val_loss: 8.8640 - val_mae: 2.1981 - val_mse: 8.8640\n",
            "Epoch 402/500\n",
            "8/8 [==============================] - 0s 8ms/step - loss: 4.1475 - mae: 1.3340 - mse: 4.1475 - val_loss: 8.7167 - val_mae: 2.2035 - val_mse: 8.7167\n",
            "Epoch 403/500\n",
            "8/8 [==============================] - 0s 9ms/step - loss: 4.6524 - mae: 1.4798 - mse: 4.6524 - val_loss: 9.0283 - val_mae: 2.2893 - val_mse: 9.0283\n",
            "Epoch 404/500\n",
            "8/8 [==============================] - 0s 8ms/step - loss: 5.2307 - mae: 1.5197 - mse: 5.2307 - val_loss: 9.0422 - val_mae: 2.3089 - val_mse: 9.0422\n",
            "Epoch 405/500\n",
            "8/8 [==============================] - 0s 10ms/step - loss: 4.7810 - mae: 1.4297 - mse: 4.7810 - val_loss: 8.6850 - val_mae: 2.2117 - val_mse: 8.6850\n",
            "Epoch 406/500\n",
            "8/8 [==============================] - 0s 7ms/step - loss: 4.3362 - mae: 1.3908 - mse: 4.3362 - val_loss: 8.6951 - val_mae: 2.1885 - val_mse: 8.6951\n",
            "Epoch 407/500\n",
            "8/8 [==============================] - 0s 8ms/step - loss: 4.9939 - mae: 1.5755 - mse: 4.9939 - val_loss: 8.8716 - val_mae: 2.2215 - val_mse: 8.8716\n",
            "Epoch 408/500\n",
            "8/8 [==============================] - 0s 9ms/step - loss: 4.5860 - mae: 1.4425 - mse: 4.5860 - val_loss: 8.8170 - val_mae: 2.2248 - val_mse: 8.8170\n",
            "Epoch 409/500\n",
            "8/8 [==============================] - 0s 8ms/step - loss: 4.1772 - mae: 1.3882 - mse: 4.1772 - val_loss: 8.9038 - val_mae: 2.2682 - val_mse: 8.9038\n",
            "Epoch 410/500\n",
            "8/8 [==============================] - 0s 9ms/step - loss: 4.7148 - mae: 1.3948 - mse: 4.7148 - val_loss: 8.7689 - val_mae: 2.2288 - val_mse: 8.7689\n",
            "Epoch 411/500\n",
            "8/8 [==============================] - 0s 8ms/step - loss: 5.1240 - mae: 1.4112 - mse: 5.1240 - val_loss: 9.0682 - val_mae: 2.2922 - val_mse: 9.0682\n",
            "Epoch 412/500\n",
            "8/8 [==============================] - 0s 8ms/step - loss: 4.0351 - mae: 1.3839 - mse: 4.0351 - val_loss: 8.7236 - val_mae: 2.2290 - val_mse: 8.7236\n",
            "Epoch 413/500\n",
            "8/8 [==============================] - 0s 8ms/step - loss: 4.7955 - mae: 1.4409 - mse: 4.7955 - val_loss: 8.7251 - val_mae: 2.1871 - val_mse: 8.7251\n",
            "Epoch 414/500\n",
            "8/8 [==============================] - 0s 9ms/step - loss: 4.3355 - mae: 1.3532 - mse: 4.3355 - val_loss: 8.9592 - val_mae: 2.2914 - val_mse: 8.9592\n",
            "Epoch 415/500\n",
            "8/8 [==============================] - 0s 9ms/step - loss: 3.4998 - mae: 1.2517 - mse: 3.4998 - val_loss: 8.6984 - val_mae: 2.2367 - val_mse: 8.6984\n",
            "Epoch 416/500\n",
            "8/8 [==============================] - 0s 9ms/step - loss: 5.1836 - mae: 1.5037 - mse: 5.1836 - val_loss: 8.8351 - val_mae: 2.2041 - val_mse: 8.8351\n",
            "Epoch 417/500\n",
            "8/8 [==============================] - 0s 9ms/step - loss: 4.3668 - mae: 1.3786 - mse: 4.3668 - val_loss: 8.7997 - val_mae: 2.2566 - val_mse: 8.7997\n",
            "Epoch 418/500\n",
            "8/8 [==============================] - 0s 8ms/step - loss: 3.8214 - mae: 1.3511 - mse: 3.8214 - val_loss: 8.8608 - val_mae: 2.2217 - val_mse: 8.8608\n",
            "Epoch 419/500\n",
            "8/8 [==============================] - 0s 9ms/step - loss: 4.1216 - mae: 1.3552 - mse: 4.1216 - val_loss: 9.0183 - val_mae: 2.3039 - val_mse: 9.0183\n",
            "Epoch 420/500\n",
            "8/8 [==============================] - 0s 9ms/step - loss: 4.1879 - mae: 1.3538 - mse: 4.1879 - val_loss: 8.8937 - val_mae: 2.1979 - val_mse: 8.8937\n",
            "Epoch 421/500\n",
            "8/8 [==============================] - 0s 8ms/step - loss: 3.7782 - mae: 1.3695 - mse: 3.7782 - val_loss: 8.6372 - val_mae: 2.2140 - val_mse: 8.6372\n",
            "Epoch 422/500\n",
            "8/8 [==============================] - 0s 9ms/step - loss: 4.9535 - mae: 1.4741 - mse: 4.9535 - val_loss: 8.9673 - val_mae: 2.2805 - val_mse: 8.9673\n",
            "Epoch 423/500\n",
            "8/8 [==============================] - 0s 9ms/step - loss: 4.6999 - mae: 1.4177 - mse: 4.6999 - val_loss: 8.7706 - val_mae: 2.2453 - val_mse: 8.7706\n",
            "Epoch 424/500\n",
            "8/8 [==============================] - 0s 9ms/step - loss: 4.9533 - mae: 1.3975 - mse: 4.9533 - val_loss: 9.2949 - val_mae: 2.3456 - val_mse: 9.2949\n",
            "Epoch 425/500\n",
            "8/8 [==============================] - 0s 10ms/step - loss: 3.8033 - mae: 1.2953 - mse: 3.8033 - val_loss: 9.3802 - val_mae: 2.3438 - val_mse: 9.3802\n",
            "Epoch 426/500\n",
            "8/8 [==============================] - 0s 8ms/step - loss: 3.8204 - mae: 1.3127 - mse: 3.8204 - val_loss: 8.8823 - val_mae: 2.2689 - val_mse: 8.8823\n",
            "Epoch 427/500\n",
            "8/8 [==============================] - 0s 8ms/step - loss: 5.0446 - mae: 1.4571 - mse: 5.0446 - val_loss: 8.6436 - val_mae: 2.2136 - val_mse: 8.6436\n",
            "Epoch 428/500\n",
            "8/8 [==============================] - 0s 9ms/step - loss: 5.3576 - mae: 1.4944 - mse: 5.3576 - val_loss: 8.9550 - val_mae: 2.2845 - val_mse: 8.9550\n",
            "Epoch 429/500\n",
            "8/8 [==============================] - 0s 10ms/step - loss: 4.7717 - mae: 1.3892 - mse: 4.7717 - val_loss: 8.6860 - val_mae: 2.2260 - val_mse: 8.6860\n",
            "Epoch 430/500\n",
            "8/8 [==============================] - 0s 9ms/step - loss: 3.1667 - mae: 1.2216 - mse: 3.1667 - val_loss: 9.0888 - val_mae: 2.2228 - val_mse: 9.0888\n",
            "Epoch 431/500\n",
            "8/8 [==============================] - 0s 8ms/step - loss: 4.7261 - mae: 1.4457 - mse: 4.7261 - val_loss: 9.0985 - val_mae: 2.2881 - val_mse: 9.0985\n",
            "Epoch 432/500\n",
            "8/8 [==============================] - 0s 8ms/step - loss: 3.5622 - mae: 1.3054 - mse: 3.5622 - val_loss: 8.8621 - val_mae: 2.2606 - val_mse: 8.8621\n",
            "Epoch 433/500\n",
            "8/8 [==============================] - 0s 9ms/step - loss: 4.8043 - mae: 1.4159 - mse: 4.8043 - val_loss: 8.8088 - val_mae: 2.2437 - val_mse: 8.8088\n",
            "Epoch 434/500\n",
            "8/8 [==============================] - 0s 10ms/step - loss: 4.2180 - mae: 1.3583 - mse: 4.2180 - val_loss: 8.8194 - val_mae: 2.2443 - val_mse: 8.8194\n",
            "Epoch 435/500\n",
            "8/8 [==============================] - 0s 8ms/step - loss: 4.4160 - mae: 1.3228 - mse: 4.4160 - val_loss: 8.9125 - val_mae: 2.2099 - val_mse: 8.9125\n",
            "Epoch 436/500\n",
            "8/8 [==============================] - 0s 8ms/step - loss: 3.8982 - mae: 1.3343 - mse: 3.8982 - val_loss: 8.6841 - val_mae: 2.2091 - val_mse: 8.6841\n",
            "Epoch 437/500\n",
            "8/8 [==============================] - 0s 10ms/step - loss: 4.0872 - mae: 1.3801 - mse: 4.0872 - val_loss: 8.9566 - val_mae: 2.2951 - val_mse: 8.9566\n",
            "Epoch 438/500\n",
            "8/8 [==============================] - 0s 9ms/step - loss: 5.3561 - mae: 1.5094 - mse: 5.3561 - val_loss: 8.7584 - val_mae: 2.2480 - val_mse: 8.7584\n",
            "Epoch 439/500\n",
            "8/8 [==============================] - 0s 9ms/step - loss: 3.6697 - mae: 1.2855 - mse: 3.6697 - val_loss: 8.9518 - val_mae: 2.2883 - val_mse: 8.9518\n",
            "Epoch 440/500\n",
            "8/8 [==============================] - 0s 8ms/step - loss: 4.2557 - mae: 1.3838 - mse: 4.2557 - val_loss: 8.7535 - val_mae: 2.2201 - val_mse: 8.7535\n",
            "Epoch 441/500\n",
            "8/8 [==============================] - 0s 10ms/step - loss: 5.8519 - mae: 1.5277 - mse: 5.8519 - val_loss: 8.8375 - val_mae: 2.2583 - val_mse: 8.8375\n",
            "Epoch 442/500\n",
            "8/8 [==============================] - 0s 8ms/step - loss: 4.2962 - mae: 1.3521 - mse: 4.2962 - val_loss: 9.5621 - val_mae: 2.3652 - val_mse: 9.5621\n",
            "Epoch 443/500\n",
            "8/8 [==============================] - 0s 9ms/step - loss: 3.7614 - mae: 1.3393 - mse: 3.7614 - val_loss: 8.9925 - val_mae: 2.2794 - val_mse: 8.9925\n",
            "Epoch 444/500\n",
            "8/8 [==============================] - 0s 8ms/step - loss: 4.2861 - mae: 1.3637 - mse: 4.2861 - val_loss: 8.7859 - val_mae: 2.2567 - val_mse: 8.7859\n",
            "Epoch 445/500\n",
            "8/8 [==============================] - 0s 9ms/step - loss: 4.8999 - mae: 1.5283 - mse: 4.8999 - val_loss: 9.1527 - val_mae: 2.3138 - val_mse: 9.1527\n",
            "Epoch 446/500\n",
            "8/8 [==============================] - 0s 8ms/step - loss: 3.8882 - mae: 1.3064 - mse: 3.8882 - val_loss: 9.2605 - val_mae: 2.3312 - val_mse: 9.2605\n",
            "Epoch 447/500\n",
            "8/8 [==============================] - 0s 8ms/step - loss: 4.2839 - mae: 1.4145 - mse: 4.2839 - val_loss: 8.7641 - val_mae: 2.2582 - val_mse: 8.7641\n",
            "Epoch 448/500\n",
            "8/8 [==============================] - 0s 10ms/step - loss: 5.1916 - mae: 1.4921 - mse: 5.1916 - val_loss: 8.7551 - val_mae: 2.1964 - val_mse: 8.7551\n",
            "Epoch 449/500\n",
            "8/8 [==============================] - 0s 8ms/step - loss: 4.4513 - mae: 1.3556 - mse: 4.4513 - val_loss: 8.7841 - val_mae: 2.2618 - val_mse: 8.7841\n",
            "Epoch 450/500\n",
            "8/8 [==============================] - 0s 9ms/step - loss: 4.0891 - mae: 1.3397 - mse: 4.0891 - val_loss: 8.7526 - val_mae: 2.2035 - val_mse: 8.7526\n",
            "Epoch 451/500\n",
            "8/8 [==============================] - 0s 10ms/step - loss: 4.1197 - mae: 1.3374 - mse: 4.1197 - val_loss: 8.5906 - val_mae: 2.2094 - val_mse: 8.5906\n",
            "Epoch 452/500\n",
            "8/8 [==============================] - 0s 10ms/step - loss: 3.9921 - mae: 1.3081 - mse: 3.9921 - val_loss: 8.7033 - val_mae: 2.2402 - val_mse: 8.7033\n",
            "Epoch 453/500\n",
            "8/8 [==============================] - 0s 8ms/step - loss: 4.4201 - mae: 1.3465 - mse: 4.4201 - val_loss: 8.8325 - val_mae: 2.2719 - val_mse: 8.8325\n",
            "Epoch 454/500\n",
            "8/8 [==============================] - 0s 11ms/step - loss: 3.4931 - mae: 1.2518 - mse: 3.4931 - val_loss: 8.8846 - val_mae: 2.2135 - val_mse: 8.8846\n",
            "Epoch 455/500\n",
            "8/8 [==============================] - 0s 8ms/step - loss: 4.9505 - mae: 1.5024 - mse: 4.9505 - val_loss: 8.7969 - val_mae: 2.2045 - val_mse: 8.7969\n",
            "Epoch 456/500\n",
            "8/8 [==============================] - 0s 8ms/step - loss: 4.0482 - mae: 1.3819 - mse: 4.0482 - val_loss: 8.8113 - val_mae: 2.2627 - val_mse: 8.8113\n",
            "Epoch 457/500\n",
            "8/8 [==============================] - 0s 9ms/step - loss: 4.5771 - mae: 1.4161 - mse: 4.5771 - val_loss: 8.9955 - val_mae: 2.2957 - val_mse: 8.9955\n",
            "Epoch 458/500\n",
            "8/8 [==============================] - 0s 9ms/step - loss: 4.0641 - mae: 1.2933 - mse: 4.0641 - val_loss: 9.0297 - val_mae: 2.3107 - val_mse: 9.0297\n",
            "Epoch 459/500\n",
            "8/8 [==============================] - 0s 8ms/step - loss: 4.7371 - mae: 1.4963 - mse: 4.7371 - val_loss: 8.7464 - val_mae: 2.2477 - val_mse: 8.7464\n",
            "Epoch 460/500\n",
            "8/8 [==============================] - 0s 8ms/step - loss: 3.3828 - mae: 1.2549 - mse: 3.3828 - val_loss: 8.7484 - val_mae: 2.2468 - val_mse: 8.7484\n",
            "Epoch 461/500\n",
            "8/8 [==============================] - 0s 9ms/step - loss: 4.5777 - mae: 1.3992 - mse: 4.5777 - val_loss: 8.6326 - val_mae: 2.2227 - val_mse: 8.6326\n",
            "Epoch 462/500\n",
            "8/8 [==============================] - 0s 9ms/step - loss: 4.7598 - mae: 1.4162 - mse: 4.7598 - val_loss: 9.0884 - val_mae: 2.3271 - val_mse: 9.0884\n",
            "Epoch 463/500\n",
            "8/8 [==============================] - 0s 8ms/step - loss: 5.1270 - mae: 1.4710 - mse: 5.1270 - val_loss: 9.3601 - val_mae: 2.3492 - val_mse: 9.3601\n",
            "Epoch 464/500\n",
            "8/8 [==============================] - 0s 8ms/step - loss: 4.3004 - mae: 1.3501 - mse: 4.3004 - val_loss: 8.8602 - val_mae: 2.2693 - val_mse: 8.8602\n",
            "Epoch 465/500\n",
            "8/8 [==============================] - 0s 8ms/step - loss: 4.2937 - mae: 1.3671 - mse: 4.2937 - val_loss: 8.6383 - val_mae: 2.2304 - val_mse: 8.6383\n",
            "Epoch 466/500\n",
            "8/8 [==============================] - 0s 10ms/step - loss: 3.8539 - mae: 1.3150 - mse: 3.8539 - val_loss: 9.1567 - val_mae: 2.3204 - val_mse: 9.1567\n",
            "Epoch 467/500\n",
            "8/8 [==============================] - 0s 9ms/step - loss: 3.8862 - mae: 1.3140 - mse: 3.8862 - val_loss: 8.9853 - val_mae: 2.2330 - val_mse: 8.9853\n",
            "Epoch 468/500\n",
            "8/8 [==============================] - 0s 9ms/step - loss: 4.8543 - mae: 1.4934 - mse: 4.8543 - val_loss: 8.6284 - val_mae: 2.2406 - val_mse: 8.6284\n",
            "Epoch 469/500\n",
            "8/8 [==============================] - 0s 9ms/step - loss: 3.3243 - mae: 1.2320 - mse: 3.3243 - val_loss: 8.5986 - val_mae: 2.2011 - val_mse: 8.5986\n",
            "Epoch 470/500\n",
            "8/8 [==============================] - 0s 8ms/step - loss: 3.4132 - mae: 1.2789 - mse: 3.4132 - val_loss: 9.0544 - val_mae: 2.3404 - val_mse: 9.0544\n",
            "Epoch 471/500\n",
            "8/8 [==============================] - 0s 9ms/step - loss: 4.3676 - mae: 1.3778 - mse: 4.3676 - val_loss: 8.6374 - val_mae: 2.2295 - val_mse: 8.6374\n",
            "Epoch 472/500\n",
            "8/8 [==============================] - 0s 8ms/step - loss: 4.3719 - mae: 1.3914 - mse: 4.3719 - val_loss: 8.6854 - val_mae: 2.2290 - val_mse: 8.6854\n",
            "Epoch 473/500\n",
            "8/8 [==============================] - 0s 8ms/step - loss: 3.9864 - mae: 1.3320 - mse: 3.9864 - val_loss: 9.1977 - val_mae: 2.3394 - val_mse: 9.1977\n",
            "Epoch 474/500\n",
            "8/8 [==============================] - 0s 8ms/step - loss: 3.4157 - mae: 1.2592 - mse: 3.4157 - val_loss: 8.9488 - val_mae: 2.2967 - val_mse: 8.9488\n",
            "Epoch 475/500\n",
            "8/8 [==============================] - 0s 9ms/step - loss: 4.5125 - mae: 1.3683 - mse: 4.5125 - val_loss: 8.7146 - val_mae: 2.2571 - val_mse: 8.7146\n",
            "Epoch 476/500\n",
            "8/8 [==============================] - 0s 9ms/step - loss: 3.7987 - mae: 1.2852 - mse: 3.7987 - val_loss: 9.0297 - val_mae: 2.2998 - val_mse: 9.0297\n",
            "Epoch 477/500\n",
            "8/8 [==============================] - 0s 9ms/step - loss: 4.1481 - mae: 1.3563 - mse: 4.1481 - val_loss: 8.4747 - val_mae: 2.1750 - val_mse: 8.4747\n",
            "Epoch 478/500\n",
            "8/8 [==============================] - 0s 8ms/step - loss: 3.5316 - mae: 1.2831 - mse: 3.5316 - val_loss: 8.6378 - val_mae: 2.2210 - val_mse: 8.6378\n",
            "Epoch 479/500\n",
            "8/8 [==============================] - 0s 9ms/step - loss: 4.1440 - mae: 1.3198 - mse: 4.1440 - val_loss: 8.6848 - val_mae: 2.2555 - val_mse: 8.6848\n",
            "Epoch 480/500\n",
            "8/8 [==============================] - 0s 9ms/step - loss: 4.2582 - mae: 1.3702 - mse: 4.2582 - val_loss: 8.6074 - val_mae: 2.2340 - val_mse: 8.6074\n",
            "Epoch 481/500\n",
            "8/8 [==============================] - 0s 9ms/step - loss: 4.5011 - mae: 1.4238 - mse: 4.5011 - val_loss: 8.6317 - val_mae: 2.2232 - val_mse: 8.6317\n",
            "Epoch 482/500\n",
            "8/8 [==============================] - 0s 8ms/step - loss: 4.4318 - mae: 1.3909 - mse: 4.4318 - val_loss: 8.7323 - val_mae: 2.2612 - val_mse: 8.7323\n",
            "Epoch 483/500\n",
            "8/8 [==============================] - 0s 9ms/step - loss: 4.0310 - mae: 1.3076 - mse: 4.0310 - val_loss: 8.7848 - val_mae: 2.2700 - val_mse: 8.7848\n",
            "Epoch 484/500\n",
            "8/8 [==============================] - 0s 9ms/step - loss: 4.2105 - mae: 1.3287 - mse: 4.2105 - val_loss: 8.5300 - val_mae: 2.2222 - val_mse: 8.5300\n",
            "Epoch 485/500\n",
            "8/8 [==============================] - 0s 9ms/step - loss: 5.0474 - mae: 1.4521 - mse: 5.0474 - val_loss: 8.6712 - val_mae: 2.2515 - val_mse: 8.6712\n",
            "Epoch 486/500\n",
            "8/8 [==============================] - 0s 10ms/step - loss: 4.6285 - mae: 1.4114 - mse: 4.6285 - val_loss: 8.7551 - val_mae: 2.2167 - val_mse: 8.7551\n",
            "Epoch 487/500\n",
            "8/8 [==============================] - 0s 9ms/step - loss: 4.7217 - mae: 1.3878 - mse: 4.7217 - val_loss: 9.2015 - val_mae: 2.3209 - val_mse: 9.2015\n",
            "Epoch 488/500\n",
            "8/8 [==============================] - 0s 9ms/step - loss: 4.6974 - mae: 1.4738 - mse: 4.6974 - val_loss: 8.7692 - val_mae: 2.2354 - val_mse: 8.7692\n",
            "Epoch 489/500\n",
            "8/8 [==============================] - 0s 9ms/step - loss: 3.5424 - mae: 1.2723 - mse: 3.5424 - val_loss: 8.8771 - val_mae: 2.2739 - val_mse: 8.8771\n",
            "Epoch 490/500\n",
            "8/8 [==============================] - 0s 8ms/step - loss: 4.5381 - mae: 1.3658 - mse: 4.5381 - val_loss: 8.7597 - val_mae: 2.2664 - val_mse: 8.7597\n",
            "Epoch 491/500\n",
            "8/8 [==============================] - 0s 9ms/step - loss: 3.9960 - mae: 1.3293 - mse: 3.9960 - val_loss: 8.9289 - val_mae: 2.3007 - val_mse: 8.9289\n",
            "Epoch 492/500\n",
            "8/8 [==============================] - 0s 10ms/step - loss: 3.7715 - mae: 1.3174 - mse: 3.7715 - val_loss: 8.6667 - val_mae: 2.2350 - val_mse: 8.6667\n",
            "Epoch 493/500\n",
            "8/8 [==============================] - 0s 9ms/step - loss: 4.0891 - mae: 1.3299 - mse: 4.0891 - val_loss: 8.9339 - val_mae: 2.2835 - val_mse: 8.9339\n",
            "Epoch 494/500\n",
            "8/8 [==============================] - 0s 8ms/step - loss: 4.1211 - mae: 1.3313 - mse: 4.1211 - val_loss: 8.8405 - val_mae: 2.2748 - val_mse: 8.8405\n",
            "Epoch 495/500\n",
            "8/8 [==============================] - 0s 9ms/step - loss: 4.5309 - mae: 1.4380 - mse: 4.5309 - val_loss: 8.6486 - val_mae: 2.2367 - val_mse: 8.6486\n",
            "Epoch 496/500\n",
            "8/8 [==============================] - 0s 9ms/step - loss: 3.5901 - mae: 1.2911 - mse: 3.5901 - val_loss: 8.5797 - val_mae: 2.2321 - val_mse: 8.5797\n",
            "Epoch 497/500\n",
            "8/8 [==============================] - 0s 9ms/step - loss: 4.4584 - mae: 1.3842 - mse: 4.4584 - val_loss: 9.0618 - val_mae: 2.3411 - val_mse: 9.0618\n",
            "Epoch 498/500\n",
            "8/8 [==============================] - 0s 10ms/step - loss: 3.4377 - mae: 1.2513 - mse: 3.4377 - val_loss: 8.8143 - val_mae: 2.2664 - val_mse: 8.8143\n",
            "Epoch 499/500\n",
            "8/8 [==============================] - 0s 9ms/step - loss: 3.9376 - mae: 1.3136 - mse: 3.9376 - val_loss: 8.8245 - val_mae: 2.2147 - val_mse: 8.8245\n",
            "Epoch 500/500\n",
            "8/8 [==============================] - 0s 9ms/step - loss: 4.3617 - mae: 1.3940 - mse: 4.3617 - val_loss: 8.7374 - val_mae: 2.2619 - val_mse: 8.7374\n"
          ],
          "name": "stdout"
        }
      ]
    },
    {
      "cell_type": "markdown",
      "metadata": {
        "id": "I-9htitxgDla"
      },
      "source": [
        "**Storing the model run details into a dataframe, named 'hist' here:**"
      ]
    },
    {
      "cell_type": "code",
      "metadata": {
        "colab": {
          "base_uri": "https://localhost:8080/",
          "height": 195
        },
        "id": "BQSKr0UScu0B",
        "outputId": "e7f00e48-df0a-4c13-ca57-4ae4c95cf199"
      },
      "source": [
        "hist = pd.DataFrame(history.history)\n",
        "hist['epoch'] = history.epoch\n",
        "hist.tail()"
      ],
      "execution_count": 18,
      "outputs": [
        {
          "output_type": "execute_result",
          "data": {
            "text/html": [
              "<div>\n",
              "<style scoped>\n",
              "    .dataframe tbody tr th:only-of-type {\n",
              "        vertical-align: middle;\n",
              "    }\n",
              "\n",
              "    .dataframe tbody tr th {\n",
              "        vertical-align: top;\n",
              "    }\n",
              "\n",
              "    .dataframe thead th {\n",
              "        text-align: right;\n",
              "    }\n",
              "</style>\n",
              "<table border=\"1\" class=\"dataframe\">\n",
              "  <thead>\n",
              "    <tr style=\"text-align: right;\">\n",
              "      <th></th>\n",
              "      <th>loss</th>\n",
              "      <th>mae</th>\n",
              "      <th>mse</th>\n",
              "      <th>val_loss</th>\n",
              "      <th>val_mae</th>\n",
              "      <th>val_mse</th>\n",
              "      <th>epoch</th>\n",
              "    </tr>\n",
              "  </thead>\n",
              "  <tbody>\n",
              "    <tr>\n",
              "      <th>495</th>\n",
              "      <td>4.096457</td>\n",
              "      <td>1.345105</td>\n",
              "      <td>4.096457</td>\n",
              "      <td>8.579657</td>\n",
              "      <td>2.232070</td>\n",
              "      <td>8.579657</td>\n",
              "      <td>495</td>\n",
              "    </tr>\n",
              "    <tr>\n",
              "      <th>496</th>\n",
              "      <td>4.062400</td>\n",
              "      <td>1.327595</td>\n",
              "      <td>4.062400</td>\n",
              "      <td>9.061777</td>\n",
              "      <td>2.341120</td>\n",
              "      <td>9.061777</td>\n",
              "      <td>496</td>\n",
              "    </tr>\n",
              "    <tr>\n",
              "      <th>497</th>\n",
              "      <td>4.088006</td>\n",
              "      <td>1.357947</td>\n",
              "      <td>4.088006</td>\n",
              "      <td>8.814294</td>\n",
              "      <td>2.266391</td>\n",
              "      <td>8.814294</td>\n",
              "      <td>497</td>\n",
              "    </tr>\n",
              "    <tr>\n",
              "      <th>498</th>\n",
              "      <td>4.222971</td>\n",
              "      <td>1.341353</td>\n",
              "      <td>4.222971</td>\n",
              "      <td>8.824500</td>\n",
              "      <td>2.214683</td>\n",
              "      <td>8.824500</td>\n",
              "      <td>498</td>\n",
              "    </tr>\n",
              "    <tr>\n",
              "      <th>499</th>\n",
              "      <td>4.153011</td>\n",
              "      <td>1.381112</td>\n",
              "      <td>4.153011</td>\n",
              "      <td>8.737382</td>\n",
              "      <td>2.261867</td>\n",
              "      <td>8.737382</td>\n",
              "      <td>499</td>\n",
              "    </tr>\n",
              "  </tbody>\n",
              "</table>\n",
              "</div>"
            ],
            "text/plain": [
              "         loss       mae       mse  val_loss   val_mae   val_mse  epoch\n",
              "495  4.096457  1.345105  4.096457  8.579657  2.232070  8.579657    495\n",
              "496  4.062400  1.327595  4.062400  9.061777  2.341120  9.061777    496\n",
              "497  4.088006  1.357947  4.088006  8.814294  2.266391  8.814294    497\n",
              "498  4.222971  1.341353  4.222971  8.824500  2.214683  8.824500    498\n",
              "499  4.153011  1.381112  4.153011  8.737382  2.261867  8.737382    499"
            ]
          },
          "metadata": {
            "tags": []
          },
          "execution_count": 18
        }
      ]
    },
    {
      "cell_type": "markdown",
      "metadata": {
        "id": "SFlwtgYpsu8R"
      },
      "source": [
        "**Plot the graph of Number of epochs vs/ training and validation loss:**"
      ]
    },
    {
      "cell_type": "code",
      "metadata": {
        "colab": {
          "base_uri": "https://localhost:8080/",
          "height": 549
        },
        "id": "d_YezIJyguw3",
        "outputId": "baeee29d-7e5f-4990-cdac-d0d5de90e7ff"
      },
      "source": [
        "def plot_history(history):\n",
        "  hist = pd.DataFrame(history.history)\n",
        "  hist['epoch'] = history.epoch\n",
        "\n",
        "  plt.figure()\n",
        "  plt.xlabel('Epoch')\n",
        "  plt.ylabel('Mean ABS Error [MPG]')\n",
        "  plt.plot(hist['epoch'], hist['mae'], label=['Train Error'])\n",
        "  plt.plot(hist['epoch'], hist['val_mae'], label=['Validation Error'])\n",
        "  plt.ylim([0,5])\n",
        "  plt.legend()\n",
        "\n",
        "  plt.figure()\n",
        "  plt.xlabel('Epoch')\n",
        "  plt.ylabel('Mean Square Error [MPG]')\n",
        "  plt.plot(hist['epoch'], hist['mse'], label=['Train Error'])\n",
        "  plt.plot(hist['epoch'], hist['val_mse'], label=['Val Error'])\n",
        "  plt.ylim([0,20])\n",
        "  plt.legend()\n",
        "  plt.show()\n",
        "\n",
        "plot_history(history)"
      ],
      "execution_count": 19,
      "outputs": [
        {
          "output_type": "display_data",
          "data": {
            "image/png": "[encoded data removed]",
            "text/plain": [
              "<Figure size 432x288 with 1 Axes>"
            ]
          },
          "metadata": {
            "tags": [],
            "needs_background": "light"
          }
        },
        {
          "output_type": "display_data",
          "data": {
            "image/png": "[encoded data removed]",
            "text/plain": [
              "<Figure size 432x288 with 1 Axes>"
            ]
          },
          "metadata": {
            "tags": [],
            "needs_background": "light"
          }
        }
      ]
    },
    {
      "cell_type": "markdown",
      "metadata": {
        "id": "ACLNMXohhpFl"
      },
      "source": [
        "**Observations from the graphs, Overfitting check:**\n",
        "- Now looking at the above graphs of Number of epochs vs/ training and validation loss, we can say that the number of epochs should be around 50 or less. It is visible that after 50 epochs the validation error increases. This implies overfitting of the model. So, to avoid overfitting need to train till 50 or less epochs\n",
        "\n",
        "- Will apply Regularization technique (Early stopping) to avoid this overfitting issue"
      ]
    },
    {
      "cell_type": "code",
      "metadata": {
        "colab": {
          "base_uri": "https://localhost:8080/",
          "height": 0
        },
        "id": "tRW4_ok0hfMT",
        "outputId": "7bab4fda-7276-4aae-b388-34c83de22ae2"
      },
      "source": [
        "model = build_model()\n",
        "\n",
        "#applying Early stopping to avoid overfitting of the model:\n",
        "early_stop = keras.callbacks.EarlyStopping(monitor='val_loss', patience=10)\n",
        "\n",
        "history = model.fit(\n",
        "    normed_train_data, train_labels,                 \n",
        "    epochs=EPOCHS, validation_split = 0.2, verbose=1, callbacks =[early_stop, PrintDot()])"
      ],
      "execution_count": 20,
      "outputs": [
        {
          "output_type": "stream",
          "text": [
            "Epoch 1/500\n",
            "8/8 [==============================] - 1s 30ms/step - loss: 591.3643 - mae: 23.0504 - mse: 591.3643 - val_loss: 567.4601 - val_mae: 22.4355 - val_mse: 567.4601\n",
            "Epoch 2/500\n",
            "8/8 [==============================] - 0s 7ms/step - loss: 547.4954 - mae: 21.9847 - mse: 547.4954 - val_loss: 527.5493 - val_mae: 21.5180 - val_mse: 527.5493\n",
            "Epoch 3/500\n",
            "8/8 [==============================] - 0s 8ms/step - loss: 501.7300 - mae: 20.9049 - mse: 501.7300 - val_loss: 486.5789 - val_mae: 20.5365 - val_mse: 486.5789\n",
            "Epoch 4/500\n",
            "8/8 [==============================] - 0s 7ms/step - loss: 459.8415 - mae: 20.0064 - mse: 459.8415 - val_loss: 442.5326 - val_mae: 19.4301 - val_mse: 442.5326\n",
            "Epoch 5/500\n",
            "8/8 [==============================] - 0s 8ms/step - loss: 417.2260 - mae: 18.9590 - mse: 417.2260 - val_loss: 395.4350 - val_mae: 18.1712 - val_mse: 395.4350\n",
            "Epoch 6/500\n",
            "8/8 [==============================] - 0s 7ms/step - loss: 351.5617 - mae: 16.9744 - mse: 351.5617 - val_loss: 345.9610 - val_mae: 16.7817 - val_mse: 345.9610\n",
            "Epoch 7/500\n",
            "8/8 [==============================] - 0s 8ms/step - loss: 309.5346 - mae: 15.9528 - mse: 309.5346 - val_loss: 295.5807 - val_mae: 15.3539 - val_mse: 295.5807\n",
            "Epoch 8/500\n",
            "8/8 [==============================] - 0s 7ms/step - loss: 271.8436 - mae: 14.8350 - mse: 271.8436 - val_loss: 245.1993 - val_mae: 13.9379 - val_mse: 245.1993\n",
            "Epoch 9/500\n",
            "8/8 [==============================] - 0s 8ms/step - loss: 222.4755 - mae: 13.1841 - mse: 222.4755 - val_loss: 196.9705 - val_mae: 12.5459 - val_mse: 196.9705\n",
            "Epoch 10/500\n",
            "8/8 [==============================] - 0s 7ms/step - loss: 201.5864 - mae: 12.7530 - mse: 201.5864 - val_loss: 154.4931 - val_mae: 11.1183 - val_mse: 154.4931\n",
            "Epoch 11/500\n",
            "8/8 [==============================] - 0s 7ms/step - loss: 149.2668 - mae: 10.8761 - mse: 149.2668 - val_loss: 116.5303 - val_mae: 9.6160 - val_mse: 116.5303\n",
            "Epoch 12/500\n",
            "8/8 [==============================] - 0s 8ms/step - loss: 112.6268 - mae: 9.2568 - mse: 112.6268 - val_loss: 86.8667 - val_mae: 8.1852 - val_mse: 86.8667\n",
            "Epoch 13/500\n",
            "8/8 [==============================] - 0s 7ms/step - loss: 83.2827 - mae: 7.7909 - mse: 83.2827 - val_loss: 65.5477 - val_mae: 6.9082 - val_mse: 65.5477\n",
            "Epoch 14/500\n",
            "8/8 [==============================] - 0s 8ms/step - loss: 71.3547 - mae: 7.0262 - mse: 71.3547 - val_loss: 52.3966 - val_mae: 6.1399 - val_mse: 52.3966\n",
            "Epoch 15/500\n",
            "8/8 [==============================] - 0s 7ms/step - loss: 55.4172 - mae: 6.1425 - mse: 55.4172 - val_loss: 44.8139 - val_mae: 5.7642 - val_mse: 44.8139\n",
            "Epoch 16/500\n",
            "8/8 [==============================] - 0s 8ms/step - loss: 46.0085 - mae: 5.7148 - mse: 46.0085 - val_loss: 39.7801 - val_mae: 5.4052 - val_mse: 39.7801\n",
            "Epoch 17/500\n",
            "8/8 [==============================] - 0s 7ms/step - loss: 37.0339 - mae: 4.9754 - mse: 37.0339 - val_loss: 36.2094 - val_mae: 5.1174 - val_mse: 36.2094\n",
            "Epoch 18/500\n",
            "8/8 [==============================] - 0s 8ms/step - loss: 32.7867 - mae: 4.7624 - mse: 32.7867 - val_loss: 32.6781 - val_mae: 4.8005 - val_mse: 32.6781\n",
            "Epoch 19/500\n",
            "8/8 [==============================] - 0s 7ms/step - loss: 26.0120 - mae: 3.9594 - mse: 26.0120 - val_loss: 29.1509 - val_mae: 4.4597 - val_mse: 29.1509\n",
            "Epoch 20/500\n",
            "8/8 [==============================] - 0s 7ms/step - loss: 23.9021 - mae: 3.9400 - mse: 23.9021 - val_loss: 26.8145 - val_mae: 4.1978 - val_mse: 26.8145\n",
            "Epoch 21/500\n",
            "8/8 [==============================] - 0s 8ms/step - loss: 21.8924 - mae: 3.6486 - mse: 21.8924 - val_loss: 23.4590 - val_mae: 3.9475 - val_mse: 23.4590\n",
            "Epoch 22/500\n",
            "8/8 [==============================] - 0s 7ms/step - loss: 20.5818 - mae: 3.6094 - mse: 20.5818 - val_loss: 21.5555 - val_mae: 3.7220 - val_mse: 21.5555\n",
            "Epoch 23/500\n",
            "8/8 [==============================] - 0s 8ms/step - loss: 18.3618 - mae: 3.4954 - mse: 18.3618 - val_loss: 20.0181 - val_mae: 3.5455 - val_mse: 20.0181\n",
            "Epoch 24/500\n",
            "8/8 [==============================] - 0s 7ms/step - loss: 16.6970 - mae: 3.2025 - mse: 16.6970 - val_loss: 18.4320 - val_mae: 3.3633 - val_mse: 18.4320\n",
            "Epoch 25/500\n",
            "8/8 [==============================] - 0s 7ms/step - loss: 13.1236 - mae: 2.8712 - mse: 13.1236 - val_loss: 17.1189 - val_mae: 3.2297 - val_mse: 17.1189\n",
            "Epoch 26/500\n",
            "8/8 [==============================] - 0s 8ms/step - loss: 13.1054 - mae: 2.8369 - mse: 13.1054 - val_loss: 15.8781 - val_mae: 3.1676 - val_mse: 15.8781\n",
            "Epoch 27/500\n",
            "8/8 [==============================] - 0s 7ms/step - loss: 13.7256 - mae: 2.7597 - mse: 13.7256 - val_loss: 15.0730 - val_mae: 3.0427 - val_mse: 15.0730\n",
            "Epoch 28/500\n",
            "8/8 [==============================] - 0s 8ms/step - loss: 11.6043 - mae: 2.5264 - mse: 11.6043 - val_loss: 14.3130 - val_mae: 2.9727 - val_mse: 14.3130\n",
            "Epoch 29/500\n",
            "8/8 [==============================] - 0s 8ms/step - loss: 11.1920 - mae: 2.4964 - mse: 11.1920 - val_loss: 13.5845 - val_mae: 2.8730 - val_mse: 13.5845\n",
            "Epoch 30/500\n",
            "8/8 [==============================] - 0s 9ms/step - loss: 9.8115 - mae: 2.3355 - mse: 9.8115 - val_loss: 13.2342 - val_mae: 2.8228 - val_mse: 13.2342\n",
            "Epoch 31/500\n",
            "8/8 [==============================] - 0s 7ms/step - loss: 10.9568 - mae: 2.3564 - mse: 10.9568 - val_loss: 12.9132 - val_mae: 2.7500 - val_mse: 12.9132\n",
            "Epoch 32/500\n",
            "8/8 [==============================] - 0s 6ms/step - loss: 10.4692 - mae: 2.3478 - mse: 10.4692 - val_loss: 12.8407 - val_mae: 2.7002 - val_mse: 12.8407\n",
            "Epoch 33/500\n",
            "8/8 [==============================] - 0s 8ms/step - loss: 10.4961 - mae: 2.3327 - mse: 10.4961 - val_loss: 12.4713 - val_mae: 2.7743 - val_mse: 12.4713\n",
            "Epoch 34/500\n",
            "8/8 [==============================] - 0s 7ms/step - loss: 8.5125 - mae: 2.1102 - mse: 8.5125 - val_loss: 12.2302 - val_mae: 2.6432 - val_mse: 12.2302\n",
            "Epoch 35/500\n",
            "8/8 [==============================] - 0s 8ms/step - loss: 8.6174 - mae: 2.0985 - mse: 8.6174 - val_loss: 11.7914 - val_mae: 2.6534 - val_mse: 11.7914\n",
            "Epoch 36/500\n",
            "8/8 [==============================] - 0s 9ms/step - loss: 9.6522 - mae: 2.2325 - mse: 9.6522 - val_loss: 11.5729 - val_mae: 2.6397 - val_mse: 11.5729\n",
            "Epoch 37/500\n",
            "8/8 [==============================] - 0s 9ms/step - loss: 8.8011 - mae: 2.1372 - mse: 8.8011 - val_loss: 11.7543 - val_mae: 2.6564 - val_mse: 11.7543\n",
            "Epoch 38/500\n",
            "8/8 [==============================] - 0s 7ms/step - loss: 8.9276 - mae: 2.0817 - mse: 8.9276 - val_loss: 11.6600 - val_mae: 2.6094 - val_mse: 11.6600\n",
            "Epoch 39/500\n",
            "8/8 [==============================] - 0s 7ms/step - loss: 10.2773 - mae: 2.2472 - mse: 10.2773 - val_loss: 11.4033 - val_mae: 2.5956 - val_mse: 11.4033\n",
            "Epoch 40/500\n",
            "8/8 [==============================] - 0s 8ms/step - loss: 8.6333 - mae: 2.1147 - mse: 8.6333 - val_loss: 11.2847 - val_mae: 2.5709 - val_mse: 11.2847\n",
            "Epoch 41/500\n",
            "8/8 [==============================] - 0s 8ms/step - loss: 8.2563 - mae: 2.1008 - mse: 8.2563 - val_loss: 11.1583 - val_mae: 2.5747 - val_mse: 11.1583\n",
            "Epoch 42/500\n",
            "8/8 [==============================] - 0s 7ms/step - loss: 8.9417 - mae: 2.0947 - mse: 8.9417 - val_loss: 11.2123 - val_mae: 2.5723 - val_mse: 11.2123\n",
            "Epoch 43/500\n",
            "8/8 [==============================] - 0s 8ms/step - loss: 7.4154 - mae: 1.9265 - mse: 7.4154 - val_loss: 11.1026 - val_mae: 2.5829 - val_mse: 11.1026\n",
            "Epoch 44/500\n",
            "8/8 [==============================] - 0s 7ms/step - loss: 6.4138 - mae: 1.8284 - mse: 6.4138 - val_loss: 10.8823 - val_mae: 2.5017 - val_mse: 10.8823\n",
            "Epoch 45/500\n",
            "8/8 [==============================] - 0s 8ms/step - loss: 9.4500 - mae: 2.2363 - mse: 9.4500 - val_loss: 10.8488 - val_mae: 2.5392 - val_mse: 10.8488\n",
            "Epoch 46/500\n",
            "8/8 [==============================] - 0s 9ms/step - loss: 8.1193 - mae: 2.0143 - mse: 8.1193 - val_loss: 10.7562 - val_mae: 2.5441 - val_mse: 10.7562\n",
            "Epoch 47/500\n",
            "8/8 [==============================] - 0s 9ms/step - loss: 8.0812 - mae: 2.0831 - mse: 8.0812 - val_loss: 10.9131 - val_mae: 2.5589 - val_mse: 10.9131\n",
            "Epoch 48/500\n",
            "8/8 [==============================] - 0s 8ms/step - loss: 8.7186 - mae: 2.0983 - mse: 8.7186 - val_loss: 10.7251 - val_mae: 2.4643 - val_mse: 10.7251\n",
            "Epoch 49/500\n",
            "8/8 [==============================] - 0s 8ms/step - loss: 9.2851 - mae: 2.1220 - mse: 9.2851 - val_loss: 10.5804 - val_mae: 2.4709 - val_mse: 10.5804\n",
            "Epoch 50/500\n",
            "8/8 [==============================] - 0s 8ms/step - loss: 7.3641 - mae: 1.9185 - mse: 7.3641 - val_loss: 10.5318 - val_mae: 2.4765 - val_mse: 10.5318\n",
            "Epoch 51/500\n",
            "8/8 [==============================] - 0s 8ms/step - loss: 6.9814 - mae: 1.9234 - mse: 6.9814 - val_loss: 10.5181 - val_mae: 2.4879 - val_mse: 10.5181\n",
            "Epoch 52/500\n",
            "8/8 [==============================] - 0s 7ms/step - loss: 6.8935 - mae: 1.8359 - mse: 6.8935 - val_loss: 10.4238 - val_mae: 2.4945 - val_mse: 10.4238\n",
            "Epoch 53/500\n",
            "8/8 [==============================] - 0s 9ms/step - loss: 7.5850 - mae: 1.9494 - mse: 7.5850 - val_loss: 10.6865 - val_mae: 2.4147 - val_mse: 10.6865\n",
            "Epoch 54/500\n",
            "8/8 [==============================] - 0s 8ms/step - loss: 7.5082 - mae: 1.9629 - mse: 7.5082 - val_loss: 10.2239 - val_mae: 2.4542 - val_mse: 10.2239\n",
            "Epoch 55/500\n",
            "8/8 [==============================] - 0s 8ms/step - loss: 6.4793 - mae: 1.8624 - mse: 6.4793 - val_loss: 10.3372 - val_mae: 2.4611 - val_mse: 10.3372\n",
            "Epoch 56/500\n",
            "8/8 [==============================] - 0s 7ms/step - loss: 8.0712 - mae: 1.9734 - mse: 8.0712 - val_loss: 10.2219 - val_mae: 2.4705 - val_mse: 10.2219\n",
            "Epoch 57/500\n",
            "8/8 [==============================] - 0s 8ms/step - loss: 8.2814 - mae: 2.0701 - mse: 8.2814 - val_loss: 10.7931 - val_mae: 2.5835 - val_mse: 10.7931\n",
            "Epoch 58/500\n",
            "8/8 [==============================] - 0s 8ms/step - loss: 8.5783 - mae: 2.0536 - mse: 8.5783 - val_loss: 10.0878 - val_mae: 2.4418 - val_mse: 10.0878\n",
            "Epoch 59/500\n",
            "8/8 [==============================] - 0s 9ms/step - loss: 6.9409 - mae: 1.8982 - mse: 6.9409 - val_loss: 10.4657 - val_mae: 2.3831 - val_mse: 10.4657\n",
            "Epoch 60/500\n",
            "8/8 [==============================] - 0s 8ms/step - loss: 8.5313 - mae: 2.0660 - mse: 8.5313 - val_loss: 10.1319 - val_mae: 2.3962 - val_mse: 10.1319\n",
            "Epoch 61/500\n",
            "8/8 [==============================] - 0s 7ms/step - loss: 6.8096 - mae: 1.8878 - mse: 6.8096 - val_loss: 10.1600 - val_mae: 2.4026 - val_mse: 10.1600\n",
            "Epoch 62/500\n",
            "8/8 [==============================] - 0s 7ms/step - loss: 7.1022 - mae: 1.8861 - mse: 7.1022 - val_loss: 10.2356 - val_mae: 2.4355 - val_mse: 10.2356\n",
            "Epoch 63/500\n",
            "8/8 [==============================] - 0s 8ms/step - loss: 7.6069 - mae: 2.0049 - mse: 7.6069 - val_loss: 10.1250 - val_mae: 2.4061 - val_mse: 10.1250\n",
            "Epoch 64/500\n",
            "8/8 [==============================] - 0s 8ms/step - loss: 8.0898 - mae: 1.9384 - mse: 8.0898 - val_loss: 9.9679 - val_mae: 2.4015 - val_mse: 9.9679\n",
            "Epoch 65/500\n",
            "8/8 [==============================] - 0s 7ms/step - loss: 6.9854 - mae: 1.8894 - mse: 6.9854 - val_loss: 10.1435 - val_mae: 2.4819 - val_mse: 10.1435\n",
            "Epoch 66/500\n",
            "8/8 [==============================] - 0s 7ms/step - loss: 7.6978 - mae: 1.9584 - mse: 7.6978 - val_loss: 10.1642 - val_mae: 2.3738 - val_mse: 10.1642\n",
            "Epoch 67/500\n",
            "8/8 [==============================] - 0s 8ms/step - loss: 6.7519 - mae: 1.9433 - mse: 6.7519 - val_loss: 10.0047 - val_mae: 2.4288 - val_mse: 10.0047\n",
            "Epoch 68/500\n",
            "8/8 [==============================] - 0s 8ms/step - loss: 6.9053 - mae: 1.8673 - mse: 6.9053 - val_loss: 10.2972 - val_mae: 2.4897 - val_mse: 10.2972\n",
            "Epoch 69/500\n",
            "8/8 [==============================] - 0s 9ms/step - loss: 7.1254 - mae: 1.8634 - mse: 7.1254 - val_loss: 10.5326 - val_mae: 2.5871 - val_mse: 10.5326\n",
            "Epoch 70/500\n",
            "8/8 [==============================] - 0s 7ms/step - loss: 8.1753 - mae: 2.0061 - mse: 8.1753 - val_loss: 10.0971 - val_mae: 2.3408 - val_mse: 10.0971\n",
            "Epoch 71/500\n",
            "8/8 [==============================] - 0s 7ms/step - loss: 7.5196 - mae: 1.9733 - mse: 7.5196 - val_loss: 10.0019 - val_mae: 2.4363 - val_mse: 10.0019\n",
            "Epoch 72/500\n",
            "8/8 [==============================] - 0s 8ms/step - loss: 7.4503 - mae: 1.8835 - mse: 7.4503 - val_loss: 9.9788 - val_mae: 2.4455 - val_mse: 9.9788\n",
            "Epoch 73/500\n",
            "8/8 [==============================] - 0s 9ms/step - loss: 6.7105 - mae: 1.8698 - mse: 6.7105 - val_loss: 9.9170 - val_mae: 2.3949 - val_mse: 9.9170\n",
            "Epoch 74/500\n",
            "8/8 [==============================] - 0s 8ms/step - loss: 7.0123 - mae: 1.8901 - mse: 7.0123 - val_loss: 9.8672 - val_mae: 2.4019 - val_mse: 9.8672\n",
            "Epoch 75/500\n",
            "8/8 [==============================] - 0s 8ms/step - loss: 7.2126 - mae: 1.9543 - mse: 7.2126 - val_loss: 9.9695 - val_mae: 2.4286 - val_mse: 9.9695\n",
            "Epoch 76/500\n",
            "8/8 [==============================] - 0s 8ms/step - loss: 7.0952 - mae: 1.8774 - mse: 7.0952 - val_loss: 9.8696 - val_mae: 2.4194 - val_mse: 9.8696\n",
            "Epoch 77/500\n",
            "8/8 [==============================] - 0s 7ms/step - loss: 6.5466 - mae: 1.7818 - mse: 6.5466 - val_loss: 9.9082 - val_mae: 2.4608 - val_mse: 9.9082\n",
            "Epoch 78/500\n",
            "8/8 [==============================] - 0s 8ms/step - loss: 7.8046 - mae: 1.9011 - mse: 7.8046 - val_loss: 9.9357 - val_mae: 2.4130 - val_mse: 9.9357\n",
            "Epoch 79/500\n",
            "8/8 [==============================] - 0s 7ms/step - loss: 6.4681 - mae: 1.8607 - mse: 6.4681 - val_loss: 10.0679 - val_mae: 2.4287 - val_mse: 10.0679\n",
            "Epoch 80/500\n",
            "8/8 [==============================] - 0s 9ms/step - loss: 7.2189 - mae: 1.8300 - mse: 7.2189 - val_loss: 9.9098 - val_mae: 2.3919 - val_mse: 9.9098\n",
            "Epoch 81/500\n",
            "8/8 [==============================] - 0s 8ms/step - loss: 6.5109 - mae: 1.8234 - mse: 6.5109 - val_loss: 10.2536 - val_mae: 2.3156 - val_mse: 10.2536\n",
            "Epoch 82/500\n",
            "8/8 [==============================] - 0s 7ms/step - loss: 6.9603 - mae: 1.8846 - mse: 6.9603 - val_loss: 9.9562 - val_mae: 2.3360 - val_mse: 9.9562\n",
            "Epoch 83/500\n",
            "8/8 [==============================] - 0s 8ms/step - loss: 6.5845 - mae: 1.7971 - mse: 6.5845 - val_loss: 9.7805 - val_mae: 2.3437 - val_mse: 9.7805\n",
            "Epoch 84/500\n",
            "8/8 [==============================] - 0s 8ms/step - loss: 7.4735 - mae: 1.9129 - mse: 7.4735 - val_loss: 9.8126 - val_mae: 2.4173 - val_mse: 9.8126\n",
            "Epoch 85/500\n",
            "8/8 [==============================] - 0s 9ms/step - loss: 5.6859 - mae: 1.6937 - mse: 5.6859 - val_loss: 9.8615 - val_mae: 2.4525 - val_mse: 9.8615\n",
            "Epoch 86/500\n",
            "8/8 [==============================] - 0s 8ms/step - loss: 7.7159 - mae: 1.8668 - mse: 7.7159 - val_loss: 10.0460 - val_mae: 2.4895 - val_mse: 10.0460\n",
            "Epoch 87/500\n",
            "8/8 [==============================] - 0s 9ms/step - loss: 6.7822 - mae: 1.7825 - mse: 6.7822 - val_loss: 10.1975 - val_mae: 2.5151 - val_mse: 10.1975\n",
            "Epoch 88/500\n",
            "8/8 [==============================] - 0s 8ms/step - loss: 6.0147 - mae: 1.6996 - mse: 6.0147 - val_loss: 9.7462 - val_mae: 2.3741 - val_mse: 9.7462\n",
            "Epoch 89/500\n",
            "8/8 [==============================] - 0s 8ms/step - loss: 6.2929 - mae: 1.7766 - mse: 6.2929 - val_loss: 9.8175 - val_mae: 2.3442 - val_mse: 9.8175\n",
            "Epoch 90/500\n",
            "8/8 [==============================] - 0s 9ms/step - loss: 6.9687 - mae: 1.8510 - mse: 6.9687 - val_loss: 10.1143 - val_mae: 2.4819 - val_mse: 10.1143\n",
            "Epoch 91/500\n",
            "8/8 [==============================] - 0s 8ms/step - loss: 7.2178 - mae: 1.8711 - mse: 7.2178 - val_loss: 9.9860 - val_mae: 2.3614 - val_mse: 9.9860\n",
            "Epoch 92/500\n",
            "8/8 [==============================] - 0s 9ms/step - loss: 5.8794 - mae: 1.7024 - mse: 5.8794 - val_loss: 10.2561 - val_mae: 2.3298 - val_mse: 10.2561\n",
            "Epoch 93/500\n",
            "8/8 [==============================] - 0s 8ms/step - loss: 6.3234 - mae: 1.8645 - mse: 6.3234 - val_loss: 10.0766 - val_mae: 2.4912 - val_mse: 10.0766\n",
            "Epoch 94/500\n",
            "8/8 [==============================] - 0s 9ms/step - loss: 6.8571 - mae: 1.7693 - mse: 6.8571 - val_loss: 9.9855 - val_mae: 2.4430 - val_mse: 9.9855\n",
            "Epoch 95/500\n",
            "8/8 [==============================] - 0s 8ms/step - loss: 6.6658 - mae: 1.8049 - mse: 6.6658 - val_loss: 9.9789 - val_mae: 2.3542 - val_mse: 9.9789\n",
            "Epoch 96/500\n",
            "8/8 [==============================] - 0s 7ms/step - loss: 6.5435 - mae: 1.7932 - mse: 6.5435 - val_loss: 9.9601 - val_mae: 2.4104 - val_mse: 9.9601\n",
            "Epoch 97/500\n",
            "8/8 [==============================] - 0s 8ms/step - loss: 5.2754 - mae: 1.6382 - mse: 5.2754 - val_loss: 10.2618 - val_mae: 2.3881 - val_mse: 10.2618\n",
            "Epoch 98/500\n",
            "8/8 [==============================] - 0s 8ms/step - loss: 6.2696 - mae: 1.7689 - mse: 6.2696 - val_loss: 10.0506 - val_mae: 2.3891 - val_mse: 10.0506\n"
          ],
          "name": "stdout"
        }
      ]
    },
    {
      "cell_type": "markdown",
      "metadata": {
        "id": "7wlAWMT9kCn0"
      },
      "source": [
        "- After applying regularization, now again plot the Number of epochs vs/ training and validation loss:"
      ]
    },
    {
      "cell_type": "code",
      "metadata": {
        "colab": {
          "base_uri": "https://localhost:8080/",
          "height": 549
        },
        "id": "pGj6toVLipw4",
        "outputId": "30eeeeda-4ee6-422c-d846-552c208427f6"
      },
      "source": [
        "plot_history(history)"
      ],
      "execution_count": 21,
      "outputs": [
        {
          "output_type": "display_data",
          "data": {
            "image/png": "[encoded data removed]",
            "text/plain": [
              "<Figure size 432x288 with 1 Axes>"
            ]
          },
          "metadata": {
            "tags": [],
            "needs_background": "light"
          }
        },
        {
          "output_type": "display_data",
          "data": {
            "image/png": "[encoded data removed]",
            "text/plain": [
              "<Figure size 432x288 with 1 Axes>"
            ]
          },
          "metadata": {
            "tags": [],
            "needs_background": "light"
          }
        }
      ]
    },
    {
      "cell_type": "markdown",
      "metadata": {
        "id": "iEb7TjRflFOW"
      },
      "source": [
        "**Prediction and Evaluation of the model:**"
      ]
    },
    {
      "cell_type": "code",
      "metadata": {
        "colab": {
          "base_uri": "https://localhost:8080/",
          "height": 0
        },
        "id": "t4Ktbsc6jvn8",
        "outputId": "306de8ba-2c29-4cbd-9332-58c71c7ff43d"
      },
      "source": [
        "mse = model.evaluate(normed_test_data, test_labels, verbose=0)\n",
        "print('Testing set Mean Squared Error:',mse)"
      ],
      "execution_count": 30,
      "outputs": [
        {
          "output_type": "stream",
          "text": [
            "Testing set Mean Squared Error: [7.24523401260376, 2.0917744636535645, 7.24523401260376]\n"
          ],
          "name": "stdout"
        }
      ]
    },
    {
      "cell_type": "markdown",
      "metadata": {
        "id": "GkUW6hvuldmm"
      },
      "source": [
        "- Predictions:"
      ]
    },
    {
      "cell_type": "code",
      "metadata": {
        "id": "GsK4ZZEFlVqA"
      },
      "source": [
        "#storing the predictions for both test set and train set\n",
        "test_pred =  model.predict(normed_test_data).flatten()\n",
        "train_pred = model.predict(normed_train_data).flatten()"
      ],
      "execution_count": 23,
      "outputs": []
    },
    {
      "cell_type": "code",
      "metadata": {
        "colab": {
          "base_uri": "https://localhost:8080/",
          "height": 0
        },
        "id": "5CAoJK8dmb-M",
        "outputId": "e6bc69db-9f17-4af5-fc74-7617241ed7aa"
      },
      "source": [
        "#Computing R-Squares value for both test and train set\n",
        "import numpy as np\n",
        "from sklearn.metrics import r2_score\n",
        "\n",
        "#R2 for test set:\n",
        "print('Test set R-Squared is:', r2_score(test_labels, test_pred))\n",
        "\n",
        "#R2 for train set:\n",
        "print('Train set R-Squared is:', r2_score(train_labels, train_pred))"
      ],
      "execution_count": 28,
      "outputs": [
        {
          "output_type": "stream",
          "text": [
            "Test set R-Squared is: 0.8890583561170905\n",
            "Train set R-Squared is: 0.8805463520177235\n"
          ],
          "name": "stdout"
        }
      ]
    },
    {
      "cell_type": "code",
      "metadata": {
        "colab": {
          "base_uri": "https://localhost:8080/",
          "height": 0
        },
        "id": "3PR8h6y3vhIz",
        "outputId": "fbbc1817-f74b-488e-f20f-81387e583387"
      },
      "source": [
        "#'mean_squared_error' and 'mean_absolute_error' check on both test and train set:\n",
        "from sklearn.metrics import mean_squared_error, mean_absolute_error\n",
        "\n",
        "#test set:\n",
        "print('Test set mse:', mean_squared_error(test_labels, test_pred))\n",
        "print('Test set mae:', mean_absolute_error(test_labels, test_pred))\n",
        "print()\n",
        "\n",
        "#train set:\n",
        "print('Train set mse:', mean_squared_error(train_labels, train_pred))\n",
        "print('Train set mae:', mean_absolute_error(train_labels, train_pred))"
      ],
      "execution_count": 33,
      "outputs": [
        {
          "output_type": "stream",
          "text": [
            "Test set mse: 7.245234244658631\n",
            "Test set mae: 2.091774478325477\n",
            "\n",
            "Train set mse: 7.112489066756949\n",
            "Train set mae: 1.9056053708313376\n"
          ],
          "name": "stdout"
        }
      ]
    },
    {
      "cell_type": "markdown",
      "metadata": {
        "id": "t-90DbDjmx2A"
      },
      "source": [
        "**Graph of actual values v/s predicted values:**"
      ]
    },
    {
      "cell_type": "code",
      "metadata": {
        "colab": {
          "base_uri": "https://localhost:8080/",
          "height": 279
        },
        "id": "RwU-btMkltCc",
        "outputId": "a45471a6-f120-47d5-e298-6413bd11b75e"
      },
      "source": [
        "#Plotting actual v/s predicted values\n",
        "plt.scatter(test_labels, test_pred)\n",
        "plt.xlabel('Actual values MPG')\n",
        "plt.ylabel('Predicted values MPG')\n",
        "plt.axis('equal')\n",
        "plt.axis('square')\n",
        "plt.xlim([0, plt.xlim()[1]])\n",
        "plt.xlim([0, plt.ylim()[1]])\n",
        "plt.plot([-100,100],[-100,100],color='red')\n",
        "plt.show()"
      ],
      "execution_count": 27,
      "outputs": [
        {
          "output_type": "display_data",
          "data": {
            "image/png": "[encoded data removed]",
            "text/plain": [
              "<Figure size 432x288 with 1 Axes>"
            ]
          },
          "metadata": {
            "tags": [],
            "needs_background": "light"
          }
        }
      ]
    },
    {
      "cell_type": "code",
      "metadata": {
        "id": "y14PXe-vl-qj"
      },
      "source": [
        ""
      ],
      "execution_count": null,
      "outputs": []
    }
  ]
}