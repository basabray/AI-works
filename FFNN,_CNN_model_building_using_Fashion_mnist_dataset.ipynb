{
  "nbformat": 4,
  "nbformat_minor": 0,
  "metadata": {
    "colab": {
      "name": "FFNN, CNN model building using Fashion mnist dataset.ipynb",
      "provenance": [],
      "collapsed_sections": [],
      "authorship_tag": "ABX9TyOUT+wRxxX3jXr3Y3cl5awH",
      "include_colab_link": true
    },
    "kernelspec": {
      "name": "python3",
      "display_name": "Python 3"
    },
    "language_info": {
      "name": "python"
    }
  },
  "cells": [
    {
      "cell_type": "markdown",
      "metadata": {
        "id": "view-in-github",
        "colab_type": "text"
      },
      "source": [
        "<a href=\"https://colab.research.google.com/github/bray2020/AI-works/blob/main/FFNN%2C_CNN_model_building_using_Fashion_mnist_dataset.ipynb\" target=\"_parent\"><img src=\"https://colab.research.google.com/assets/colab-badge.svg\" alt=\"Open In Colab\"/></a>"
      ]
    },
    {
      "cell_type": "markdown",
      "metadata": {
        "id": "ujE8qhzpDCl4"
      },
      "source": [
        "## FFNN, CNN Model building with Fashion mnist dataset"
      ]
    },
    {
      "cell_type": "markdown",
      "metadata": {
        "id": "-n3hMhjTDYd5"
      },
      "source": [
        "### Import necessary librarries:"
      ]
    },
    {
      "cell_type": "code",
      "metadata": {
        "id": "2_FTb_K8DPU2"
      },
      "source": [
        "import tensorflow as tf\n",
        "import numpy as np\n",
        "from   tensorflow import keras\n",
        "from tensorflow.keras import layers\n",
        "import matplotlib.pyplot as plt\n",
        "import seaborn as sns"
      ],
      "execution_count": null,
      "outputs": []
    },
    {
      "cell_type": "markdown",
      "metadata": {
        "id": "KYtQCy15DkQV"
      },
      "source": [
        "### Load the data:"
      ]
    },
    {
      "cell_type": "code",
      "metadata": {
        "id": "IUGtTOFIDgYb"
      },
      "source": [
        "data = tf.keras.datasets.fashion_mnist\n",
        "(trainX, trainY) , (testX, testY) = data.load_data()"
      ],
      "execution_count": null,
      "outputs": []
    },
    {
      "cell_type": "code",
      "metadata": {
        "colab": {
          "base_uri": "https://localhost:8080/"
        },
        "id": "HrTLmT2hD_vc",
        "outputId": "2c36e7dc-60ba-459c-e52d-d089a1fcc04b"
      },
      "source": [
        "#check the shape and dimensions:\n",
        "print(trainX.shape)\n",
        "print(testX.shape)\n",
        "print(trainX.ndim)\n",
        "print(testX.ndim)"
      ],
      "execution_count": null,
      "outputs": [
        {
          "output_type": "stream",
          "text": [
            "(60000, 28, 28)\n",
            "(10000, 28, 28)\n",
            "3\n",
            "3\n"
          ],
          "name": "stdout"
        }
      ]
    },
    {
      "cell_type": "code",
      "metadata": {
        "colab": {
          "base_uri": "https://localhost:8080/"
        },
        "id": "owIpoo38FdYH",
        "outputId": "bfda114e-1008-4350-a830-615051f7ccc4"
      },
      "source": [
        "#check the output data:\n",
        "print(trainY[3])"
      ],
      "execution_count": null,
      "outputs": [
        {
          "output_type": "stream",
          "text": [
            "3\n"
          ],
          "name": "stdout"
        }
      ]
    },
    {
      "cell_type": "markdown",
      "metadata": {
        "id": "1r8IknJKEMX4"
      },
      "source": [
        "### Visualize the data in train and test set:"
      ]
    },
    {
      "cell_type": "code",
      "metadata": {
        "colab": {
          "base_uri": "https://localhost:8080/"
        },
        "id": "EiJflFTGEDKA",
        "outputId": "f0213b16-345f-459a-f44d-0ce22f7deb7d"
      },
      "source": [
        "#Display the pixel values of the 10th record or image of the train set:\n",
        "np.set_printoptions(linewidth=200)\n",
        "trainX[10]"
      ],
      "execution_count": null,
      "outputs": [
        {
          "output_type": "execute_result",
          "data": {
            "text/plain": [
              "array([[  0,   0,   0,   0,   0,   0,   0,  11, 142, 200, 106,   0,   0,   0,   0,   0,   0,   0,  85, 185, 112,   0,   0,   0,   0,   0,   0,   0],\n",
              "       [  0,   0,   0,   0,   0,   0, 152, 214, 217, 194, 236, 216, 187, 149, 135, 153, 211, 217, 231, 205, 217, 188,  34,   0,   0,   0,   0,   0],\n",
              "       [  0,   0,   0,   0,   0,  66, 185, 166, 180, 181, 190, 211, 221, 197, 146, 198, 206, 191, 168, 190, 172, 188, 175,   0,   0,   0,   0,   0],\n",
              "       [  0,   0,   0,   0,   0, 135, 153, 160, 175, 180, 170, 186, 187, 190, 188, 190, 187, 174, 195, 185, 174, 161, 175,  59,   0,   0,   0,   0],\n",
              "       [  0,   0,   0,   0,   0, 161, 147, 160, 170, 178, 177, 180, 168, 173, 174, 171, 185, 184, 185, 172, 171, 164, 174, 120,   0,   0,   0,   0],\n",
              "       [  0,   0,   0,   0,   2, 175, 146, 145, 168, 178, 181, 185, 180, 184, 178, 179, 187, 191, 193, 190, 181, 171, 172, 158,   0,   0,   0,   0],\n",
              "       [  0,   0,   0,   0,  35, 177, 155, 140, 151, 172, 191, 187, 186, 187, 186, 187, 182, 191, 194, 188, 180, 161, 161, 185,   0,   0,   0,   0],\n",
              "       [  0,   0,   0,   0,  59, 170, 153, 141, 120, 154, 160, 161, 172, 168, 166, 161, 165, 172, 170, 164, 139, 149, 162, 166,  21,   0,   0,   0],\n",
              "       [  0,   0,   0,   0,  79, 145, 160, 214, 123, 128, 153, 160, 164, 158, 157, 154, 155, 170, 165, 141, 195, 193, 152, 166,  61,   0,   0,   0],\n",
              "       [  0,   0,   0,   0, 100, 157, 225, 245, 175, 113, 174, 158, 158, 160, 155, 160, 164, 178, 188, 135, 185, 240, 201, 172, 108,   0,   0,   0],\n",
              "       [  0,   0,   0,   0,   0,  31, 174,  28, 126, 153, 166, 152, 158, 158, 160, 161, 157, 168, 191, 188,  18, 132, 159,   7,   0,   0,   0,   0],\n",
              "       [  0,   0,   0,   0,   0,   0,   0,   0,  82, 187, 159, 153, 157, 158, 162, 164, 164, 154, 187, 190,   0,   0,   0,   0,   0,   0,   0,   0],\n",
              "       [  0,   0,   0,   0,   1,   3,   5,   0,  37, 175, 158, 155, 162, 158, 160, 162, 165, 153, 177, 205,   0,   0,   3,   3,   0,   0,   0,   0],\n",
              "       [  0,   0,   0,   0,   0,   0,   1,   0,  25, 175, 152, 160, 158, 161, 160, 164, 164, 161, 166, 200,   0,   0,   1,   0,   0,   0,   0,   0],\n",
              "       [  0,   0,   0,   0,   0,   0,   4,   0,  30, 171, 147, 164, 155, 165, 161, 165, 162, 170, 164, 162,   0,   0,   2,   0,   0,   0,   0,   0],\n",
              "       [  0,   0,   0,   0,   0,   0,   4,   0,  57, 166, 155, 164, 166, 161, 161, 164, 167, 165, 165, 162,  28,   0,   3,   0,   0,   0,   0,   0],\n",
              "       [  0,   0,   0,   0,   0,   0,   3,   0, 114, 161, 161, 166, 159, 168, 161, 161, 172, 162, 165, 171,  50,   0,   5,   0,   0,   0,   0,   0],\n",
              "       [  0,   0,   0,   0,   0,   0,   1,   0, 149, 157, 167, 172, 159, 172, 164, 161, 172, 170, 160, 171,  89,   0,   4,   0,   0,   0,   0,   0],\n",
              "       [  0,   0,   0,   0,   0,   2,   0,   4, 171, 164, 166, 173, 159, 179, 166, 160, 174, 167, 162, 166, 128,   0,   2,   0,   0,   0,   0,   0],\n",
              "       [  0,   0,   0,   0,   0,   3,   0,  18, 152, 173, 160, 179, 154, 181, 166, 164, 175, 170, 166, 170, 164,   0,   0,   1,   0,   0,   0,   0],\n",
              "       [  0,   0,   0,   0,   0,   4,   0,  47, 165, 172, 167, 185, 153, 187, 173, 165, 174, 179, 166, 166, 158,   5,   0,   3,   0,   0,   0,   0],\n",
              "       [  0,   0,   0,   0,   0,   4,   0,  87, 180, 162, 179, 179, 157, 191, 182, 165, 168, 190, 173, 165, 166,  20,   0,   4,   0,   0,   0,   0],\n",
              "       [  0,   0,   0,   0,   0,   4,   0, 105, 187, 157, 194, 175, 161, 190, 184, 170, 158, 205, 177, 168, 171,  44,   0,   4,   0,   0,   0,   0],\n",
              "       [  0,   0,   0,   0,   0,   5,   0, 138, 181, 158, 205, 160, 167, 190, 198, 167, 152, 218, 186, 170, 172,  57,   0,   5,   0,   0,   0,   0],\n",
              "       [  0,   0,   0,   0,   0,   5,   0, 135, 174, 167, 199, 155, 166, 201, 219, 165, 158, 218, 188, 167, 175,  56,   0,   7,   0,   0,   0,   0],\n",
              "       [  0,   0,   0,   0,   0,   5,   0, 129, 171, 172, 177, 153, 159, 206, 216, 148, 157, 206, 190, 165, 175,  48,   0,   5,   0,   0,   0,   0],\n",
              "       [  0,   0,   0,   0,   0,   5,   0, 167, 187, 182, 198, 194, 200, 226, 240, 184, 206, 255, 197, 178, 179,  42,   0,   5,   0,   0,   0,   0],\n",
              "       [  0,   0,   0,   0,   0,   3,   0, 115, 135, 113, 106,  85,  82, 108, 133,  83,  90, 121, 120, 110, 158,  18,   0,   3,   0,   0,   0,   0]], dtype=uint8)"
            ]
          },
          "metadata": {
            "tags": []
          },
          "execution_count": 5
        }
      ]
    },
    {
      "cell_type": "code",
      "metadata": {
        "colab": {
          "base_uri": "https://localhost:8080/",
          "height": 281
        },
        "id": "q_e3yKdBEYHv",
        "outputId": "d0139bb2-4a3b-48ef-8ef8-16509773a56e"
      },
      "source": [
        "#Display the 10th image:\n",
        "plt.imshow(trainX[10])"
      ],
      "execution_count": null,
      "outputs": [
        {
          "output_type": "execute_result",
          "data": {
            "text/plain": [
              "<matplotlib.image.AxesImage at 0x7f368438af50>"
            ]
          },
          "metadata": {
            "tags": []
          },
          "execution_count": 6
        },
        {
          "output_type": "display_data",
          "data": {
            "image/png": "[encoded data removed]",
            "text/plain": [
              "<Figure size 432x288 with 1 Axes>"
            ]
          },
          "metadata": {
            "tags": [],
            "needs_background": "light"
          }
        }
      ]
    },
    {
      "cell_type": "code",
      "metadata": {
        "colab": {
          "base_uri": "https://localhost:8080/"
        },
        "id": "TJ6pjB-eEcs1",
        "outputId": "f255c6ff-4fd9-49d2-8062-21f27651f8ff"
      },
      "source": [
        "#Let's check the output label of the 10th image:\n",
        "trainY[10]"
      ],
      "execution_count": null,
      "outputs": [
        {
          "output_type": "execute_result",
          "data": {
            "text/plain": [
              "0"
            ]
          },
          "metadata": {
            "tags": []
          },
          "execution_count": 7
        }
      ]
    },
    {
      "cell_type": "markdown",
      "metadata": {
        "id": "WDl0FAeGEvbk"
      },
      "source": [
        "- So, the 10th image is classified as label '0' "
      ]
    },
    {
      "cell_type": "code",
      "metadata": {
        "colab": {
          "base_uri": "https://localhost:8080/",
          "height": 281
        },
        "id": "xx6RQ8TFEq5z",
        "outputId": "85423a14-4a43-4c7d-fa25-386fac3dad7f"
      },
      "source": [
        "#Now Display the 12th image of the test set:\n",
        "plt.imshow(testX[12])"
      ],
      "execution_count": null,
      "outputs": [
        {
          "output_type": "execute_result",
          "data": {
            "text/plain": [
              "<matplotlib.image.AxesImage at 0x7f3683e71fd0>"
            ]
          },
          "metadata": {
            "tags": []
          },
          "execution_count": 8
        },
        {
          "output_type": "display_data",
          "data": {
            "image/png": "[encoded data removed]",
            "text/plain": [
              "<Figure size 432x288 with 1 Axes>"
            ]
          },
          "metadata": {
            "tags": [],
            "needs_background": "light"
          }
        }
      ]
    },
    {
      "cell_type": "code",
      "metadata": {
        "colab": {
          "base_uri": "https://localhost:8080/"
        },
        "id": "Bn5j4bHqFJ0k",
        "outputId": "bf5c4e66-bac1-41cf-8eac-b3374a87f573"
      },
      "source": [
        "#let's check the output label of the 12th image:\n",
        "testY[12]"
      ],
      "execution_count": null,
      "outputs": [
        {
          "output_type": "execute_result",
          "data": {
            "text/plain": [
              "7"
            ]
          },
          "metadata": {
            "tags": []
          },
          "execution_count": 9
        }
      ]
    },
    {
      "cell_type": "markdown",
      "metadata": {
        "id": "D1b7XOe9FzmP"
      },
      "source": [
        "- So, the 12th image of the test set looks like an image of show and it is classified as label '7'"
      ]
    },
    {
      "cell_type": "markdown",
      "metadata": {
        "id": "k8X1gyEIHHFu"
      },
      "source": [
        "Converting the traget into multiple labels:\n",
        "- Will apply one-hot encoding on the target variable\n",
        "- It will help in locating the digit in an array , as our result will be an array of possibilities"
      ]
    },
    {
      "cell_type": "code",
      "metadata": {
        "id": "Tkhyqw3tFWp3"
      },
      "source": [
        "trainY = tf.keras.utils.to_categorical(trainY, num_classes=10)\n",
        "testY = tf.keras.utils.to_categorical(testY, num_classes=10)"
      ],
      "execution_count": null,
      "outputs": []
    },
    {
      "cell_type": "code",
      "metadata": {
        "colab": {
          "base_uri": "https://localhost:8080/"
        },
        "id": "icf0PZdAHFk2",
        "outputId": "53d4e33e-dc50-44c3-bd0e-d8cb4b192047"
      },
      "source": [
        "#check the output data now:\n",
        "print(trainY[8])\n",
        "print(testY[65]) "
      ],
      "execution_count": null,
      "outputs": [
        {
          "output_type": "stream",
          "text": [
            "[0. 0. 0. 0. 0. 1. 0. 0. 0. 0.]\n",
            "[0. 1. 0. 0. 0. 0. 0. 0. 0. 0.]\n"
          ],
          "name": "stdout"
        }
      ]
    },
    {
      "cell_type": "markdown",
      "metadata": {
        "id": "RIrUfZKBHmVP"
      },
      "source": [
        "### Model building:"
      ]
    },
    {
      "cell_type": "code",
      "metadata": {
        "id": "5dF5n71zHadX"
      },
      "source": [
        "#To remove any deafult MLP/graph, if any present at all\n",
        "tf.keras.backend.clear_session()                                     \n",
        "\n",
        "#initialize the sequsential model\n",
        "model = tf.keras.models.Sequential()                                \n",
        "\n",
        "#reshape the data from 2D to 1D ->(28X28) to (784,)\n",
        "model.add(tf.keras.layers.Reshape((784,), input_shape=(28,28,)))\n",
        "\n",
        "#applying min-max normalization on the input data (train and test both)\n",
        "trainX, testX = trainX/255.0, testX/255.0                           \n",
        "\n",
        "#added 3 hidden layers\n",
        "model.add(tf.keras.layers.Dense(128, activation='relu'))        #add 1st hidden layer with 128 neurons, activation 'relu'\n",
        "model.add(tf.keras.layers.Dense(128, activation='relu'))        #add 2nd hidden layer with 128 neurons, activation 'relu'\n",
        "model.add(tf.keras.layers.Dense(128, activation='relu'))        #add 3rd hidden layer with 128 neurons, activation 'relu'\n",
        "model.add(tf.keras.layers.Dense(128, activation='relu'))        #add 4th hidden layer with 128 neurons, activation 'relu'\n",
        "model.add(tf.keras.layers.Dense(256, activation='relu'))        #add 5th hidden layer with 256 neurons, activation 'relu' \n",
        "model.add(tf.keras.layers.Dense(10, activation='softmax'))      #output layer for 10 target labels, activation softmax used for multi-label classification"
      ],
      "execution_count": null,
      "outputs": []
    },
    {
      "cell_type": "code",
      "metadata": {
        "colab": {
          "base_uri": "https://localhost:8080/"
        },
        "id": "o7v64CmGHk59",
        "outputId": "d13f8951-eec0-4736-8917-37b52e5c944d"
      },
      "source": [
        "#display the model summary, trainable parameters etc:\n",
        "model.summary()"
      ],
      "execution_count": null,
      "outputs": [
        {
          "output_type": "stream",
          "text": [
            "Model: \"sequential\"\n",
            "_________________________________________________________________\n",
            "Layer (type)                 Output Shape              Param #   \n",
            "=================================================================\n",
            "reshape (Reshape)            (None, 784)               0         \n",
            "_________________________________________________________________\n",
            "dense (Dense)                (None, 128)               100480    \n",
            "_________________________________________________________________\n",
            "dense_1 (Dense)              (None, 128)               16512     \n",
            "_________________________________________________________________\n",
            "dense_2 (Dense)              (None, 128)               16512     \n",
            "_________________________________________________________________\n",
            "dense_3 (Dense)              (None, 128)               16512     \n",
            "_________________________________________________________________\n",
            "dense_4 (Dense)              (None, 256)               33024     \n",
            "_________________________________________________________________\n",
            "dense_5 (Dense)              (None, 10)                2570      \n",
            "=================================================================\n",
            "Total params: 185,610\n",
            "Trainable params: 185,610\n",
            "Non-trainable params: 0\n",
            "_________________________________________________________________\n"
          ],
          "name": "stdout"
        }
      ]
    },
    {
      "cell_type": "markdown",
      "metadata": {
        "id": "n6-TSsAsJBIo"
      },
      "source": [
        "**Explanation on number of trainable/non-trainable parameters:**\n",
        "- 1st is the Input layer, so no trainable parameters present here\n",
        "- 1st hidden layer calculation: 784x128+128 = 100480\n",
        "- 2nd hidden layer calculation: 128x128+128 = 16512\n",
        "- 3rd hidden layer calculation: 128x128+128 = 16512\n",
        "- 4th hidden layer calculation: 128x128+128 = 16512\n",
        "- 5th hidden layer calculation: 128x256+256 = 33024\n",
        "- final output layer calculation: 256x10+10 = 2570\n",
        "- Total traiable parameters, (100480+ 16512+ 16512+ 16512+ 33024+ 2570) = 185,610\n",
        "- There is no non-trainable parameters present"
      ]
    },
    {
      "cell_type": "markdown",
      "metadata": {
        "id": "sl3ca78MKjFe"
      },
      "source": [
        "### Compile and train the Model:"
      ]
    },
    {
      "cell_type": "code",
      "metadata": {
        "id": "0n1zE9VNI_Kr"
      },
      "source": [
        "#SGD is used.  as the optimizer here with learning rate 0.03\n",
        "sgd_optimizer = tf.keras.optimizers.SGD(learning_rate=0.03)  \n",
        "#Optimizer = 'adam'\n",
        "\n",
        "#loss function used is 'categorical_crossentropy', as the target variable is represented in one-hot encoded manner. \n",
        "#For this classification problem accuracy has been used as the evaluation metric \n",
        "model.compile(optimizer=sgd_optimizer, loss='categorical_crossentropy', metrics=['accuracy'])  "
      ],
      "execution_count": null,
      "outputs": []
    },
    {
      "cell_type": "markdown",
      "metadata": {
        "id": "YZIv5ghmVsZ_"
      },
      "source": [
        "- Using callbacks to control training : We want to stop the training after reaching certain accuracy value, 90% here."
      ]
    },
    {
      "cell_type": "code",
      "metadata": {
        "id": "DQm4NB37VXQD"
      },
      "source": [
        "class myCallback(tf.keras.callbacks.Callback):\n",
        "  def on_epoch_end(self, epoch, logs={}):\n",
        "    if(logs.get('val_accuracy')>0.90):\n",
        "      print('\\nReached 97% Validation Accuracy, so cancelling model training')\n",
        "      self.model.stop_training = True\n",
        "callbacks = myCallback()"
      ],
      "execution_count": null,
      "outputs": []
    },
    {
      "cell_type": "code",
      "metadata": {
        "colab": {
          "base_uri": "https://localhost:8080/"
        },
        "id": "qAk9KxOGNqqZ",
        "outputId": "94b15818-e19e-463c-a488-29dcd548aed5"
      },
      "source": [
        "#train the model and save the model run history: \n",
        "#validation set taken as 10%\n",
        "#no of epochs = 30\n",
        "#Instead of giving the enitire data we are considering small batches of 32 data points. So, there will be total 60000/32 or 1875 iterations in eack epoch.\n",
        "history = model.fit(trainX, trainY, validation_split=0.1, epochs=100, batch_size=32, callbacks=[callbacks])"
      ],
      "execution_count": null,
      "outputs": [
        {
          "output_type": "stream",
          "text": [
            "Epoch 1/100\n",
            "1688/1688 [==============================] - 5s 3ms/step - loss: 0.6827 - accuracy: 0.7545 - val_loss: 0.5163 - val_accuracy: 0.8168\n",
            "Epoch 2/100\n",
            "1688/1688 [==============================] - 4s 3ms/step - loss: 0.4306 - accuracy: 0.8436 - val_loss: 0.5289 - val_accuracy: 0.7833\n",
            "Epoch 3/100\n",
            "1688/1688 [==============================] - 4s 3ms/step - loss: 0.3801 - accuracy: 0.8600 - val_loss: 0.4067 - val_accuracy: 0.8543\n",
            "Epoch 4/100\n",
            "1688/1688 [==============================] - 4s 3ms/step - loss: 0.3515 - accuracy: 0.8704 - val_loss: 0.3562 - val_accuracy: 0.8670\n",
            "Epoch 5/100\n",
            "1688/1688 [==============================] - 4s 3ms/step - loss: 0.3297 - accuracy: 0.8785 - val_loss: 0.3716 - val_accuracy: 0.8610\n",
            "Epoch 6/100\n",
            "1688/1688 [==============================] - 4s 3ms/step - loss: 0.3124 - accuracy: 0.8837 - val_loss: 0.3367 - val_accuracy: 0.8778\n",
            "Epoch 7/100\n",
            "1688/1688 [==============================] - 5s 3ms/step - loss: 0.2999 - accuracy: 0.8884 - val_loss: 0.3538 - val_accuracy: 0.8720\n",
            "Epoch 8/100\n",
            "1688/1688 [==============================] - 4s 3ms/step - loss: 0.2892 - accuracy: 0.8917 - val_loss: 0.3419 - val_accuracy: 0.8725\n",
            "Epoch 9/100\n",
            "1688/1688 [==============================] - 4s 3ms/step - loss: 0.2764 - accuracy: 0.8968 - val_loss: 0.3232 - val_accuracy: 0.8845\n",
            "Epoch 10/100\n",
            "1688/1688 [==============================] - 4s 3ms/step - loss: 0.2678 - accuracy: 0.8992 - val_loss: 0.3448 - val_accuracy: 0.8712\n",
            "Epoch 11/100\n",
            "1688/1688 [==============================] - 4s 3ms/step - loss: 0.2579 - accuracy: 0.9040 - val_loss: 0.3587 - val_accuracy: 0.8707\n",
            "Epoch 12/100\n",
            "1688/1688 [==============================] - 4s 3ms/step - loss: 0.2520 - accuracy: 0.9050 - val_loss: 0.3851 - val_accuracy: 0.8653\n",
            "Epoch 13/100\n",
            "1688/1688 [==============================] - 4s 3ms/step - loss: 0.2406 - accuracy: 0.9085 - val_loss: 0.3360 - val_accuracy: 0.8842\n",
            "Epoch 14/100\n",
            "1688/1688 [==============================] - 5s 3ms/step - loss: 0.2353 - accuracy: 0.9110 - val_loss: 0.3438 - val_accuracy: 0.8785\n",
            "Epoch 15/100\n",
            "1688/1688 [==============================] - 4s 3ms/step - loss: 0.2288 - accuracy: 0.9127 - val_loss: 0.3143 - val_accuracy: 0.8858\n",
            "Epoch 16/100\n",
            "1688/1688 [==============================] - 4s 3ms/step - loss: 0.2234 - accuracy: 0.9142 - val_loss: 0.3633 - val_accuracy: 0.8730\n",
            "Epoch 17/100\n",
            "1688/1688 [==============================] - 5s 3ms/step - loss: 0.2154 - accuracy: 0.9193 - val_loss: 0.3617 - val_accuracy: 0.8690\n",
            "Epoch 18/100\n",
            "1688/1688 [==============================] - 4s 3ms/step - loss: 0.2133 - accuracy: 0.9192 - val_loss: 0.3233 - val_accuracy: 0.8865\n",
            "Epoch 19/100\n",
            "1688/1688 [==============================] - 4s 3ms/step - loss: 0.2057 - accuracy: 0.9208 - val_loss: 0.3355 - val_accuracy: 0.8848\n",
            "Epoch 20/100\n",
            "1688/1688 [==============================] - 4s 3ms/step - loss: 0.2014 - accuracy: 0.9240 - val_loss: 0.3273 - val_accuracy: 0.8907\n",
            "Epoch 21/100\n",
            "1688/1688 [==============================] - 4s 3ms/step - loss: 0.1964 - accuracy: 0.9259 - val_loss: 0.3485 - val_accuracy: 0.8855\n",
            "Epoch 22/100\n",
            "1688/1688 [==============================] - 4s 3ms/step - loss: 0.1923 - accuracy: 0.9271 - val_loss: 0.3318 - val_accuracy: 0.8833\n",
            "Epoch 23/100\n",
            "1688/1688 [==============================] - 4s 3ms/step - loss: 0.1882 - accuracy: 0.9277 - val_loss: 0.3582 - val_accuracy: 0.8795\n",
            "Epoch 24/100\n",
            "1688/1688 [==============================] - 4s 3ms/step - loss: 0.1817 - accuracy: 0.9305 - val_loss: 0.3472 - val_accuracy: 0.8857\n",
            "Epoch 25/100\n",
            "1688/1688 [==============================] - 5s 3ms/step - loss: 0.1792 - accuracy: 0.9325 - val_loss: 0.3396 - val_accuracy: 0.8895\n",
            "Epoch 26/100\n",
            "1688/1688 [==============================] - 4s 3ms/step - loss: 0.1758 - accuracy: 0.9342 - val_loss: 0.3692 - val_accuracy: 0.8825\n",
            "Epoch 27/100\n",
            "1688/1688 [==============================] - 5s 3ms/step - loss: 0.1724 - accuracy: 0.9346 - val_loss: 0.3708 - val_accuracy: 0.8803\n",
            "Epoch 28/100\n",
            "1688/1688 [==============================] - 5s 3ms/step - loss: 0.1664 - accuracy: 0.9359 - val_loss: 0.3420 - val_accuracy: 0.8932\n",
            "Epoch 29/100\n",
            "1688/1688 [==============================] - 4s 3ms/step - loss: 0.1617 - accuracy: 0.9388 - val_loss: 0.3607 - val_accuracy: 0.8863\n",
            "Epoch 30/100\n",
            "1688/1688 [==============================] - 4s 3ms/step - loss: 0.1607 - accuracy: 0.9386 - val_loss: 0.4031 - val_accuracy: 0.8792\n",
            "Epoch 31/100\n",
            "1688/1688 [==============================] - 4s 3ms/step - loss: 0.1536 - accuracy: 0.9414 - val_loss: 0.3743 - val_accuracy: 0.8827\n",
            "Epoch 32/100\n",
            "1688/1688 [==============================] - 4s 3ms/step - loss: 0.1512 - accuracy: 0.9419 - val_loss: 0.3660 - val_accuracy: 0.8793\n",
            "Epoch 33/100\n",
            "1688/1688 [==============================] - 4s 3ms/step - loss: 0.1460 - accuracy: 0.9435 - val_loss: 0.4167 - val_accuracy: 0.8833\n",
            "Epoch 34/100\n",
            "1688/1688 [==============================] - 5s 3ms/step - loss: 0.1455 - accuracy: 0.9449 - val_loss: 0.3840 - val_accuracy: 0.8848\n",
            "Epoch 35/100\n",
            "1688/1688 [==============================] - 4s 3ms/step - loss: 0.1443 - accuracy: 0.9451 - val_loss: 0.4232 - val_accuracy: 0.8750\n",
            "Epoch 36/100\n",
            "1688/1688 [==============================] - 4s 3ms/step - loss: 0.1418 - accuracy: 0.9458 - val_loss: 0.3929 - val_accuracy: 0.8895\n",
            "Epoch 37/100\n",
            "1688/1688 [==============================] - 4s 3ms/step - loss: 0.1364 - accuracy: 0.9474 - val_loss: 0.3771 - val_accuracy: 0.8872\n",
            "Epoch 38/100\n",
            "1688/1688 [==============================] - 4s 3ms/step - loss: 0.1342 - accuracy: 0.9481 - val_loss: 0.3902 - val_accuracy: 0.8847\n",
            "Epoch 39/100\n",
            "1688/1688 [==============================] - 4s 3ms/step - loss: 0.1286 - accuracy: 0.9506 - val_loss: 0.3989 - val_accuracy: 0.8833\n",
            "Epoch 40/100\n",
            "1688/1688 [==============================] - 4s 3ms/step - loss: 0.1271 - accuracy: 0.9521 - val_loss: 0.4300 - val_accuracy: 0.8810\n",
            "Epoch 41/100\n",
            "1688/1688 [==============================] - 4s 3ms/step - loss: 0.1239 - accuracy: 0.9512 - val_loss: 0.3963 - val_accuracy: 0.8838\n",
            "Epoch 42/100\n",
            "1688/1688 [==============================] - 4s 3ms/step - loss: 0.1203 - accuracy: 0.9532 - val_loss: 0.4199 - val_accuracy: 0.8855\n",
            "Epoch 43/100\n",
            "1688/1688 [==============================] - 4s 3ms/step - loss: 0.1190 - accuracy: 0.9540 - val_loss: 0.4390 - val_accuracy: 0.8902\n",
            "Epoch 44/100\n",
            "1688/1688 [==============================] - 5s 3ms/step - loss: 0.1204 - accuracy: 0.9538 - val_loss: 0.4576 - val_accuracy: 0.8800\n",
            "Epoch 45/100\n",
            "1688/1688 [==============================] - 5s 3ms/step - loss: 0.1180 - accuracy: 0.9541 - val_loss: 0.4444 - val_accuracy: 0.8878\n",
            "Epoch 46/100\n",
            "1688/1688 [==============================] - 4s 3ms/step - loss: 0.1118 - accuracy: 0.9564 - val_loss: 0.4194 - val_accuracy: 0.8877\n",
            "Epoch 47/100\n",
            "1688/1688 [==============================] - 5s 3ms/step - loss: 0.1137 - accuracy: 0.9564 - val_loss: 0.4314 - val_accuracy: 0.8905\n",
            "Epoch 48/100\n",
            "1688/1688 [==============================] - 4s 3ms/step - loss: 0.1081 - accuracy: 0.9581 - val_loss: 0.4557 - val_accuracy: 0.8902\n",
            "Epoch 49/100\n",
            "1688/1688 [==============================] - 5s 3ms/step - loss: 0.1064 - accuracy: 0.9590 - val_loss: 0.4608 - val_accuracy: 0.8905\n",
            "Epoch 50/100\n",
            "1688/1688 [==============================] - 5s 3ms/step - loss: 0.1060 - accuracy: 0.9593 - val_loss: 0.4281 - val_accuracy: 0.8902\n",
            "Epoch 51/100\n",
            "1688/1688 [==============================] - 4s 3ms/step - loss: 0.1010 - accuracy: 0.9610 - val_loss: 0.4364 - val_accuracy: 0.8870\n",
            "Epoch 52/100\n",
            "1688/1688 [==============================] - 4s 3ms/step - loss: 0.0964 - accuracy: 0.9627 - val_loss: 0.4514 - val_accuracy: 0.8855\n",
            "Epoch 53/100\n",
            "1688/1688 [==============================] - 5s 3ms/step - loss: 0.1008 - accuracy: 0.9611 - val_loss: 0.4716 - val_accuracy: 0.8902\n",
            "Epoch 54/100\n",
            "1688/1688 [==============================] - 5s 3ms/step - loss: 0.0928 - accuracy: 0.9644 - val_loss: 0.4652 - val_accuracy: 0.8922\n",
            "Epoch 55/100\n",
            "1688/1688 [==============================] - 4s 3ms/step - loss: 0.0913 - accuracy: 0.9651 - val_loss: 0.4607 - val_accuracy: 0.8868\n",
            "Epoch 56/100\n",
            "1688/1688 [==============================] - 4s 3ms/step - loss: 0.0909 - accuracy: 0.9651 - val_loss: 0.4821 - val_accuracy: 0.8900\n",
            "Epoch 57/100\n",
            "1688/1688 [==============================] - 5s 3ms/step - loss: 0.0894 - accuracy: 0.9655 - val_loss: 0.5192 - val_accuracy: 0.8845\n",
            "Epoch 58/100\n",
            "1688/1688 [==============================] - 5s 3ms/step - loss: 0.0907 - accuracy: 0.9651 - val_loss: 0.5255 - val_accuracy: 0.8805\n",
            "Epoch 59/100\n",
            "1688/1688 [==============================] - 5s 3ms/step - loss: 0.0916 - accuracy: 0.9649 - val_loss: 0.4841 - val_accuracy: 0.8872\n",
            "Epoch 60/100\n",
            "1688/1688 [==============================] - 5s 3ms/step - loss: 0.0851 - accuracy: 0.9675 - val_loss: 0.5288 - val_accuracy: 0.8875\n",
            "Epoch 61/100\n",
            "1688/1688 [==============================] - 4s 3ms/step - loss: 0.0799 - accuracy: 0.9682 - val_loss: 0.4864 - val_accuracy: 0.8817\n",
            "Epoch 62/100\n",
            "1688/1688 [==============================] - 5s 3ms/step - loss: 0.0831 - accuracy: 0.9680 - val_loss: 0.4886 - val_accuracy: 0.8807\n",
            "Epoch 63/100\n",
            "1688/1688 [==============================] - 5s 3ms/step - loss: 0.0838 - accuracy: 0.9674 - val_loss: 0.5044 - val_accuracy: 0.8900\n",
            "Epoch 64/100\n",
            "1688/1688 [==============================] - 5s 3ms/step - loss: 0.0774 - accuracy: 0.9704 - val_loss: 0.6408 - val_accuracy: 0.8657\n",
            "Epoch 65/100\n",
            "1688/1688 [==============================] - 5s 3ms/step - loss: 0.0776 - accuracy: 0.9697 - val_loss: 0.5388 - val_accuracy: 0.8807\n",
            "Epoch 66/100\n",
            "1688/1688 [==============================] - 5s 3ms/step - loss: 0.0736 - accuracy: 0.9720 - val_loss: 0.5447 - val_accuracy: 0.8878\n",
            "Epoch 67/100\n",
            "1688/1688 [==============================] - 5s 3ms/step - loss: 0.0748 - accuracy: 0.9712 - val_loss: 0.6724 - val_accuracy: 0.8637\n",
            "Epoch 68/100\n",
            "1688/1688 [==============================] - 5s 3ms/step - loss: 0.0778 - accuracy: 0.9704 - val_loss: 0.5273 - val_accuracy: 0.8902\n",
            "Epoch 69/100\n",
            "1688/1688 [==============================] - 4s 3ms/step - loss: 0.0731 - accuracy: 0.9720 - val_loss: 0.5759 - val_accuracy: 0.8840\n",
            "Epoch 70/100\n",
            "1688/1688 [==============================] - 5s 3ms/step - loss: 0.0688 - accuracy: 0.9737 - val_loss: 0.5615 - val_accuracy: 0.8873\n",
            "Epoch 71/100\n",
            "1688/1688 [==============================] - 5s 3ms/step - loss: 0.0701 - accuracy: 0.9733 - val_loss: 0.6169 - val_accuracy: 0.8807\n",
            "Epoch 72/100\n",
            "1688/1688 [==============================] - 5s 3ms/step - loss: 0.0690 - accuracy: 0.9733 - val_loss: 0.5661 - val_accuracy: 0.8868\n",
            "Epoch 73/100\n",
            "1688/1688 [==============================] - 4s 3ms/step - loss: 0.0716 - accuracy: 0.9728 - val_loss: 0.5440 - val_accuracy: 0.8877\n",
            "Epoch 74/100\n",
            "1688/1688 [==============================] - 5s 3ms/step - loss: 0.0657 - accuracy: 0.9750 - val_loss: 0.5977 - val_accuracy: 0.8882\n",
            "Epoch 75/100\n",
            "1688/1688 [==============================] - 5s 3ms/step - loss: 0.0669 - accuracy: 0.9741 - val_loss: 0.5717 - val_accuracy: 0.8887\n",
            "Epoch 76/100\n",
            "1688/1688 [==============================] - 5s 3ms/step - loss: 0.0611 - accuracy: 0.9763 - val_loss: 0.6465 - val_accuracy: 0.8862\n",
            "Epoch 77/100\n",
            "1688/1688 [==============================] - 5s 3ms/step - loss: 0.0677 - accuracy: 0.9751 - val_loss: 0.5439 - val_accuracy: 0.8898\n",
            "Epoch 78/100\n",
            "1688/1688 [==============================] - 5s 3ms/step - loss: 0.0591 - accuracy: 0.9772 - val_loss: 0.6182 - val_accuracy: 0.8808\n",
            "Epoch 79/100\n",
            "1688/1688 [==============================] - 5s 3ms/step - loss: 0.0600 - accuracy: 0.9778 - val_loss: 0.6261 - val_accuracy: 0.8917\n",
            "Epoch 80/100\n",
            "1688/1688 [==============================] - 5s 3ms/step - loss: 0.0588 - accuracy: 0.9778 - val_loss: 0.6258 - val_accuracy: 0.8852\n",
            "Epoch 81/100\n",
            "1688/1688 [==============================] - 5s 3ms/step - loss: 0.0653 - accuracy: 0.9749 - val_loss: 0.6740 - val_accuracy: 0.8755\n",
            "Epoch 82/100\n",
            "1688/1688 [==============================] - 5s 3ms/step - loss: 0.0592 - accuracy: 0.9780 - val_loss: 0.6253 - val_accuracy: 0.8852\n",
            "Epoch 83/100\n",
            "1688/1688 [==============================] - 5s 3ms/step - loss: 0.0488 - accuracy: 0.9819 - val_loss: 0.5964 - val_accuracy: 0.8908\n",
            "Epoch 84/100\n",
            "1688/1688 [==============================] - 5s 3ms/step - loss: 0.0531 - accuracy: 0.9798 - val_loss: 0.6599 - val_accuracy: 0.8878\n",
            "Epoch 85/100\n",
            "1688/1688 [==============================] - 5s 3ms/step - loss: 0.0556 - accuracy: 0.9789 - val_loss: 0.6042 - val_accuracy: 0.8938\n",
            "Epoch 86/100\n",
            "1688/1688 [==============================] - 4s 3ms/step - loss: 0.0520 - accuracy: 0.9801 - val_loss: 0.7145 - val_accuracy: 0.8778\n",
            "Epoch 87/100\n",
            "1688/1688 [==============================] - 5s 3ms/step - loss: 0.0583 - accuracy: 0.9785 - val_loss: 0.6306 - val_accuracy: 0.8832\n",
            "Epoch 88/100\n",
            "1688/1688 [==============================] - 5s 3ms/step - loss: 0.0470 - accuracy: 0.9823 - val_loss: 0.7189 - val_accuracy: 0.8765\n",
            "Epoch 89/100\n",
            "1688/1688 [==============================] - 5s 3ms/step - loss: 0.0529 - accuracy: 0.9794 - val_loss: 0.6362 - val_accuracy: 0.8930\n",
            "Epoch 90/100\n",
            "1688/1688 [==============================] - 5s 3ms/step - loss: 0.0467 - accuracy: 0.9827 - val_loss: 0.6755 - val_accuracy: 0.8907\n",
            "Epoch 91/100\n",
            "1688/1688 [==============================] - 5s 3ms/step - loss: 0.0497 - accuracy: 0.9821 - val_loss: 0.6798 - val_accuracy: 0.8877\n",
            "Epoch 92/100\n",
            "1688/1688 [==============================] - 5s 3ms/step - loss: 0.0492 - accuracy: 0.9815 - val_loss: 0.6705 - val_accuracy: 0.8862\n",
            "Epoch 93/100\n",
            "1688/1688 [==============================] - 5s 3ms/step - loss: 0.0444 - accuracy: 0.9834 - val_loss: 0.6846 - val_accuracy: 0.8868\n",
            "Epoch 94/100\n",
            "1688/1688 [==============================] - 5s 3ms/step - loss: 0.0512 - accuracy: 0.9812 - val_loss: 0.6863 - val_accuracy: 0.8905\n",
            "Epoch 95/100\n",
            "1688/1688 [==============================] - 4s 3ms/step - loss: 0.0467 - accuracy: 0.9823 - val_loss: 0.6715 - val_accuracy: 0.8923\n",
            "Epoch 96/100\n",
            "1688/1688 [==============================] - 4s 3ms/step - loss: 0.0470 - accuracy: 0.9822 - val_loss: 0.6549 - val_accuracy: 0.8855\n",
            "Epoch 97/100\n",
            "1688/1688 [==============================] - 5s 3ms/step - loss: 0.0422 - accuracy: 0.9845 - val_loss: 0.6870 - val_accuracy: 0.8853\n",
            "Epoch 98/100\n",
            "1688/1688 [==============================] - 5s 3ms/step - loss: 0.0468 - accuracy: 0.9825 - val_loss: 0.6402 - val_accuracy: 0.8842\n",
            "Epoch 99/100\n",
            "1688/1688 [==============================] - 4s 3ms/step - loss: 0.0378 - accuracy: 0.9859 - val_loss: 0.7037 - val_accuracy: 0.8867\n",
            "Epoch 100/100\n",
            "1688/1688 [==============================] - 4s 3ms/step - loss: 0.0417 - accuracy: 0.9846 - val_loss: 0.6827 - val_accuracy: 0.8913\n"
          ],
          "name": "stdout"
        }
      ]
    },
    {
      "cell_type": "markdown",
      "metadata": {
        "id": "QraX9ZoSbnY4"
      },
      "source": [
        "### Displaying the model run history as a dataframe"
      ]
    },
    {
      "cell_type": "code",
      "metadata": {
        "colab": {
          "base_uri": "https://localhost:8080/",
          "height": 356
        },
        "id": "IgPewE1Cba9M",
        "outputId": "ef28fbf9-8fad-404a-fde7-572534139998"
      },
      "source": [
        "#Display the training loss and validation loss at every epoch. \n",
        "#Display the same as a data frame of history\n",
        "import pandas as pd\n",
        "hist = pd.DataFrame(history.history)\n",
        "hist['epoch'] = history.epoch\n",
        "hist.head(10)"
      ],
      "execution_count": null,
      "outputs": [
        {
          "output_type": "execute_result",
          "data": {
            "text/html": [
              "<div>\n",
              "<style scoped>\n",
              "    .dataframe tbody tr th:only-of-type {\n",
              "        vertical-align: middle;\n",
              "    }\n",
              "\n",
              "    .dataframe tbody tr th {\n",
              "        vertical-align: top;\n",
              "    }\n",
              "\n",
              "    .dataframe thead th {\n",
              "        text-align: right;\n",
              "    }\n",
              "</style>\n",
              "<table border=\"1\" class=\"dataframe\">\n",
              "  <thead>\n",
              "    <tr style=\"text-align: right;\">\n",
              "      <th></th>\n",
              "      <th>loss</th>\n",
              "      <th>accuracy</th>\n",
              "      <th>val_loss</th>\n",
              "      <th>val_accuracy</th>\n",
              "      <th>epoch</th>\n",
              "    </tr>\n",
              "  </thead>\n",
              "  <tbody>\n",
              "    <tr>\n",
              "      <th>0</th>\n",
              "      <td>0.682699</td>\n",
              "      <td>0.754519</td>\n",
              "      <td>0.516277</td>\n",
              "      <td>0.816833</td>\n",
              "      <td>0</td>\n",
              "    </tr>\n",
              "    <tr>\n",
              "      <th>1</th>\n",
              "      <td>0.430595</td>\n",
              "      <td>0.843574</td>\n",
              "      <td>0.528871</td>\n",
              "      <td>0.783333</td>\n",
              "      <td>1</td>\n",
              "    </tr>\n",
              "    <tr>\n",
              "      <th>2</th>\n",
              "      <td>0.380136</td>\n",
              "      <td>0.860037</td>\n",
              "      <td>0.406675</td>\n",
              "      <td>0.854333</td>\n",
              "      <td>2</td>\n",
              "    </tr>\n",
              "    <tr>\n",
              "      <th>3</th>\n",
              "      <td>0.351493</td>\n",
              "      <td>0.870352</td>\n",
              "      <td>0.356247</td>\n",
              "      <td>0.867000</td>\n",
              "      <td>3</td>\n",
              "    </tr>\n",
              "    <tr>\n",
              "      <th>4</th>\n",
              "      <td>0.329681</td>\n",
              "      <td>0.878482</td>\n",
              "      <td>0.371643</td>\n",
              "      <td>0.861000</td>\n",
              "      <td>4</td>\n",
              "    </tr>\n",
              "    <tr>\n",
              "      <th>5</th>\n",
              "      <td>0.312413</td>\n",
              "      <td>0.883667</td>\n",
              "      <td>0.336702</td>\n",
              "      <td>0.877833</td>\n",
              "      <td>5</td>\n",
              "    </tr>\n",
              "    <tr>\n",
              "      <th>6</th>\n",
              "      <td>0.299867</td>\n",
              "      <td>0.888407</td>\n",
              "      <td>0.353770</td>\n",
              "      <td>0.872000</td>\n",
              "      <td>6</td>\n",
              "    </tr>\n",
              "    <tr>\n",
              "      <th>7</th>\n",
              "      <td>0.289198</td>\n",
              "      <td>0.891741</td>\n",
              "      <td>0.341918</td>\n",
              "      <td>0.872500</td>\n",
              "      <td>7</td>\n",
              "    </tr>\n",
              "    <tr>\n",
              "      <th>8</th>\n",
              "      <td>0.276382</td>\n",
              "      <td>0.896815</td>\n",
              "      <td>0.323214</td>\n",
              "      <td>0.884500</td>\n",
              "      <td>8</td>\n",
              "    </tr>\n",
              "    <tr>\n",
              "      <th>9</th>\n",
              "      <td>0.267819</td>\n",
              "      <td>0.899241</td>\n",
              "      <td>0.344823</td>\n",
              "      <td>0.871167</td>\n",
              "      <td>9</td>\n",
              "    </tr>\n",
              "  </tbody>\n",
              "</table>\n",
              "</div>"
            ],
            "text/plain": [
              "       loss  accuracy  val_loss  val_accuracy  epoch\n",
              "0  0.682699  0.754519  0.516277      0.816833      0\n",
              "1  0.430595  0.843574  0.528871      0.783333      1\n",
              "2  0.380136  0.860037  0.406675      0.854333      2\n",
              "3  0.351493  0.870352  0.356247      0.867000      3\n",
              "4  0.329681  0.878482  0.371643      0.861000      4\n",
              "5  0.312413  0.883667  0.336702      0.877833      5\n",
              "6  0.299867  0.888407  0.353770      0.872000      6\n",
              "7  0.289198  0.891741  0.341918      0.872500      7\n",
              "8  0.276382  0.896815  0.323214      0.884500      8\n",
              "9  0.267819  0.899241  0.344823      0.871167      9"
            ]
          },
          "metadata": {
            "tags": []
          },
          "execution_count": 19
        }
      ]
    },
    {
      "cell_type": "markdown",
      "metadata": {
        "id": "ReHzPkpIcA19"
      },
      "source": [
        "### Model overfitting check:"
      ]
    },
    {
      "cell_type": "code",
      "metadata": {
        "colab": {
          "base_uri": "https://localhost:8080/",
          "height": 283
        },
        "id": "1T4JJudZcIf-",
        "outputId": "31ccaee3-32d0-49af-a15d-8014fadf371f"
      },
      "source": [
        "def plot_history(history):\n",
        "  hist = pd.DataFrame(history.history)\n",
        "  hist['epoch'] = history.epoch\n",
        "\n",
        "  plt.figure()\n",
        "  plt.xlabel('Epoch')\n",
        "  plt.ylabel('Accuracy')\n",
        "  plt.plot(hist['epoch'], hist['accuracy'], label=['Train Accuracy'])\n",
        "  plt.plot(hist['epoch'], hist['val_accuracy'], label=['Validation Accuracy'])\n",
        "  plt.ylim([0,5])\n",
        "  plt.legend()\n",
        "  plt.show()\n",
        "\n",
        "plot_history(history)"
      ],
      "execution_count": null,
      "outputs": [
        {
          "output_type": "display_data",
          "data": {
            "image/png": "[encoded data removed]",
            "text/plain": [
              "<Figure size 432x288 with 1 Axes>"
            ]
          },
          "metadata": {
            "tags": [],
            "needs_background": "light"
          }
        }
      ]
    },
    {
      "cell_type": "markdown",
      "metadata": {
        "id": "vsJp5cGEcxEf"
      },
      "source": [
        "- It seems there is almost no overfitting. "
      ]
    },
    {
      "cell_type": "markdown",
      "metadata": {
        "id": "nXKPWTiIembk"
      },
      "source": [
        "- Check the highest validation accuracy obtained by the model:"
      ]
    },
    {
      "cell_type": "code",
      "metadata": {
        "colab": {
          "base_uri": "https://localhost:8080/"
        },
        "id": "2fln1TTGcKXR",
        "outputId": "92a446b5-b0e6-41a0-ff78-991a17dd9e87"
      },
      "source": [
        "round(hist['val_accuracy'].max(), 4)"
      ],
      "execution_count": null,
      "outputs": [
        {
          "output_type": "execute_result",
          "data": {
            "text/plain": [
              "0.8938"
            ]
          },
          "metadata": {
            "tags": []
          },
          "execution_count": 30
        }
      ]
    },
    {
      "cell_type": "markdown",
      "metadata": {
        "id": "bR5mlILVfTCl"
      },
      "source": [
        "### It seems that the FFNN model built is not able to achieve the traget accuracy, Will buid CNN model now using the same data"
      ]
    },
    {
      "cell_type": "code",
      "metadata": {
        "id": "_dJKilpEe3FI"
      },
      "source": [
        "mnist = tf.keras.datasets.fashion_mnist\n",
        "(train_images,train_labels) , (test_images, test_labels) = mnist.load_data()"
      ],
      "execution_count": null,
      "outputs": []
    },
    {
      "cell_type": "code",
      "metadata": {
        "colab": {
          "base_uri": "https://localhost:8080/"
        },
        "id": "SMfF4fagf1g8",
        "outputId": "88dde82e-9bb1-4616-cd62-90720a660a59"
      },
      "source": [
        "print('no of axes in train image', train_images.ndim)\n",
        "print('no of axes in test image', test_images.ndim)\n",
        "print('shape of train image', train_images.shape)\n",
        "print('shape of test image', test_images.shape)"
      ],
      "execution_count": null,
      "outputs": [
        {
          "output_type": "stream",
          "text": [
            "no of axes in train image 3\n",
            "no of axes in test image 3\n",
            "shape of train image (60000, 28, 28)\n",
            "shape of test image (10000, 28, 28)\n"
          ],
          "name": "stdout"
        }
      ]
    },
    {
      "cell_type": "markdown",
      "metadata": {
        "id": "N-3FjjaHf7rK"
      },
      "source": [
        "- Resahpe the data for CNN Model vuidling:"
      ]
    },
    {
      "cell_type": "code",
      "metadata": {
        "colab": {
          "base_uri": "https://localhost:8080/"
        },
        "id": "KJhgODxef4H-",
        "outputId": "49b91f50-1d09-45a3-ca7b-7560d2daa9cd"
      },
      "source": [
        "train_images = train_images.reshape((60000, 28, 28, 1))\n",
        "test_images = test_images.reshape((10000, 28, 28, 1))\n",
        "\n",
        "#After reshaping:\n",
        "print('no of axes in train image', train_images.ndim)\n",
        "print('no of axes in test image', test_images.ndim)\n",
        "print('shape of train image', train_images.shape)\n",
        "print('shape of test image', test_images.shape)"
      ],
      "execution_count": null,
      "outputs": [
        {
          "output_type": "stream",
          "text": [
            "no of axes in train image 4\n",
            "no of axes in test image 4\n",
            "shape of train image (60000, 28, 28, 1)\n",
            "shape of test image (10000, 28, 28, 1)\n"
          ],
          "name": "stdout"
        }
      ]
    },
    {
      "cell_type": "markdown",
      "metadata": {
        "id": "5ugnKY4kgFom"
      },
      "source": [
        "- Normalization of the data"
      ]
    },
    {
      "cell_type": "code",
      "metadata": {
        "id": "RVBX9rs0gCI8"
      },
      "source": [
        "train_images, test_images = train_images/255.0, test_images/255.0"
      ],
      "execution_count": null,
      "outputs": []
    },
    {
      "cell_type": "markdown",
      "metadata": {
        "id": "9652jd_EgKq6"
      },
      "source": [
        "- Create the convolutional base"
      ]
    },
    {
      "cell_type": "code",
      "metadata": {
        "id": "Nb9mKUuwgIlu"
      },
      "source": [
        "model_cnn = keras.models.Sequential()\n",
        "\n",
        "#1st hidden layer has 32 filters, each filter has 3X3 size. Stride size is 1.  \n",
        "model_cnn.add(keras.layers.Conv2D(32, (3,3), activation='relu', input_shape=(28,28,1)))\n",
        "\n",
        "#Adding Pooling Layer. Pooling is used to down-sample the output of convolution aggressively, also used for avoiding over-fitting in the model\n",
        "model_cnn.add(keras.layers.MaxPooling2D((2,2)))\n",
        "\n",
        "#2ND LAYER HAS 64 filters:\n",
        "model_cnn.add(keras.layers.Conv2D(64, (3,3), activation='relu'))\n",
        "model_cnn.add(keras.layers.MaxPooling2D((2,2)))\n",
        "\n",
        "#3RD LAYER HAS 64 filters:\n",
        "model_cnn.add(keras.layers.Conv2D(64, (3,3), activation='relu'))\n",
        "\n",
        "#Add dense layers on top of it\n",
        "model_cnn.add(keras.layers.Flatten())\n",
        "model_cnn.add(keras.layers.Dense(64, activation='relu'))\n",
        "model_cnn.add(keras.layers.Dense(10, activation='softmax'))  #Final output layer, as there are total 10 classes so 10 and softmax"
      ],
      "execution_count": null,
      "outputs": []
    },
    {
      "cell_type": "code",
      "metadata": {
        "colab": {
          "base_uri": "https://localhost:8080/"
        },
        "id": "r-UJTX1Yg-QL",
        "outputId": "8716f3ba-8f8a-4f98-ff6a-f2c1c3235c1b"
      },
      "source": [
        "model_cnn.summary()"
      ],
      "execution_count": null,
      "outputs": [
        {
          "output_type": "stream",
          "text": [
            "Model: \"sequential_1\"\n",
            "_________________________________________________________________\n",
            "Layer (type)                 Output Shape              Param #   \n",
            "=================================================================\n",
            "conv2d (Conv2D)              (None, 26, 26, 32)        320       \n",
            "_________________________________________________________________\n",
            "max_pooling2d (MaxPooling2D) (None, 13, 13, 32)        0         \n",
            "_________________________________________________________________\n",
            "conv2d_1 (Conv2D)            (None, 11, 11, 64)        18496     \n",
            "_________________________________________________________________\n",
            "max_pooling2d_1 (MaxPooling2 (None, 5, 5, 64)          0         \n",
            "_________________________________________________________________\n",
            "conv2d_2 (Conv2D)            (None, 3, 3, 64)          36928     \n",
            "_________________________________________________________________\n",
            "flatten (Flatten)            (None, 576)               0         \n",
            "_________________________________________________________________\n",
            "dense_6 (Dense)              (None, 64)                36928     \n",
            "_________________________________________________________________\n",
            "dense_7 (Dense)              (None, 10)                650       \n",
            "=================================================================\n",
            "Total params: 93,322\n",
            "Trainable params: 93,322\n",
            "Non-trainable params: 0\n",
            "_________________________________________________________________\n"
          ],
          "name": "stdout"
        }
      ]
    },
    {
      "cell_type": "markdown",
      "metadata": {
        "id": "rrw-4vbRhE89"
      },
      "source": [
        "- Calculation for the conv2d (Conv2D) layer: (3x3+1)x32, so 320\n",
        "- max_pooling2d layer will have no parameters\n",
        "- Calculation for the 2nd conv2d layer: (3x3x32+1)64, so 18496\n",
        "- Calculation for the 3rd conv2d layer: (3x3x64+1)64, so 36928\n",
        "- Here (3x3x64) outputs are flattened as into vector of shape (576) before going through into 2 Dense layers\n",
        "- 576x64+64 = 36928\n",
        "- Final layer : 64x10+64 = 650"
      ]
    },
    {
      "cell_type": "markdown",
      "metadata": {
        "id": "GqBhzIpkhlrK"
      },
      "source": [
        "### Compile and train the Model:"
      ]
    },
    {
      "cell_type": "code",
      "metadata": {
        "colab": {
          "base_uri": "https://localhost:8080/"
        },
        "id": "Vdp4tMfSg_4s",
        "outputId": "4abde813-fdd0-4ffb-d634-e2bced875a3a"
      },
      "source": [
        "model_cnn.compile(optimizer='adam', loss='sparse_categorical_crossentropy', metrics=['accuracy'])\n",
        "\n",
        "model_cnn.fit(train_images, train_labels, validation_split=0.1, epochs=10)"
      ],
      "execution_count": null,
      "outputs": [
        {
          "output_type": "stream",
          "text": [
            "Epoch 1/10\n",
            "1688/1688 [==============================] - 53s 31ms/step - loss: 0.5080 - accuracy: 0.8145 - val_loss: 0.3482 - val_accuracy: 0.8753\n",
            "Epoch 2/10\n",
            "1688/1688 [==============================] - 50s 30ms/step - loss: 0.3237 - accuracy: 0.8832 - val_loss: 0.3162 - val_accuracy: 0.8832\n",
            "Epoch 3/10\n",
            "1688/1688 [==============================] - 50s 30ms/step - loss: 0.2775 - accuracy: 0.8991 - val_loss: 0.2774 - val_accuracy: 0.8990\n",
            "Epoch 4/10\n",
            "1688/1688 [==============================] - 50s 29ms/step - loss: 0.2455 - accuracy: 0.9096 - val_loss: 0.2967 - val_accuracy: 0.8945\n",
            "Epoch 5/10\n",
            "1688/1688 [==============================] - 50s 29ms/step - loss: 0.2246 - accuracy: 0.9167 - val_loss: 0.2511 - val_accuracy: 0.9087\n",
            "Epoch 6/10\n",
            "1688/1688 [==============================] - 50s 29ms/step - loss: 0.2043 - accuracy: 0.9246 - val_loss: 0.2646 - val_accuracy: 0.9027\n",
            "Epoch 7/10\n",
            "1688/1688 [==============================] - 50s 29ms/step - loss: 0.1838 - accuracy: 0.9318 - val_loss: 0.2494 - val_accuracy: 0.9128\n",
            "Epoch 8/10\n",
            "1688/1688 [==============================] - 49s 29ms/step - loss: 0.1692 - accuracy: 0.9364 - val_loss: 0.2478 - val_accuracy: 0.9112\n",
            "Epoch 9/10\n",
            "1688/1688 [==============================] - 50s 29ms/step - loss: 0.1550 - accuracy: 0.9432 - val_loss: 0.2690 - val_accuracy: 0.9110\n",
            "Epoch 10/10\n",
            "1688/1688 [==============================] - 50s 30ms/step - loss: 0.1401 - accuracy: 0.9473 - val_loss: 0.2776 - val_accuracy: 0.9107\n"
          ],
          "name": "stdout"
        },
        {
          "output_type": "execute_result",
          "data": {
            "text/plain": [
              "<tensorflow.python.keras.callbacks.History at 0x7f367ce94b90>"
            ]
          },
          "metadata": {
            "tags": []
          },
          "execution_count": 38
        }
      ]
    },
    {
      "cell_type": "markdown",
      "metadata": {
        "id": "ESiGis1ji8dj"
      },
      "source": [
        "- So, using CNN model(with maxpooling) on the same data shows drust improvment on the validation accuracy(achieved in just 5 epochs).  "
      ]
    },
    {
      "cell_type": "markdown",
      "metadata": {
        "id": "i9hd3vbljxtb"
      },
      "source": [
        "### Display the confusion matrix to show misclassifications:"
      ]
    },
    {
      "cell_type": "code",
      "metadata": {
        "id": "auu4mXKJkdfF"
      },
      "source": [
        "preds = model_cnn.predict(test_images)"
      ],
      "execution_count": null,
      "outputs": []
    },
    {
      "cell_type": "code",
      "metadata": {
        "colab": {
          "base_uri": "https://localhost:8080/"
        },
        "id": "aXwk6wscku8C",
        "outputId": "d7fd5920-59df-42f2-d32d-584878fef7b6"
      },
      "source": [
        "#Chcek one prediction\n",
        "import numpy as np\n",
        "print(np.argmax(preds[17]))\n",
        "\n",
        "#Chcek the actual value of thgis predicted vlaue:\n",
        "print(test_labels[17])"
      ],
      "execution_count": null,
      "outputs": [
        {
          "output_type": "stream",
          "text": [
            "4\n",
            "4\n"
          ],
          "name": "stdout"
        }
      ]
    },
    {
      "cell_type": "code",
      "metadata": {
        "id": "b6WB7f8jht67"
      },
      "source": [
        "from sklearn.metrics import confusion_matrix, classification_report\n",
        "import numpy as np\n",
        "import itertools\n",
        "\n",
        "classes = ['T-shirt/Top','Trouser','Pullover','Dress','Coat','Sandal','Shirt','Sneaker','Bag','Ankle Boot']\n",
        "\n",
        "# Predict the values from the validation dataset\n",
        "Y_pred = model.predict(test_images)\n",
        "# Convert predictions classes to one hot vectors \n",
        "Y_pred_classes = np.argmax(Y_pred,axis = 1)  "
      ],
      "execution_count": null,
      "outputs": []
    },
    {
      "cell_type": "code",
      "metadata": {
        "colab": {
          "base_uri": "https://localhost:8080/"
        },
        "id": "VEIFMedqmZuj",
        "outputId": "c879d52f-3df1-487f-8522-adf12d486256"
      },
      "source": [
        "#Y_pred_classes[:3]"
      ],
      "execution_count": null,
      "outputs": [
        {
          "output_type": "execute_result",
          "data": {
            "text/plain": [
              "array([9, 2, 1])"
            ]
          },
          "metadata": {
            "tags": []
          },
          "execution_count": 57
        }
      ]
    },
    {
      "cell_type": "markdown",
      "metadata": {
        "id": "MuNF5QZEnW6G"
      },
      "source": [
        "#### Confusion matrix:"
      ]
    },
    {
      "cell_type": "code",
      "metadata": {
        "colab": {
          "base_uri": "https://localhost:8080/"
        },
        "id": "sK7YsrYUnZjq",
        "outputId": "4418f2f9-2db3-4eaa-81ab-181e31a5d3aa"
      },
      "source": [
        "# compute the confusion matrix\n",
        "from sklearn.metrics import confusion_matrix\n",
        "confusion_mtx = confusion_matrix(test_labels, Y_pred_classes) \n",
        "print(confusion_mtx)"
      ],
      "execution_count": null,
      "outputs": [
        {
          "output_type": "stream",
          "text": [
            "[[715   3  16 114   6   2 127   0  17   0]\n",
            " [  1 964   1  29   2   0   1   0   2   0]\n",
            " [  7   0 732  23 108   1 117   0  12   0]\n",
            " [  5   2  11 952  13   0  10   0   7   0]\n",
            " [  0   0  68  45 808   1  72   0   6   0]\n",
            " [  0   0   0   1   0 957   0  20   5  17]\n",
            " [ 99   4  49  71  68   0 691   0  18   0]\n",
            " [  0   0   0   0   0  14   0 944   4  38]\n",
            " [  2   0   1   2   3   6   4   3 979   0]\n",
            " [  0   0   0   0   0  10   1  24   0 965]]\n"
          ],
          "name": "stdout"
        }
      ]
    },
    {
      "cell_type": "code",
      "metadata": {
        "colab": {
          "base_uri": "https://localhost:8080/",
          "height": 311
        },
        "id": "-5tUzFwmocm-",
        "outputId": "ccd8c931-1d1a-44f3-89eb-8ec400d6d6ad"
      },
      "source": [
        "def plot_confusion_matrix(cm, classes,\n",
        "                          normalize=False,\n",
        "                          title='Confusion matrix',\n",
        "                          cmap=plt.cm.Blues):\n",
        "    \n",
        "    plt.imshow(cm, interpolation='nearest', cmap=cmap)\n",
        "    plt.title(title)\n",
        "    plt.colorbar()\n",
        "    tick_marks = np.arange(len(classes))\n",
        "    plt.xticks(tick_marks, classes, rotation=90)\n",
        "    plt.yticks(tick_marks, classes)\n",
        "\n",
        "    if normalize:\n",
        "        cm = cm.astype('float') / cm.sum(axis=1)[:, np.newaxis]\n",
        "\n",
        "    thresh = cm.max() / 2.\n",
        "    for i, j in itertools.product(range(cm.shape[0]), range(cm.shape[1])):\n",
        "        plt.text(j, i, cm[i, j],\n",
        "                 horizontalalignment=\"center\",\n",
        "                 color=\"white\" if cm[i, j] > thresh else \"black\")\n",
        "\n",
        "    plt.tight_layout()\n",
        "    plt.ylabel('True label')\n",
        "    plt.xlabel('Predicted label')\n",
        "\n",
        "# compute the confusion matrix\n",
        "confusion_mtx = confusion_matrix(test_labels, Y_pred_classes) \n",
        "# plot the confusion matrix\n",
        "plot_confusion_matrix(confusion_mtx, \n",
        "            classes = ['T-shirt/Top','Trouser','Pullover','Dress','Coat','Sandal','Shirt','Sneaker','Bag','Ankle Boot'])"
      ],
      "execution_count": null,
      "outputs": [
        {
          "output_type": "display_data",
          "data": {
            "image/png": "[encoded data removed]",
            "text/plain": [
              "<Figure size 432x288 with 2 Axes>"
            ]
          },
          "metadata": {
            "tags": [],
            "needs_background": "light"
          }
        }
      ]
    },
    {
      "cell_type": "markdown",
      "metadata": {
        "id": "9YbxkODCqONj"
      },
      "source": [
        "**Misclassification Data:**\n",
        "- For T-Shirts/Tops : Rightly classified 715 data points, rest all misclassified\n",
        "- For Trouser :  Rightly classified 964 data points, rest all misclassified\n",
        "- Similarly, for Bag Rightly classified 979 data points, rest all misclassified"
      ]
    },
    {
      "cell_type": "markdown",
      "metadata": {
        "id": "m116-1ddnTly"
      },
      "source": [
        "#### Classification Report:"
      ]
    },
    {
      "cell_type": "code",
      "metadata": {
        "colab": {
          "base_uri": "https://localhost:8080/"
        },
        "id": "dUuCL0RZlEzk",
        "outputId": "b0e41b3b-e6e8-4c67-9a52-b33ede2d62ad"
      },
      "source": [
        "classes = ['T-shirt/Top','Trouser','Pullover','Dress','Coat','Sandal','Shirt','Sneaker','Bag','Ankle Boot']\n",
        "print(classification_report(test_labels, Y_pred_classes, target_names = classes))"
      ],
      "execution_count": null,
      "outputs": [
        {
          "output_type": "stream",
          "text": [
            "              precision    recall  f1-score   support\n",
            "\n",
            " T-shirt/Top       0.86      0.71      0.78      1000\n",
            "     Trouser       0.99      0.96      0.98      1000\n",
            "    Pullover       0.83      0.73      0.78      1000\n",
            "       Dress       0.77      0.95      0.85      1000\n",
            "        Coat       0.80      0.81      0.80      1000\n",
            "      Sandal       0.97      0.96      0.96      1000\n",
            "       Shirt       0.68      0.69      0.68      1000\n",
            "     Sneaker       0.95      0.94      0.95      1000\n",
            "         Bag       0.93      0.98      0.96      1000\n",
            "  Ankle Boot       0.95      0.96      0.96      1000\n",
            "\n",
            "    accuracy                           0.87     10000\n",
            "   macro avg       0.87      0.87      0.87     10000\n",
            "weighted avg       0.87      0.87      0.87     10000\n",
            "\n"
          ],
          "name": "stdout"
        }
      ]
    },
    {
      "cell_type": "markdown",
      "metadata": {
        "id": "zSbQM0Twq46i"
      },
      "source": [
        "- So, as we can see from above report that for 'Bag' the recall is the highest, 98%\n",
        "- Whereas, for T-Shirts/Top the recall is the lowest among all the classes, 71%"
      ]
    },
    {
      "cell_type": "code",
      "metadata": {
        "id": "myDehNtwmKyq"
      },
      "source": [
        ""
      ],
      "execution_count": null,
      "outputs": []
    }
  ]
}