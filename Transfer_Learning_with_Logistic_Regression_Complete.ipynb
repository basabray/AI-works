{
  "nbformat": 4,
  "nbformat_minor": 0,
  "metadata": {
    "colab": {
      "name": "Transfer Learning with Logistic Regression - Complete.ipynb",
      "provenance": [],
      "authorship_tag": "ABX9TyPkTwkbxxWdJFd4RPkoDQsA",
      "include_colab_link": true
    },
    "kernelspec": {
      "name": "python3",
      "display_name": "Python 3"
    },
    "language_info": {
      "name": "python"
    }
  },
  "cells": [
    {
      "cell_type": "markdown",
      "metadata": {
        "id": "view-in-github",
        "colab_type": "text"
      },
      "source": [
        "<a href=\"https://colab.research.google.com/github/bray2020/AI-works/blob/main/Transfer_Learning_with_Logistic_Regression_Complete.ipynb\" target=\"_parent\"><img src=\"https://colab.research.google.com/assets/colab-badge.svg\" alt=\"Open In Colab\"/></a>"
      ]
    },
    {
      "cell_type": "code",
      "metadata": {
        "id": "k2HWIES7TIeP"
      },
      "source": [
        "from keras.applications.xception import Xception, preprocess_input\n",
        "from keras.preprocessing.image import load_img, img_to_array\n",
        "import os\n",
        "import glob\n",
        "import numpy as np"
      ],
      "execution_count": 1,
      "outputs": []
    },
    {
      "cell_type": "code",
      "metadata": {
        "colab": {
          "base_uri": "https://localhost:8080/"
        },
        "id": "21-lXopBUmfC",
        "outputId": "ee22bbc7-ea2e-42d4-bc03-b4d4bfa9a8dc"
      },
      "source": [
        "model = Xception()\n",
        "model.summary()"
      ],
      "execution_count": 2,
      "outputs": [
        {
          "output_type": "stream",
          "text": [
            "Model: \"xception\"\n",
            "__________________________________________________________________________________________________\n",
            "Layer (type)                    Output Shape         Param #     Connected to                     \n",
            "==================================================================================================\n",
            "input_1 (InputLayer)            [(None, 299, 299, 3) 0                                            \n",
            "__________________________________________________________________________________________________\n",
            "block1_conv1 (Conv2D)           (None, 149, 149, 32) 864         input_1[0][0]                    \n",
            "__________________________________________________________________________________________________\n",
            "block1_conv1_bn (BatchNormaliza (None, 149, 149, 32) 128         block1_conv1[0][0]               \n",
            "__________________________________________________________________________________________________\n",
            "block1_conv1_act (Activation)   (None, 149, 149, 32) 0           block1_conv1_bn[0][0]            \n",
            "__________________________________________________________________________________________________\n",
            "block1_conv2 (Conv2D)           (None, 147, 147, 64) 18432       block1_conv1_act[0][0]           \n",
            "__________________________________________________________________________________________________\n",
            "block1_conv2_bn (BatchNormaliza (None, 147, 147, 64) 256         block1_conv2[0][0]               \n",
            "__________________________________________________________________________________________________\n",
            "block1_conv2_act (Activation)   (None, 147, 147, 64) 0           block1_conv2_bn[0][0]            \n",
            "__________________________________________________________________________________________________\n",
            "block2_sepconv1 (SeparableConv2 (None, 147, 147, 128 8768        block1_conv2_act[0][0]           \n",
            "__________________________________________________________________________________________________\n",
            "block2_sepconv1_bn (BatchNormal (None, 147, 147, 128 512         block2_sepconv1[0][0]            \n",
            "__________________________________________________________________________________________________\n",
            "block2_sepconv2_act (Activation (None, 147, 147, 128 0           block2_sepconv1_bn[0][0]         \n",
            "__________________________________________________________________________________________________\n",
            "block2_sepconv2 (SeparableConv2 (None, 147, 147, 128 17536       block2_sepconv2_act[0][0]        \n",
            "__________________________________________________________________________________________________\n",
            "block2_sepconv2_bn (BatchNormal (None, 147, 147, 128 512         block2_sepconv2[0][0]            \n",
            "__________________________________________________________________________________________________\n",
            "conv2d (Conv2D)                 (None, 74, 74, 128)  8192        block1_conv2_act[0][0]           \n",
            "__________________________________________________________________________________________________\n",
            "block2_pool (MaxPooling2D)      (None, 74, 74, 128)  0           block2_sepconv2_bn[0][0]         \n",
            "__________________________________________________________________________________________________\n",
            "batch_normalization (BatchNorma (None, 74, 74, 128)  512         conv2d[0][0]                     \n",
            "__________________________________________________________________________________________________\n",
            "add (Add)                       (None, 74, 74, 128)  0           block2_pool[0][0]                \n",
            "                                                                 batch_normalization[0][0]        \n",
            "__________________________________________________________________________________________________\n",
            "block3_sepconv1_act (Activation (None, 74, 74, 128)  0           add[0][0]                        \n",
            "__________________________________________________________________________________________________\n",
            "block3_sepconv1 (SeparableConv2 (None, 74, 74, 256)  33920       block3_sepconv1_act[0][0]        \n",
            "__________________________________________________________________________________________________\n",
            "block3_sepconv1_bn (BatchNormal (None, 74, 74, 256)  1024        block3_sepconv1[0][0]            \n",
            "__________________________________________________________________________________________________\n",
            "block3_sepconv2_act (Activation (None, 74, 74, 256)  0           block3_sepconv1_bn[0][0]         \n",
            "__________________________________________________________________________________________________\n",
            "block3_sepconv2 (SeparableConv2 (None, 74, 74, 256)  67840       block3_sepconv2_act[0][0]        \n",
            "__________________________________________________________________________________________________\n",
            "block3_sepconv2_bn (BatchNormal (None, 74, 74, 256)  1024        block3_sepconv2[0][0]            \n",
            "__________________________________________________________________________________________________\n",
            "conv2d_1 (Conv2D)               (None, 37, 37, 256)  32768       add[0][0]                        \n",
            "__________________________________________________________________________________________________\n",
            "block3_pool (MaxPooling2D)      (None, 37, 37, 256)  0           block3_sepconv2_bn[0][0]         \n",
            "__________________________________________________________________________________________________\n",
            "batch_normalization_1 (BatchNor (None, 37, 37, 256)  1024        conv2d_1[0][0]                   \n",
            "__________________________________________________________________________________________________\n",
            "add_1 (Add)                     (None, 37, 37, 256)  0           block3_pool[0][0]                \n",
            "                                                                 batch_normalization_1[0][0]      \n",
            "__________________________________________________________________________________________________\n",
            "block4_sepconv1_act (Activation (None, 37, 37, 256)  0           add_1[0][0]                      \n",
            "__________________________________________________________________________________________________\n",
            "block4_sepconv1 (SeparableConv2 (None, 37, 37, 728)  188672      block4_sepconv1_act[0][0]        \n",
            "__________________________________________________________________________________________________\n",
            "block4_sepconv1_bn (BatchNormal (None, 37, 37, 728)  2912        block4_sepconv1[0][0]            \n",
            "__________________________________________________________________________________________________\n",
            "block4_sepconv2_act (Activation (None, 37, 37, 728)  0           block4_sepconv1_bn[0][0]         \n",
            "__________________________________________________________________________________________________\n",
            "block4_sepconv2 (SeparableConv2 (None, 37, 37, 728)  536536      block4_sepconv2_act[0][0]        \n",
            "__________________________________________________________________________________________________\n",
            "block4_sepconv2_bn (BatchNormal (None, 37, 37, 728)  2912        block4_sepconv2[0][0]            \n",
            "__________________________________________________________________________________________________\n",
            "conv2d_2 (Conv2D)               (None, 19, 19, 728)  186368      add_1[0][0]                      \n",
            "__________________________________________________________________________________________________\n",
            "block4_pool (MaxPooling2D)      (None, 19, 19, 728)  0           block4_sepconv2_bn[0][0]         \n",
            "__________________________________________________________________________________________________\n",
            "batch_normalization_2 (BatchNor (None, 19, 19, 728)  2912        conv2d_2[0][0]                   \n",
            "__________________________________________________________________________________________________\n",
            "add_2 (Add)                     (None, 19, 19, 728)  0           block4_pool[0][0]                \n",
            "                                                                 batch_normalization_2[0][0]      \n",
            "__________________________________________________________________________________________________\n",
            "block5_sepconv1_act (Activation (None, 19, 19, 728)  0           add_2[0][0]                      \n",
            "__________________________________________________________________________________________________\n",
            "block5_sepconv1 (SeparableConv2 (None, 19, 19, 728)  536536      block5_sepconv1_act[0][0]        \n",
            "__________________________________________________________________________________________________\n",
            "block5_sepconv1_bn (BatchNormal (None, 19, 19, 728)  2912        block5_sepconv1[0][0]            \n",
            "__________________________________________________________________________________________________\n",
            "block5_sepconv2_act (Activation (None, 19, 19, 728)  0           block5_sepconv1_bn[0][0]         \n",
            "__________________________________________________________________________________________________\n",
            "block5_sepconv2 (SeparableConv2 (None, 19, 19, 728)  536536      block5_sepconv2_act[0][0]        \n",
            "__________________________________________________________________________________________________\n",
            "block5_sepconv2_bn (BatchNormal (None, 19, 19, 728)  2912        block5_sepconv2[0][0]            \n",
            "__________________________________________________________________________________________________\n",
            "block5_sepconv3_act (Activation (None, 19, 19, 728)  0           block5_sepconv2_bn[0][0]         \n",
            "__________________________________________________________________________________________________\n",
            "block5_sepconv3 (SeparableConv2 (None, 19, 19, 728)  536536      block5_sepconv3_act[0][0]        \n",
            "__________________________________________________________________________________________________\n",
            "block5_sepconv3_bn (BatchNormal (None, 19, 19, 728)  2912        block5_sepconv3[0][0]            \n",
            "__________________________________________________________________________________________________\n",
            "add_3 (Add)                     (None, 19, 19, 728)  0           block5_sepconv3_bn[0][0]         \n",
            "                                                                 add_2[0][0]                      \n",
            "__________________________________________________________________________________________________\n",
            "block6_sepconv1_act (Activation (None, 19, 19, 728)  0           add_3[0][0]                      \n",
            "__________________________________________________________________________________________________\n",
            "block6_sepconv1 (SeparableConv2 (None, 19, 19, 728)  536536      block6_sepconv1_act[0][0]        \n",
            "__________________________________________________________________________________________________\n",
            "block6_sepconv1_bn (BatchNormal (None, 19, 19, 728)  2912        block6_sepconv1[0][0]            \n",
            "__________________________________________________________________________________________________\n",
            "block6_sepconv2_act (Activation (None, 19, 19, 728)  0           block6_sepconv1_bn[0][0]         \n",
            "__________________________________________________________________________________________________\n",
            "block6_sepconv2 (SeparableConv2 (None, 19, 19, 728)  536536      block6_sepconv2_act[0][0]        \n",
            "__________________________________________________________________________________________________\n",
            "block6_sepconv2_bn (BatchNormal (None, 19, 19, 728)  2912        block6_sepconv2[0][0]            \n",
            "__________________________________________________________________________________________________\n",
            "block6_sepconv3_act (Activation (None, 19, 19, 728)  0           block6_sepconv2_bn[0][0]         \n",
            "__________________________________________________________________________________________________\n",
            "block6_sepconv3 (SeparableConv2 (None, 19, 19, 728)  536536      block6_sepconv3_act[0][0]        \n",
            "__________________________________________________________________________________________________\n",
            "block6_sepconv3_bn (BatchNormal (None, 19, 19, 728)  2912        block6_sepconv3[0][0]            \n",
            "__________________________________________________________________________________________________\n",
            "add_4 (Add)                     (None, 19, 19, 728)  0           block6_sepconv3_bn[0][0]         \n",
            "                                                                 add_3[0][0]                      \n",
            "__________________________________________________________________________________________________\n",
            "block7_sepconv1_act (Activation (None, 19, 19, 728)  0           add_4[0][0]                      \n",
            "__________________________________________________________________________________________________\n",
            "block7_sepconv1 (SeparableConv2 (None, 19, 19, 728)  536536      block7_sepconv1_act[0][0]        \n",
            "__________________________________________________________________________________________________\n",
            "block7_sepconv1_bn (BatchNormal (None, 19, 19, 728)  2912        block7_sepconv1[0][0]            \n",
            "__________________________________________________________________________________________________\n",
            "block7_sepconv2_act (Activation (None, 19, 19, 728)  0           block7_sepconv1_bn[0][0]         \n",
            "__________________________________________________________________________________________________\n",
            "block7_sepconv2 (SeparableConv2 (None, 19, 19, 728)  536536      block7_sepconv2_act[0][0]        \n",
            "__________________________________________________________________________________________________\n",
            "block7_sepconv2_bn (BatchNormal (None, 19, 19, 728)  2912        block7_sepconv2[0][0]            \n",
            "__________________________________________________________________________________________________\n",
            "block7_sepconv3_act (Activation (None, 19, 19, 728)  0           block7_sepconv2_bn[0][0]         \n",
            "__________________________________________________________________________________________________\n",
            "block7_sepconv3 (SeparableConv2 (None, 19, 19, 728)  536536      block7_sepconv3_act[0][0]        \n",
            "__________________________________________________________________________________________________\n",
            "block7_sepconv3_bn (BatchNormal (None, 19, 19, 728)  2912        block7_sepconv3[0][0]            \n",
            "__________________________________________________________________________________________________\n",
            "add_5 (Add)                     (None, 19, 19, 728)  0           block7_sepconv3_bn[0][0]         \n",
            "                                                                 add_4[0][0]                      \n",
            "__________________________________________________________________________________________________\n",
            "block8_sepconv1_act (Activation (None, 19, 19, 728)  0           add_5[0][0]                      \n",
            "__________________________________________________________________________________________________\n",
            "block8_sepconv1 (SeparableConv2 (None, 19, 19, 728)  536536      block8_sepconv1_act[0][0]        \n",
            "__________________________________________________________________________________________________\n",
            "block8_sepconv1_bn (BatchNormal (None, 19, 19, 728)  2912        block8_sepconv1[0][0]            \n",
            "__________________________________________________________________________________________________\n",
            "block8_sepconv2_act (Activation (None, 19, 19, 728)  0           block8_sepconv1_bn[0][0]         \n",
            "__________________________________________________________________________________________________\n",
            "block8_sepconv2 (SeparableConv2 (None, 19, 19, 728)  536536      block8_sepconv2_act[0][0]        \n",
            "__________________________________________________________________________________________________\n",
            "block8_sepconv2_bn (BatchNormal (None, 19, 19, 728)  2912        block8_sepconv2[0][0]            \n",
            "__________________________________________________________________________________________________\n",
            "block8_sepconv3_act (Activation (None, 19, 19, 728)  0           block8_sepconv2_bn[0][0]         \n",
            "__________________________________________________________________________________________________\n",
            "block8_sepconv3 (SeparableConv2 (None, 19, 19, 728)  536536      block8_sepconv3_act[0][0]        \n",
            "__________________________________________________________________________________________________\n",
            "block8_sepconv3_bn (BatchNormal (None, 19, 19, 728)  2912        block8_sepconv3[0][0]            \n",
            "__________________________________________________________________________________________________\n",
            "add_6 (Add)                     (None, 19, 19, 728)  0           block8_sepconv3_bn[0][0]         \n",
            "                                                                 add_5[0][0]                      \n",
            "__________________________________________________________________________________________________\n",
            "block9_sepconv1_act (Activation (None, 19, 19, 728)  0           add_6[0][0]                      \n",
            "__________________________________________________________________________________________________\n",
            "block9_sepconv1 (SeparableConv2 (None, 19, 19, 728)  536536      block9_sepconv1_act[0][0]        \n",
            "__________________________________________________________________________________________________\n",
            "block9_sepconv1_bn (BatchNormal (None, 19, 19, 728)  2912        block9_sepconv1[0][0]            \n",
            "__________________________________________________________________________________________________\n",
            "block9_sepconv2_act (Activation (None, 19, 19, 728)  0           block9_sepconv1_bn[0][0]         \n",
            "__________________________________________________________________________________________________\n",
            "block9_sepconv2 (SeparableConv2 (None, 19, 19, 728)  536536      block9_sepconv2_act[0][0]        \n",
            "__________________________________________________________________________________________________\n",
            "block9_sepconv2_bn (BatchNormal (None, 19, 19, 728)  2912        block9_sepconv2[0][0]            \n",
            "__________________________________________________________________________________________________\n",
            "block9_sepconv3_act (Activation (None, 19, 19, 728)  0           block9_sepconv2_bn[0][0]         \n",
            "__________________________________________________________________________________________________\n",
            "block9_sepconv3 (SeparableConv2 (None, 19, 19, 728)  536536      block9_sepconv3_act[0][0]        \n",
            "__________________________________________________________________________________________________\n",
            "block9_sepconv3_bn (BatchNormal (None, 19, 19, 728)  2912        block9_sepconv3[0][0]            \n",
            "__________________________________________________________________________________________________\n",
            "add_7 (Add)                     (None, 19, 19, 728)  0           block9_sepconv3_bn[0][0]         \n",
            "                                                                 add_6[0][0]                      \n",
            "__________________________________________________________________________________________________\n",
            "block10_sepconv1_act (Activatio (None, 19, 19, 728)  0           add_7[0][0]                      \n",
            "__________________________________________________________________________________________________\n",
            "block10_sepconv1 (SeparableConv (None, 19, 19, 728)  536536      block10_sepconv1_act[0][0]       \n",
            "__________________________________________________________________________________________________\n",
            "block10_sepconv1_bn (BatchNorma (None, 19, 19, 728)  2912        block10_sepconv1[0][0]           \n",
            "__________________________________________________________________________________________________\n",
            "block10_sepconv2_act (Activatio (None, 19, 19, 728)  0           block10_sepconv1_bn[0][0]        \n",
            "__________________________________________________________________________________________________\n",
            "block10_sepconv2 (SeparableConv (None, 19, 19, 728)  536536      block10_sepconv2_act[0][0]       \n",
            "__________________________________________________________________________________________________\n",
            "block10_sepconv2_bn (BatchNorma (None, 19, 19, 728)  2912        block10_sepconv2[0][0]           \n",
            "__________________________________________________________________________________________________\n",
            "block10_sepconv3_act (Activatio (None, 19, 19, 728)  0           block10_sepconv2_bn[0][0]        \n",
            "__________________________________________________________________________________________________\n",
            "block10_sepconv3 (SeparableConv (None, 19, 19, 728)  536536      block10_sepconv3_act[0][0]       \n",
            "__________________________________________________________________________________________________\n",
            "block10_sepconv3_bn (BatchNorma (None, 19, 19, 728)  2912        block10_sepconv3[0][0]           \n",
            "__________________________________________________________________________________________________\n",
            "add_8 (Add)                     (None, 19, 19, 728)  0           block10_sepconv3_bn[0][0]        \n",
            "                                                                 add_7[0][0]                      \n",
            "__________________________________________________________________________________________________\n",
            "block11_sepconv1_act (Activatio (None, 19, 19, 728)  0           add_8[0][0]                      \n",
            "__________________________________________________________________________________________________\n",
            "block11_sepconv1 (SeparableConv (None, 19, 19, 728)  536536      block11_sepconv1_act[0][0]       \n",
            "__________________________________________________________________________________________________\n",
            "block11_sepconv1_bn (BatchNorma (None, 19, 19, 728)  2912        block11_sepconv1[0][0]           \n",
            "__________________________________________________________________________________________________\n",
            "block11_sepconv2_act (Activatio (None, 19, 19, 728)  0           block11_sepconv1_bn[0][0]        \n",
            "__________________________________________________________________________________________________\n",
            "block11_sepconv2 (SeparableConv (None, 19, 19, 728)  536536      block11_sepconv2_act[0][0]       \n",
            "__________________________________________________________________________________________________\n",
            "block11_sepconv2_bn (BatchNorma (None, 19, 19, 728)  2912        block11_sepconv2[0][0]           \n",
            "__________________________________________________________________________________________________\n",
            "block11_sepconv3_act (Activatio (None, 19, 19, 728)  0           block11_sepconv2_bn[0][0]        \n",
            "__________________________________________________________________________________________________\n",
            "block11_sepconv3 (SeparableConv (None, 19, 19, 728)  536536      block11_sepconv3_act[0][0]       \n",
            "__________________________________________________________________________________________________\n",
            "block11_sepconv3_bn (BatchNorma (None, 19, 19, 728)  2912        block11_sepconv3[0][0]           \n",
            "__________________________________________________________________________________________________\n",
            "add_9 (Add)                     (None, 19, 19, 728)  0           block11_sepconv3_bn[0][0]        \n",
            "                                                                 add_8[0][0]                      \n",
            "__________________________________________________________________________________________________\n",
            "block12_sepconv1_act (Activatio (None, 19, 19, 728)  0           add_9[0][0]                      \n",
            "__________________________________________________________________________________________________\n",
            "block12_sepconv1 (SeparableConv (None, 19, 19, 728)  536536      block12_sepconv1_act[0][0]       \n",
            "__________________________________________________________________________________________________\n",
            "block12_sepconv1_bn (BatchNorma (None, 19, 19, 728)  2912        block12_sepconv1[0][0]           \n",
            "__________________________________________________________________________________________________\n",
            "block12_sepconv2_act (Activatio (None, 19, 19, 728)  0           block12_sepconv1_bn[0][0]        \n",
            "__________________________________________________________________________________________________\n",
            "block12_sepconv2 (SeparableConv (None, 19, 19, 728)  536536      block12_sepconv2_act[0][0]       \n",
            "__________________________________________________________________________________________________\n",
            "block12_sepconv2_bn (BatchNorma (None, 19, 19, 728)  2912        block12_sepconv2[0][0]           \n",
            "__________________________________________________________________________________________________\n",
            "block12_sepconv3_act (Activatio (None, 19, 19, 728)  0           block12_sepconv2_bn[0][0]        \n",
            "__________________________________________________________________________________________________\n",
            "block12_sepconv3 (SeparableConv (None, 19, 19, 728)  536536      block12_sepconv3_act[0][0]       \n",
            "__________________________________________________________________________________________________\n",
            "block12_sepconv3_bn (BatchNorma (None, 19, 19, 728)  2912        block12_sepconv3[0][0]           \n",
            "__________________________________________________________________________________________________\n",
            "add_10 (Add)                    (None, 19, 19, 728)  0           block12_sepconv3_bn[0][0]        \n",
            "                                                                 add_9[0][0]                      \n",
            "__________________________________________________________________________________________________\n",
            "block13_sepconv1_act (Activatio (None, 19, 19, 728)  0           add_10[0][0]                     \n",
            "__________________________________________________________________________________________________\n",
            "block13_sepconv1 (SeparableConv (None, 19, 19, 728)  536536      block13_sepconv1_act[0][0]       \n",
            "__________________________________________________________________________________________________\n",
            "block13_sepconv1_bn (BatchNorma (None, 19, 19, 728)  2912        block13_sepconv1[0][0]           \n",
            "__________________________________________________________________________________________________\n",
            "block13_sepconv2_act (Activatio (None, 19, 19, 728)  0           block13_sepconv1_bn[0][0]        \n",
            "__________________________________________________________________________________________________\n",
            "block13_sepconv2 (SeparableConv (None, 19, 19, 1024) 752024      block13_sepconv2_act[0][0]       \n",
            "__________________________________________________________________________________________________\n",
            "block13_sepconv2_bn (BatchNorma (None, 19, 19, 1024) 4096        block13_sepconv2[0][0]           \n",
            "__________________________________________________________________________________________________\n",
            "conv2d_3 (Conv2D)               (None, 10, 10, 1024) 745472      add_10[0][0]                     \n",
            "__________________________________________________________________________________________________\n",
            "block13_pool (MaxPooling2D)     (None, 10, 10, 1024) 0           block13_sepconv2_bn[0][0]        \n",
            "__________________________________________________________________________________________________\n",
            "batch_normalization_3 (BatchNor (None, 10, 10, 1024) 4096        conv2d_3[0][0]                   \n",
            "__________________________________________________________________________________________________\n",
            "add_11 (Add)                    (None, 10, 10, 1024) 0           block13_pool[0][0]               \n",
            "                                                                 batch_normalization_3[0][0]      \n",
            "__________________________________________________________________________________________________\n",
            "block14_sepconv1 (SeparableConv (None, 10, 10, 1536) 1582080     add_11[0][0]                     \n",
            "__________________________________________________________________________________________________\n",
            "block14_sepconv1_bn (BatchNorma (None, 10, 10, 1536) 6144        block14_sepconv1[0][0]           \n",
            "__________________________________________________________________________________________________\n",
            "block14_sepconv1_act (Activatio (None, 10, 10, 1536) 0           block14_sepconv1_bn[0][0]        \n",
            "__________________________________________________________________________________________________\n",
            "block14_sepconv2 (SeparableConv (None, 10, 10, 2048) 3159552     block14_sepconv1_act[0][0]       \n",
            "__________________________________________________________________________________________________\n",
            "block14_sepconv2_bn (BatchNorma (None, 10, 10, 2048) 8192        block14_sepconv2[0][0]           \n",
            "__________________________________________________________________________________________________\n",
            "block14_sepconv2_act (Activatio (None, 10, 10, 2048) 0           block14_sepconv2_bn[0][0]        \n",
            "__________________________________________________________________________________________________\n",
            "avg_pool (GlobalAveragePooling2 (None, 2048)         0           block14_sepconv2_act[0][0]       \n",
            "__________________________________________________________________________________________________\n",
            "predictions (Dense)             (None, 1000)         2049000     avg_pool[0][0]                   \n",
            "==================================================================================================\n",
            "Total params: 22,910,480\n",
            "Trainable params: 22,855,952\n",
            "Non-trainable params: 54,528\n",
            "__________________________________________________________________________________________________\n"
          ],
          "name": "stdout"
        }
      ]
    },
    {
      "cell_type": "code",
      "metadata": {
        "colab": {
          "base_uri": "https://localhost:8080/"
        },
        "id": "Zd3A6y_HTKvx",
        "outputId": "0dec6a3f-ac7a-4abd-a1ad-324af7f342fd"
      },
      "source": [
        "from google.colab import drive\n",
        "drive.mount('/content/drive')"
      ],
      "execution_count": 3,
      "outputs": [
        {
          "output_type": "stream",
          "text": [
            "Drive already mounted at /content/drive; to attempt to forcibly remount, call drive.mount(\"/content/drive\", force_remount=True).\n"
          ],
          "name": "stdout"
        }
      ]
    },
    {
      "cell_type": "code",
      "metadata": {
        "id": "JGllgZi8TNxu"
      },
      "source": [
        "DATA_DIR = \"/content/drive/MyDrive/Colab Notebooks/Tensorflow/waffle_pancakes\""
      ],
      "execution_count": 4,
      "outputs": []
    },
    {
      "cell_type": "markdown",
      "metadata": {
        "id": "sWH1ofZiU0b-"
      },
      "source": [
        "## Step 1 : Preprocessing"
      ]
    },
    {
      "cell_type": "code",
      "metadata": {
        "id": "WnQoxz2cU0zc"
      },
      "source": [
        "def preprocess(im):\n",
        "  im = img_to_array(im)\n",
        "  im = np.expand_dims(im,axis=0)\n",
        "  im = preprocess_input(im)\n",
        "  return im[0]"
      ],
      "execution_count": 5,
      "outputs": []
    },
    {
      "cell_type": "markdown",
      "metadata": {
        "id": "-FgIl1ihU63H"
      },
      "source": [
        "## Step 2:\n",
        "- Changing Working Directory so as to access the files of images\n",
        "- Loop over all the file names\n",
        "- Read each image\n",
        "- Use preprocess() function written before to preprocess every image.\n",
        "- Store all the images in a list\n",
        "##### The above process has to be done 4 times for each of the following -\n",
        "- Train images of Waffles\n",
        "- Test images of Waffles\n",
        "- Train images of Pancakes\n",
        "- Test images of Pancakes"
      ]
    },
    {
      "cell_type": "code",
      "metadata": {
        "id": "yifLcIt2UCF-"
      },
      "source": [
        "os.chdir(os.path.join(DATA_DIR,'train','waffles'))"
      ],
      "execution_count": 6,
      "outputs": []
    },
    {
      "cell_type": "code",
      "metadata": {
        "id": "SEvyxUP7UFJJ"
      },
      "source": [
        "waffle_train_img_names = glob.glob(\"*.png\")\n",
        "\n",
        "# to extract all the .png images\n",
        "# to create a list of all the images from that directory\n",
        "# which is waffle_pancake/train/waffles"
      ],
      "execution_count": 7,
      "outputs": []
    },
    {
      "cell_type": "code",
      "metadata": {
        "colab": {
          "base_uri": "https://localhost:8080/"
        },
        "id": "2iOSyy_bVNje",
        "outputId": "0ef98628-6eec-422e-ac97-46b1856fe557"
      },
      "source": [
        "waffle_train_img_names"
      ],
      "execution_count": 8,
      "outputs": [
        {
          "output_type": "execute_result",
          "data": {
            "text/plain": [
              "['images_q=tbn_ANd9GcTM5HpF5czzgPAbyDbXCLfEKw5eAr9zLMVNwG8qn-ok41uWnQVk3Q.png',\n",
              " 'images_q=tbn_ANd9GcTffJd34wXhzPkvFSA3is5jgwO73LuAxv10ELHRQiFaP_ZmlgU2vw.png',\n",
              " 'images_q=tbn_ANd9GcQgOJREumsd5JFmoeia1xJX8zBmKqLadU20X07cvxQ1z9UIKpxZ.png',\n",
              " 'images_q=tbn_ANd9GcQ9WZII-twMrgg-VUKvVSTuV8mMOZKW0jfkQTXQi31cxKHWSsDh.png',\n",
              " 'images_q=tbn_ANd9GcRix3Jw1ZvOPn_WATgISqI7L_7efTUuJS6MdBAVAR_4M3JF513p.png',\n",
              " 'images_q=tbn_ANd9GcSc1bArUGEYWw-VelGRwThqZoF1X--3drJ2HAG86uIlYaRbLxuj6A.png',\n",
              " 'images_q=tbn_ANd9GcT_MyXxqR9ARuiJVof9r02OVkYSEsBGDoENH47bg_CEMobWPG8YFQ.png',\n",
              " 'images_q=tbn_ANd9GcSVK4HlN7wVCam0-hN3_I0OblWkDzVFwkK7Kd6M-rARRXdyJXc1_Q.png',\n",
              " 'images_q=tbn_ANd9GcSvLaT3FWjh1F1x1dGzYa3uev2WQIGLgvDigObZR2cBU8Er01mg.png',\n",
              " 'images_q=tbn_ANd9GcRbZU_wvC5WshlHc36ZHFoZaAmLhHvzHEQfug8pmJpH8MKXbs7TTA.png',\n",
              " 'images_q=tbn_ANd9GcQ-NiPrXBoHgnagfi-_gRiOAFFv5i7aMsFEJlIs_C7DRbI2YFIp.png',\n",
              " 'images_q=tbn_ANd9GcTybbJYRC-3LHTEJOa5orwSsNVGIDCv33wGwV-Yp4U7Endbe5tjiA.png',\n",
              " 'images_q=tbn_ANd9GcR2eFGukZIm3rcuHn9co5L5A6clhtOaCyTqM0Bcf-nsLeiBt7o31g.png',\n",
              " 'images_q=tbn_ANd9GcQKOfOO-Q8LjO-Y63GDMbDeD--i0wDoS2-EjfKxwlGprnU0BKCbdw.png',\n",
              " 'images_q=tbn_ANd9GcSaitK6W0Na-IA9E3kQa1yIpCv9poHTVDBCNDTaWf73JKtwD3cj.png',\n",
              " 'images_q=tbn_ANd9GcQRSJ9ure9ITV9yzmcUYX0tPlEH8B1Bml-2he6qsoNMKBlQ87c4.png',\n",
              " 'images_q=tbn_ANd9GcTJmDZyuErwEB5WtSCikod30Sqa628YAJpy8s7eSjBBsYadZ9yUeA.png',\n",
              " 'images_q=tbn_ANd9GcTPbRy_gXiwdtxYMtEUsWTrCMK9zuHKlyE7cSMX_SV7WKDU0OywAA.png',\n",
              " 'images_q=tbn_ANd9GcQSDRfj54tAclbBNUiehnnoIlPVo7tQSZ5WmbNfK3uNoPUSPDTG.png',\n",
              " 'images_q=tbn_ANd9GcR6PCpMO1RLKxsUqOISA0tOYJ-Zk1LhSzg8xCv46gJoIdJD-GEXlA.png',\n",
              " 'images_q=tbn_ANd9GcRMidJziPZBSYwc5EsUadE9AB8z_7XTsB9w5ZgZSb6qhte5AcPt.png',\n",
              " 'images_q=tbn_ANd9GcQBMpDrwjeB-PhWVtJmBfUQ2rytVfZaoxgKx5lTS-LWXeQ6PUBE.png',\n",
              " 'images_q=tbn_ANd9GcTf0_IqFiOgKJ2D3d3M2Z6XrON6xwMH1_5GK_8drVRVP3vshIzqTA.png',\n",
              " 'images_q=tbn_ANd9GcQZd9clyG1JINWtzOYZLmKc20MEXWLCeb3WZAxqF2CoI1a_NCZV.png',\n",
              " 'images_q=tbn_ANd9GcQ_HduBfxVyAAgSiaGGqSao_yPd88AT43Kj9BL0TonDm9d0CUk2FQ.png',\n",
              " 'images_q=tbn_ANd9GcR1DyzCWUyuVRMALl6TgLk5OVIEudXF6nBDQgXJCESL9YpHu3T9.png',\n",
              " 'images_q=tbn_ANd9GcSqQcHB3CpBpDHOoSo2rkF_GWp4emtKkNdZw9axAFaT6vRtFPP0.png',\n",
              " 'images_q=tbn_ANd9GcQA2UQPpfi-DZa_TkegpORT00vANx6iYs3jPlX7N1KpN_bOPSP21Q.png',\n",
              " 'images_q=tbn_ANd9GcR4-kXXP6Er2p_STqhPuH2wBa52zh4yrncbDeRKQEA0MkKRdIeO.png',\n",
              " 'images_q=tbn_ANd9GcSFimRZYWZlJhFmS2hzC-4l-0UASjMcgoMUTiPfxhsglJRCQ7x5hg.png',\n",
              " 'images_q=tbn_ANd9GcQ_5Ibs0FoKT39-Do6ZcXE5CC-jWEVw5qQYa8XNbKe1BYxRhI_v.png',\n",
              " 'images_q=tbn_ANd9GcTWFY_l7M4nC0EKJb3ZF_ldtTpfe0eq3qaEVBJrac9PuLz3Et4N0w.png',\n",
              " 'images_q=tbn_ANd9GcSTrGt2QC5XyrmSd1tvp3PLdKq0Ae60xuB8D0v5Dw4ynSLwI8byWQ.png',\n",
              " 'images_q=tbn_ANd9GcT6ti29uJfEkviQqkrg_6u3JQDFgRaVJedwjwiPYmm-7C46GrCokQ.png',\n",
              " 'images_q=tbn_ANd9GcS-MO3hwjvduicaxED_f-4_fUDDnIrT03KwXBx75hrmR1mlQuIv1Q.png',\n",
              " 'images_q=tbn_ANd9GcSP1Mpk-OPir-hOxi6_i2C42xrtZX-8I6bbF7HSt21-bsWJXzUDBg.png',\n",
              " 'images_q=tbn_ANd9GcTK5KVF5SJBzEDC-tk6kPlMVDYsWQ6vy4sotlsYBZ_XBQGoS25_WA.png',\n",
              " 'images_q=tbn_ANd9GcSbRw9lq7InmunZyy6fVQWqNwonfbi3Kd7d0DU5d2ABRKZOVbwbnw.png',\n",
              " 'images_q=tbn_ANd9GcTn2VfJisYDagT4G_C0L9TkASEVlV-36iu-ZyLBJtR-DeF7WMQjTQ.png',\n",
              " 'images_q=tbn_ANd9GcTv-wRVnsUnSzVwnFLj8DrGyLq0ME9haYKhVQR_JoaHEdKn-scH.png',\n",
              " 'images_q=tbn_ANd9GcQL_3AdWwnUHS92R_mYdl5qus1QbgsYXpCirzBpK1S_fofMtYAX.png',\n",
              " 'images_q=tbn_ANd9GcTApJmiqt0ne2CgG9I143ms09W1UblO8f_Y6cXlXuUXCG7Va9wfaA.png',\n",
              " 'images_q=tbn_ANd9GcTl-C6AGO8iAdEiv-5VM07BCuNVgcxYQKYVtyha_ByJ07Y0br4l.png',\n",
              " 'images_q=tbn_ANd9GcTyl04yDUpzjnlu3rNUKgUWSokoTfs_8v1iA9q9XTkmIkffHoxI.png',\n",
              " 'images_q=tbn_ANd9GcSm-uWMrcBhyQ1Ppst2DS4GBGkFBKzCgX9Y1PSl-i8N8aqTucyDqg.png',\n",
              " 'images_q=tbn_ANd9GcQ7-yDnfND1-D81Kj2Sp8yNLUf4TKnX2Y99_Zd0oQLJ0kUbCGVnMg.png',\n",
              " 'images_q=tbn_ANd9GcQ7wW5GHKTGuNJNKm-NlzRLpzIIEoYP_0dN5Up4exHADKmr__vR.png',\n",
              " 'images_q=tbn_ANd9GcRCbWJR-_wZYsH6zoTrDryaxMyxgvsIuGTlxQ_3WiP31pELX3ru.png',\n",
              " 'images_q=tbn_ANd9GcSCnkDhyih8kxnFvWbgHOZqnYsXY1QXZb_oJqIP3nio6aF7lHRL2w.png',\n",
              " 'images_q=tbn_ANd9GcS8u3J8aoa4ry9ZTXXXacMn7X_DqkAfDmxoXwt320JCPZ-N8g-z.png',\n",
              " 'images_q=tbn_ANd9GcQbTj2r_PXPOFo44YtaorMoSp_KCGbs4qMW5Nq_FyY_x2ESkIEv.png',\n",
              " 'images_q=tbn_ANd9GcT5pk5SPwy9tkH_sXYT-vgWHTl_dCi1GkoVsHXKybQys8YSJPjA.png',\n",
              " 'images_q=tbn_ANd9GcRZbCcTqjZsd2YQqappkqhZ1yBW5imd8OtujTyZ27Gv6fI2Its-.png',\n",
              " 'images_q=tbn_ANd9GcTPHh5H7TEN8-9Vc-eBw43iky1Ydw6-Ve3GA4iajEBLkvBtWuDaKA.png',\n",
              " 'images_q=tbn_ANd9GcTi19y96QGiYVq3-4XYtcPaubpZXN3gAROX2-1wU1P9HQ1V6Evf.png',\n",
              " 'images_q=tbn_ANd9GcSw-NTKY47kRoTWEivhtIjmkpzY3H-cgAtAl3qdL5MIZplSI9n6Lg.png',\n",
              " 'images_q=tbn_ANd9GcSeyzlMY6V15SgQhIo47Ny_0P90kNgvoCvuBr2qppeYUs16FGsU.png',\n",
              " 'images_q=tbn_ANd9GcQkTk5tehAlcuZTgdvJPmNfIfJDkh8pPBadQYkT_PR72Wo5VV5KOw.png',\n",
              " 'images_q=tbn_ANd9GcTRZYOJcUC0Z8OXxcg9OJpGlPUXq3wl8X07esc8kzRdROdOelYPVQ.png',\n",
              " 'images_q=tbn_ANd9GcSjjZB50W_Y8ac0f8pH3-HSiT9HhatWSJaneEOz-k4-C2jwToJRuA.png',\n",
              " 'images_q=tbn_ANd9GcRFQjFFgKbak4B5Ae9Gy_HYAVTWl0DbBDBPcllYI_apT6GyOYR1.png',\n",
              " 'images_q=tbn_ANd9GcSHi7EQR5uEIV0cx2G_2wJralNbB2qjlwCQkPuYMK7J32_a9xlNGQ.png',\n",
              " 'images_q=tbn_ANd9GcSo551RoRyMR73ymO1LHhIuS9HQbefatEOW0UQ8IJYOysqhzuJXAg.png',\n",
              " 'images_q=tbn_ANd9GcSwrEMY2dMzbVOLtRvncCrCqCZ_izEi-pUoFf6sX3YOeyzRNGjG.png',\n",
              " 'images_q=tbn_ANd9GcSwOw9n2GJGEbZlYWosySPjet0VQOTLQcgJGslxoblZf3f-2Z4K.png',\n",
              " 'images_q=tbn_ANd9GcQ6XbE4UXrWY05qRKTtzhNmIVtSWMpAqodGxJt9JAup5PcFXRaC.png',\n",
              " 'images_q=tbn_ANd9GcRhxgOdpwS-YIgBEKLCD_1ICJkF8_sNIgEPP2zbgtpx3-l3B2hURQ.png',\n",
              " 'images_q=tbn_ANd9GcSThtSO0pZnzxEWjaIcRQcdJBrtg7Zf6CpueQeOyuCOPC3l8W3m.png',\n",
              " 'images_q=tbn_ANd9GcSJklAZ-uFlIrx0miCjiwpoPwOXcYrdLAFsg_w8j9xaL7pqbfKl.png',\n",
              " 'images_q=tbn_ANd9GcRlfep0IsGBBOP17benthjU2paRUcZYRhHQ08doWIcvaQQ_wU-L.png',\n",
              " 'images_q=tbn_ANd9GcSjRUOWJhz7uRgQSLAxD4ciV2knbCQvAMi5STnpC8OyyGunYOpZ.png',\n",
              " 'images_q=tbn_ANd9GcSBXllvKI2CkpdtIqX9nAAiOOo-uEaRfyJ0lskQIydbB7Mkt_WH1Q.png',\n",
              " 'images_q=tbn_ANd9GcRa9jvIRbmj_e9OQxc4GUyCnd9AbfgEwXwcvyVakehZAXUf823cWg.png',\n",
              " 'images_q=tbn_ANd9GcRbmL0EGa5fw9hXf7pZkN-eV7te5jS9aNygfECkggjwaO9X4VmU.png',\n",
              " 'images_q=tbn_ANd9GcSQCuIMOruypfAkyZvwWgNZbaXa1JVCMrBR_PBStByF0Uq9a1Ta.png',\n",
              " 'images_q=tbn_ANd9GcSb8qv6vsRL56Xx9yJdkrGHDx9UySL8zIo37An1SApl9HfO0VoV.png',\n",
              " 'images_q=tbn_ANd9GcSaeDyDkrpUH_ylIP_0dzLaSE6ibIuwbzgcVL0pTk00Onk0Fm4gtw.png',\n",
              " 'images_q=tbn_ANd9GcSwOci-PC6almIRratTKNAWNFaYMX5qbxoj7kxk4nlfXbYbOEQ9PA.png',\n",
              " 'images_q=tbn_ANd9GcQF7pRrtkeMnk50RAhpiTuLXqgKKE15Sbw5fDGEj-Nb4DDoalSl.png',\n",
              " 'images_q=tbn_ANd9GcTJYMTBmNQW6qECTn23Ky_LZjoX0xtXqTDOQVYY9aeIe4BL0Vzc.png',\n",
              " 'images_q=tbn_ANd9GcSHfnyaBQoAr1Kmday2_EtcEnfjcpr_Usx8ffgaWubw_hjEXIJuMA.png',\n",
              " 'images_q=tbn_ANd9GcTmjdyH8bEh8ebPISD2cpI3VlZHuOrcP7VRBu31F9OzI6dVy7P6Dg.png',\n",
              " 'images_q=tbn_ANd9GcTiD-bTBFGb_dqq7id1-Gg7BH7fXlZtNvOYee-bpLrNLAxl1MrYAA.png',\n",
              " 'images_q=tbn_ANd9GcTLRml6oIHYiS2S_IfxToF8dlbbGS38phJM6dMvlLBwFk0rL8fKqg.png',\n",
              " 'images_q=tbn_ANd9GcQXA8ok9X2m6XPv2oM5Rfuc74emT27LOzjHF5cA3WGC0jC0eJ5K.png',\n",
              " 'images_q=tbn_ANd9GcQT8wJfOxGZf900_1TWOBg6zKpLiYYZuXtl0lSGD4bxz-fgqj2Zew.png',\n",
              " 'images_q=tbn_ANd9GcTp2Nu0fibdR-gh3VJgZusO1V_VnUF9KVmIJ7sfaOqmV9JDzumL.png',\n",
              " 'images_q=tbn_ANd9GcTzA5SdZD-C4poRnx6zNDcBZwodA-gPKDrnDFr1Sc8u4nUWGDq7.png',\n",
              " 'images_q=tbn_ANd9GcQptyaJRLPLaNsXQAYUbtdnFPWdYOZ99WKvQKZsw2NxkixWzz5w.png',\n",
              " 'images_q=tbn_ANd9GcRUm8a7OiOmYhbZCBk_LJHm6dsoTyTw-uYu3LeN-aReLCHF8ZDX.png',\n",
              " 'images_q=tbn_ANd9GcQW3UUlk1WM0pqE7UG2_yzv1NR1fjfsjLyDf9mnM8XGXx11Xpqh5g.png',\n",
              " 'images_q=tbn_ANd9GcQ-0-8U4TAw6fn4wDpj8V34AwbhkpK9SNKwobolotFjNcgspX8wmA.png',\n",
              " 'images_q=tbn_ANd9GcRDsQmVaYhoPfb3LgdCnJBNIVc9Ecr8LdtxkD3pT3aYN0wefJpr.png',\n",
              " 'images_q=tbn_ANd9GcRXfXonjt6FPJyUWzO_hvVEfv5mi3f211U-pn2AVBH5zxFaYpwHHg.png',\n",
              " 'images_q=tbn_ANd9GcTNlus2ts5LMt_9_1CcsMP2LNx6Fmru8AiCEK97vONOaR1UU8kBCQ.png',\n",
              " 'images_q=tbn_ANd9GcTXlR2W_AisicvyD9X1tCNxHm0kn_-qfnkTH7vIh6sum4-lc1jV8Q.png',\n",
              " 'images_q=tbn_ANd9GcQqPdukbRNfUnFamiPqdZCrRjzjdOmtRJqjrVf8J0B5HPrNahWr.png',\n",
              " 'images_q=tbn_ANd9GcQZ1J8-VsAbYGE9w0eYb47fR_HTpQFzivXjU8gnRB-sax0_XBYF.png',\n",
              " 'images_q=tbn_ANd9GcT8tG7Ifa_ok03SZKAnLjCn3GUQw4i6Mpbvp_KIp6SZOxU_XdJDuQ.png',\n",
              " 'images_q=tbn_ANd9GcSN7efhJ78Mg22LqnHEzw79JQ61sbMQgQkdROy_tY6nDLDZ7-5W.png',\n",
              " 'images_q=tbn_ANd9GcTFv4jSBKQXmD0Dsfik89rODsIKMh7z2Mf4alka9DRilQaetky-_Q.png',\n",
              " 'images_q=tbn_ANd9GcRGFOqj8DHTE6YWSeq8UQhsJqAo7Z38zy7wTq1WC3byJirf6M67.png',\n",
              " 'images_q=tbn_ANd9GcSAhr0Jcc4j8W_LmH_FStUE_mG50otIxDa-1nzGlvPr5LHOq-9nuA.png',\n",
              " 'images_q=tbn_ANd9GcRb3e43Jf98ksd3kfQ18WcrBb2NNw3PssbfP-930bkJ_7rNwYiS.png',\n",
              " 'images_q=tbn_ANd9GcT_dzozura7eMRzSHiouCD58VdaB_j3zVy1_FfYwRuO2uncgC7rwA.png',\n",
              " 'images_q=tbn_ANd9GcQt2nQuv4np-VXM-IaiI5Pyu27kuQb_KIt3Ci0muPvwEknzVbhP.png',\n",
              " 'images_q=tbn_ANd9GcSwRKsRUKtLZn98rJmNveqnKcKzbnZDSq1JMV6Rhp2wlEiU-4zHrQ.png',\n",
              " 'images_q=tbn_ANd9GcRti8YLV8lBGw_ytmHPZBzm03srC2Y2iF0JWKFowaQyxEncN9EKiA.png',\n",
              " 'images_q=tbn_ANd9GcSXlNepajpp0VhqN5Ndq-rhBFBvbk1UIw4u-S31K9ReI2NbYFugqw.png',\n",
              " 'images_q=tbn_ANd9GcReoXQG7f_5BKd3Rc0VNOuWtAK7xlkasnVQAKfRqUjF2s-ZoxD4.png',\n",
              " 'images_q=tbn_ANd9GcS9jEuXEtxzKuD7KwhiBIxNjwrMB4YR1lEPPj_23W8p_Qvf6wpr.png',\n",
              " 'images_q=tbn_ANd9GcT-Ulqr4HLDtbE6zwIILvnn2tcs4VQFHybtKDzF9xNP-TYdcdlh.png',\n",
              " 'images_q=tbn_ANd9GcTtdaErRSx_ok6mg8jpqjn3rD1xPWDLxZqj5kFjKxHg4kVIV4CVzA.png',\n",
              " 'images_q=tbn_ANd9GcSUveYoiLlaNMi6gtXET5mtKLGV7L_0aoeX_fYaZa_WfWggGg72.png',\n",
              " 'images_q=tbn_ANd9GcSYWN3eLy0WhuMJgQoFlXwjWtCV4jQAZS4LucTMRvsVsyhC1BRP.png',\n",
              " 'images_q=tbn_ANd9GcTRVFTJoHhi7IcvSSB2nvlyZf-W_ENyIgfBfh-ibQ3DE4irvaM2ng.png',\n",
              " 'images_q=tbn_ANd9GcR3oKQuxrm0sfETJWiR_kQRDDVeFsY_I76N_-bv1DClG1v80Ukirg.png',\n",
              " 'images_q=tbn_ANd9GcQt-Q2OgqdmRBdfQmy2UYl6m-s_BkWL_Xx1dZp-a7nAA_tlu9HM5g.png',\n",
              " 'images_q=tbn_ANd9GcSWThoax5qFAWYGB-AKtdJJreGJnAGJnILV152wKZdRScSM__1T.png',\n",
              " 'images_q=tbn_ANd9GcRdtoQ8mhNB8kyqNP1ID9t42Vcmj45VeIPeokFIxlGBkjFG0APW.png',\n",
              " 'images_q=tbn_ANd9GcSHKWfnLgg-WGTnJ4s3srGyACZS1JXypRxDSkR4bJsxY7psNThO.png',\n",
              " 'images_q=tbn_ANd9GcQpTadukCsxoTOTS8MDg53ZerLKrpfzMtVxQtlmHpy5YjXaR3B1bA.png',\n",
              " 'images_q=tbn_ANd9GcTOUtixJVKEW8vvIXVDGgnxL0m1cji1K0zt9EO76w7YLtfT-uGf.png',\n",
              " 'images_q=tbn_ANd9GcQmY02SH4C3hANSCHIWC0pMq__QKuX6yQL_bajV_XZi6zRBHCjAZw.png',\n",
              " 'images_q=tbn_ANd9GcTQuDCAcF1gizg3-EmllZKmvqQQluOI5Rabsopu-mIP53qQBAE0aw.png',\n",
              " 'images_q=tbn_ANd9GcRv451T9NJRbs05IGnbXaozs3dcCQNOvBg1YME-Y17LAVsdxOa5bA.png',\n",
              " 'images_q=tbn_ANd9GcT5xj0QymTylCqYPyMf47O-Is_rB_747UWnNndQ2QbAIp6coMhU.png',\n",
              " 'images_q=tbn_ANd9GcQjChhQmk8AEnIP-l9MY_NDtpGP0Mclxt4KBkBxnZnn29lVZxk-.png',\n",
              " 'images_q=tbn_ANd9GcT0elgwnrLh6_3MnNm7u-Etr3oON6jVV4WHaK4YWkOnkYogxump.png',\n",
              " 'images_q=tbn_ANd9GcR3XVPfdZ2rkHAHwHbcVznsfBwOGB334DBXDCBDAeKkag84OiNqRQ.png',\n",
              " 'images_q=tbn_ANd9GcSduVPY_hkWEvtgRvi-a7xiWTQ6Rj_ULeVFif9eYrdmleGDbS6zhg.png',\n",
              " 'images_q=tbn_ANd9GcSiYTlLVpwVEbeoVyn8q7jLpBk37f4F4wdxfN9aFeg9Gwosk26k.png',\n",
              " 'images_q=tbn_ANd9GcQGR5gX-VHCC-vxPY4DkG7v8XXka4v3c_e9bMyaz7nQeNFe744.png',\n",
              " 'images_q=tbn_ANd9GcT3RYQhuOIQVUSjlNMpWa_Fj-Pg4cBmEzXB8Et8WW95v6auBX4-.png',\n",
              " 'images_q=tbn_ANd9GcT2nVmN7R1s09Vt5i9bA9wEThgzwTxzU7BGijETPb6CEikMvtft.png',\n",
              " 'images_q=tbn_ANd9GcQre49f-zvfMrr6Nl3iJ85Ar393YupzoIErc0vj5jdB85DyytyQeQ.png',\n",
              " 'images_q=tbn_ANd9GcSxtsgrH4LGXaK5yTwTf99UwMbY2S9ESpUY2ZPhJHzcMctdjvXa.png',\n",
              " 'images_q=tbn_ANd9GcQIxkdxSirtOdujUNlrVFFpEVYRmXRH3CHxcTvm53ytFwN-ZgFlNg.png',\n",
              " 'images_q=tbn_ANd9GcQ-R5OX54iuldHgiPRiLGPQ8S7fdiYqYqLn4Ys3ShZQfyLw6EgXCA.png',\n",
              " 'images_q=tbn_ANd9GcQPQMhGBWogbcpRFO73U8KYUFT_HL0hLg0ADc8dGN_zyioU8Zqn.png',\n",
              " 'images_q=tbn_ANd9GcS__DwXV9yFcF9QgNJ_FpKQSSDbUOb-p2biX8NkB5M8yL4-MmaTHg.png',\n",
              " 'images_q=tbn_ANd9GcQG3Kzi9obUouIKU4TXVtw4S-o8YbmUv0Rtl2KlC8LqTrcWz751lA.png',\n",
              " 'images_q=tbn_ANd9GcRY8E8TlFKNaa3A0maWV9p6tMhFvTqDgY-6K4fPjY5SzInv5Bss.png',\n",
              " 'images_q=tbn_ANd9GcTry9VGfSTz73nZniGe_kC9FQl0OyN9D9nLmjESq_5gOHmf1BsmtQ.png',\n",
              " 'images_q=tbn_ANd9GcREsZyw71W7Ewg7bUFXIIPa42aWxJvy2SLJ0aDoRyeqKZdrtt8ETA.png',\n",
              " 'images_q=tbn_ANd9GcQ5Dal6gH76w9kmVWftcSd-mhqYSRtXSYilMda9Uv0OeHdSirHW.png',\n",
              " 'images_q=tbn_ANd9GcSzwUpsn6R7nKxYbi1EF5TbNUCdm_9g-3Pt1CHOiBnpFRMrbuA87w.png',\n",
              " 'images_q=tbn_ANd9GcSUVxhdjtKLX15h44KzdJBF8XNo4qqE2gVOs6ezENRnKMeZRiE0.png',\n",
              " 'images_q=tbn_ANd9GcTCXFGvde8-zXrYZxmvVP70o9zIn9JW-cItx_X_brv_KnuL2yHJ.png',\n",
              " 'images_q=tbn_ANd9GcR9gMwmi1JGGBQYHkctZG_Ym7YUijmFVCXzmBxkjIEfSJxf8LtN.png',\n",
              " 'images_q=tbn_ANd9GcSA2uK9OgKLrJSvr-Gd9ndNKwrFFlXIKlBHjxjHJwXkw-KiEfZZ.png',\n",
              " 'images_q=tbn_ANd9GcTzlWjeeHwRa6FUDYF4b8F8aeyU-vZpnS6gemGbJp2BEiTxluIFeg.png',\n",
              " 'images_q=tbn_ANd9GcTHQI_pa7pSrfGbtc6yACZWKlDZtC9y1kcGrq5i9l4XN5A2hcfZyQ.png',\n",
              " 'images_q=tbn_ANd9GcTOAXvrcrc9B3g2apsJe3vdWS_C9i7pabw73QFjGnWMJ8R9bE2gYQ.png',\n",
              " 'images_q=tbn_ANd9GcRg44eolWudd7hkycFtRsoP1SDS7K00RPunUXNFOtj7ClburaWU.png',\n",
              " 'images_q=tbn_ANd9GcRp102lgPZx2edpI37DbWgsiuOLTZLspiYbS2MS9kpaewX-Mgx9-A.png',\n",
              " 'images_q=tbn_ANd9GcQVHgAjpxzwY8qxouN_zKZXlBRMnuMaUVcIKsrlbNlK-aPIIK6CIA.png',\n",
              " 'images_q=tbn_ANd9GcRl_7kjE8X4k3EhK7yf2PcC-WGuXDp_XuWzjmPQhJInZ-LM-F-nFg.png',\n",
              " 'images_q=tbn_ANd9GcTFQBVqV9is6N0isubbSi9ZloDYw3wLYsaeB08mZKtx7lqvQ2kn.png',\n",
              " 'images_q=tbn_ANd9GcTBiclUwRj32xa4A2dTFs-SjBnHUN2am8D7kDsFmchtUjUEdt0o.png',\n",
              " 'images_q=tbn_ANd9GcR1zbvijK3YnmNssbYWfJ-wA0TUMr1rPT_HcZ7u--rt_Lb4faet.png',\n",
              " 'images_q=tbn_ANd9GcRj4N_DNq6YZzc3p14p_foSDhIvURTzi_hqKe8rFZs67MKF0z_-Uw.png',\n",
              " 'images_q=tbn_ANd9GcQlJXM4ojksE7D7uTKi6Ex_8v2DmbpNhvi-Pz2K9YkGPkLlijMHGw.png',\n",
              " 'images_q=tbn_ANd9GcRgKC3jguNuxjIFDqzKxDX5ag6ipUnqSHLMBrQq6PiYB2MfNN5z.png',\n",
              " 'images_q=tbn_ANd9GcRqqBh0A6oi7ZmeZg4CXDoQNRWQD2cNMFjI7ku8Xn5JZ__gthW3.png',\n",
              " 'images_q=tbn_ANd9GcSM1LAYHxkvANx8n87vd6AvKugN8PtQbswPhI18Byb3CYL7yWZLTQ.png',\n",
              " 'images_q=tbn_ANd9GcTFw8__W8uaRsc00ZsOU-etaYk0_2WUcjuJI4hyup9vINUvdPGc.png',\n",
              " 'images_q=tbn_ANd9GcQ81bHoRH7Ft2ivkIS_yj_H01TfKUjf6bpLME3LGX5OJIlGlHGZ.png',\n",
              " 'images_q=tbn_ANd9GcQqX-Lh7nDaxALGe_b0ZpipzGyIeEXLLcwvEMi5h7KIn8pHLZqT.png',\n",
              " 'images_q=tbn_ANd9GcQUkh8cycPUHz5kjP9N6PKLj54CbWXAs9B5I_ggGofvcfpT2_j0.png',\n",
              " 'images_q=tbn_ANd9GcRweaXi76TR41t77x3RzYum7RbT9E-Hn3IFhK3e2saMLFPIDB-XEw.png',\n",
              " 'images_q=tbn_ANd9GcSmGYNUlgALXQ21nAy5K1CEXNkYab-qKErFJhfD1wC4qfeB5jmDNw.png',\n",
              " 'images_q=tbn_ANd9GcRltXd2S4SK_xSyVB9VipmjJ_s8HySrphcmbtVLQHFWUT3LFaW43w.png',\n",
              " 'images_q=tbn_ANd9GcSHM702TcYcTvQDF0eNrctq1lr5EauTn9D6a6eA3rQHbgDUzohy.png',\n",
              " 'images_q=tbn_ANd9GcRcc-lQM-OkA_aYPSh1hfrKMos_dxL08TgGkBHQnxGuSOdeUK3W.png',\n",
              " 'images_q=tbn_ANd9GcR_t98uqY8b87xeWd16ZVq5vKZjTujCpu_3I8zt__RP7QX3jsfW.png',\n",
              " 'images_q=tbn_ANd9GcSKTrF7R-3lyhmL9Ar34x-l01t7o2y5sFUznCPSSVcWuGEK-r45ZQ.png',\n",
              " 'images_q=tbn_ANd9GcQXXfuAytb75XNY9tlKWhZcFCtlcCgmTN50zckM_69rs7MvbAblfA.png',\n",
              " 'images_q=tbn_ANd9GcSqyQY3r2m0lO2pEjYfSTbDQlf5j7gldW8KklE0y3eVBQ7N4Cmo.png',\n",
              " 'images_q=tbn_ANd9GcR59XzewEq_vkS4LiF_OC4IChRlFMTOJjMV_xVrXKgHapnyDAXuoQ.png',\n",
              " 'images_q=tbn_ANd9GcSJYZFxiD5aztke5jw00g9aMw7lUDc7v-6KnWZf2bbQaerLDH76_g.png',\n",
              " 'images_q=tbn_ANd9GcSrrXZRqTVgxNuRWpDtgB4ePAo0DbXb33lkDC4wogXmkx8CIYmh4Q.png',\n",
              " 'images_q=tbn_ANd9GcQLxtYlGIpGqrLvKckt6nvLo-OnfywrL2CD9jsGWPCrt_lvPD9m.png',\n",
              " 'images_q=tbn_ANd9GcSLT0KeNRgkw3OZdTDN87SVYawNMO4uYU8F1tTQaTeqEVznQbNk1g.png',\n",
              " 'images_q=tbn_ANd9GcRk5bubm8R6l_JHf4ZCpOJ4kA48-CW5SoIhQeRCk5PkijNxmbbp.png',\n",
              " 'images_q=tbn_ANd9GcTYt9ed7YTrWJ8HuuG6Ilm9_i8xoCa749h-c_bWYLztqmmKhDcb.png',\n",
              " 'images_q=tbn_ANd9GcRaOjOhy8pq6CrCKejUR64Es_C-a5Vcoraz0aBjLLOukPtgYKPk9A.png',\n",
              " 'images_q=tbn_ANd9GcR5iGNfppKrTwBzj4Y-ko23FAOh1EmOQXF8RxbqSXyy0BMIU9-C.png',\n",
              " 'images_q=tbn_ANd9GcSgUFxPu1TBrGxtVmHm5RBkgsdNv0IlVmitVfqVx6OqUYzI9Ivy.png',\n",
              " 'images_q=tbn_ANd9GcQ5iEO5IRwUGSCbA2L6g3n6mDdrve8FKuLIJPJKpW8zkYgdwGxrYA.png',\n",
              " 'images_q=tbn_ANd9GcRbCqdJfFhecib4TXEgEAypEIRXf_NMf_Z6ftxmz17BJ93O0T4YwQ.png',\n",
              " 'images_q=tbn_ANd9GcS4KkXTJU_eDbCIubSbbdLaRdXfdp5XnFu81fsTIhbJj3umOncKrQ.png',\n",
              " 'images_q=tbn_ANd9GcSJeFQeNUkYH-4WEwaTjGavRzUu4N7Hs64oQF-TVD3i30cn3sRBAQ.png',\n",
              " 'images_q=tbn_ANd9GcSfWUkErpNjxT50dLta68yNoFd7QeG3KNGQ3nf-DEI3dvkeXhp8.png',\n",
              " 'images_q=tbn_ANd9GcS2ZV2f4BldLNoyzpzoIZ6oqYEjroelsG6hCo_XDunjs8BEm1kW.png',\n",
              " 'images_q=tbn_ANd9GcQdnMdbPQ43rrunr5IO04hruVSxW7w9rx9hYMKikakMR77-CFTyww.png',\n",
              " 'images_q=tbn_ANd9GcRd855qNksvg4U5FrzyEb94sByOPAEnKK3HDGeIgVX31G6sRMOD.png',\n",
              " 'images_q=tbn_ANd9GcS4yDzcscfdgNHM6cAcvAamhyXdKCcJ6kGGPmae2BLj58HcOzhgNQ.png',\n",
              " 'images_q=tbn_ANd9GcSI4HldoO00eV7rpgFE5GA9FJxSGIgg28Y0G2_uqc2MhZvwsfsnGw.png',\n",
              " 'images_q=tbn_ANd9GcReCTbw7_hYik8udjPrlRa0T1GfOaMCUUPM7a_eDsWEMnhMutFL.png',\n",
              " 'images_q=tbn_ANd9GcQX7cOzkCcSZgLYpKEIPj4Z4Y_1zsu5lpMg4naL--wRfObI72R2Tw.png',\n",
              " 'images_q=tbn_ANd9GcRixdVZRE2PgLETGJDsy0ocpRaiQM4z6JZNfBfU6TPSa3zlu4Hm.png',\n",
              " 'images_q=tbn_ANd9GcSQE2P67Y-4s7ggi6nmJlbS_CXdi0HRfEfq0blZv3S--Cgh3NTkew.png',\n",
              " 'images_q=tbn_ANd9GcQ0NS4Y3hWawXhmkSY0zLgqe27I0vGW-DwNWxYK4A_-Nca0Cz2mXg.png',\n",
              " 'images_q=tbn_ANd9GcS9sg5QZE0-Hg1GJj9j-5dBiXe4m7ERRbgd0WYIln-tacmpvXVy.png',\n",
              " 'images_q=tbn_ANd9GcRadt-8nw-ZT_YJeBuYHHXR5So_Rt8Iu2kc8Ooq39GaR5dZME0d.png',\n",
              " 'images_q=tbn_ANd9GcRiQ0nDiOb7Ky3lvpw6qFEJdA3xZSAiSR-dQQzppwX19cWuTwcX.png',\n",
              " 'images_q=tbn_ANd9GcSa3fICaQ3PbcZN9HaWBj8QOHlJq3Ihd7_ljAv7osCVnDpnSeCt.png',\n",
              " 'images_q=tbn_ANd9GcSWViyS93WsvFiHYr5TO_cSuc5PHIcxl9H_3Fap3jnd-Zg7Zgfeww.png',\n",
              " 'images_q=tbn_ANd9GcTP3ULsPpYXAG2ZNuJSqImp5VJodWRuup4lxJUneqMeQ0iBDa_8Rg.png',\n",
              " 'images_q=tbn_ANd9GcSzAPsje7qE1ylgUo2vr01v8oUQqAFZHCdcU_aYKru_H4xPS4MGfw.png',\n",
              " 'images_q=tbn_ANd9GcR5S1CxSWqAr_r-85UFUckgJZ9WkmGMHycY3cVWJ-NIGgSt5_TQZg.png',\n",
              " 'images_q=tbn_ANd9GcSBtVvYYhdRWm8T1exHJM5ugEvZZz5dpzp7l0CPCJghtNktyisw.png',\n",
              " 'images_q=tbn_ANd9GcQU3h3FOb6bZNUQa0Ex3usGod4fqPcG2U_UKC4rOYKU_Tok4PH3jQ.png',\n",
              " 'images_q=tbn_ANd9GcStz6H97Ucd9OPr5bxM6uyVU2WKMr30PNnbbjiqV2_g1P0CA0ft.png',\n",
              " 'images_q=tbn_ANd9GcQl88Yiap5xJv_HPfy3NBsHZS0fIqQmVoCNsbrXV3qqZuN5XedQjQ.png',\n",
              " 'images_q=tbn_ANd9GcSTo_lwlo8qI2LcQd9knD8rarS7P2G1iSuwRCRAr7i3X0xZiHwk1A.png',\n",
              " 'images_q=tbn_ANd9GcQfzCMY7HYRNAP-rYweGtQGdhnLKuowNBRfN4pw2z-5YoJeB8rQ.png',\n",
              " 'images_q=tbn_ANd9GcT6LypozuYMWFa5kE2zSs39tjiafuc5APp9x-gpmQTPdxcRM0LqJA.png',\n",
              " 'images_q=tbn_ANd9GcT7b4yUweh1v4k88mnisaYqf0UYhEl-NL-ICb-OLVW9_N87LaQo.png',\n",
              " 'images_q=tbn_ANd9GcS8iUgqzfsu_mycACYDpuALyttGqWf3JEycjIyfmhKxBDudNPnMjQ.png',\n",
              " 'images_q=tbn_ANd9GcRdLA-TRhssLewNLzcR2HA2fsKLU7XC1tvs3eg5YgbAbVj_1dDE.png',\n",
              " 'images_q=tbn_ANd9GcSN9RszRAKYsmyA--L1_tcBnUhwH_Ng7wn1bWNJ8lOAbuCdYea8.png',\n",
              " 'images_q=tbn_ANd9GcSp_7abDamuvU0Dl_rEnQt0Y4Jgh95aR1s9c_pgaOH-oHGRPAZG.png',\n",
              " 'images_q=tbn_ANd9GcRoX4Z0P2OmGx5tVMB1hIM_ZJtgkhC2g8bk-YIASBkjKYgI_rTq.png',\n",
              " 'images_q=tbn_ANd9GcQPYA5uEr3sSnl0EM3H5vdmOLZjRaQCtRRoDC3oN7104gjUNSfg.png',\n",
              " 'images_q=tbn_ANd9GcTlBSCpuceVQHwDhO0YLzAXnMZB7q3hpB-REsaSA3XOsxG7MeFE8Q.png',\n",
              " 'images_q=tbn_ANd9GcR-qVQXpTVcXa43qOfeZqLNqjYl0oQKsbmD_OebAvSuWQuQvsV1.png',\n",
              " 'images_q=tbn_ANd9GcSOyHAXxCKpEe2S0hq4kMw58nHO8M3e_GsifDL75lTv5o0ZaOXZ.png',\n",
              " 'images_q=tbn_ANd9GcSJVYrLkuTwAPnwZKOxOw189IzlTxwEhXg7jpDHmSpMu7pPRAU.png',\n",
              " 'images_q=tbn_ANd9GcRrrVmHvCHTUCVK3PF5yjbHw3d4iQTAShxOmAj04KBoEZ4hw-oU.png',\n",
              " 'images_q=tbn_ANd9GcTXQD9dIhEH4i8qHoDYLtkNyrhWEoo3ENY6dhZVyZSPN2Mk1xdGyQ.png',\n",
              " 'images_q=tbn_ANd9GcQMhciVXAnsy02IHECSs3qJcDsPYbSGDb-_mSQWetIaN2qgSTcsDQ.png',\n",
              " 'images_q=tbn_ANd9GcTuhXNbQ7YIaBHJoaZrIdQVbeDhvPusaaBDBZyCoQW_LG7hgf1-.png',\n",
              " 'images_q=tbn_ANd9GcT5Xa1x8FGQzkZTbmg7NC3kwiFqnj7gPvfOV15oTF6067s85BJUJQ.png',\n",
              " 'images_q=tbn_ANd9GcQ1Xb8KOErw2Ok1MmUPHIwMNiVdhxA3jztaxqrQGu3YCzqAgmB8cg.png',\n",
              " 'images_q=tbn_ANd9GcTCVo8rT5Dv6d6Q7wkL05GjTfVXVYvjSj3w9vjW7kxqa9Egurhobg.png',\n",
              " 'images_q=tbn_ANd9GcS2MhDL1RbBcuasEkHx7Gy7S5LiZPdbBFksf5u8wPeiuAXJSBjF.png',\n",
              " 'images_q=tbn_ANd9GcTtXdKBl4E-hGc8_NYd2-VAqV-GW6j4-kglNfWvCk1V8J4851l5eg.png',\n",
              " 'images_q=tbn_ANd9GcSMN_MVm7tkEEeDDrSQQQe_ui2qjAHh4spGlzfO9cwEcO04DmLV.png',\n",
              " 'images_q=tbn_ANd9GcSzcVrqlggXY8C-EwWR9SjP1EqcQZ50p8h5bErhgtr_9Y1LTpCA.png',\n",
              " 'images_q=tbn_ANd9GcRIpE8rpX7C6EH_lSYZx3JOQsbEbPRqLs2rOuUj6pvN1r98xXI.png',\n",
              " 'images_q=tbn_ANd9GcRBwmzBw6Y7ph8NRyKDbPOsWGwowvxHNLWEOvpODn_xOrj7IFfNTQ.png',\n",
              " 'images_q=tbn_ANd9GcSXxwkHmDUmmejrpdq4DWUjavJC4cR1dkIsDZY5LZ_x2rW-Zj8ESA.png',\n",
              " 'images_q=tbn_ANd9GcR0qKLkmoKMGS6MLC4TfpPXY6DFQERCQTCCRo5XfHEJv975f5Ci.png',\n",
              " 'images_q=tbn_ANd9GcR3fPq6hFS7vPpVWQ-NjTGAQ_HihZRyzNOmzjARpKXSChLonlfX.png',\n",
              " 'images_q=tbn_ANd9GcQts6-9MK0pzzQCt6gIBFK86JWoFCuzJNKhq4DxyGd9Ru9BAXorcw.png',\n",
              " 'images_q=tbn_ANd9GcQzcHOELZUAFpN8giH9Ax9PdmZtKk7mhS2d0oEbljB9aweBgGQ5.png',\n",
              " 'images_q=tbn_ANd9GcT5TrP66ZDibqur_6NGN5OtDNVXiWpxM1vxvvtPgGSAWwMYVkOwCQ.png',\n",
              " 'images_q=tbn_ANd9GcSaG-xzo1US_63p7qK0TWL-6QRaf0PmoRtzip1U7xFHMhJdwplL.png',\n",
              " 'images_q=tbn_ANd9GcSm3XZXy26HA5c-0x9IdCJMifYL0B-lHIyMMMPZDKsqvY1GhAiQlw.png',\n",
              " 'images_q=tbn_ANd9GcSJ8tVcjG8Xf4spp6dvZwM_bPdWfE7wZwr1-BMQQgozsag6FBwsdQ.png',\n",
              " 'images_q=tbn_ANd9GcTCqsQ3Fajm9s1BOWBEXOrlYB2d3XHPpJJRtTfKAhC_R6eGM224gA.png',\n",
              " 'images_q=tbn_ANd9GcS5MmeVFnhhQ0KSaNmQVOuoyJCy2kTarZ82JCcNn9YZctRFf8R0Ow.png',\n",
              " 'images_q=tbn_ANd9GcQrUEtVU0nQ7AqHRSn8OnnOxqGxNhil1FPbIKJyeYPApPP1SKZc1g.png',\n",
              " 'images_q=tbn_ANd9GcQsjmhIT6qwmjOCeU9Bjs9e-L9quqtZZFqX8cNnxmAiyuCcq6Htvg.png',\n",
              " 'images_q=tbn_ANd9GcSoz37jJDPBge7emyaLf46mGZd2EF7rH2DBWgQ8zFQkwS4ok9fi.png',\n",
              " 'images_q=tbn_ANd9GcQTYpDzcRu5EbGQh_oo0NuYWNFHtjxYBxCixwYTtzRHQD7kpZdBDQ.png',\n",
              " 'images_q=tbn_ANd9GcRPEegH5lzrfoezTWIHZhIufBE-4hVdQ6NNV7eVD0L0igumjaSncw.png',\n",
              " 'images_q=tbn_ANd9GcSDICI7ogo7sErngnIXXdU_aPgJJ-nrXtFbAT6S91M_Rzyz8bXkdQ.png',\n",
              " 'images_q=tbn_ANd9GcT6ofNO2HbDjI06YkEgR2AiAxHuAeaISBzQlh2ttwoKNd_X0ix8Ug.png',\n",
              " 'images_q=tbn_ANd9GcR3RVUf2fybJyEqaLfgYQp6g0KBW7Ww5yuYKza2n7yv3HQWHEh4.png',\n",
              " 'images_q=tbn_ANd9GcTwjO-dGkjgitxzGqDZD3dCxmAjgmRa_WYkjFe8BXGvZbtFaspT_g.png',\n",
              " 'images_q=tbn_ANd9GcRl_xQpM-gdyTQBlgMKnaQ14fGvl40IdBHVmEycGJvE63LK3Wzw7Q.png',\n",
              " 'images_q=tbn_ANd9GcTc7otdEq-R4VffzZYn_o9mf3NfpdULbF7hg_FiKHnn68zrNtKxRQ.png',\n",
              " 'images_q=tbn_ANd9GcRy6K_0rU3x3hJHL6BmASMM2dIgq1Nhm0wiikOLmLlBvbrf1IUR.png',\n",
              " 'images_q=tbn_ANd9GcRV3zzyLifjcPd0r1lzpM3nLU_HlG_xywApd0MDRQfqVnRYyPYZJg.png',\n",
              " 'images_q=tbn_ANd9GcSoae2O_WfIvcEmQB966qrxStvQ-fEe22ixZJyf7Zndfuc43Rr9Ww.png',\n",
              " 'images_q=tbn_ANd9GcRdoC9DbhuL7wIZJNLj0NE7otjNAl36LvVie23x5yB3GjKGa18jYg.png',\n",
              " 'images_q=tbn_ANd9GcRnbRWHDKYkAGyjRT4uzptHHr6cJ-pIfm_1E1JP7gOjbxrgM7m8hg.png',\n",
              " 'images_q=tbn_ANd9GcScBfzQ24pYfQQX9vq1i2haXmBvAC4UNd7jBwkIBbFGeiDZM-HmTw.png',\n",
              " 'images_q=tbn_ANd9GcSaIiA2Sz9_Tm-8m1byhv-23FTVduTqns9EL45jRYa0Hky6VmHGgA.png',\n",
              " 'images_q=tbn_ANd9GcSRdqhuV5BFBrocFRAjUHeD6RUWaaJnPM-58dmZvrknbthCupSWMQ.png',\n",
              " 'images_q=tbn_ANd9GcTGvSJ-KM1OkOKRb9-YDCgOUY4V4CbD9nDNO0V1o_PLRh458pxeXA.png',\n",
              " 'images_q=tbn_ANd9GcQtXS3PCHPz_MkYuBpMJlmFVD3Daz1LL6fBf0ZL4RuhIYpWtnQ8.png',\n",
              " 'images_q=tbn_ANd9GcTW_9SJXzZvbHmDQGrbgQU_TWbPU1H_91pESWH1eWnWJj8JF18MAg.png',\n",
              " 'images_q=tbn_ANd9GcRUXiDj6zWzIKKejjQc9WsdZ8wMmqMq2VSJsdi-HGIKuvBdZXEl.png',\n",
              " 'images_q=tbn_ANd9GcT1H44kYeDAdLFbmQF-MFl8xRTs9InXF0fFN4Fn1VYSlFi3ENhn.png',\n",
              " 'images_q=tbn_ANd9GcQoEQDUVej1qfetTiggsPfMijj_K68s36aoiP6B98PmSFVe7RwF.png',\n",
              " 'images_q=tbn_ANd9GcQfBhOsSv2L9OjMQFpU8GBH39utUVZ6pdpqrdxiuh3CJnm7GwZ7.png',\n",
              " 'images_q=tbn_ANd9GcSUK6bmwj6olGnjEkY_FwHEqnKOMds5TZq_wv39-r8mauFQDa05Lw.png',\n",
              " 'images_q=tbn_ANd9GcRVC4R5brB6z9pCdjXO4XVeGY_doh92lI1aB5l3VACycjRyh2Jd.png',\n",
              " 'images_q=tbn_ANd9GcRWt7Dlos2A8Cbx9TsZLoihq6iMyEREW0fm8PLc1cxGYYTuVTPY.png',\n",
              " 'images_q=tbn_ANd9GcRHjeTn-QsWHrz0DzTpUwnKvjrgwZPOwKil4hwqghZz_Ylkkwh1GQ.png',\n",
              " 'images_q=tbn_ANd9GcQxXquHOTHok9lzC6qOOqVasmEX9YIhJjCcZoG_Gl79FXIgEHBWWg.png',\n",
              " 'images_q=tbn_ANd9GcQnavLNT1zzjVWdjvVPm57IM-AT7UV-KlgrBsPe49mgRQziM1SsMw.png',\n",
              " 'images_q=tbn_ANd9GcSaU5f_Ne4C_Dyd3K2b-b1AQ-7sjyjrfrM85WUe_PBwaiH0ZHjFvg.png',\n",
              " 'images_q=tbn_ANd9GcQe8FObX7ZJFubP5gEPy1sElPa5tnvWd-53AI4oB-aa6w4Pd9fi8g.png',\n",
              " 'images_q=tbn_ANd9GcQAj3yG123m7wceTlAAy3G0QhwitdLNjyMsTVx_biHhkTC7xulekQ.png',\n",
              " 'images_q=tbn_ANd9GcQZ81lJ6jGwTdSGhVlCPAebsn2c4d3dI9K7Dh6TWtxOHeUTM_XJQw.png',\n",
              " 'images_q=tbn_ANd9GcRQS28Gtg1hIGtYWrw2KTt6gEsj9xtx5qa1QKqAUBnOk6tmjmiHRA.png',\n",
              " 'images_q=tbn_ANd9GcShM72RSYhkGWdWgpfAXnHuy_bwXx6hyVI8ENBwOHtlYdCf_mDUcQ.png',\n",
              " 'images_q=tbn_ANd9GcTFMxU1bW-2Jw6T3fgSuarjyG20Qek7hrvFa9qd-atZmhwaVUL9.png',\n",
              " 'images_q=tbn_ANd9GcSD5jW3b_iMSjRIxgprz77Cg_Rc-iRoH0q7P32Yes6pzSQ7Vf8fvA.png',\n",
              " 'images_q=tbn_ANd9GcSPJZ8BhS755-ubwuF-mf-G6c4TpusSI3nsEnMooR3u_RRYQewT7A.png',\n",
              " 'images_q=tbn_ANd9GcReVDzw9J22ZrcWhbrHFKzMGOsytsbEzuu8Xv1kg0WXRLu8-Fiw.png',\n",
              " 'images_q=tbn_ANd9GcQf-Iyrhqifb7Bplgfvn0af51EorAzigeNpugpNkFRCvx_goAGbSw.png',\n",
              " 'images_q=tbn_ANd9GcTnHwsH_rL4-6WxBS0e33gZjWXPJhzLspTcKzc0CDd19dUCfP9sHQ.png',\n",
              " 'images_q=tbn_ANd9GcRb2RMMMeoMizgWgOUdvEDI8doBLLRufa8LQTTTVoPVDvzSH1KSzw.png',\n",
              " 'images_q=tbn_ANd9GcQv9KhHV9OTskjz4qIsoHWry0NzV9DBcmoRg9JN-oO59bGeG02B.png',\n",
              " 'images_q=tbn_ANd9GcRqLAxkQDgQoV2ftCT7qD60IyDWUWzw5n96eBZfajIybK-3QLRu.png',\n",
              " 'images_q=tbn_ANd9GcSdR69rNU00ut9FnqXjztf-8WWIrI1jMzkk_3JnbSwwSVRPLeiy.png',\n",
              " 'images_q=tbn_ANd9GcSeKrwnbEOoDPWr-2xilUDwCyw5tkdevO9uZAJfuqHjz7iszSDQVw.png',\n",
              " 'images_q=tbn_ANd9GcTqTRNptfDy7_4aF7c9RsIQc3PI-sOpgkH2J8z0nScsFZpT_UYAlw.png',\n",
              " 'images_q=tbn_ANd9GcS5e_Y6tFmA0L07-eqO8BIYXLpQvkvloyDSnLhk4uI5VOvUaWtD.png',\n",
              " 'images_q=tbn_ANd9GcTEryROuPo-4OG3xvPkrRrjjmmrcI0twzq_C46e9vHcMpjmGAZa.png',\n",
              " 'images_q=tbn_ANd9GcQWpdcUcY-LD55KiMtGeh2he3JqkYWXXu_znuvX0fFSLjWnDSQK.png',\n",
              " 'images_q=tbn_ANd9GcTYJkCh5HMoYPachDW3uQiQ4LwZXBcApeFpMziyOQwjn3qUcn_HDw.png',\n",
              " 'images_q=tbn_ANd9GcS1EaaluELrUeFM1S0bb5vt6ZRnsuaJJv021TAG4DrAa6B7oBJZ.png',\n",
              " 'images_q=tbn_ANd9GcRV_w9RR7QaxjjaMszxD9Gt5LBwqzR7AEhm7uIMXFGAnZaOKMIV.png',\n",
              " 'images_q=tbn_ANd9GcSUZBS6MKkmN_Kf7XoOVasmfg-vCDmMLkdw1bPBaGV7WE92RcAk.png',\n",
              " 'images_q=tbn_ANd9GcTmidDeI2GrChRiZyFRQsbw9HsJJn7wfuF1R1Gq-mAKhuQHZdig.png',\n",
              " 'images_q=tbn_ANd9GcSbN3doW2xEYPEL-SGWTFBaBFFZKreOb1xwEF8-NKzAmdd6r3cK.png',\n",
              " 'images_q=tbn_ANd9GcTUxRgEt3nqD1ZvW6EesHpGS4vGocuXQGjK6lUGlRzFp4cxz5H7YA.png',\n",
              " 'images_q=tbn_ANd9GcQKD33s94VL0XIiZ431KPkTF_AaP8UoUrginYzwVKT8COGJrjZ9.png',\n",
              " 'images_q=tbn_ANd9GcS4PvW8HWALqkdtOJA2tgVirR2V0qxaYAsOeFbZl8cWV2CnFXGB.png',\n",
              " 'images_q=tbn_ANd9GcTmbpPQ7-gOSNrt-bw_il7s0fqs4_P5SLy3zxqhsNepkP6-mrgBRw.png',\n",
              " 'images_q=tbn_ANd9GcTpEhG6y-KSprG9pg5cOz0T4yrUT0y5fcapQ2zwBCD6ezpdhGEeVQ.png',\n",
              " 'images_q=tbn_ANd9GcQ10-qWPzpeJJ9obXhTDtnJN1lxNmXu6oFQWl-n8KY0BXvnvveIsQ.png',\n",
              " 'images_q=tbn_ANd9GcSScCDvVQT8nycqnxZpgzxVWGcNY1Upqk2lp4P0fMxdieviYhWV.png',\n",
              " 'images_q=tbn_ANd9GcT1EOE2VOqobomKSCM0cxTGctm4EbSH3HjFKR1cxUC5J_vMLvhf.png',\n",
              " 'images_q=tbn_ANd9GcTTsOUgEcXBMsR3SBIv234-lW-6y3OijqV4UI_kU-R-3lV8pJ6a.png',\n",
              " 'images_q=tbn_ANd9GcQ7sCjU1yXgT6c8tEBz2s7JF-l8bSgcWWguJk1jlI1T_cHJnISYbA.png',\n",
              " 'images_q=tbn_ANd9GcRV66qE_e5cPG_p1zF74KPds3G43SScEDV0raCKW-pRRn9FED7SHg.png',\n",
              " 'images_q=tbn_ANd9GcTxuw7HnW25qRwb1zk0bDt_VQ1Diz3KMYbICnRFR4-u-Yo34oq1.png',\n",
              " 'images_q=tbn_ANd9GcQH5YQKeL3WaCMIlimwDLUD-W_TxaMr5WJy29lu5xDoAz46BZokBQ.png',\n",
              " 'images_q=tbn_ANd9GcT1-WqRIGroAdq-6Rn-HUP-TxtzJVPgX2hXhRl4XPdEP8dOZpDLew.png',\n",
              " 'images_q=tbn_ANd9GcTtfXjNA2sdRiBlNNPrnAakfPc3TXBbgMKI8O8QFCxMdxsGX9MRXg.png',\n",
              " 'images_q=tbn_ANd9GcSDSGct895kbqsgeNEy3eNyANGsrsZ4AsC-wM64OjpBoBmmwYKY.png',\n",
              " 'images_q=tbn_ANd9GcQFekQnqfjSk0ERxIQKdIv3SKsMsFUJbMNrCYQyksztikuisD1R.png',\n",
              " 'images_q=tbn_ANd9GcT5EiRCwS9tRSfjO_PF37W56hF9EdzuS5IfwK7KHus1wJNpPcXJ.png',\n",
              " 'images_q=tbn_ANd9GcQSOwL74OaTlc47jdBp8c6yjbK2rASUlPh7ul-hY7LGirBmpS55Iw.png',\n",
              " 'images_q=tbn_ANd9GcSeMSD-4EtJx0DWKh6Dx2PJV7RAluxi2e-xkYbBnFnWq-nk7WVOYg.png',\n",
              " 'images_q=tbn_ANd9GcROzQyh5Avc6-iXzaZvGhFXltfg3PB-AIMrciDo_iF2kESs4g2mDw.png',\n",
              " 'images_q=tbn_ANd9GcRH50cwTGEHRz58sNzknr1xq6hYdULbRj_m-_y7ot1yzIpSM40l.png',\n",
              " 'images_q=tbn_ANd9GcTtKZSfz4564Q5CyWHCxM6REcDzx0tAGwh0bDRRnowgIJokMStA.png',\n",
              " 'images_q=tbn_ANd9GcRLyXCHfBZz9N2cFabnx5AK4E27WwpkqYgwB_2u1mUBVkHvgKKR.png',\n",
              " 'images_q=tbn_ANd9GcSzUMSSbmB_Gp-PWN_GOI3hI2QatVYMAwDngi0ryzoU4eXqhoVC.png',\n",
              " 'images_q=tbn_ANd9GcQGyiOXfv9ZGFEfahhYeVuRtwxZl-xbzYMVZiae_w8VdHFleIfj.png',\n",
              " 'images_q=tbn_ANd9GcRZo0JvGtzEAjWDecBCDAsO1jqTYf797dGk-UnK-BiVDHm7_aNgtg.png',\n",
              " 'images_q=tbn_ANd9GcSp-il5Rtu_IqsMXg-PwPNGfcRC8R2vXdXhAywFNJ2sgPWdWRN6.png',\n",
              " 'images_q=tbn_ANd9GcSG2MwR9MmIvkkk784vBFm1aZPFInkpyIu8dkb48MF91p8ZHiAxCA.png',\n",
              " 'images_q=tbn_ANd9GcQCBNfixvK6FPIsFO0h2VCOZD8nI5Ec-HBsvs0izb4wc9xI8ZPv5g.png',\n",
              " 'images_q=tbn_ANd9GcTkCh9d8yYJzvYvsSmYPZqgk_6qOJ1Qt20_RWrLUmuaXWrRvaCkYA.png',\n",
              " 'images_q=tbn_ANd9GcTrdD4gJqRXbA8kjnth-HxAqFBmQvQWpZnEUkSkg0yj8xLH15_ueA.png',\n",
              " 'images_q=tbn_ANd9GcQAllAVAnN48wgWBt8qrWOHJY-Nf6cFxGg1_mFQqZGy3BJRUo1S.png',\n",
              " 'images_q=tbn_ANd9GcS_ismXuUeyz1KXjPON0H8tItJ9dx0QrLwvfSuFZmVYA8sNIKDHYA.png',\n",
              " 'images_q=tbn_ANd9GcSuJ33jlGHULC10G85ZFD7XRiyiEwLd3eeOiUzGu6cf0HP634UV.png',\n",
              " 'images_q=tbn_ANd9GcTqlYwL2DTjPoKXkh4uV9gq1oItkhhA-xzpu-vtetMfUkn9WDKK4A.png',\n",
              " 'images_q=tbn_ANd9GcTe1RXOy9H1ygJcVUlzQ8qTmt4ZvgCIZxiB6QkSWF1IS-madqLF3Q.png',\n",
              " 'images_q=tbn_ANd9GcTLKAMyltD1MxS62frUZObcSKQ1vyj9WtUpFNf-MmbUujqTuLnkkw.png',\n",
              " 'images_q=tbn_ANd9GcS0svSSBJRfeKHia1zEOH_IJR_C12VfzsqgJBhABfVI3dgWQvIc_Q.png',\n",
              " 'images_q=tbn_ANd9GcTyamBtsQ_f0CvCDd48iBtlXNVKektTokVIhbO6PtkQraMeNSplFA.png',\n",
              " 'images_q=tbn_ANd9GcRsA9_TGytJZ-5yeYtr6gCmROjMX0aeD378vuPY6_8mYUDt-8Keiw.png',\n",
              " 'images_q=tbn_ANd9GcS-OKl0hgkf_tpx6wnBbocBdqiM3GfWC8PLSC6WdOTclummBpIrWw.png',\n",
              " 'images_q=tbn_ANd9GcT0TixLBmgvqGrJK74DHEkW88828NZZ_1BmN5-PPiMD4Cb8NXRqzA.png',\n",
              " 'images_q=tbn_ANd9GcTAtw-r3b7dxY5Arab6DGdiCMpgzpfJV3wWhknaY1c0Sn9yM-Db.png',\n",
              " 'images_q=tbn_ANd9GcSPRo6LHgug-geV-jx0JcEvFUUwywf85XVujfOuPJcJKd3iL_pz.png',\n",
              " 'images_q=tbn_ANd9GcR01wfv7QvMB2cAh2BcFqoD-9BMBDTUr9zvqd0FIitdiY4_PX7G.png',\n",
              " 'images_q=tbn_ANd9GcSeEnm6mfHdJcTmGZd0y3AFLqq2pRPQcvz98cSMNLIY4ur-u1J-7g.png',\n",
              " 'images_q=tbn_ANd9GcQxBVhEmT2coXdUYl6GbdmFretOI9Ua4YGhMTb6-5JP3DNylZR8CQ.png',\n",
              " 'images_q=tbn_ANd9GcSRSX4pY2JWiFkL7lBlAscvVAI_4JWE8h-ckA0f_PzNEf-deGfLww.png',\n",
              " 'images_q=tbn_ANd9GcQwY3fPSHxZmw1T2bQ7f04oQ3vYtpE9mcj3-L25IpYjDlEfGRDLgA.png',\n",
              " 'images_q=tbn_ANd9GcQIa8hNnFiE9Eoib1jGSECi6MQb5AGAYLxoK6DVPJHY8ml7E0qFMA.png',\n",
              " 'images_q=tbn_ANd9GcQ4UQXsqqM-mOLpXhEPGFyoSo7lgm_GxsIMap__Fm1ieDkT8-vppw.png',\n",
              " 'images_q=tbn_ANd9GcSt_CzjeVMKk3S0zF8IA5TGLom47c7mOXIxNCKegRLDfaJDb18goA.png',\n",
              " 'images_q=tbn_ANd9GcQUUPFEY5hcVT8PM1CUmXi07TNJpl-Xpt7Xyt1cjHsvoNV05bLdMA.png',\n",
              " 'images_q=tbn_ANd9GcThTjvMx_nWSkkFmnZaO-hEkAbdwOI7-B-aIx21sfz_pWYWSg-V.png',\n",
              " 'images_q=tbn_ANd9GcSEHiIoKx01dkkJf45PJfqPeFAA8zq2DWR6_6PKEIPmGTEWkAkjhQ.png',\n",
              " 'images_q=tbn_ANd9GcQpTYaRoRU8r-3SyQlY95H-VGbEjm1bdqMJPIjMQp7ocJ3WEsVxvQ.png',\n",
              " 'images_q=tbn_ANd9GcRVnd6gNhI8Ih6CvIw4N7znNzKwvSQ9GfQ_i12hFRI_d0lq2F-mSQ.png',\n",
              " 'images_q=tbn_ANd9GcTlx3IwdCdKOKfrWucmr4EFMS3s3qW4yof4qXabt_VBgGYeZ_gl.png',\n",
              " 'images_q=tbn_ANd9GcRG1TaYSEIWjMKFbcT3nxKwCJ0srXCD0I6_42A_9fhv8bfrtcpjBw.png',\n",
              " 'images_q=tbn_ANd9GcS-Gc1xFjHCujLMQ4EWDJ7q2pZH_963ETVXXHPPlGEV44FhfxFzlw.png',\n",
              " 'images_q=tbn_ANd9GcQIGx6nNXY_ZFU46_xRz3gYDwr4jfVMUukSM0WOMkK5ciTv35fR.png',\n",
              " 'images_q=tbn_ANd9GcQvrXXz0OENXE8wEpQZ75jKn_cTihD3_vuizxVB4EmpSE5hzoh2-Q.png',\n",
              " 'images_q=tbn_ANd9GcTxjgQ7d1OBCZwOrgxBuA-kuPe5jEFnlnR90zK4BCrwI_ltQXpu.png',\n",
              " 'images_q=tbn_ANd9GcTrNr69HTvMMCEFzQ7OPHXJh7abQoumUJKVhCY-v8AS2kjaF-VT.png',\n",
              " 'images_q=tbn_ANd9GcQ1Z88YefFmpowXMs6q2zbsAPccaRTjOegD8SChVvLkWB9pOta7QQ.png',\n",
              " 'images_q=tbn_ANd9GcR319vBg7f9boKpEmo3SELRdotT1Dl0FwMbyHa1fcrY_TkV07sa.png',\n",
              " 'images_q=tbn_ANd9GcRlTUGWbUm6vnBhcbeeBwZGc0yEwO8dRDmXkd_n1WBSMOaEez9D.png',\n",
              " 'images_q=tbn_ANd9GcS1CvmkF0HgD-C_tgD4Gxzt5tbw9G8bDCP1PdtL5dw9-AREpYkPvg.png',\n",
              " 'images_q=tbn_ANd9GcQ7VYDxD1alw9TGiLz5rYipdGBP0BdcZqO_MQBwSiqFP2tUMUA4.png',\n",
              " 'images_q=tbn_ANd9GcTufi7kvYymaR1aext9cZSuF1yo4vVoVCAB-Gga49QDauOWD02s.png',\n",
              " 'images_q=tbn_ANd9GcQrD3stfPrqm-UVKMpfPgwArVwLAURdUvtwRx9lMTz9-jV1S0Nl.png',\n",
              " 'images_q=tbn_ANd9GcTzOBvXt1VFtWO3J9JbxuyOXG3Ki9eM7iwM8iuDDqx9uFGZKze2fg.png',\n",
              " 'images_q=tbn_ANd9GcRV5xu7-_Wy-rWi3-7zzrd2P9BPXq_vMeB_-IwEGfkR5OHAgXJg4A.png',\n",
              " 'images_q=tbn_ANd9GcTo_-j6SiRlXXybzAXeZVGmDeUS4wGVWHB5E48zVTIE_RMIR2wl.png',\n",
              " 'images_q=tbn_ANd9GcQk4tZLESS4ZzYTGtf1FPLTqbx4qK1ixBkVSCGKkaMv67PbPgdu.png',\n",
              " 'images_q=tbn_ANd9GcT_xQJgfCcIspjyduQPw6DyLsZ0g5lxQdnv3_Wydd5Wl2Lsky8h9A.png',\n",
              " 'images_q=tbn_ANd9GcT1J0lhBEmuesulOf69R2ZY6SVYF7D8Q-ALNhlpPagnez-LrOcY.png',\n",
              " 'images_q=tbn_ANd9GcR-Xn7CZl0bQXj0QCgzKFDQL3lsHxOqj88fhSKBCCkCdd3Q_CohbA.png',\n",
              " 'images_q=tbn_ANd9GcTZSJsvpQGXk-PuCrfmu_v74XYxx5xqu7Yq-Ogzrfe45_RF-drU.png',\n",
              " 'images_q=tbn_ANd9GcQPY4XVQF8NfZCeTi4AZW6gUexhNX4wyyWc9ivJfOW4wuPZq1H9nQ.png',\n",
              " 'images_q=tbn_ANd9GcRWNtE7v_K8QrUt-CH9cCOeaMpi7eNUxJnks-AJjjYhUSyB5ZC6.png',\n",
              " 'images_q=tbn_ANd9GcQITTRZcoUBVZHFQeTjZjqxEHxgHz_RUX3WEOgZkD8qKybeG9yanA.png',\n",
              " 'images_q=tbn_ANd9GcQL02EhSeQj-lIVU4iV7lfZzZLthBraQIx0rx1vcoA6wpvOhWaP.png',\n",
              " 'images_q=tbn_ANd9GcTQbX1AIJUIFzb23Wbh89cqD2WsBOv3h4uAOHJnM_58tSlLsltEzg.png',\n",
              " 'images_q=tbn_ANd9GcRDoH6LQ9NPkE3zJ4Z1pB6UTRpsFaZ7r4tNQvAAYKcf5hDzQZM_KA.png',\n",
              " 'images_q=tbn_ANd9GcT0i75DjmqTGznG7HV8G_YlXqR0rh-75OYJv6oYqyisiwNNIpQipg.png',\n",
              " 'images_q=tbn_ANd9GcS-ByiYFBCmNPEnsqcJhHebiG__i68AEoH5l0V3McMqR7Fh2n6tkA.png',\n",
              " 'images_q=tbn_ANd9GcRtQmcKRjlKt74OjYgJHUfHew3QzqVoe_yVmwMyEUfnfBi7r1DiHQ.png',\n",
              " 'images_q=tbn_ANd9GcRAQCiUH5B003tccbTjF78iIQnqmwWOIHP87mmQFM09mqn3PJZk.png',\n",
              " 'images_q=tbn_ANd9GcSkaeEUX-OgEB8woqtX-4tsOEJIZ8lJeglEVc11ARNKGaragWDebg.png',\n",
              " 'images_q=tbn_ANd9GcThR28pFj3NN0toSu76e_46DA-Ly49-HxP6jeZfxKbNQLvfg7RL.png',\n",
              " 'images_q=tbn_ANd9GcQtK5zrOInIvL5mpJxmZh2kvrAsO_xUdjkqyjP293xYe1Qp2lYt.png',\n",
              " 'images_q=tbn_ANd9GcQn2Eoulcvyyv66QZc0RQRGrwpKXe7_KCQzrD8TD9-dzxmWz4HGmg.png',\n",
              " 'images_q=tbn_ANd9GcQQ9OH7Jxr12ht-9XNMnML2p400NNpTjoRrgb1Xy4hUgFOy7pbJGA.png',\n",
              " 'images_q=tbn_ANd9GcSwjNpHscH-Breox0KUZ80DdpGl5AdAQXyMJEf-yagNtK3YaAwwyA.png',\n",
              " 'images_q=tbn_ANd9GcTRbPyPSEIgfd1UHcnxhPbh05PbZ3ycHxeDO-OTCFm62qrRy1O9CQ.png',\n",
              " 'images_q=tbn_ANd9GcTU78ozu7EXYHkFij6u1FHvnQjLgjgtoZyz5HKf-cDegcGUVNYCLw.png',\n",
              " 'images_q=tbn_ANd9GcRRS3XTRV107iy_ARy1op4bVj1tWsW26nF8k49MLIDn-tRPHqUv.png',\n",
              " 'images_q=tbn_ANd9GcQvhTsjNSD9mrmmXQ5hn15E5Q_4qpVrJSlNQA6AQ_GfITDuO8IqZw.png',\n",
              " 'images_q=tbn_ANd9GcT2MrShDOrb7qyUbvcRi08XbSnnswTYpztWtiylBShJm__2aNYOOw.png',\n",
              " 'images_q=tbn_ANd9GcTetQJ1Ngbds9nGrWSk_X91GEkC_cD_Y9gkkbydTJNVyGFiIC7HCg.png',\n",
              " 'images_q=tbn_ANd9GcQLaEaLGn-1mR1WkoEXNDXMa4-oXYm95T4iOOSeO0zc4AvO3MP4VA.png',\n",
              " 'images_q=tbn_ANd9GcSDMXd8dNfZD6Z6l6BoXCwRDT4D_yo2YewLOETERUIenEQAgILh.png',\n",
              " 'images_q=tbn_ANd9GcRIPFnh1Gj6Ib7ZfA1dxt0ryxvET93j0b7A9vDEZs3nYtGsJm4Wtg.png',\n",
              " 'images_q=tbn_ANd9GcS_dEim8WPV9hV1GZMwaYEpmxXFaKR00iIqcMT9nIN-CBMclJCznw.png',\n",
              " 'images_q=tbn_ANd9GcTi9t1hsPpafLmbgA7NiipcO8Ku2quKHA02hwaJ-ccBYD_eAVZ0rg.png',\n",
              " 'images_q=tbn_ANd9GcTl6aS3aEVQ7DKMRDOU_ZWK99H4jGdloC22jNH5dSevKVdPPT0zLA.png',\n",
              " 'images_q=tbn_ANd9GcQKe_liWmytGYYZ40Rfvw1Yo0vVJT8h1XxreYPwyI9o4jKMw6Ze.png',\n",
              " 'images_q=tbn_ANd9GcQrJknofc3QW2HXpzPilxHMyuNJEzaeeqEPS-6bP6YHAyuwCvAQ9g.png',\n",
              " 'images_q=tbn_ANd9GcRQoTal-u49zbkR-wP_KjiouXBe_DAu3KuzzllR-Ir6BbHd_AWj.png',\n",
              " 'images_q=tbn_ANd9GcRaVrg1FAH9xLVlX3iGGqM0OXaOXLD34oE6t3wT9F99SSyBuWZrJw.png',\n",
              " 'images_q=tbn_ANd9GcSIA9UTOG-JfX7HuDQ52PghbHYfikt4IiS5lUpMtuSnOEAjnf8G.png',\n",
              " 'images_q=tbn_ANd9GcStyahJPCSkRvyts27eHDPMpmzv6Eb-5mO8hCFjqivUWM5LYnU2CQ.png',\n",
              " 'images_q=tbn_ANd9GcRu5yNc-HO_qFmThxzv2K_oBzx3s3Zy5f1jCP1IZ_SQBSia_Og2.png',\n",
              " 'images_q=tbn_ANd9GcTxMpVsGOWqmxjMg97ilv7AUMM0JTF3vNRtyWtW4Pvv-mQW4UqGxQ.png',\n",
              " 'images_q=tbn_ANd9GcT_mfe1B5Uiv0M5Re4FUrl7wHU51Uf0NZfDFXSOuGdFzrvS10gk.png',\n",
              " 'images_q=tbn_ANd9GcQESyGdfRaq0dTMGudO02q-ybVST4TB-CFpOU7CIAhpzZB9cJKP.png',\n",
              " 'images_q=tbn_ANd9GcQyuTYYckKws1Nw2bD6MBiWjwmwSNXxVd-nJA6An_enIYzYaS_H.png',\n",
              " 'images_q=tbn_ANd9GcRC3q1tPsALOSz_EFzmzxbQC6OkADu2Enpw8vWAQy5xxJCPFDNKXA.png',\n",
              " 'images_q=tbn_ANd9GcQTexrvbZM6ISc9Et-FhpxbS0AjNlDJATieHBHqqbQqvQHBrnvZ.png',\n",
              " 'images_q=tbn_ANd9GcTQTSojUWItuSRRoPylsF3Tz7nP680jmg796k_f40WIIUBjTUsiAA.png',\n",
              " 'images_q=tbn_ANd9GcQtec9pmTKEiT6kqFm36D3OaDjwmuV2bC_2xIlX9XEMPBGxbmln.png',\n",
              " 'images_q=tbn_ANd9GcSdXXtDJas0Gr1Sc3iwx9bZdNf8D89OFLNYo2LeDsm73ojbCVT6.png',\n",
              " 'images_q=tbn_ANd9GcRrwrbcmXfh8zy9Yae_5P2zaZNHOlWXw3TWK7aI0m2f-eB3UPEhFw.png',\n",
              " 'images_q=tbn_ANd9GcQMje7EQ96E9prlzJFRZ4-9LCvyOP07ieB37PBTtigP6IQGoZYi.png',\n",
              " 'images_q=tbn_ANd9GcRW29pIgWWc8lEM4pSBklzLlsKoeYNrMvT-c6nic52_TfyZKuwg.png',\n",
              " 'images_q=tbn_ANd9GcRTbad2D0whe_7HQqhjJYHVIYMBga4G5eIzSN0I5eOlR9gGIgLT.png',\n",
              " 'images_q=tbn_ANd9GcQIilbcBJ_Aou3Vo-8KpyLflY531N543O1EhQ1bDhfdVe9j3a5Q.png',\n",
              " 'images_q=tbn_ANd9GcQhaEyT35ZVesVLEkmfrz4OU74D_NcSu7_ZxgWIwOiE6uyFx5-9.png',\n",
              " 'images_q=tbn_ANd9GcQncibePhtost0HO3usGW4wjAxOdDvL-HGxAeianlK0KV8fNB6H.png',\n",
              " 'images_q=tbn_ANd9GcTEwqGcOW4g7sRftlUsr0Be9H8Mjf-2kt8ZbflZRfF0XNKqsn19HA.png',\n",
              " 'images_q=tbn_ANd9GcTh7aU0fV_LwlCeARw6oFLmxuRyCpjPxEJsVKxOe3jBeYbgDNeAeA.png',\n",
              " 'images_q=tbn_ANd9GcSDc2ANC_AUSkQarrPhUsagwzxnuycQIrAb-XCmFMIE5sJT--rQ.png',\n",
              " 'images_q=tbn_ANd9GcQXfhavlDNge7E0QwRhUr_iJmx7nTOAwuVkgxgPGq1JWhGneU7q.png',\n",
              " 'images_q=tbn_ANd9GcSIZQJDhR6ufIqettfzPyxWbuXNuN4ecM6Y9-bkkwgWazIuPxXnsg.png',\n",
              " 'images_q=tbn_ANd9GcQyM5ow4j5XvXDj-p6KbsY7PW6PLPytDwErLiBOnsKIHtqpKEyj.png',\n",
              " 'images_q=tbn_ANd9GcSJwFU_Mv6v5sAFhgZEyGEz4Czh-WhScWxFfb24VnlsLXHl7BIfpQ.png',\n",
              " 'images_q=tbn_ANd9GcQC9NdjKAE5CNSSS7zlPoOn9Cewu5H-y7404XVypjPUkQNCbhzT.png',\n",
              " 'images_q=tbn_ANd9GcSSnHqG1B9oBMDs_rgj_CcCFzyccKc0L_rHJnzcbpXfzikeaGYy.png',\n",
              " 'images_q=tbn_ANd9GcSN3IzXz9THA8e85ghvhUE39wbJAaUBxi3vINNQuXScAGqP3uF5.png',\n",
              " 'images_q=tbn_ANd9GcQMtkNwfSwfGj8FMzxiGVNY4VtHUcgKfBjtWJmhAl3cMGm5aSWt.png',\n",
              " 'images_q=tbn_ANd9GcQFdXw3TQLvE5H3m9fcEDwZtQ-L1PqRlR5yclTuJxc_LFFFpBxV.png',\n",
              " 'images_q=tbn_ANd9GcT84QVjmJBRtLMic8JRoYF4-HKQJJXClR0Wbjqcfuv24vIPXLbo.png',\n",
              " 'images_q=tbn_ANd9GcRPE6RcVP52RWcGvhzqSlvIp8GHX_tTFMVC5NWrPUjI3AIIWrbr.png',\n",
              " 'images_q=tbn_ANd9GcS_Gbxtunkt0ehY30X9cHznPGk2yvOB5lEcaCKfcEH-hym5ZYay.png',\n",
              " 'images_q=tbn_ANd9GcT66qaEmPVBS3y0OgOFweMj0FCx5tGZzxriuk8h0DUWREh_vPTX.png',\n",
              " 'images_q=tbn_ANd9GcTslsXK8vy67YxJUSHaN9674X_BpmMtY3PIXl3pOnE1zTJwPIRmNw.png',\n",
              " 'images_q=tbn_ANd9GcR8hLoTlvXdo2f_4wqPNX0Id56Zc_sdCeWzfPF9bBzGWKuQE2l7FQ.png',\n",
              " 'images_q=tbn_ANd9GcSXf6DhD8Y8BrLqMLrQXS_rDom8H34rnSHbcMHm9rm_fKt__8mLIw.png',\n",
              " 'images_q=tbn_ANd9GcScf3SJVNzWwV2jIzIQs9WCeX75U2aqYWMUe1Qu3RbX2cqA3ps5Wg.png',\n",
              " 'images_q=tbn_ANd9GcQAbrK999d_3rVmAHYlii2jyRGB_DAFG80RJV6dxPdM6GUFqFCAwg.png',\n",
              " 'images_q=tbn_ANd9GcSRKIHiAw_DABeGjLfSW_T-ijk7kNXffAVdkGyhwwOGquuf3oyV.png',\n",
              " 'images_q=tbn_ANd9GcTM6aYMBsPJVny_u_bZpD1iC4IbMFZQUax66ZQu8kpAiKM0VTGB.png',\n",
              " 'images_q=tbn_ANd9GcRYHNrzN0KXATg-6TwdPSZwh4bI8UxV2SHtFX3ocpNluTgvEn9yVQ.png',\n",
              " 'images_q=tbn_ANd9GcR16pYIkwZJaFzJ3glgGGKuf9ciXKn27fuYlB9jBX_Shy_jYS8ZAw.png',\n",
              " 'images_q=tbn_ANd9GcQxJX_D1eMETs5fhk4ICkkRTOHtVRe8WdqXC2FNz5fuzcMETJdk.png',\n",
              " 'images_q=tbn_ANd9GcRDAduwzmqzdhF82DOCsfs65vBDx3WD52t_Pp1KfLARe_-HlFSqlQ.png',\n",
              " 'images_q=tbn_ANd9GcSoZl6_GFTvM1c85WPWjNm0zRaAKVyoSVUWSU6eOWKd_KvSA9SWdA.png',\n",
              " 'images_q=tbn_ANd9GcT_Alsh3j025Q2WVJwPQTLAw3kH84PFK279aZnUPoXFbvNPW70bTg.png',\n",
              " 'images_q=tbn_ANd9GcTgx-P_iSUaX-bkcDYhRLC1IIbZT7KrYxfYIbMjeG2xLDZY9tOHKg.png',\n",
              " 'images_q=tbn_ANd9GcTsOHwPYEwop-DXiH4jaklVbJZNoIosusbdcuO0YvbDR1PIeuuP0g.png',\n",
              " 'images_q=tbn_ANd9GcQ9r1ZzJfZ3GkLXf-sjO79jjo0TYUpc0iXTsjK-3Nw7QvTglIZxiw.png',\n",
              " 'images_q=tbn_ANd9GcQNiwu2a5diJIQF3iqpVx59bTTJmtd8k89JOVgvh9hnqTcdtq0x8g.png',\n",
              " 'images_q=tbn_ANd9GcS8CruXTGHv8q1liwnE730WXowN2y-RnOEnKA1TTUNuneyZYrBX8A.png',\n",
              " 'images_q=tbn_ANd9GcTahmHA_VfZl5FI2oG-T0CEZyUmVNeeYXi86ua_v-g_THZKgkOZ.png',\n",
              " 'images_q=tbn_ANd9GcRAuDePGQJ0n8f5EiKj7KR9JkWDjVFEuKXdmuWQ0aVNHDMa_JpL3w.png',\n",
              " 'images_q=tbn_ANd9GcSp8LnycyNUslGMTrFzXNsrk-R7eGmYAxiKUv9OyxXQV3N5LA36dA.png',\n",
              " 'images_q=tbn_ANd9GcQ8CAFoxasRtzvfmvS1OlmQ_II8POMv0lTY3SRf9_-kqhtFFS9Szg.png',\n",
              " 'images_q=tbn_ANd9GcQaTVrNsZhz2TrDV3Q6e6HPM3VHl7xg-Vu6d29CII9Zy20_Twf6.png',\n",
              " 'images_q=tbn_ANd9GcSt3HGbjZtP7NHYe8TRR3ft8zj4TPvDoRtNx-bMwtMnJddEg1uTTQ.png',\n",
              " 'images_q=tbn_ANd9GcRiStsLaYeE8D5OxfWtQ8hqCTxOajVASEL_6aXZyDVjvAuDjxmm.png',\n",
              " 'images_q=tbn_ANd9GcQyY5WmcMrHqS66VztY1piZvchG7U28pWbTqGghpcQabJWqUu6Thg.png',\n",
              " 'images_q=tbn_ANd9GcT16TrPn8UAR62C9MyFJsnGv7PGrsWAZCNWCtfkkX1MuILReQzb.png',\n",
              " 'images_q=tbn_ANd9GcTOzBgIys5bSUAWBY8rHgf4jzKxg0qcWg3wDkqQ3Dg-gNxBErxk.png',\n",
              " 'images_q=tbn_ANd9GcRVfpJ6tXcRBuBRslptgZRvkenOnUcjCJPfRAyq31H7mcKhTA7t.png',\n",
              " 'images_q=tbn_ANd9GcRDsAS2gFAhFGulnd08Vw6KqZKx1ISxGlQ1mhjy06pPGvvcaCov.png',\n",
              " 'images_q=tbn_ANd9GcSDuSDcetzelkRM3fFtGs-JfFHSScOO4w8SfMrKf_t7r98YB_9xug.png',\n",
              " 'images_q=tbn_ANd9GcTz0r13jm-I-Dz-fqNHg1pplgVWOFn0D0C-xNet42yrXrcIvvlW.png',\n",
              " 'images_q=tbn_ANd9GcRPU6d-NZcO3WtTjoUwsPq6vL6_CeFduEnDlWzfYtJdNAAKRFLW.png',\n",
              " 'images_q=tbn_ANd9GcSmv6B0envtRj2SDJdrO7Opaf89bWAC0_aGlqW_mX2iryGLvm3B.png',\n",
              " 'images_q=tbn_ANd9GcQfgarbUV8l2OCrHotlp2YTdsC1loDuvWBMGguDfsvQL8wxW8ZT.png',\n",
              " 'images_q=tbn_ANd9GcQ5Ks9TWe5tpHS2ypeLfKXZOp27rTkA-AQ9ZImp7vTqtNzVlsh6.png',\n",
              " 'images_q=tbn_ANd9GcRAsyqdx9UFZ9G0cBqxPVmGUYGj_gZDrN_pq8SaB5SO2X_GIe4Y7w.png',\n",
              " 'images_q=tbn_ANd9GcS29p5Z3t4a8-2mO7E--lc3_n9Sws9053ifUzCQAOKG2xOBeyoV.png',\n",
              " 'images_q=tbn_ANd9GcQoYm_WIOblJdCKo5dpp-bBLKe9nSevofZDJi9sX-4HfI4XK2tB.png',\n",
              " 'images_q=tbn_ANd9GcQ7K9Z4_JqoIzIoSfqX4ozrhT-6oGP9BCajKGaW6dmo1d9EcFbc8w.png',\n",
              " 'images_q=tbn_ANd9GcShrRp8n-tzicq5yQ7hhrFlrYuAoovwxlPUdoThQiYD50SFGJ_Y.png',\n",
              " 'images_q=tbn_ANd9GcTHla-ssX2oIXFfRyinZCo2js004vmwI11XEwM8n5vV1Pj7dtpc.png',\n",
              " 'images_q=tbn_ANd9GcQ-BaDoHdwaC4thi6mhJYDsI5eMP6wh1rPGWf1P-Qe7b35jJoXB.png',\n",
              " 'images_q=tbn_ANd9GcQOS6adonOjSAWFsqdqkPXGQGsJNkNfgUUDVWqweQTQbAHw_r7Y.png',\n",
              " 'images_q=tbn_ANd9GcQObrDt6SMrGh26-CP7QJ8ZTf9awcde_9kxWf6UhI_E83CMcpcA.png',\n",
              " 'images_q=tbn_ANd9GcTbE_QJX4Rew_yQp5wrrnCMPImQByVQrJEs5eIBbb5vqpgjOcNoMw.png',\n",
              " 'images_q=tbn_ANd9GcR6wvXv05WX6eB8C8TUzvuDGHl6iaFcpCP7VMGrgOUFYCf2_EgpOw.png',\n",
              " 'images_q=tbn_ANd9GcSaytCIRtZy8gvfcqJeK-Uqqvr_ErZs3cehyxSqZsotrxOvp07WqA.png',\n",
              " 'images_q=tbn_ANd9GcRRBvIWYTKf5F74OxpmOrN8ijnwEwxopXc6mLt-l3F5YRGgi6bicA.png',\n",
              " 'images_q=tbn_ANd9GcSC61hlthJJQ7YSq4ZS8MBl4RhtDfERT_9-LeN59oQfMQMcMH21sQ.png',\n",
              " 'images_q=tbn_ANd9GcRONrlJFl-x2SvJBuhWEdq4UUkiG-NAaafT9kmNrqz9C6lDhMGC.png',\n",
              " 'images_q=tbn_ANd9GcTCzXCYhKGQJafTeBYmUe1mfANzgTvC8XeFHH_8OfMBqUCG_VBdsQ.png',\n",
              " 'images_q=tbn_ANd9GcTUnJNy5tohZ1xZaT08lB2FtKUQUj4elV-KUjW85N4VYlJ-UYAapA.png',\n",
              " 'images_q=tbn_ANd9GcRiaPkvFi5BQkCAPCJinsKyimrSoJjzoUTA1m1yrczL_S9UBEeRwA.png',\n",
              " 'images_q=tbn_ANd9GcQ3mCbmLHj-paCvMvxcigiPmBsH2pWMeJWs4ju03jpFr04YcIiv.png',\n",
              " 'images_q=tbn_ANd9GcRzKdZ5TD5ub0DdZlb6arSlXEE4QdV_j2vDw-vQQy6DX_73ijLN.png',\n",
              " 'images_q=tbn_ANd9GcSOLV69lbOHM8gQ_DvVngjXeYMWYJ3STYWYQOj1-9wP2yHWYe-j.png',\n",
              " 'images_q=tbn_ANd9GcSO4JWuKaOlJI3fSgVLkw4GGOUtiJjOB3Rcljzze96Y8Du3UoQIbg.png',\n",
              " 'images_q=tbn_ANd9GcQFe617CfWyxNz2DNkVPKcl6_Ri-_pzjRmkAqyC9_VynQnZduxZyA.png',\n",
              " 'images_q=tbn_ANd9GcRj9xwdm48ksL26TS-fw_0BFihYQhZJUcT9ZcXayKi-5w8oAHVm.png',\n",
              " 'images_q=tbn_ANd9GcQC-PHwba-u2q1cUljyDiPqZaZWkoZSEE1iq-3qMuXXzoUWan9a.png',\n",
              " 'images_q=tbn_ANd9GcRZ3tAPIb-0Oi8UuZqxXvV0E8CWhxqnD8I34JE3gCnQc_x_1YAD9A.png',\n",
              " 'images_q=tbn_ANd9GcQ91PwzH6Bp-Kyzzb51zH-LupYfdaRfDwAeonlXC0AzD8DON3Mw.png',\n",
              " 'images_q=tbn_ANd9GcSN8YbKUYOQ-C7C81vA2lhh52pocZEkxLgl64ImUfOaOB1MpoNcKg.png',\n",
              " 'images_q=tbn_ANd9GcRc956JvEMmJrpRX47l2ss2k8I1CUyb3Q8uXWqTF9AZ2Meo7jTC.png',\n",
              " 'images_q=tbn_ANd9GcSF1WZfEZMhjSZOmv4R-AYe4JKnzSbw6F9p53-KSXQ1bA6Rqn5D.png',\n",
              " 'images_q=tbn_ANd9GcTqDvWZC0rdKz-S9ZUOuFt4TP5RTkcEWKiJTYQRfKxRCMQ9maaOrA.png',\n",
              " 'images_q=tbn_ANd9GcTC7fldrDhp7AJ3nQNhRTqvIQUGta7Hy8TrREWV9jNOsjZkbb1Z.png',\n",
              " 'images_q=tbn_ANd9GcS5L2jD8pNaDjGajDyilGSroPURrIIg1olwIJ1-RATg8H4KCD7-EA.png',\n",
              " 'images_q=tbn_ANd9GcQid3_b1kDZg1-cvOX57Cw_KM0yLjEB7wuT3nfDnzXYEFjYP0UUGw.png',\n",
              " 'images_q=tbn_ANd9GcTLgwOCkl0iD2BCTugXzHn1Q1bzXuRhirq87Va9nXDaAJWWu2R-.png',\n",
              " 'images_q=tbn_ANd9GcSo9oO4HANMJjVszJ3Y5xVAjjxTGWwF2dQQK6hh8dRivWtg26BKYA.png',\n",
              " 'images_q=tbn_ANd9GcTjpkdONi6ldQl9lmTZJK2vWFL0JarkI7jCiTSSYIlHIP6GDvLh9Q.png',\n",
              " 'images_q=tbn_ANd9GcSNixHn7GHIJgOgpYz_0m0RKDv_zJMxlCtupdcxnR9ZTcnMMlxj.png',\n",
              " 'images_q=tbn_ANd9GcRTPaknoOsKB0Dr-vZD4hf6MGcMmHZ5RNfsC93RJFt-0ry9immN.png',\n",
              " 'images_q=tbn_ANd9GcT_xBXNyObGo0Kf77MLd2sl17eSi8WhbrzpH-cCsZE_gKrdUBlBkw.png',\n",
              " 'images_q=tbn_ANd9GcQButTcpVhWghA-DV1tpNXRBZZZwI4735Vor5RuhhaQ_fANyrDv.png',\n",
              " 'images_q=tbn_ANd9GcScGYASoyQNRBjjw3XDsbOk9lKnEgdmMDiiPlSQVueTwTy9W77XPQ.png',\n",
              " 'images_q=tbn_ANd9GcSUCrzwiiwkRpxzLnw1QiAZUeLHE27hc6K2zKsBUAa2WX8aMvgs.png',\n",
              " 'images_q=tbn_ANd9GcRA9c51T-h8u2ho5JetSeXIVlB2Ta4K_cvv6zXQeDFujvjOIwzTrA.png',\n",
              " 'images_q=tbn_ANd9GcSRo0JRUR7aUeVqsuv35W27W9T_9orEEdv1duIHwYRFqB--vMpT.png',\n",
              " 'images_q=tbn_ANd9GcSeXfkE8txEYJcvMnQgkTRnQW-eTYYRW2JoDogAtPT8bCeUp90E.png',\n",
              " 'images_q=tbn_ANd9GcR74R2Sd62MW5cYHovIoj0YV4oMU4f6omo-z1ai0ccNbagnh2Gv.png',\n",
              " 'images_q=tbn_ANd9GcSrfLbLbtyICELEbCalsEWIfmod7-cJBxrKtOq58N2LHxf1ShhX.png',\n",
              " 'images_q=tbn_ANd9GcR8ZL1ZuYG61IsTzDwZrcZifFX4deGS9JNOEp2vOojx1rPgdyo9.png',\n",
              " 'images_q=tbn_ANd9GcRaS8NlWutsZlLCzsBj_kmfvhmLAZ3Xqh09ieCWuA_kCVpZyjryzg.png',\n",
              " 'images_q=tbn_ANd9GcQuo8AzmyzV6TLQuzYdwTQXNym8FpawzQZ6CVscAVFTVzYYVWGdag.png',\n",
              " 'images_q=tbn_ANd9GcQoYhOUU4Pta6-qODiYy2uim-pVAvvOzFcjr7HiSW2MRaIyrDORwg.png',\n",
              " 'images_q=tbn_ANd9GcSLn57-XFQ8zth6hoagtlMKZ0uJhGPxVHIrR6Co8pRix_RhilbGHw.png',\n",
              " 'images_q=tbn_ANd9GcQKUNiNBqsqkWbKvAsf_X8zKCaDtf9FY2ghzRKMxp_NU9EegGq4.png',\n",
              " 'images_q=tbn_ANd9GcTknk3vpY2F9t60E2qZKSoTBgEiqXUDGkNUxaHcu9AIUN6jfc4u.png',\n",
              " 'images_q=tbn_ANd9GcS4DJc9kRlRZqN3ueZrGDIAfhiL9UEZeUM-JPJQxadXwcN5vt_SMQ.png',\n",
              " 'images_q=tbn_ANd9GcQ0Zwh8yXH7dsXCX8i3s2cvjF9wH9csYawDhpAe6TG89i0oBYqD.png',\n",
              " 'images_q=tbn_ANd9GcS7X4OoTVMmIJX_U8UDNtIPRo7jheYpWaBtQnJCf99IoVQ0C9gg.png',\n",
              " 'images_q=tbn_ANd9GcQhHOft4B6-Igmwj0qv4Cu5I9LF5OShSJf5vE2fizVSrmAwDt98sw.png',\n",
              " 'images_q=tbn_ANd9GcSSc69envDMeC1Vwk4ehiAHWiYNM5pP_eYYkyNxi4aflgw_dFfJ.png',\n",
              " 'images_q=tbn_ANd9GcRv3QCNR0ca2ER_6nxYDb4eUi_3wNMCnx7GdYjAb56ICf9qoFhM.png',\n",
              " 'images_q=tbn_ANd9GcSYpAIbGJ0Bn7X8d47sePaLuRpVEFv_L9REf5re7HEcLDb2_L4n.png',\n",
              " 'images_q=tbn_ANd9GcQPSlfTHnhFnzLOHiVh-X598Aa2iHi2Yw_6RbM3wOMLijqyTMEEAQ.png',\n",
              " 'images_q=tbn_ANd9GcTpmRs9axNo0qSZ-h8kISJeALUxO797xnj_IrOiLCczaMX7NB6S.png',\n",
              " 'images_q=tbn_ANd9GcTi-AXhbowOzHBMBE-AhVd0zh1uzIYGxGf6HOoiGea4WckNQ9hq.png',\n",
              " 'images_q=tbn_ANd9GcTM0Izb_lxU7NTHqS_y1fan4wom9KHC3MBIF1kUBXF8VidD7mrj-w.png',\n",
              " 'images_q=tbn_ANd9GcQbWfqwtCbYRu6QLeSQ_LJy5DwX2ekGH6UOeFeIF7tZb-17gTXs.png',\n",
              " 'images_q=tbn_ANd9GcSKunTbsvIwXDT4oGfpfgjo-7gYKxx0q8vt_qoHw7Sr5f01heQBMw.png']"
            ]
          },
          "metadata": {
            "tags": []
          },
          "execution_count": 8
        }
      ]
    },
    {
      "cell_type": "code",
      "metadata": {
        "colab": {
          "base_uri": "https://localhost:8080/"
        },
        "id": "lrJrYFcCVPp4",
        "outputId": "3c4a4a8b-1b14-49dc-cd30-dc17cae7bf23"
      },
      "source": [
        "len(waffle_train_img_names) #number of waffle images in training dataset"
      ],
      "execution_count": 9,
      "outputs": [
        {
          "output_type": "execute_result",
          "data": {
            "text/plain": [
              "564"
            ]
          },
          "metadata": {
            "tags": []
          },
          "execution_count": 9
        }
      ]
    },
    {
      "cell_type": "code",
      "metadata": {
        "id": "aZ7V-zyCVS85"
      },
      "source": [
        "waffle_train = []\n",
        "for i in waffle_train_img_names:\n",
        "  im = load_img(i, target_size=(299,299,3))\n",
        "  waffle_train.append(preprocess(im))\n",
        "# for every image in the list we have to preprocess\n",
        "# load the images\n",
        "# preprocess the images "
      ],
      "execution_count": 10,
      "outputs": []
    },
    {
      "cell_type": "code",
      "metadata": {
        "colab": {
          "base_uri": "https://localhost:8080/"
        },
        "id": "-0DJ9tGhVWDA",
        "outputId": "778ca881-f9bf-423d-9c2f-20cad64fa5da"
      },
      "source": [
        "waffle_train[0]"
      ],
      "execution_count": 11,
      "outputs": [
        {
          "output_type": "execute_result",
          "data": {
            "text/plain": [
              "array([[[0.8039216 , 0.79607844, 0.85882354],\n",
              "        [0.8117647 , 0.8039216 , 0.8666667 ],\n",
              "        [0.8117647 , 0.8039216 , 0.8666667 ],\n",
              "        ...,\n",
              "        [0.70980394, 0.6313726 , 0.7019608 ],\n",
              "        [0.70980394, 0.6313726 , 0.7019608 ],\n",
              "        [0.70980394, 0.6313726 , 0.7019608 ]],\n",
              "\n",
              "       [[0.8039216 , 0.79607844, 0.85882354],\n",
              "        [0.8117647 , 0.8039216 , 0.8666667 ],\n",
              "        [0.8117647 , 0.8039216 , 0.8666667 ],\n",
              "        ...,\n",
              "        [0.70980394, 0.6313726 , 0.7019608 ],\n",
              "        [0.70980394, 0.6313726 , 0.7019608 ],\n",
              "        [0.70980394, 0.6313726 , 0.7019608 ]],\n",
              "\n",
              "       [[0.8117647 , 0.8039216 , 0.8666667 ],\n",
              "        [0.8117647 , 0.8039216 , 0.8666667 ],\n",
              "        [0.8117647 , 0.8039216 , 0.8666667 ],\n",
              "        ...,\n",
              "        [0.70980394, 0.6313726 , 0.7019608 ],\n",
              "        [0.70980394, 0.6313726 , 0.7019608 ],\n",
              "        [0.70980394, 0.6313726 , 0.7019608 ]],\n",
              "\n",
              "       ...,\n",
              "\n",
              "       [[0.8352941 , 0.7411765 , 0.75686276],\n",
              "        [0.827451  , 0.7411765 , 0.77254903],\n",
              "        [0.827451  , 0.7411765 , 0.77254903],\n",
              "        ...,\n",
              "        [0.78039217, 0.6313726 , 0.6       ],\n",
              "        [0.78039217, 0.6313726 , 0.6       ],\n",
              "        [0.78039217, 0.6313726 , 0.6       ]],\n",
              "\n",
              "       [[0.8352941 , 0.7411765 , 0.75686276],\n",
              "        [0.827451  , 0.7411765 , 0.77254903],\n",
              "        [0.827451  , 0.7411765 , 0.77254903],\n",
              "        ...,\n",
              "        [0.7647059 , 0.6156863 , 0.58431375],\n",
              "        [0.7647059 , 0.6156863 , 0.58431375],\n",
              "        [0.75686276, 0.60784316, 0.5764706 ]],\n",
              "\n",
              "       [[0.8352941 , 0.7411765 , 0.75686276],\n",
              "        [0.827451  , 0.7411765 , 0.77254903],\n",
              "        [0.827451  , 0.7411765 , 0.77254903],\n",
              "        ...,\n",
              "        [0.7647059 , 0.6156863 , 0.58431375],\n",
              "        [0.7647059 , 0.6156863 , 0.58431375],\n",
              "        [0.75686276, 0.60784316, 0.5764706 ]]], dtype=float32)"
            ]
          },
          "metadata": {
            "tags": []
          },
          "execution_count": 11
        }
      ]
    },
    {
      "cell_type": "code",
      "metadata": {
        "id": "5Y2UdQ0SVZvX"
      },
      "source": [
        "os.chdir(os.path.join(DATA_DIR,'test','waffles'))\n",
        "waffle_test_img_names = glob.glob(\"*.png\")"
      ],
      "execution_count": 12,
      "outputs": []
    },
    {
      "cell_type": "code",
      "metadata": {
        "id": "1_FZF4nEVZ7G"
      },
      "source": [
        "waffle_test = []\n",
        "for i in waffle_test_img_names:\n",
        "  im = load_img(i, target_size=(299,299,3))\n",
        "  waffle_test.append(preprocess(im))"
      ],
      "execution_count": 13,
      "outputs": []
    },
    {
      "cell_type": "code",
      "metadata": {
        "colab": {
          "base_uri": "https://localhost:8080/"
        },
        "id": "aATQ8rgvVaDA",
        "outputId": "b2dd9dd8-642d-45dd-cff2-d8ff4dd8559f"
      },
      "source": [
        "len(waffle_test_img_names)"
      ],
      "execution_count": 14,
      "outputs": [
        {
          "output_type": "execute_result",
          "data": {
            "text/plain": [
              "235"
            ]
          },
          "metadata": {
            "tags": []
          },
          "execution_count": 14
        }
      ]
    },
    {
      "cell_type": "code",
      "metadata": {
        "id": "P1PuUxTGVaNi"
      },
      "source": [
        "os.chdir(os.path.join(DATA_DIR,'train','pancakes'))\n",
        "pancakes_train_img_names = glob.glob(\"*.png\")"
      ],
      "execution_count": 15,
      "outputs": []
    },
    {
      "cell_type": "code",
      "metadata": {
        "id": "hAjMlY-hVhwU"
      },
      "source": [
        "pancakes_train = []\n",
        "for i in pancakes_train_img_names:\n",
        "  im = load_img(i, target_size=(299,299,3))\n",
        "  pancakes_train.append(preprocess(im))"
      ],
      "execution_count": 16,
      "outputs": []
    },
    {
      "cell_type": "code",
      "metadata": {
        "colab": {
          "base_uri": "https://localhost:8080/"
        },
        "id": "HYr2NskvVhyE",
        "outputId": "34d94798-84fd-43c2-b46b-370543effb9a"
      },
      "source": [
        "len(pancakes_train_img_names)"
      ],
      "execution_count": 17,
      "outputs": [
        {
          "output_type": "execute_result",
          "data": {
            "text/plain": [
              "177"
            ]
          },
          "metadata": {
            "tags": []
          },
          "execution_count": 17
        }
      ]
    },
    {
      "cell_type": "code",
      "metadata": {
        "id": "4vCiEhZ6Vh0x"
      },
      "source": [
        "os.chdir(os.path.join(DATA_DIR,'test','pancakes'))\n",
        "pancakes_test_img_names = glob.glob(\"*.png\")"
      ],
      "execution_count": 18,
      "outputs": []
    },
    {
      "cell_type": "code",
      "metadata": {
        "id": "H8Krhln1VoPB"
      },
      "source": [
        "pancakes_test = []\n",
        "for i in pancakes_test_img_names:\n",
        "  im = load_img(i, target_size=(299,299,3))\n",
        "  pancakes_test.append(preprocess(im))  "
      ],
      "execution_count": 19,
      "outputs": []
    },
    {
      "cell_type": "code",
      "metadata": {
        "colab": {
          "base_uri": "https://localhost:8080/"
        },
        "id": "gz0hpi_8VoQt",
        "outputId": "d6fdc97c-31c4-4151-dfcc-1f7357a07597"
      },
      "source": [
        "len(pancakes_test_img_names)"
      ],
      "execution_count": 20,
      "outputs": [
        {
          "output_type": "execute_result",
          "data": {
            "text/plain": [
              "154"
            ]
          },
          "metadata": {
            "tags": []
          },
          "execution_count": 20
        }
      ]
    },
    {
      "cell_type": "markdown",
      "metadata": {
        "id": "Czj-MSTlVzXM"
      },
      "source": [
        "## Step 3:\n",
        "- Convert all four lists into numpy arrays\n",
        "- Create a train_set by concatinating all waffle and pancake images of trained arrays. This will be treated as predictors or independent variables for classification problem."
      ]
    },
    {
      "cell_type": "code",
      "metadata": {
        "id": "pOxd1b79VoTz"
      },
      "source": [
        "# The list has to be converted into np array\n",
        "# each list containing pixel value of the image\n",
        "# as the inputs we want in form of tensors\n",
        "waffle_train = np.array(waffle_train, dtype='float32')"
      ],
      "execution_count": 21,
      "outputs": []
    },
    {
      "cell_type": "code",
      "metadata": {
        "id": "x4rt0aAAVoVm"
      },
      "source": [
        "waffle_test = np.array(waffle_test, dtype='float32')"
      ],
      "execution_count": 22,
      "outputs": []
    },
    {
      "cell_type": "code",
      "metadata": {
        "id": "i2cvUBYIV6iA"
      },
      "source": [
        "pancakes_train = np.array(pancakes_train, dtype='float32')\n",
        "pancakes_test = np.array(pancakes_test, dtype='float32')"
      ],
      "execution_count": 23,
      "outputs": []
    },
    {
      "cell_type": "code",
      "metadata": {
        "id": "wkETkLsfV6jq"
      },
      "source": [
        "# the training dataset should contain both classes\n",
        "# so we are concatenating the train data\n",
        "# its row wise concatenation\n",
        "# 564 + 171\n",
        "train = np.concatenate((waffle_train,pancakes_train),axis=0)"
      ],
      "execution_count": 24,
      "outputs": []
    },
    {
      "cell_type": "code",
      "metadata": {
        "colab": {
          "base_uri": "https://localhost:8080/"
        },
        "id": "5VnwedChV6mi",
        "outputId": "9d37d9ec-51d5-46d1-f34e-08aae4a1ad6f"
      },
      "source": [
        "train.shape # we have converted the images into 4-D tensor"
      ],
      "execution_count": 25,
      "outputs": [
        {
          "output_type": "execute_result",
          "data": {
            "text/plain": [
              "(741, 299, 299, 3)"
            ]
          },
          "metadata": {
            "tags": []
          },
          "execution_count": 25
        }
      ]
    },
    {
      "cell_type": "markdown",
      "metadata": {
        "id": "P69fjPdKWBZp"
      },
      "source": [
        "## Create train_labels / Target\n",
        "- While concatinating trained images, we know that the top-most observations are waffle images and bottom-most observations are pancake images\n",
        "- Take waffle as class 0 and pancake as class 1.\n",
        "waffle_train.shape[0] yields total number of images belonging to waffle class\n",
        "pancakes_train.shape[0] yields total number of images belonging to pancake class\n",
        "So multiplying these two with 0 and 1's respectively yield us the target set"
      ]
    },
    {
      "cell_type": "code",
      "metadata": {
        "id": "9cQj4F6KV6pa"
      },
      "source": [
        "y = [0]*waffle_train.shape[0] + [1]*pancakes_train.shape[0]\n",
        "# 564 no of 0 s will be present and rest 179 no of 1s will be also present \n",
        "# in y"
      ],
      "execution_count": 26,
      "outputs": []
    },
    {
      "cell_type": "code",
      "metadata": {
        "colab": {
          "base_uri": "https://localhost:8080/"
        },
        "id": "w1YvUog8WEML",
        "outputId": "2dd663e4-be74-4199-8629-7ea4dcf097e2"
      },
      "source": [
        "[0]*10 # we will get list of 10 o's"
      ],
      "execution_count": 27,
      "outputs": [
        {
          "output_type": "execute_result",
          "data": {
            "text/plain": [
              "[0, 0, 0, 0, 0, 0, 0, 0, 0, 0]"
            ]
          },
          "metadata": {
            "tags": []
          },
          "execution_count": 27
        }
      ]
    },
    {
      "cell_type": "code",
      "metadata": {
        "colab": {
          "base_uri": "https://localhost:8080/"
        },
        "id": "BMJpHmMDWENZ",
        "outputId": "62fe7b13-a7e3-4c77-f9a6-5a0208e5a5d0"
      },
      "source": [
        "waffle_train.shape[0]\n",
        "# so [0]*waffle_train.shape[0] will give us 564 0's"
      ],
      "execution_count": 28,
      "outputs": [
        {
          "output_type": "execute_result",
          "data": {
            "text/plain": [
              "564"
            ]
          },
          "metadata": {
            "tags": []
          },
          "execution_count": 28
        }
      ]
    },
    {
      "cell_type": "code",
      "metadata": {
        "colab": {
          "base_uri": "https://localhost:8080/"
        },
        "id": "4S_XEHXRWERS",
        "outputId": "748ec424-c070-452a-e6f6-644ce33f68b6"
      },
      "source": [
        "pancakes_train.shape[0]\n",
        "# so [1]*pancakes_train.shape[0] will give us 171 1's"
      ],
      "execution_count": 29,
      "outputs": [
        {
          "output_type": "execute_result",
          "data": {
            "text/plain": [
              "177"
            ]
          },
          "metadata": {
            "tags": []
          },
          "execution_count": 29
        }
      ]
    },
    {
      "cell_type": "code",
      "metadata": {
        "colab": {
          "base_uri": "https://localhost:8080/"
        },
        "id": "JJ8wcSa6WEap",
        "outputId": "6d958464-b807-415b-d5b6-d583be3a55db"
      },
      "source": [
        "len(y)"
      ],
      "execution_count": 30,
      "outputs": [
        {
          "output_type": "execute_result",
          "data": {
            "text/plain": [
              "741"
            ]
          },
          "metadata": {
            "tags": []
          },
          "execution_count": 30
        }
      ]
    },
    {
      "cell_type": "code",
      "metadata": {
        "id": "OPn7OYz_VoY6"
      },
      "source": [
        "y = np.array(y, dtype='float32')\n",
        "# converting the list to np array"
      ],
      "execution_count": 31,
      "outputs": []
    },
    {
      "cell_type": "markdown",
      "metadata": {
        "id": "GFYgUVikWPq5"
      },
      "source": [
        "## Step 4: Create a base model\n",
        "- Take pre-trained model Xception without its top layers (excluding dense layers, but keeping only convolutional layers)\n",
        "- Use Average Pooling to flatten the last convolutional layer results in Xception\n",
        "- Flattening here is required to make the pre-trained model compatible with our input images in numpy array format."
      ]
    },
    {
      "cell_type": "code",
      "metadata": {
        "id": "MHlYLoWQVh3p"
      },
      "source": [
        "base_model = Xception(include_top=False, pooling='avg',input_shape=(299,299,3))"
      ],
      "execution_count": 32,
      "outputs": []
    },
    {
      "cell_type": "markdown",
      "metadata": {
        "id": "9Qcj8c2vWUE-"
      },
      "source": [
        "- as we remove the dense layer as in the output layer we will just get the feature map exrtracted from the model\n",
        "- the 2048 we have to flatten to make sure its an appropriate input for next layer."
      ]
    },
    {
      "cell_type": "markdown",
      "metadata": {
        "id": "WNUetpuRWXl3"
      },
      "source": [
        "## Step 5 : Feature extraction\n",
        "- use predict() to extract"
      ]
    },
    {
      "cell_type": "code",
      "metadata": {
        "id": "d3-mePUvWR1t"
      },
      "source": [
        "train_features = base_model.predict(train)"
      ],
      "execution_count": 33,
      "outputs": []
    },
    {
      "cell_type": "code",
      "metadata": {
        "colab": {
          "base_uri": "https://localhost:8080/"
        },
        "id": "e6oJYGHYZDfr",
        "outputId": "d5c8b75f-339b-43e0-930d-40cf7a0bdb14"
      },
      "source": [
        "train_features.shape  #2048 features extracted for every image in train set"
      ],
      "execution_count": 39,
      "outputs": [
        {
          "output_type": "execute_result",
          "data": {
            "text/plain": [
              "(741, 2048)"
            ]
          },
          "metadata": {
            "tags": []
          },
          "execution_count": 39
        }
      ]
    },
    {
      "cell_type": "code",
      "metadata": {
        "colab": {
          "base_uri": "https://localhost:8080/"
        },
        "id": "iB1AvnArZLv4",
        "outputId": "492c868e-3403-43c2-a721-41348b3a230e"
      },
      "source": [
        "train_features[0]"
      ],
      "execution_count": 35,
      "outputs": [
        {
          "output_type": "execute_result",
          "data": {
            "text/plain": [
              "array([0.        , 0.10271581, 0.6756433 , ..., 0.24664666, 0.        ,\n",
              "       0.18079539], dtype=float32)"
            ]
          },
          "metadata": {
            "tags": []
          },
          "execution_count": 35
        }
      ]
    },
    {
      "cell_type": "markdown",
      "metadata": {
        "id": "eLoaxw1VZUE9"
      },
      "source": [
        "## Step 6: Applying Classification\n",
        "- Create an object of Logistic Regression class\n",
        "- Call fit() function to build the classification model on training features and the target\n"
      ]
    },
    {
      "cell_type": "code",
      "metadata": {
        "colab": {
          "base_uri": "https://localhost:8080/"
        },
        "id": "9A0pVP6YZL1t",
        "outputId": "ea4613ea-8df5-4ded-ebc7-252f745abe68"
      },
      "source": [
        "from sklearn.linear_model import LogisticRegression\n",
        "logit_clf = LogisticRegression()\n",
        "logit_clf.fit(train_features, y)"
      ],
      "execution_count": 42,
      "outputs": [
        {
          "output_type": "execute_result",
          "data": {
            "text/plain": [
              "LogisticRegression(C=1.0, class_weight=None, dual=False, fit_intercept=True,\n",
              "                   intercept_scaling=1, l1_ratio=None, max_iter=100,\n",
              "                   multi_class='auto', n_jobs=None, penalty='l2',\n",
              "                   random_state=None, solver='lbfgs', tol=0.0001, verbose=0,\n",
              "                   warm_start=False)"
            ]
          },
          "metadata": {
            "tags": []
          },
          "execution_count": 42
        }
      ]
    },
    {
      "cell_type": "markdown",
      "metadata": {
        "id": "pO0LgixCZoIv"
      },
      "source": [
        "## Step 7: Prediction\n",
        "- Create a test set by concatinating all waffle and pancake images from test array.\n",
        "- Create the target y_test for testing data\n",
        "- Extract image features from all test images using base model of convolutinal layers (pre-trained model)\n",
        "- Use predict() function of the logistic regression classifier \n",
        "- Compute accuracy of the classification model\n"
      ]
    },
    {
      "cell_type": "code",
      "metadata": {
        "id": "LvzKHxq0ZjVI"
      },
      "source": [
        "test = np.concatenate((waffle_test, pancakes_test), axis=0)\n",
        "y_test = [0]*waffle_test.shape[0] + [1]*pancakes_test.shape[0]\n",
        "y_test = np.array(y_test)"
      ],
      "execution_count": 37,
      "outputs": []
    },
    {
      "cell_type": "code",
      "metadata": {
        "colab": {
          "base_uri": "https://localhost:8080/"
        },
        "id": "06UKSy0Ve6Lf",
        "outputId": "894257ea-de10-4515-b8b0-017dc4013a1e"
      },
      "source": [
        "y_test.shape"
      ],
      "execution_count": 41,
      "outputs": [
        {
          "output_type": "execute_result",
          "data": {
            "text/plain": [
              "(389,)"
            ]
          },
          "metadata": {
            "tags": []
          },
          "execution_count": 41
        }
      ]
    },
    {
      "cell_type": "code",
      "metadata": {
        "id": "mej76QGJaHS_"
      },
      "source": [
        "#predict using test set images\n",
        "test_features = base_model.predict(test)  "
      ],
      "execution_count": 59,
      "outputs": []
    },
    {
      "cell_type": "code",
      "metadata": {
        "colab": {
          "base_uri": "https://localhost:8080/"
        },
        "id": "XVMaTgXgmkxx",
        "outputId": "7e3fabe3-0ddc-46b0-9e84-6f03048a82f0"
      },
      "source": [
        "test_features.shape"
      ],
      "execution_count": 60,
      "outputs": [
        {
          "output_type": "execute_result",
          "data": {
            "text/plain": [
              "(389, 2048)"
            ]
          },
          "metadata": {
            "tags": []
          },
          "execution_count": 60
        }
      ]
    },
    {
      "cell_type": "code",
      "metadata": {
        "id": "tBzrpYdJmCbZ"
      },
      "source": [
        "preds = logit_clf.predict(test_features)"
      ],
      "execution_count": 61,
      "outputs": []
    },
    {
      "cell_type": "code",
      "metadata": {
        "colab": {
          "base_uri": "https://localhost:8080/"
        },
        "id": "CeZcoG5Fer8h",
        "outputId": "608a9088-a757-488a-9b19-69f78b907068"
      },
      "source": [
        "#display the 0th test image\n",
        "preds[0] "
      ],
      "execution_count": 62,
      "outputs": [
        {
          "output_type": "execute_result",
          "data": {
            "text/plain": [
              "0.0"
            ]
          },
          "metadata": {
            "tags": []
          },
          "execution_count": 62
        }
      ]
    },
    {
      "cell_type": "code",
      "metadata": {
        "colab": {
          "base_uri": "https://localhost:8080/"
        },
        "id": "0XBs4I8Wetgf",
        "outputId": "43374e4c-a051-4bd6-dd60-fbbcd8ff1aa8"
      },
      "source": [
        "from sklearn.metrics import confusion_matrix, classification_report\n",
        "print(classification_report(y_test, preds))"
      ],
      "execution_count": 64,
      "outputs": [
        {
          "output_type": "stream",
          "text": [
            "              precision    recall  f1-score   support\n",
            "\n",
            "           0       0.90      0.94      0.92       235\n",
            "           1       0.90      0.84      0.87       154\n",
            "\n",
            "    accuracy                           0.90       389\n",
            "   macro avg       0.90      0.89      0.90       389\n",
            "weighted avg       0.90      0.90      0.90       389\n",
            "\n"
          ],
          "name": "stdout"
        }
      ]
    },
    {
      "cell_type": "code",
      "metadata": {
        "colab": {
          "base_uri": "https://localhost:8080/"
        },
        "id": "AlBzQxpcgcK3",
        "outputId": "b1326d7f-2143-4b0f-ee88-9dc18cef4c35"
      },
      "source": [
        "# confusion matrix\n",
        "from sklearn.metrics import confusion_matrix\n",
        "confusion_mtx = confusion_matrix(y_test, preds) \n",
        "print(confusion_mtx)"
      ],
      "execution_count": 65,
      "outputs": [
        {
          "output_type": "stream",
          "text": [
            "[[221  14]\n",
            " [ 24 130]]\n"
          ],
          "name": "stdout"
        }
      ]
    },
    {
      "cell_type": "code",
      "metadata": {
        "colab": {
          "base_uri": "https://localhost:8080/"
        },
        "id": "ADLG0RfGhh75",
        "outputId": "6e230660-15e0-4079-b0f9-4bc5de681eee"
      },
      "source": [
        "from sklearn import datasets, linear_model, metrics\n",
        "print(\"Logistic Regression model accuracy(in %):\", \n",
        "metrics.accuracy_score(y_test, preds)*100)"
      ],
      "execution_count": 67,
      "outputs": [
        {
          "output_type": "stream",
          "text": [
            "Logistic Regression model accuracy(in %): 90.23136246786633\n"
          ],
          "name": "stdout"
        }
      ]
    },
    {
      "cell_type": "code",
      "metadata": {
        "colab": {
          "base_uri": "https://localhost:8080/"
        },
        "id": "aYJE6eFug_kE",
        "outputId": "4acc6bb4-9659-48a6-d1cc-ce4d157c939c"
      },
      "source": [
        "from sklearn .metrics import roc_auc_score\n",
        "auc = np.round(roc_auc_score(y_test, preds), 3) \n",
        "print(\"Auc for our test data is {}\". format(auc))"
      ],
      "execution_count": 70,
      "outputs": [
        {
          "output_type": "stream",
          "text": [
            "Auc for our test data is 0.892\n"
          ],
          "name": "stdout"
        }
      ]
    },
    {
      "cell_type": "code",
      "metadata": {
        "id": "lmGuDnwUoh9l"
      },
      "source": [
        ""
      ],
      "execution_count": null,
      "outputs": []
    }
  ]
}