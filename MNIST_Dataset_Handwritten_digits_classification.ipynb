{
  "nbformat": 4,
  "nbformat_minor": 0,
  "metadata": {
    "colab": {
      "name": "MNIST Dataset: Handwritten digits classification.ipynb",
      "provenance": [],
      "authorship_tag": "ABX9TyPmBfWLFb6NV4TwZeGNvfgJ",
      "include_colab_link": true
    },
    "kernelspec": {
      "name": "python3",
      "display_name": "Python 3"
    },
    "language_info": {
      "name": "python"
    }
  },
  "cells": [
    {
      "cell_type": "markdown",
      "metadata": {
        "id": "view-in-github",
        "colab_type": "text"
      },
      "source": [
        "<a href=\"https://colab.research.google.com/github/bray2020/AI-works/blob/main/MNIST_Dataset_Handwritten_digits_classification.ipynb\" target=\"_parent\"><img src=\"https://colab.research.google.com/assets/colab-badge.svg\" alt=\"Open In Colab\"/></a>"
      ]
    },
    {
      "cell_type": "markdown",
      "metadata": {
        "id": "4KL15eDEaXhZ"
      },
      "source": [
        "## MNIST Dataset: Handwritten digits classification (0 to 9)"
      ]
    },
    {
      "cell_type": "code",
      "metadata": {
        "id": "68am66ziaZOt"
      },
      "source": [
        "import tensorflow as tf"
      ],
      "execution_count": null,
      "outputs": []
    },
    {
      "cell_type": "code",
      "metadata": {
        "colab": {
          "base_uri": "https://localhost:8080/"
        },
        "id": "DgcRy6VHUwXK",
        "outputId": "425bb464-596f-4990-f1c0-6b16da235b09"
      },
      "source": [
        "data = tf.keras.datasets.mnist\n",
        "data"
      ],
      "execution_count": 3,
      "outputs": [
        {
          "output_type": "execute_result",
          "data": {
            "text/plain": [
              "<module 'tensorflow.keras.datasets.mnist' from '/usr/local/lib/python3.7/dist-packages/tensorflow/keras/datasets/mnist/__init__.py'>"
            ]
          },
          "metadata": {
            "tags": []
          },
          "execution_count": 3
        }
      ]
    },
    {
      "cell_type": "code",
      "metadata": {
        "colab": {
          "base_uri": "https://localhost:8080/"
        },
        "id": "_JfDTBfhU0cD",
        "outputId": "38836c14-6efc-41c3-f1b2-258ea59a3f75"
      },
      "source": [
        "data.load_data()"
      ],
      "execution_count": 5,
      "outputs": [
        {
          "output_type": "stream",
          "text": [
            "Downloading data from https://storage.googleapis.com/tensorflow/tf-keras-datasets/mnist.npz\n",
            "11493376/11490434 [==============================] - 0s 0us/step\n"
          ],
          "name": "stdout"
        },
        {
          "output_type": "execute_result",
          "data": {
            "text/plain": [
              "((array([[[0, 0, 0, ..., 0, 0, 0],\n",
              "          [0, 0, 0, ..., 0, 0, 0],\n",
              "          [0, 0, 0, ..., 0, 0, 0],\n",
              "          ...,\n",
              "          [0, 0, 0, ..., 0, 0, 0],\n",
              "          [0, 0, 0, ..., 0, 0, 0],\n",
              "          [0, 0, 0, ..., 0, 0, 0]],\n",
              "  \n",
              "         [[0, 0, 0, ..., 0, 0, 0],\n",
              "          [0, 0, 0, ..., 0, 0, 0],\n",
              "          [0, 0, 0, ..., 0, 0, 0],\n",
              "          ...,\n",
              "          [0, 0, 0, ..., 0, 0, 0],\n",
              "          [0, 0, 0, ..., 0, 0, 0],\n",
              "          [0, 0, 0, ..., 0, 0, 0]],\n",
              "  \n",
              "         [[0, 0, 0, ..., 0, 0, 0],\n",
              "          [0, 0, 0, ..., 0, 0, 0],\n",
              "          [0, 0, 0, ..., 0, 0, 0],\n",
              "          ...,\n",
              "          [0, 0, 0, ..., 0, 0, 0],\n",
              "          [0, 0, 0, ..., 0, 0, 0],\n",
              "          [0, 0, 0, ..., 0, 0, 0]],\n",
              "  \n",
              "         ...,\n",
              "  \n",
              "         [[0, 0, 0, ..., 0, 0, 0],\n",
              "          [0, 0, 0, ..., 0, 0, 0],\n",
              "          [0, 0, 0, ..., 0, 0, 0],\n",
              "          ...,\n",
              "          [0, 0, 0, ..., 0, 0, 0],\n",
              "          [0, 0, 0, ..., 0, 0, 0],\n",
              "          [0, 0, 0, ..., 0, 0, 0]],\n",
              "  \n",
              "         [[0, 0, 0, ..., 0, 0, 0],\n",
              "          [0, 0, 0, ..., 0, 0, 0],\n",
              "          [0, 0, 0, ..., 0, 0, 0],\n",
              "          ...,\n",
              "          [0, 0, 0, ..., 0, 0, 0],\n",
              "          [0, 0, 0, ..., 0, 0, 0],\n",
              "          [0, 0, 0, ..., 0, 0, 0]],\n",
              "  \n",
              "         [[0, 0, 0, ..., 0, 0, 0],\n",
              "          [0, 0, 0, ..., 0, 0, 0],\n",
              "          [0, 0, 0, ..., 0, 0, 0],\n",
              "          ...,\n",
              "          [0, 0, 0, ..., 0, 0, 0],\n",
              "          [0, 0, 0, ..., 0, 0, 0],\n",
              "          [0, 0, 0, ..., 0, 0, 0]]], dtype=uint8),\n",
              "  array([5, 0, 4, ..., 5, 6, 8], dtype=uint8)),\n",
              " (array([[[0, 0, 0, ..., 0, 0, 0],\n",
              "          [0, 0, 0, ..., 0, 0, 0],\n",
              "          [0, 0, 0, ..., 0, 0, 0],\n",
              "          ...,\n",
              "          [0, 0, 0, ..., 0, 0, 0],\n",
              "          [0, 0, 0, ..., 0, 0, 0],\n",
              "          [0, 0, 0, ..., 0, 0, 0]],\n",
              "  \n",
              "         [[0, 0, 0, ..., 0, 0, 0],\n",
              "          [0, 0, 0, ..., 0, 0, 0],\n",
              "          [0, 0, 0, ..., 0, 0, 0],\n",
              "          ...,\n",
              "          [0, 0, 0, ..., 0, 0, 0],\n",
              "          [0, 0, 0, ..., 0, 0, 0],\n",
              "          [0, 0, 0, ..., 0, 0, 0]],\n",
              "  \n",
              "         [[0, 0, 0, ..., 0, 0, 0],\n",
              "          [0, 0, 0, ..., 0, 0, 0],\n",
              "          [0, 0, 0, ..., 0, 0, 0],\n",
              "          ...,\n",
              "          [0, 0, 0, ..., 0, 0, 0],\n",
              "          [0, 0, 0, ..., 0, 0, 0],\n",
              "          [0, 0, 0, ..., 0, 0, 0]],\n",
              "  \n",
              "         ...,\n",
              "  \n",
              "         [[0, 0, 0, ..., 0, 0, 0],\n",
              "          [0, 0, 0, ..., 0, 0, 0],\n",
              "          [0, 0, 0, ..., 0, 0, 0],\n",
              "          ...,\n",
              "          [0, 0, 0, ..., 0, 0, 0],\n",
              "          [0, 0, 0, ..., 0, 0, 0],\n",
              "          [0, 0, 0, ..., 0, 0, 0]],\n",
              "  \n",
              "         [[0, 0, 0, ..., 0, 0, 0],\n",
              "          [0, 0, 0, ..., 0, 0, 0],\n",
              "          [0, 0, 0, ..., 0, 0, 0],\n",
              "          ...,\n",
              "          [0, 0, 0, ..., 0, 0, 0],\n",
              "          [0, 0, 0, ..., 0, 0, 0],\n",
              "          [0, 0, 0, ..., 0, 0, 0]],\n",
              "  \n",
              "         [[0, 0, 0, ..., 0, 0, 0],\n",
              "          [0, 0, 0, ..., 0, 0, 0],\n",
              "          [0, 0, 0, ..., 0, 0, 0],\n",
              "          ...,\n",
              "          [0, 0, 0, ..., 0, 0, 0],\n",
              "          [0, 0, 0, ..., 0, 0, 0],\n",
              "          [0, 0, 0, ..., 0, 0, 0]]], dtype=uint8),\n",
              "  array([7, 2, 1, ..., 4, 5, 6], dtype=uint8)))"
            ]
          },
          "metadata": {
            "tags": []
          },
          "execution_count": 5
        }
      ]
    },
    {
      "cell_type": "code",
      "metadata": {
        "colab": {
          "base_uri": "https://localhost:8080/"
        },
        "id": "k0Uv5HVXU6BC",
        "outputId": "9888b613-e160-419d-8013-06e118b9df95"
      },
      "source": [
        "(train_x, train_y), (test_x, test_y) = data.load_data()\n",
        "print(train_x.shape)\n",
        "print(test_x.shape)"
      ],
      "execution_count": 14,
      "outputs": [
        {
          "output_type": "stream",
          "text": [
            "(60000, 28, 28)\n",
            "(10000, 28, 28)\n"
          ],
          "name": "stdout"
        }
      ]
    },
    {
      "cell_type": "code",
      "metadata": {
        "colab": {
          "base_uri": "https://localhost:8080/"
        },
        "id": "HfAV9H-tWbJk",
        "outputId": "1ce6bb39-43ea-45bb-8ff1-89b678b1540e"
      },
      "source": [
        "print(type(train_x))\n",
        "print(type(test_x))"
      ],
      "execution_count": 15,
      "outputs": [
        {
          "output_type": "stream",
          "text": [
            "<class 'numpy.ndarray'>\n",
            "<class 'numpy.ndarray'>\n"
          ],
          "name": "stdout"
        }
      ]
    },
    {
      "cell_type": "code",
      "metadata": {
        "id": "LSX9rIPPVP5L"
      },
      "source": [
        "epochs = 10\n",
        "batch_size = 32"
      ],
      "execution_count": 16,
      "outputs": []
    },
    {
      "cell_type": "code",
      "metadata": {
        "id": "0G4MH7zXVVEX"
      },
      "source": [
        "train_x, test_x = tf.cast(train_x/255.0, tf.float32), tf.cast(test_x/255.0, tf.float32)\n",
        "train_y, test_y = tf.cast(train_y, tf.int64), tf.cast(test_y, tf.int64)"
      ],
      "execution_count": 17,
      "outputs": []
    },
    {
      "cell_type": "code",
      "metadata": {
        "colab": {
          "base_uri": "https://localhost:8080/"
        },
        "id": "3VLGnu_4WI4m",
        "outputId": "dab61acd-ac66-413e-b315-823da8cdc22b"
      },
      "source": [
        "print(type(train_x))\n",
        "print(type(test_x))"
      ],
      "execution_count": 18,
      "outputs": [
        {
          "output_type": "stream",
          "text": [
            "<class 'tensorflow.python.framework.ops.EagerTensor'>\n",
            "<class 'tensorflow.python.framework.ops.EagerTensor'>\n"
          ],
          "name": "stdout"
        }
      ]
    },
    {
      "cell_type": "code",
      "metadata": {
        "id": "mDPggTBHWtsv"
      },
      "source": [
        "model1 = tf.keras.models.Sequential(\n",
        "    [tf.keras.layers.Flatten(),\n",
        "    tf.keras.layers.Dense(4, activation = tf.nn.relu),\n",
        "    tf.keras.layers.Dense(10, activation=tf.nn.softmax)])"
      ],
      "execution_count": 21,
      "outputs": []
    },
    {
      "cell_type": "code",
      "metadata": {
        "id": "QL_WfKzNaXau"
      },
      "source": [
        "model1.compile(loss='sparse_categorical_crossentropy', metrics=['accuracy'])"
      ],
      "execution_count": 22,
      "outputs": []
    },
    {
      "cell_type": "code",
      "metadata": {
        "colab": {
          "base_uri": "https://localhost:8080/"
        },
        "id": "OhtIBiZlaaL6",
        "outputId": "cd0878b9-309e-4ae2-8efe-7580d54629b3"
      },
      "source": [
        "model1.fit(train_x, train_y, batch_size=batch_size, epochs=epochs)"
      ],
      "execution_count": 23,
      "outputs": [
        {
          "output_type": "stream",
          "text": [
            "Epoch 1/10\n",
            "1875/1875 [==============================] - 3s 1ms/step - loss: 1.3391 - accuracy: 0.5601\n",
            "Epoch 2/10\n",
            "1875/1875 [==============================] - 2s 1ms/step - loss: 0.6757 - accuracy: 0.7931\n",
            "Epoch 3/10\n",
            "1875/1875 [==============================] - 2s 1ms/step - loss: 0.5999 - accuracy: 0.8203\n",
            "Epoch 4/10\n",
            "1875/1875 [==============================] - 2s 1ms/step - loss: 0.5653 - accuracy: 0.8316\n",
            "Epoch 5/10\n",
            "1875/1875 [==============================] - 2s 1ms/step - loss: 0.5482 - accuracy: 0.8375\n",
            "Epoch 6/10\n",
            "1875/1875 [==============================] - 2s 1ms/step - loss: 0.5232 - accuracy: 0.8459\n",
            "Epoch 7/10\n",
            "1875/1875 [==============================] - 2s 1ms/step - loss: 0.5186 - accuracy: 0.8484\n",
            "Epoch 8/10\n",
            "1875/1875 [==============================] - 2s 1ms/step - loss: 0.5072 - accuracy: 0.8511\n",
            "Epoch 9/10\n",
            "1875/1875 [==============================] - 2s 1ms/step - loss: 0.5017 - accuracy: 0.8501\n",
            "Epoch 10/10\n",
            "1875/1875 [==============================] - 2s 1ms/step - loss: 0.5033 - accuracy: 0.8502\n"
          ],
          "name": "stdout"
        },
        {
          "output_type": "execute_result",
          "data": {
            "text/plain": [
              "<tensorflow.python.keras.callbacks.History at 0x7fe59048c650>"
            ]
          },
          "metadata": {
            "tags": []
          },
          "execution_count": 23
        }
      ]
    },
    {
      "cell_type": "markdown",
      "metadata": {
        "id": "4DPjM8VMatrH"
      },
      "source": [
        "### Without using Optimization the model is giving 85% accuracy. Let's optimize the loss and then check the model's performance:"
      ]
    },
    {
      "cell_type": "code",
      "metadata": {
        "id": "dMsj03lubF2n"
      },
      "source": [
        "model2 = tf.keras.models.Sequential(\n",
        "    [tf.keras.layers.Flatten(),\n",
        "    tf.keras.layers.Dense(4, activation = tf.nn.relu),\n",
        "    tf.keras.layers.Dense(10, activation=tf.nn.softmax)])"
      ],
      "execution_count": 25,
      "outputs": []
    },
    {
      "cell_type": "code",
      "metadata": {
        "id": "gnIvno2UagVC"
      },
      "source": [
        "optimizer = tf.keras.optimizers.Adam()"
      ],
      "execution_count": 24,
      "outputs": []
    },
    {
      "cell_type": "code",
      "metadata": {
        "id": "-M1nps6KbCtM"
      },
      "source": [
        "model2.compile(optimizer=optimizer, loss='sparse_categorical_crossentropy', metrics=['accuracy'])"
      ],
      "execution_count": 26,
      "outputs": []
    },
    {
      "cell_type": "code",
      "metadata": {
        "colab": {
          "base_uri": "https://localhost:8080/"
        },
        "id": "0mtkO-n3bQwf",
        "outputId": "9d32c125-0297-434b-a7cf-e64ffd48aca0"
      },
      "source": [
        "model2.fit(train_x, train_y, batch_size=batch_size, epochs=epochs)"
      ],
      "execution_count": 27,
      "outputs": [
        {
          "output_type": "stream",
          "text": [
            "Epoch 1/10\n",
            "1875/1875 [==============================] - 3s 1ms/step - loss: 1.3132 - accuracy: 0.5509\n",
            "Epoch 2/10\n",
            "1875/1875 [==============================] - 2s 1ms/step - loss: 0.6522 - accuracy: 0.8046\n",
            "Epoch 3/10\n",
            "1875/1875 [==============================] - 2s 1ms/step - loss: 0.5717 - accuracy: 0.8315\n",
            "Epoch 4/10\n",
            "1875/1875 [==============================] - 2s 1ms/step - loss: 0.5242 - accuracy: 0.8478\n",
            "Epoch 5/10\n",
            "1875/1875 [==============================] - 2s 1ms/step - loss: 0.4941 - accuracy: 0.8557\n",
            "Epoch 6/10\n",
            "1875/1875 [==============================] - 2s 1ms/step - loss: 0.4817 - accuracy: 0.8588\n",
            "Epoch 7/10\n",
            "1875/1875 [==============================] - 2s 1ms/step - loss: 0.4630 - accuracy: 0.8646\n",
            "Epoch 8/10\n",
            "1875/1875 [==============================] - 2s 1ms/step - loss: 0.4630 - accuracy: 0.8655\n",
            "Epoch 9/10\n",
            "1875/1875 [==============================] - 2s 1ms/step - loss: 0.4555 - accuracy: 0.8671\n",
            "Epoch 10/10\n",
            "1875/1875 [==============================] - 2s 1ms/step - loss: 0.4432 - accuracy: 0.8717\n"
          ],
          "name": "stdout"
        },
        {
          "output_type": "execute_result",
          "data": {
            "text/plain": [
              "<tensorflow.python.keras.callbacks.History at 0x7fe58ef1df90>"
            ]
          },
          "metadata": {
            "tags": []
          },
          "execution_count": 27
        }
      ]
    },
    {
      "cell_type": "markdown",
      "metadata": {
        "id": "TPkBGx03bfE8"
      },
      "source": [
        "So, after using optimization algorithm the model's accuracy is increased to 87%"
      ]
    },
    {
      "cell_type": "markdown",
      "metadata": {
        "id": "SbvqeiU4eBiQ"
      },
      "source": [
        "### Now predict using the model:"
      ]
    },
    {
      "cell_type": "code",
      "metadata": {
        "colab": {
          "base_uri": "https://localhost:8080/"
        },
        "id": "SVE2hYPybVAy",
        "outputId": "1f7e1800-1aff-4f18-9096-2c1841b6f6e9"
      },
      "source": [
        "predictions = model2.predict(test_x)\n",
        "predictions[:10]"
      ],
      "execution_count": 28,
      "outputs": [
        {
          "output_type": "execute_result",
          "data": {
            "text/plain": [
              "array([[1.15369785e-05, 1.78873805e-08, 1.44339097e-07, 6.77568198e-04,\n",
              "        2.71085255e-11, 6.17441674e-06, 5.27867192e-13, 9.99126852e-01,\n",
              "        2.38445637e-07, 1.77410577e-04],\n",
              "       [1.56465248e-05, 1.35826420e-10, 9.99526262e-01, 4.42086282e-04,\n",
              "        1.16177016e-20, 8.17993714e-06, 3.36671587e-06, 4.75559584e-22,\n",
              "        4.51203869e-06, 3.66956907e-16],\n",
              "       [3.63153475e-07, 9.44214165e-01, 2.86289938e-02, 4.95563913e-03,\n",
              "        5.41477290e-04, 1.33866764e-04, 8.46752882e-05, 7.22637586e-03,\n",
              "        5.54329995e-03, 8.67123343e-03],\n",
              "       [9.98176455e-01, 5.72134784e-10, 5.70868469e-05, 3.53526702e-04,\n",
              "        1.23277066e-09, 1.40891201e-03, 2.41578141e-06, 9.11440736e-07,\n",
              "        4.06428313e-07, 3.34536963e-07],\n",
              "       [1.09848205e-03, 2.52221012e-04, 6.57867567e-05, 3.62490799e-04,\n",
              "        9.18611348e-01, 9.92704928e-03, 2.87806452e-03, 4.16169502e-03,\n",
              "        1.10542809e-03, 6.15374148e-02],\n",
              "       [6.88549928e-09, 9.69294071e-01, 6.27853675e-03, 3.34684970e-03,\n",
              "        2.65426261e-05, 1.66540158e-05, 1.22397091e-06, 1.10892747e-02,\n",
              "        3.52842687e-03, 6.41853688e-03],\n",
              "       [1.64222092e-06, 6.45658815e-07, 1.11172813e-08, 7.13780355e-06,\n",
              "        9.40338790e-01, 2.80423160e-03, 1.46268658e-05, 8.35760056e-06,\n",
              "        1.30319863e-03, 5.55212758e-02],\n",
              "       [5.60311037e-07, 3.52799031e-03, 1.01082996e-05, 1.02847593e-03,\n",
              "        1.38939396e-01, 2.10460671e-03, 7.99129884e-06, 1.89382248e-02,\n",
              "        1.89857520e-02, 8.16456914e-01],\n",
              "       [8.80766008e-03, 1.58990801e-07, 1.15931989e-05, 2.71738954e-05,\n",
              "        3.58046800e-01, 1.31496966e-01, 4.98556256e-01, 3.00784564e-10,\n",
              "        2.87340279e-03, 1.79890572e-04],\n",
              "       [4.27655173e-08, 1.20281754e-06, 8.61572702e-10, 2.92130026e-05,\n",
              "        4.87917429e-03, 1.47440762e-04, 6.69506728e-10, 1.68189809e-01,\n",
              "        2.15938868e-04, 8.26537132e-01]], dtype=float32)"
            ]
          },
          "metadata": {
            "tags": []
          },
          "execution_count": 28
        }
      ]
    },
    {
      "cell_type": "markdown",
      "metadata": {
        "id": "D1sn32m2et5A"
      },
      "source": [
        "### Parameter tuning using GridsearchCV: Getting Error"
      ]
    },
    {
      "cell_type": "code",
      "metadata": {
        "id": "87jnE4o0fJ2r"
      },
      "source": [
        "from sklearn.model_selection import GridSearchCV"
      ],
      "execution_count": 32,
      "outputs": []
    },
    {
      "cell_type": "code",
      "metadata": {
        "id": "J2kLlsRUetTT"
      },
      "source": [
        "params = {'batch_size':[20,35], 'nb_epoch':[150,500], 'Optimizer':['adam','rmsprop']}"
      ],
      "execution_count": 29,
      "outputs": []
    },
    {
      "cell_type": "code",
      "metadata": {
        "id": "WKNvRRUheLbj"
      },
      "source": [
        "grid_search = GridSearchCV(estimator=model2,\n",
        "                           param_grid=params,\n",
        "                           scoring='accuracy',\n",
        "                           cv=10)"
      ],
      "execution_count": 34,
      "outputs": []
    },
    {
      "cell_type": "code",
      "metadata": {
        "id": "QkcROnMPe5Sy"
      },
      "source": [
        "#grid_search = grid_search.fit(train_x, train_y)"
      ],
      "execution_count": 38,
      "outputs": []
    },
    {
      "cell_type": "code",
      "metadata": {
        "id": "cjSlMaJkfhZ0"
      },
      "source": [
        ""
      ],
      "execution_count": null,
      "outputs": []
    }
  ]
}