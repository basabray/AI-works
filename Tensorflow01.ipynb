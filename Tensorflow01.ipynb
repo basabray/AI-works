{
  "nbformat": 4,
  "nbformat_minor": 0,
  "metadata": {
    "colab": {
      "name": "Class01.ipynb",
      "provenance": [],
      "collapsed_sections": [],
      "authorship_tag": "ABX9TyNUsA9HZycxLiXLshnJuxVs",
      "include_colab_link": true
    },
    "kernelspec": {
      "name": "python3",
      "display_name": "Python 3"
    },
    "language_info": {
      "name": "python"
    }
  },
  "cells": [
    {
      "cell_type": "markdown",
      "metadata": {
        "id": "view-in-github",
        "colab_type": "text"
      },
      "source": [
        "<a href=\"https://colab.research.google.com/github/bray2020/AI-works/blob/main/Tensorflow01.ipynb\" target=\"_parent\"><img src=\"https://colab.research.google.com/assets/colab-badge.svg\" alt=\"Open In Colab\"/></a>"
      ]
    },
    {
      "cell_type": "markdown",
      "metadata": {
        "id": "F7YG1-e3QFpe"
      },
      "source": [
        "AI Class01 : TensorFlow"
      ]
    },
    {
      "cell_type": "code",
      "metadata": {
        "colab": {
          "base_uri": "https://localhost:8080/"
        },
        "id": "xb3qLLWYQHYY",
        "outputId": "c75d7f0a-055b-467d-96d8-59f8cd92c0eb"
      },
      "source": [
        "print('1st AI Class')"
      ],
      "execution_count": 83,
      "outputs": [
        {
          "output_type": "stream",
          "text": [
            "1st AI Class\n"
          ],
          "name": "stdout"
        }
      ]
    },
    {
      "cell_type": "code",
      "metadata": {
        "id": "PwFMSZKhGbHO"
      },
      "source": [
        "import tensorflow as tf   # import tensorflow and give it a alias"
      ],
      "execution_count": 1,
      "outputs": []
    },
    {
      "cell_type": "code",
      "metadata": {
        "colab": {
          "base_uri": "https://localhost:8080/",
          "height": 35
        },
        "id": "FSXeaWFy6itI",
        "outputId": "66db8fa0-0b36-436a-aa55-9a7f35a123fb"
      },
      "source": [
        "tf.__version__            # check the version of it"
      ],
      "execution_count": null,
      "outputs": [
        {
          "output_type": "execute_result",
          "data": {
            "application/vnd.google.colaboratory.intrinsic+json": {
              "type": "string"
            },
            "text/plain": [
              "'2.4.1'"
            ]
          },
          "metadata": {
            "tags": []
          },
          "execution_count": 2
        }
      ]
    },
    {
      "cell_type": "markdown",
      "metadata": {
        "id": "3_-aodywQZDp"
      },
      "source": [
        "Tensor Creation:\n",
        "- A tensorflow which is nothing but a container that stores data, mostly deal with numerical data.\n",
        "- It has 3 attributes - rank/axes/dimensions, shape and data type."
      ]
    },
    {
      "cell_type": "markdown",
      "metadata": {
        "id": "bOSBfTlDTeOh"
      },
      "source": [
        "zero dimensional tensor creation:"
      ]
    },
    {
      "cell_type": "code",
      "metadata": {
        "id": "eRszhTyb6wcE",
        "colab": {
          "base_uri": "https://localhost:8080/"
        },
        "outputId": "f1ed415f-8642-47d3-9214-af7cfa0270c7"
      },
      "source": [
        "t1 = tf.constant(1)    # create a tensor with a constant value 1\n",
        "t1"
      ],
      "execution_count": 21,
      "outputs": [
        {
          "output_type": "execute_result",
          "data": {
            "text/plain": [
              "<tf.Tensor: shape=(), dtype=int32, numpy=1>"
            ]
          },
          "metadata": {
            "tags": []
          },
          "execution_count": 21
        }
      ]
    },
    {
      "cell_type": "markdown",
      "metadata": {
        "id": "Yc-vmtYVgCzh"
      },
      "source": [
        "- So, we have created a tensorflow that stores int32 data only.\n",
        "- It has shape 0 (as it is just a single constant value). As it is just a single point , therefore is has zero dimension in the coordinate system.\n",
        "- It has data type of int32 (32 bit integer, i.e 4 bytes) \n",
        "- The value is 1\n",
        "- numpy=1 indicates the value=1"
      ]
    },
    {
      "cell_type": "code",
      "metadata": {
        "colab": {
          "base_uri": "https://localhost:8080/"
        },
        "id": "0hnC5mPm7V7A",
        "outputId": "576f13c3-a605-4c5f-c829-4ff2cfdc13d6"
      },
      "source": [
        "t1.numpy()    # here numpy() is a function, if we wish to see the values we need to use it"
      ],
      "execution_count": 23,
      "outputs": [
        {
          "output_type": "execute_result",
          "data": {
            "text/plain": [
              "1"
            ]
          },
          "metadata": {
            "tags": []
          },
          "execution_count": 23
        }
      ]
    },
    {
      "cell_type": "markdown",
      "metadata": {
        "id": "Qr6qWmGxTniP"
      },
      "source": [
        "one dimensional tensor creation:"
      ]
    },
    {
      "cell_type": "code",
      "metadata": {
        "id": "xx9i9ach7pvQ",
        "colab": {
          "base_uri": "https://localhost:8080/"
        },
        "outputId": "7921c6a2-d229-4e12-9c59-93cea0f6d659"
      },
      "source": [
        "t2 = tf.constant([2,3,1,5])     # creating a one-dimensional tensor\n",
        "t2                              "
      ],
      "execution_count": 86,
      "outputs": [
        {
          "output_type": "execute_result",
          "data": {
            "text/plain": [
              "<tf.Tensor: shape=(4,), dtype=int32, numpy=array([2, 3, 1, 5], dtype=int32)>"
            ]
          },
          "metadata": {
            "tags": []
          },
          "execution_count": 86
        }
      ]
    },
    {
      "cell_type": "markdown",
      "metadata": {
        "id": "f_tLPH2MTpfo"
      },
      "source": [
        "- Here shape=(4,) means the tensor is a  1-dimensional array and there are total 4 elelemnts in that array.\n",
        "- To be more specific, it is a 1-dimensional Vector (A row vector) "
      ]
    },
    {
      "cell_type": "markdown",
      "metadata": {
        "id": "XalEt-bnTy-M"
      },
      "source": [
        "two dimensional tensor creation:"
      ]
    },
    {
      "cell_type": "code",
      "metadata": {
        "id": "PKCHomlC71oD",
        "colab": {
          "base_uri": "https://localhost:8080/"
        },
        "outputId": "c880e9b7-94d0-4dab-c195-25db3ed4bc43"
      },
      "source": [
        "t3 = tf.constant([[2,4,1,3],[3,2,1,4]])\n",
        "t3"
      ],
      "execution_count": 25,
      "outputs": [
        {
          "output_type": "execute_result",
          "data": {
            "text/plain": [
              "<tf.Tensor: shape=(2, 4), dtype=int32, numpy=\n",
              "array([[2, 4, 1, 3],\n",
              "       [3, 2, 1, 4]], dtype=int32)>"
            ]
          },
          "metadata": {
            "tags": []
          },
          "execution_count": 25
        }
      ]
    },
    {
      "cell_type": "markdown",
      "metadata": {
        "id": "hjVxQoptT4V7"
      },
      "source": [
        "- Here shape=(2, 4) means that it is a 2-dimensional tensor with total numebr of rows=2 and total number of columns=4\n",
        "- As this is a two-dimensional tensor , it can be considered as a Matrix"
      ]
    },
    {
      "cell_type": "markdown",
      "metadata": {
        "id": "pypEJD35Uia8"
      },
      "source": [
        "Three dimensional tensor creation:"
      ]
    },
    {
      "cell_type": "code",
      "metadata": {
        "colab": {
          "base_uri": "https://localhost:8080/"
        },
        "id": "DxIDudCy8EhM",
        "outputId": "c81d4fdb-b298-48d1-94d3-5d56d721a04e"
      },
      "source": [
        "t4=tf.constant([[[2,4,1,3],[3,4,1,2],[3,5,6,7]],[[3,4,0,2],[0,2,1,4],[0,3,5,7]],[[1,0,1,3],[5,0,1,2],[3,0,6,9]]])\n",
        "t4"
      ],
      "execution_count": 87,
      "outputs": [
        {
          "output_type": "execute_result",
          "data": {
            "text/plain": [
              "<tf.Tensor: shape=(3, 3, 4), dtype=int32, numpy=\n",
              "array([[[2, 4, 1, 3],\n",
              "        [3, 4, 1, 2],\n",
              "        [3, 5, 6, 7]],\n",
              "\n",
              "       [[3, 4, 0, 2],\n",
              "        [0, 2, 1, 4],\n",
              "        [0, 3, 5, 7]],\n",
              "\n",
              "       [[1, 0, 1, 3],\n",
              "        [5, 0, 1, 2],\n",
              "        [3, 0, 6, 9]]], dtype=int32)>"
            ]
          },
          "metadata": {
            "tags": []
          },
          "execution_count": 87
        }
      ]
    },
    {
      "cell_type": "markdown",
      "metadata": {
        "id": "UG4xZw8DVPe0"
      },
      "source": [
        "- It has shape = (3, 3, 4)\n",
        "- This tensor t3 has 3 matrics in it and each having shape of (3,4)\n",
        "- Therefore, the 1st '3' means the number of dimensions\n",
        "- The 2nd '3' means the number of rows and '4' means the number of columns"
      ]
    },
    {
      "cell_type": "code",
      "metadata": {
        "colab": {
          "base_uri": "https://localhost:8080/"
        },
        "id": "Jz5_LLEr8TRd",
        "outputId": "2be56921-6df7-4bf7-c0fb-f4359af5b52e"
      },
      "source": [
        "print(t1.shape)\n",
        "print(t2.shape)\n",
        "print(t3.shape)\n",
        "print(t4.shape)"
      ],
      "execution_count": null,
      "outputs": [
        {
          "output_type": "stream",
          "text": [
            "()\n",
            "(4,)\n",
            "(2, 4)\n",
            "(3, 3, 4)\n"
          ],
          "name": "stdout"
        }
      ]
    },
    {
      "cell_type": "code",
      "metadata": {
        "colab": {
          "base_uri": "https://localhost:8080/"
        },
        "id": "MANUIp238qL4",
        "outputId": "c541554b-8a99-4108-e725-e82d26bf372e"
      },
      "source": [
        "print(tf.rank(t1).numpy())\n",
        "print(tf.rank(t2).numpy())\n",
        "print(tf.rank(t3).numpy())\n",
        "print(tf.rank(t4).numpy())"
      ],
      "execution_count": null,
      "outputs": [
        {
          "output_type": "stream",
          "text": [
            "0\n",
            "1\n",
            "2\n",
            "3\n"
          ],
          "name": "stdout"
        }
      ]
    },
    {
      "cell_type": "markdown",
      "metadata": {
        "id": "FXCRMVohhmBA"
      },
      "source": [
        "Data type conversion here: "
      ]
    },
    {
      "cell_type": "code",
      "metadata": {
        "colab": {
          "base_uri": "https://localhost:8080/"
        },
        "id": "hXv7EOG_82C3",
        "outputId": "c2577899-9b15-43aa-b193-5a11e86b0a21"
      },
      "source": [
        "t1 = tf.constant([2,3.,5])\n",
        "t1.numpy()"
      ],
      "execution_count": null,
      "outputs": [
        {
          "output_type": "execute_result",
          "data": {
            "text/plain": [
              "array([2., 3., 5.], dtype=float32)"
            ]
          },
          "metadata": {
            "tags": []
          },
          "execution_count": 23
        }
      ]
    },
    {
      "cell_type": "code",
      "metadata": {
        "colab": {
          "base_uri": "https://localhost:8080/"
        },
        "id": "QRns8SPyAnK3",
        "outputId": "9e7314d4-4473-4ab6-872e-b740696e6715"
      },
      "source": [
        "t1 = tf.constant([2,3,5],tf.float32)    # tf.float32 is converting all the data into float type data\n",
        "t1.numpy()"
      ],
      "execution_count": 26,
      "outputs": [
        {
          "output_type": "execute_result",
          "data": {
            "text/plain": [
              "array([2., 3., 5.], dtype=float32)"
            ]
          },
          "metadata": {
            "tags": []
          },
          "execution_count": 26
        }
      ]
    },
    {
      "cell_type": "markdown",
      "metadata": {
        "id": "o8i4qMqeiE5q"
      },
      "source": [
        "Tensor creation with Variable values: \n",
        "- When need to modify the tensor in further steps then create it as Variable and not as constant."
      ]
    },
    {
      "cell_type": "code",
      "metadata": {
        "id": "DHu0wtZmAzQZ"
      },
      "source": [
        "tv1 = tf.Variable(4)\n",
        "tv2 = tf.Variable([2,1,3,5])\n",
        "tv3 = tf.Variable([[2,4,1,3],[3,2,1,4]])\n",
        "tv4 = tf.Variable([[[2,4,1,3],[3,4,1,2],[3,5,6,7]],[[3,4,0,2],[0,2,1,4],[0,3,5,7]],[[1,0,1,3],[5,0,1,2],[3,0,6,9]]])"
      ],
      "execution_count": 28,
      "outputs": []
    },
    {
      "cell_type": "markdown",
      "metadata": {
        "id": "LMUWdbFLjlim"
      },
      "source": [
        "Now check the rank/dimensions for each above created tensors:"
      ]
    },
    {
      "cell_type": "code",
      "metadata": {
        "colab": {
          "base_uri": "https://localhost:8080/"
        },
        "id": "bmQnfq1tBJHG",
        "outputId": "be2f6f14-3c80-4f2d-d7df-9649d9ac1279"
      },
      "source": [
        "print(tf.rank(tv1).numpy())\n",
        "print(tf.rank(tv2).numpy())\n",
        "print(tf.rank(tv3).numpy())\n",
        "print(tf.rank(tv4).numpy())"
      ],
      "execution_count": null,
      "outputs": [
        {
          "output_type": "stream",
          "text": [
            "0\n",
            "1\n",
            "2\n",
            "3\n"
          ],
          "name": "stdout"
        }
      ]
    },
    {
      "cell_type": "markdown",
      "metadata": {
        "id": "qbfvnzM7j7Bi"
      },
      "source": [
        "Slicing operation: When we want to access only a particilar value or a portion of the tensor\n",
        "- Syntax: [slice1 says which matric to retrieve, slice2 says which rows to retrieve from that matric, slice3 says which columns to retieve]. \n",
        "- Here the 3rd slice is optional and only required if we need to retrieve any particual columns."
      ]
    },
    {
      "cell_type": "markdown",
      "metadata": {
        "id": "04uMu_v4cb7p"
      },
      "source": [
        "Let's get the 1st row and all the columns from the tensor tv3"
      ]
    },
    {
      "cell_type": "code",
      "metadata": {
        "colab": {
          "base_uri": "https://localhost:8080/"
        },
        "id": "en1XD8TVkKiC",
        "outputId": "48a1bccd-ab8a-4833-9deb-de4198bf58f9"
      },
      "source": [
        "tv3[1,:].numpy()"
      ],
      "execution_count": 35,
      "outputs": [
        {
          "output_type": "execute_result",
          "data": {
            "text/plain": [
              "array([3, 2, 1, 4], dtype=int32)"
            ]
          },
          "metadata": {
            "tags": []
          },
          "execution_count": 35
        }
      ]
    },
    {
      "cell_type": "markdown",
      "metadata": {
        "id": "2wtaOneCkYBb"
      },
      "source": [
        "Let's get the 2nd row and all columns from the tensor tv4. OR, we can also say it get the 3rd matrix from the tensor tv4"
      ]
    },
    {
      "cell_type": "code",
      "metadata": {
        "colab": {
          "base_uri": "https://localhost:8080/"
        },
        "id": "tQhguMi5bSi_",
        "outputId": "8c91edfc-b0c2-4da2-aff7-e8882ec894f9"
      },
      "source": [
        "tv4"
      ],
      "execution_count": 88,
      "outputs": [
        {
          "output_type": "execute_result",
          "data": {
            "text/plain": [
              "<tf.Variable 'Variable:0' shape=(3, 3, 4) dtype=int32, numpy=\n",
              "array([[[2, 4, 1, 3],\n",
              "        [3, 4, 1, 2],\n",
              "        [3, 5, 6, 7]],\n",
              "\n",
              "       [[3, 4, 0, 2],\n",
              "        [0, 2, 1, 4],\n",
              "        [0, 3, 5, 7]],\n",
              "\n",
              "       [[1, 0, 1, 3],\n",
              "        [5, 0, 1, 2],\n",
              "        [3, 0, 6, 9]]], dtype=int32)>"
            ]
          },
          "metadata": {
            "tags": []
          },
          "execution_count": 88
        }
      ]
    },
    {
      "cell_type": "code",
      "metadata": {
        "colab": {
          "base_uri": "https://localhost:8080/"
        },
        "id": "bSHrZtuOkzE6",
        "outputId": "d19758dd-eaa6-44e2-9ccc-b0643781b3e5"
      },
      "source": [
        "tv4[2,:].numpy()   "
      ],
      "execution_count": 36,
      "outputs": [
        {
          "output_type": "execute_result",
          "data": {
            "text/plain": [
              "array([[1, 0, 1, 3],\n",
              "       [5, 0, 1, 2],\n",
              "       [3, 0, 6, 9]], dtype=int32)"
            ]
          },
          "metadata": {
            "tags": []
          },
          "execution_count": 36
        }
      ]
    },
    {
      "cell_type": "code",
      "metadata": {
        "colab": {
          "base_uri": "https://localhost:8080/"
        },
        "id": "1TyPsL96DRQk",
        "outputId": "3d660fd2-ca16-46cc-abbf-9b505ebe6832"
      },
      "source": [
        "tv4[2,:,:].numpy()     # Or we can also do by this code"
      ],
      "execution_count": null,
      "outputs": [
        {
          "output_type": "execute_result",
          "data": {
            "text/plain": [
              "array([[1, 0, 1, 3],\n",
              "       [5, 0, 1, 2],\n",
              "       [3, 0, 6, 9]], dtype=int32)"
            ]
          },
          "metadata": {
            "tags": []
          },
          "execution_count": 38
        }
      ]
    },
    {
      "cell_type": "markdown",
      "metadata": {
        "id": "GpI7h8gDlAI9"
      },
      "source": [
        "- Let's get 1st row, all values of columns of 1st and 2nd only from tv4"
      ]
    },
    {
      "cell_type": "code",
      "metadata": {
        "colab": {
          "base_uri": "https://localhost:8080/"
        },
        "id": "1SsQm7ARc8ET",
        "outputId": "8bd5806b-7343-468e-a243-ca82c4229593"
      },
      "source": [
        "tv4"
      ],
      "execution_count": 90,
      "outputs": [
        {
          "output_type": "execute_result",
          "data": {
            "text/plain": [
              "<tf.Variable 'Variable:0' shape=(3, 3, 4) dtype=int32, numpy=\n",
              "array([[[2, 4, 1, 3],\n",
              "        [3, 4, 1, 2],\n",
              "        [3, 5, 6, 7]],\n",
              "\n",
              "       [[3, 4, 0, 2],\n",
              "        [0, 2, 1, 4],\n",
              "        [0, 3, 5, 7]],\n",
              "\n",
              "       [[1, 0, 1, 3],\n",
              "        [5, 0, 1, 2],\n",
              "        [3, 0, 6, 9]]], dtype=int32)>"
            ]
          },
          "metadata": {
            "tags": []
          },
          "execution_count": 90
        }
      ]
    },
    {
      "cell_type": "code",
      "metadata": {
        "colab": {
          "base_uri": "https://localhost:8080/"
        },
        "id": "rcaZMHOAcpbS",
        "outputId": "86bec8f1-5ec1-429e-ba6b-75d612af1447"
      },
      "source": [
        "tv4[1,:,1:3]"
      ],
      "execution_count": 91,
      "outputs": [
        {
          "output_type": "execute_result",
          "data": {
            "text/plain": [
              "<tf.Tensor: shape=(3, 2), dtype=int32, numpy=\n",
              "array([[4, 0],\n",
              "       [2, 1],\n",
              "       [3, 5]], dtype=int32)>"
            ]
          },
          "metadata": {
            "tags": []
          },
          "execution_count": 91
        }
      ]
    },
    {
      "cell_type": "markdown",
      "metadata": {
        "id": "f_XIXMApFN_B"
      },
      "source": [
        "Create tensors of ones and zeroes"
      ]
    },
    {
      "cell_type": "code",
      "metadata": {
        "colab": {
          "base_uri": "https://localhost:8080/"
        },
        "id": "GDiZHNKkFPJf",
        "outputId": "d235980e-76a4-4f9c-8899-11120dff054f"
      },
      "source": [
        "on = tf.ones([4,4], tf.int32)\n",
        "on"
      ],
      "execution_count": null,
      "outputs": [
        {
          "output_type": "execute_result",
          "data": {
            "text/plain": [
              "<tf.Tensor: shape=(4, 4), dtype=int32, numpy=\n",
              "array([[1, 1, 1, 1],\n",
              "       [1, 1, 1, 1],\n",
              "       [1, 1, 1, 1],\n",
              "       [1, 1, 1, 1]], dtype=int32)>"
            ]
          },
          "metadata": {
            "tags": []
          },
          "execution_count": 51
        }
      ]
    },
    {
      "cell_type": "code",
      "metadata": {
        "colab": {
          "base_uri": "https://localhost:8080/"
        },
        "id": "iE0UIykEFUI_",
        "outputId": "01f62c86-23b8-4c37-e451-1023e14bd5c4"
      },
      "source": [
        "zero = tf.zeros([2,4,4])   # create a 2 dimensional tensor of zeros with shape (4,4) \n",
        "zero"
      ],
      "execution_count": 38,
      "outputs": [
        {
          "output_type": "execute_result",
          "data": {
            "text/plain": [
              "<tf.Tensor: shape=(2, 4, 4), dtype=float32, numpy=\n",
              "array([[[0., 0., 0., 0.],\n",
              "        [0., 0., 0., 0.],\n",
              "        [0., 0., 0., 0.],\n",
              "        [0., 0., 0., 0.]],\n",
              "\n",
              "       [[0., 0., 0., 0.],\n",
              "        [0., 0., 0., 0.],\n",
              "        [0., 0., 0., 0.],\n",
              "        [0., 0., 0., 0.]]], dtype=float32)>"
            ]
          },
          "metadata": {
            "tags": []
          },
          "execution_count": 38
        }
      ]
    },
    {
      "cell_type": "markdown",
      "metadata": {
        "id": "f4mlTUDNoMoj"
      },
      "source": [
        "Tensor broadcasting: Change the shape of a tensor, values will remain the same of the tensor\n",
        "- The values within a tensor will be broadcasted so that it can have the given shape"
      ]
    },
    {
      "cell_type": "code",
      "metadata": {
        "colab": {
          "base_uri": "https://localhost:8080/"
        },
        "id": "E5Js1Z1bFZS1",
        "outputId": "21b0a799-28be-4c24-cac9-44f71b366468"
      },
      "source": [
        "print(t1)                    # tensor t1 shape is (3,), so it is a 1 dimensional array now"
      ],
      "execution_count": 40,
      "outputs": [
        {
          "output_type": "stream",
          "text": [
            "tf.Tensor([2. 3. 5.], shape=(3,), dtype=float32)\n"
          ],
          "name": "stdout"
        }
      ]
    },
    {
      "cell_type": "code",
      "metadata": {
        "colab": {
          "base_uri": "https://localhost:8080/"
        },
        "id": "6VMM2vSjFecx",
        "outputId": "aea2cc20-5702-4043-d04d-c690f129a6c3"
      },
      "source": [
        "tf.broadcast_to(t1, [4,3])   # expand t1 with shape=(4,3) and the newly added elements will be the existing elements of t1 only"
      ],
      "execution_count": 41,
      "outputs": [
        {
          "output_type": "execute_result",
          "data": {
            "text/plain": [
              "<tf.Tensor: shape=(4, 3), dtype=float32, numpy=\n",
              "array([[2., 3., 5.],\n",
              "       [2., 3., 5.],\n",
              "       [2., 3., 5.],\n",
              "       [2., 3., 5.]], dtype=float32)>"
            ]
          },
          "metadata": {
            "tags": []
          },
          "execution_count": 41
        }
      ]
    },
    {
      "cell_type": "code",
      "metadata": {
        "colab": {
          "base_uri": "https://localhost:8080/"
        },
        "id": "6Qp9J8pWFjzZ",
        "outputId": "ea31c9d7-aa83-46cd-d9cf-aaa66585c41c"
      },
      "source": [
        "ta = tf.broadcast_to(t1,[4,3])\n",
        "ta1 = tf.Variable(ta)       # storing the broadcasted tensor ta, as a variable ta1 so that we can modify it in future if required.\n",
        "ta1"
      ],
      "execution_count": 45,
      "outputs": [
        {
          "output_type": "execute_result",
          "data": {
            "text/plain": [
              "<tf.Variable 'Variable:0' shape=(4, 3) dtype=float32, numpy=\n",
              "array([[2., 3., 5.],\n",
              "       [2., 3., 5.],\n",
              "       [2., 3., 5.],\n",
              "       [2., 3., 5.]], dtype=float32)>"
            ]
          },
          "metadata": {
            "tags": []
          },
          "execution_count": 45
        }
      ]
    },
    {
      "cell_type": "markdown",
      "metadata": {
        "id": "GENWJ0dV6DPB"
      },
      "source": [
        "Tensor assign: Assign new value to the tensor\n",
        "- We can assign multiple values using assign as well as a single value"
      ]
    },
    {
      "cell_type": "markdown",
      "metadata": {
        "id": "NTOs3vPYgv_4"
      },
      "source": [
        "assign multiple values to the existing tensor"
      ]
    },
    {
      "cell_type": "code",
      "metadata": {
        "id": "rgQbU-EbGK8U",
        "colab": {
          "base_uri": "https://localhost:8080/"
        },
        "outputId": "5f460d16-53a5-4901-e69c-9d172175d9f0"
      },
      "source": [
        "tr = tf.constant([9.,1])\n",
        "tr.numpy()"
      ],
      "execution_count": 43,
      "outputs": [
        {
          "output_type": "execute_result",
          "data": {
            "text/plain": [
              "array([9., 1.], dtype=float32)"
            ]
          },
          "metadata": {
            "tags": []
          },
          "execution_count": 43
        }
      ]
    },
    {
      "cell_type": "code",
      "metadata": {
        "colab": {
          "base_uri": "https://localhost:8080/"
        },
        "id": "frfynUb9GK_c",
        "outputId": "7a38943c-cd53-4676-add3-2dbcdef0d928"
      },
      "source": [
        "ta1[2,1:].assign(tr)    # change the 2nd row and columns staring from 1 to all of tensor ta1, with the value of tensor tr"
      ],
      "execution_count": 46,
      "outputs": [
        {
          "output_type": "execute_result",
          "data": {
            "text/plain": [
              "<tf.Variable 'UnreadVariable' shape=(4, 3) dtype=float32, numpy=\n",
              "array([[2., 3., 5.],\n",
              "       [2., 3., 5.],\n",
              "       [2., 9., 1.],\n",
              "       [2., 3., 5.]], dtype=float32)>"
            ]
          },
          "metadata": {
            "tags": []
          },
          "execution_count": 46
        }
      ]
    },
    {
      "cell_type": "markdown",
      "metadata": {
        "id": "ess_qrJKg1a_"
      },
      "source": [
        "assign a single value to the existing tensor"
      ]
    },
    {
      "cell_type": "code",
      "metadata": {
        "colab": {
          "base_uri": "https://localhost:8080/"
        },
        "id": "yJti0OmIgmIX",
        "outputId": "5a3a3c51-ab79-4b05-f6af-59104db298e1"
      },
      "source": [
        "ta1[3,1].assign(65.)    # assign value 65.0 to the 3rd row and 1st element"
      ],
      "execution_count": 99,
      "outputs": [
        {
          "output_type": "execute_result",
          "data": {
            "text/plain": [
              "<tf.Variable 'UnreadVariable' shape=(4, 3) dtype=float32, numpy=\n",
              "array([[ 2.,  3.,  5.],\n",
              "       [ 2.,  3.,  5.],\n",
              "       [ 2.,  9.,  1.],\n",
              "       [ 2., 65.,  5.]], dtype=float32)>"
            ]
          },
          "metadata": {
            "tags": []
          },
          "execution_count": 99
        }
      ]
    },
    {
      "cell_type": "markdown",
      "metadata": {
        "id": "nlkXKK0Y650V"
      },
      "source": [
        "Conditional checking in Tensor:"
      ]
    },
    {
      "cell_type": "code",
      "metadata": {
        "colab": {
          "base_uri": "https://localhost:8080/"
        },
        "id": "lEdUh415GLBk",
        "outputId": "b89af75c-a6ec-420a-f356-7bbfcee19f4d"
      },
      "source": [
        "ta1>5                   # check if any element of tensor ta1 is greater than 5:"
      ],
      "execution_count": null,
      "outputs": [
        {
          "output_type": "execute_result",
          "data": {
            "text/plain": [
              "<tf.Tensor: shape=(4, 3), dtype=bool, numpy=\n",
              "array([[False, False, False],\n",
              "       [False, False, False],\n",
              "       [False,  True, False],\n",
              "       [False, False, False]])>"
            ]
          },
          "metadata": {
            "tags": []
          },
          "execution_count": 63
        }
      ]
    },
    {
      "cell_type": "code",
      "metadata": {
        "colab": {
          "base_uri": "https://localhost:8080/"
        },
        "id": "10CHopZmGLDZ",
        "outputId": "709bdee1-542b-410a-be6a-18f49cd80e34"
      },
      "source": [
        "ta1[ta1>5].numpy()      # which element of ta1 is satisfying the given condition  i.e ta1>5"
      ],
      "execution_count": null,
      "outputs": [
        {
          "output_type": "execute_result",
          "data": {
            "text/plain": [
              "array([9.], dtype=float32)"
            ]
          },
          "metadata": {
            "tags": []
          },
          "execution_count": 64
        }
      ]
    },
    {
      "cell_type": "code",
      "metadata": {
        "colab": {
          "base_uri": "https://localhost:8080/"
        },
        "id": "UzmbKLhKGLFW",
        "outputId": "94cad45c-c997-4fa3-a1f7-59df08b43648"
      },
      "source": [
        "tf.where(ta1>5)        # Returns the position of that element only which has satisfied the condition"
      ],
      "execution_count": 47,
      "outputs": [
        {
          "output_type": "execute_result",
          "data": {
            "text/plain": [
              "<tf.Tensor: shape=(1, 2), dtype=int64, numpy=array([[2, 1]])>"
            ]
          },
          "metadata": {
            "tags": []
          },
          "execution_count": 47
        }
      ]
    },
    {
      "cell_type": "markdown",
      "metadata": {
        "id": "tgUZeTkTKbr8"
      },
      "source": [
        "Tensor mathematical operations:"
      ]
    },
    {
      "cell_type": "code",
      "metadata": {
        "colab": {
          "base_uri": "https://localhost:8080/"
        },
        "id": "oQQKXSiLKeK6",
        "outputId": "6405ecd0-b693-43dd-cfce-e86e98c3df94"
      },
      "source": [
        "a = tf.constant(3.)\n",
        "b = tf.constant(4.)\n",
        "print(a.numpy())\n",
        "print(b.numpy())"
      ],
      "execution_count": null,
      "outputs": [
        {
          "output_type": "stream",
          "text": [
            "3.0\n",
            "4.0\n"
          ],
          "name": "stdout"
        }
      ]
    },
    {
      "cell_type": "code",
      "metadata": {
        "colab": {
          "base_uri": "https://localhost:8080/"
        },
        "id": "zD_xzWBMKeN8",
        "outputId": "4cc0070d-c87b-4bdd-e664-a8af2ce27a17"
      },
      "source": [
        "c = a+b\n",
        "print(c)\n",
        "d = a-b\n",
        "print(d)\n",
        "e = a*b\n",
        "print(e)\n",
        "f = a/b\n",
        "print(f)\n",
        "g = b%a\n",
        "print(g)"
      ],
      "execution_count": null,
      "outputs": [
        {
          "output_type": "stream",
          "text": [
            "tf.Tensor(7.0, shape=(), dtype=float32)\n",
            "tf.Tensor(-1.0, shape=(), dtype=float32)\n",
            "tf.Tensor(12.0, shape=(), dtype=float32)\n",
            "tf.Tensor(0.75, shape=(), dtype=float32)\n",
            "tf.Tensor(1.0, shape=(), dtype=float32)\n"
          ],
          "name": "stdout"
        }
      ]
    },
    {
      "cell_type": "code",
      "metadata": {
        "colab": {
          "base_uri": "https://localhost:8080/"
        },
        "id": "rdwTKfPRKeP9",
        "outputId": "8175ae7b-5596-44b0-b074-b4f386eea1e4"
      },
      "source": [
        "c1 = tf.add(a,b)\n",
        "print(c1)\n",
        "c2 = tf.subtract(a,b)\n",
        "print(c2)\n",
        "c3 = tf.multiply(a,b)\n",
        "print(c3)\n",
        "c4 = tf.divide(a,b)\n",
        "print(c4)"
      ],
      "execution_count": null,
      "outputs": [
        {
          "output_type": "stream",
          "text": [
            "tf.Tensor(7.0, shape=(), dtype=float32)\n",
            "tf.Tensor(-1.0, shape=(), dtype=float32)\n",
            "tf.Tensor(12.0, shape=(), dtype=float32)\n",
            "tf.Tensor(0.75, shape=(), dtype=float32)\n"
          ],
          "name": "stdout"
        }
      ]
    },
    {
      "cell_type": "code",
      "metadata": {
        "colab": {
          "base_uri": "https://localhost:8080/"
        },
        "id": "RqSRVxHciUmQ",
        "outputId": "df5be9ea-2deb-4732-a4a3-54032f3836ed"
      },
      "source": [
        "x = tf.constant([1,2,3,4])\n",
        "y = tf.ones([2,4],dtype=tf.int32)\n",
        "print(x.numpy())\n",
        "print(y.numpy())\n",
        "res = tf.add(y[1,:], x)\n",
        "print('The resultant tensor:',res.numpy())"
      ],
      "execution_count": 108,
      "outputs": [
        {
          "output_type": "stream",
          "text": [
            "[1 2 3 4]\n",
            "[[1 1 1 1]\n",
            " [1 1 1 1]]\n",
            "The resultant tensor: [2 3 4 5]\n"
          ],
          "name": "stdout"
        }
      ]
    },
    {
      "cell_type": "code",
      "metadata": {
        "colab": {
          "base_uri": "https://localhost:8080/"
        },
        "id": "EP6lAIxVKeR2",
        "outputId": "dadce076-5461-46f7-82df-a79ddfd70b71"
      },
      "source": [
        "p = tf.pow(3,2)     # calculate 3 to the power 2\n",
        "print(p)\n",
        "exp = tf.exp(1.)    # the value of e is 2.7182817. Here, exp(1.) indicates = e to the power 1.0\n",
        "print(exp)\n",
        "sq = tf.sqrt(25.)   # calculate the square root of 25.0\n",
        "print(sq)"
      ],
      "execution_count": 49,
      "outputs": [
        {
          "output_type": "stream",
          "text": [
            "tf.Tensor(9, shape=(), dtype=int32)\n",
            "tf.Tensor(2.7182817, shape=(), dtype=float32)\n",
            "tf.Tensor(5.0, shape=(), dtype=float32)\n"
          ],
          "name": "stdout"
        }
      ]
    },
    {
      "cell_type": "code",
      "metadata": {
        "colab": {
          "base_uri": "https://localhost:8080/"
        },
        "id": "vWqv6mblKeUH",
        "outputId": "04cb6bbc-2ec1-428b-e006-7cfa2411a16b"
      },
      "source": [
        "exp = tf.exp(.5)     # calclulate e to the power 0.5\n",
        "print(exp)"
      ],
      "execution_count": null,
      "outputs": [
        {
          "output_type": "stream",
          "text": [
            "tf.Tensor(1.6487212, shape=(), dtype=float32)\n"
          ],
          "name": "stdout"
        }
      ]
    },
    {
      "cell_type": "markdown",
      "metadata": {
        "id": "C2PFF7SL8t-G"
      },
      "source": [
        "Concatenate 2 tensors: We can concatenate tensors along axes\n",
        "- tf.concat([c1,c2],1) indicates concatenating along column axis. So, no of columns in the resultant tensor will increase\n",
        "- tf.concat([c1,c2],0) indicates concatenating along row axis. So, no of rows in the resultant tensor will increase\n",
        "- The axis number depends on the dimension of the tensor, if we have a 3-D tensor, then we can concatenate along axis=2 also"
      ]
    },
    {
      "cell_type": "code",
      "metadata": {
        "colab": {
          "base_uri": "https://localhost:8080/"
        },
        "id": "2ke81OpTKeZf",
        "outputId": "255842ab-28dc-4e3e-c207-2582d906c137"
      },
      "source": [
        "c1 = tf.ones([3,3])\n",
        "c2 = tf.zeros([3,2])\n",
        "tf.concat([c1,c2],1)    # column wise concatenation"
      ],
      "execution_count": 109,
      "outputs": [
        {
          "output_type": "execute_result",
          "data": {
            "text/plain": [
              "<tf.Tensor: shape=(3, 5), dtype=float32, numpy=\n",
              "array([[1., 1., 1., 0., 0.],\n",
              "       [1., 1., 1., 0., 0.],\n",
              "       [1., 1., 1., 0., 0.]], dtype=float32)>"
            ]
          },
          "metadata": {
            "tags": []
          },
          "execution_count": 109
        }
      ]
    },
    {
      "cell_type": "code",
      "metadata": {
        "colab": {
          "base_uri": "https://localhost:8080/"
        },
        "id": "k_-_MIReKecd",
        "outputId": "384091c2-0f9d-4784-f11b-4bd1f2f533a6"
      },
      "source": [
        "c1 = tf.ones([3,3])\n",
        "c2 = tf.zeros([5,3])\n",
        "tf.concat([c1,c2],0)     # row wise concatenation"
      ],
      "execution_count": 110,
      "outputs": [
        {
          "output_type": "execute_result",
          "data": {
            "text/plain": [
              "<tf.Tensor: shape=(8, 3), dtype=float32, numpy=\n",
              "array([[1., 1., 1.],\n",
              "       [1., 1., 1.],\n",
              "       [1., 1., 1.],\n",
              "       [0., 0., 0.],\n",
              "       [0., 0., 0.],\n",
              "       [0., 0., 0.],\n",
              "       [0., 0., 0.],\n",
              "       [0., 0., 0.]], dtype=float32)>"
            ]
          },
          "metadata": {
            "tags": []
          },
          "execution_count": 110
        }
      ]
    },
    {
      "cell_type": "markdown",
      "metadata": {
        "id": "bIgE8yov9Sc9"
      },
      "source": [
        "Tensor Multiplication:\n",
        "- Matrix multiplication by 'matmul' method : In matrix multiplication, the no of columns of the 1st matrix must be equal to the no of rows of the 2nd matrix\n",
        "- Matrix multiplication by '*' operation: This is positional multiplication of the matrics. So the multiplication happens according to the element's same position. To perform this operation both the merics should be of the same order. Suppose 1 matrix is of order mxn, then the other matrix should also be of mxn order. \n"
      ]
    },
    {
      "cell_type": "code",
      "metadata": {
        "colab": {
          "base_uri": "https://localhost:8080/"
        },
        "id": "vpKSiC4SKeg-",
        "outputId": "4f5a2b46-e8a6-4ecd-f531-34013930fac8"
      },
      "source": [
        "c1 = tf.constant([[1,5,8],[-3,4,6]])\n",
        "c2 = tf.constant([[5,7,0],[1,2,6],[4,10,-3]])\n",
        "m1 = tf.matmul(c1,c2)\n",
        "m1.numpy()\n"
      ],
      "execution_count": 112,
      "outputs": [
        {
          "output_type": "execute_result",
          "data": {
            "text/plain": [
              "array([[42, 97,  6],\n",
              "       [13, 47,  6]], dtype=int32)"
            ]
          },
          "metadata": {
            "tags": []
          },
          "execution_count": 112
        }
      ]
    },
    {
      "cell_type": "markdown",
      "metadata": {
        "id": "7oOzEeHCwTaq"
      },
      "source": [
        "- '*' operation on the matrics of same order (3x3)"
      ]
    },
    {
      "cell_type": "code",
      "metadata": {
        "colab": {
          "base_uri": "https://localhost:8080/"
        },
        "id": "RN7ZSIn9PUze",
        "outputId": "685a922d-64d1-400a-b8c2-032efc04e531"
      },
      "source": [
        "m1 = tf.constant([[1,2,3],[1,1,0],[1,2,3]])\n",
        "m2 = tf.constant([[2,2,0],[1,1,0],[2,2,3]])\n",
        "res = m1*m2    # \n",
        "print(res)"
      ],
      "execution_count": null,
      "outputs": [
        {
          "output_type": "stream",
          "text": [
            "tf.Tensor(\n",
            "[[2 4 0]\n",
            " [1 1 0]\n",
            " [2 4 9]], shape=(3, 3), dtype=int32)\n"
          ],
          "name": "stdout"
        }
      ]
    },
    {
      "cell_type": "markdown",
      "metadata": {
        "id": "sT_jGawjwcM_"
      },
      "source": [
        "- '*' operation on the matrics of same order (2x2)"
      ]
    },
    {
      "cell_type": "code",
      "metadata": {
        "colab": {
          "base_uri": "https://localhost:8080/"
        },
        "id": "nG3QJWTePU3v",
        "outputId": "dbc72307-c204-4666-d75c-3304344b0f71"
      },
      "source": [
        "a = tf.constant([[1,2],[3,4]])\n",
        "b = tf.constant([[5,6],[8,10]])\n",
        "(a*b).numpy()"
      ],
      "execution_count": 117,
      "outputs": [
        {
          "output_type": "execute_result",
          "data": {
            "text/plain": [
              "array([[ 5, 12],\n",
              "       [24, 40]], dtype=int32)"
            ]
          },
          "metadata": {
            "tags": []
          },
          "execution_count": 117
        }
      ]
    },
    {
      "cell_type": "markdown",
      "metadata": {
        "id": "EpXEjRs5dZOp"
      },
      "source": [
        "Extra Practices:"
      ]
    },
    {
      "cell_type": "code",
      "metadata": {
        "id": "tEKlA5-OPU9N",
        "colab": {
          "base_uri": "https://localhost:8080/",
          "height": 253
        },
        "outputId": "cfd0c132-384b-473c-ede3-33e0cb1bcf34"
      },
      "source": [
        "tf1 = tf.constant(3.)\n",
        "tf2 = tf.Variable(3)\n",
        "tf.subtract(tf1,tf2)"
      ],
      "execution_count": 57,
      "outputs": [
        {
          "output_type": "error",
          "ename": "InvalidArgumentError",
          "evalue": "ignored",
          "traceback": [
            "\u001b[0;31m---------------------------------------------------------------------------\u001b[0m",
            "\u001b[0;31mInvalidArgumentError\u001b[0m                      Traceback (most recent call last)",
            "\u001b[0;32m<ipython-input-57-98abf3acd687>\u001b[0m in \u001b[0;36m<module>\u001b[0;34m()\u001b[0m\n\u001b[1;32m      1\u001b[0m \u001b[0mtf1\u001b[0m \u001b[0;34m=\u001b[0m \u001b[0mtf\u001b[0m\u001b[0;34m.\u001b[0m\u001b[0mconstant\u001b[0m\u001b[0;34m(\u001b[0m\u001b[0;36m3.\u001b[0m\u001b[0;34m)\u001b[0m\u001b[0;34m\u001b[0m\u001b[0;34m\u001b[0m\u001b[0m\n\u001b[1;32m      2\u001b[0m \u001b[0mtf2\u001b[0m \u001b[0;34m=\u001b[0m \u001b[0mtf\u001b[0m\u001b[0;34m.\u001b[0m\u001b[0mVariable\u001b[0m\u001b[0;34m(\u001b[0m\u001b[0;36m3\u001b[0m\u001b[0;34m)\u001b[0m\u001b[0;34m\u001b[0m\u001b[0;34m\u001b[0m\u001b[0m\n\u001b[0;32m----> 3\u001b[0;31m \u001b[0mtf\u001b[0m\u001b[0;34m.\u001b[0m\u001b[0msubtract\u001b[0m\u001b[0;34m(\u001b[0m\u001b[0mtf1\u001b[0m\u001b[0;34m,\u001b[0m\u001b[0mtf2\u001b[0m\u001b[0;34m)\u001b[0m\u001b[0;34m\u001b[0m\u001b[0;34m\u001b[0m\u001b[0m\n\u001b[0m",
            "\u001b[0;32m/usr/local/lib/python3.7/dist-packages/tensorflow/python/util/dispatch.py\u001b[0m in \u001b[0;36mwrapper\u001b[0;34m(*args, **kwargs)\u001b[0m\n\u001b[1;32m    199\u001b[0m     \u001b[0;34m\"\"\"Call target, and fall back on dispatchers if there is a TypeError.\"\"\"\u001b[0m\u001b[0;34m\u001b[0m\u001b[0;34m\u001b[0m\u001b[0m\n\u001b[1;32m    200\u001b[0m     \u001b[0;32mtry\u001b[0m\u001b[0;34m:\u001b[0m\u001b[0;34m\u001b[0m\u001b[0;34m\u001b[0m\u001b[0m\n\u001b[0;32m--> 201\u001b[0;31m       \u001b[0;32mreturn\u001b[0m \u001b[0mtarget\u001b[0m\u001b[0;34m(\u001b[0m\u001b[0;34m*\u001b[0m\u001b[0margs\u001b[0m\u001b[0;34m,\u001b[0m \u001b[0;34m**\u001b[0m\u001b[0mkwargs\u001b[0m\u001b[0;34m)\u001b[0m\u001b[0;34m\u001b[0m\u001b[0;34m\u001b[0m\u001b[0m\n\u001b[0m\u001b[1;32m    202\u001b[0m     \u001b[0;32mexcept\u001b[0m \u001b[0;34m(\u001b[0m\u001b[0mTypeError\u001b[0m\u001b[0;34m,\u001b[0m \u001b[0mValueError\u001b[0m\u001b[0;34m)\u001b[0m\u001b[0;34m:\u001b[0m\u001b[0;34m\u001b[0m\u001b[0;34m\u001b[0m\u001b[0m\n\u001b[1;32m    203\u001b[0m       \u001b[0;31m# Note: convert_to_eager_tensor currently raises a ValueError, not a\u001b[0m\u001b[0;34m\u001b[0m\u001b[0;34m\u001b[0m\u001b[0;34m\u001b[0m\u001b[0m\n",
            "\u001b[0;32m/usr/local/lib/python3.7/dist-packages/tensorflow/python/ops/math_ops.py\u001b[0m in \u001b[0;36msubtract\u001b[0;34m(x, y, name)\u001b[0m\n\u001b[1;32m    559\u001b[0m     \u001b[0mA\u001b[0m\u001b[0;31m \u001b[0m\u001b[0;31m`\u001b[0m\u001b[0mTensor\u001b[0m\u001b[0;31m`\u001b[0m\u001b[0;34m.\u001b[0m \u001b[0mHas\u001b[0m \u001b[0mthe\u001b[0m \u001b[0msame\u001b[0m \u001b[0mtype\u001b[0m \u001b[0;32mas\u001b[0m \u001b[0mx\u001b[0m\u001b[0;34m.\u001b[0m\u001b[0;34m\u001b[0m\u001b[0;34m\u001b[0m\u001b[0m\n\u001b[1;32m    560\u001b[0m   \"\"\"\n\u001b[0;32m--> 561\u001b[0;31m   \u001b[0;32mreturn\u001b[0m \u001b[0mgen_math_ops\u001b[0m\u001b[0;34m.\u001b[0m\u001b[0msub\u001b[0m\u001b[0;34m(\u001b[0m\u001b[0mx\u001b[0m\u001b[0;34m,\u001b[0m \u001b[0my\u001b[0m\u001b[0;34m,\u001b[0m \u001b[0mname\u001b[0m\u001b[0;34m)\u001b[0m\u001b[0;34m\u001b[0m\u001b[0;34m\u001b[0m\u001b[0m\n\u001b[0m\u001b[1;32m    562\u001b[0m \u001b[0;34m\u001b[0m\u001b[0m\n\u001b[1;32m    563\u001b[0m \u001b[0;34m\u001b[0m\u001b[0m\n",
            "\u001b[0;32m/usr/local/lib/python3.7/dist-packages/tensorflow/python/ops/gen_math_ops.py\u001b[0m in \u001b[0;36msub\u001b[0;34m(x, y, name)\u001b[0m\n\u001b[1;32m  10305\u001b[0m       \u001b[0;32mreturn\u001b[0m \u001b[0m_result\u001b[0m\u001b[0;34m\u001b[0m\u001b[0;34m\u001b[0m\u001b[0m\n\u001b[1;32m  10306\u001b[0m     \u001b[0;32mexcept\u001b[0m \u001b[0m_core\u001b[0m\u001b[0;34m.\u001b[0m\u001b[0m_NotOkStatusException\u001b[0m \u001b[0;32mas\u001b[0m \u001b[0me\u001b[0m\u001b[0;34m:\u001b[0m\u001b[0;34m\u001b[0m\u001b[0;34m\u001b[0m\u001b[0m\n\u001b[0;32m> 10307\u001b[0;31m       \u001b[0m_ops\u001b[0m\u001b[0;34m.\u001b[0m\u001b[0mraise_from_not_ok_status\u001b[0m\u001b[0;34m(\u001b[0m\u001b[0me\u001b[0m\u001b[0;34m,\u001b[0m \u001b[0mname\u001b[0m\u001b[0;34m)\u001b[0m\u001b[0;34m\u001b[0m\u001b[0;34m\u001b[0m\u001b[0m\n\u001b[0m\u001b[1;32m  10308\u001b[0m     \u001b[0;32mexcept\u001b[0m \u001b[0m_core\u001b[0m\u001b[0;34m.\u001b[0m\u001b[0m_FallbackException\u001b[0m\u001b[0;34m:\u001b[0m\u001b[0;34m\u001b[0m\u001b[0;34m\u001b[0m\u001b[0m\n\u001b[1;32m  10309\u001b[0m       \u001b[0;32mpass\u001b[0m\u001b[0;34m\u001b[0m\u001b[0;34m\u001b[0m\u001b[0m\n",
            "\u001b[0;32m/usr/local/lib/python3.7/dist-packages/tensorflow/python/framework/ops.py\u001b[0m in \u001b[0;36mraise_from_not_ok_status\u001b[0;34m(e, name)\u001b[0m\n\u001b[1;32m   6860\u001b[0m   \u001b[0mmessage\u001b[0m \u001b[0;34m=\u001b[0m \u001b[0me\u001b[0m\u001b[0;34m.\u001b[0m\u001b[0mmessage\u001b[0m \u001b[0;34m+\u001b[0m \u001b[0;34m(\u001b[0m\u001b[0;34m\" name: \"\u001b[0m \u001b[0;34m+\u001b[0m \u001b[0mname\u001b[0m \u001b[0;32mif\u001b[0m \u001b[0mname\u001b[0m \u001b[0;32mis\u001b[0m \u001b[0;32mnot\u001b[0m \u001b[0;32mNone\u001b[0m \u001b[0;32melse\u001b[0m \u001b[0;34m\"\"\u001b[0m\u001b[0;34m)\u001b[0m\u001b[0;34m\u001b[0m\u001b[0;34m\u001b[0m\u001b[0m\n\u001b[1;32m   6861\u001b[0m   \u001b[0;31m# pylint: disable=protected-access\u001b[0m\u001b[0;34m\u001b[0m\u001b[0;34m\u001b[0m\u001b[0;34m\u001b[0m\u001b[0m\n\u001b[0;32m-> 6862\u001b[0;31m   \u001b[0msix\u001b[0m\u001b[0;34m.\u001b[0m\u001b[0mraise_from\u001b[0m\u001b[0;34m(\u001b[0m\u001b[0mcore\u001b[0m\u001b[0;34m.\u001b[0m\u001b[0m_status_to_exception\u001b[0m\u001b[0;34m(\u001b[0m\u001b[0me\u001b[0m\u001b[0;34m.\u001b[0m\u001b[0mcode\u001b[0m\u001b[0;34m,\u001b[0m \u001b[0mmessage\u001b[0m\u001b[0;34m)\u001b[0m\u001b[0;34m,\u001b[0m \u001b[0;32mNone\u001b[0m\u001b[0;34m)\u001b[0m\u001b[0;34m\u001b[0m\u001b[0;34m\u001b[0m\u001b[0m\n\u001b[0m\u001b[1;32m   6863\u001b[0m   \u001b[0;31m# pylint: enable=protected-access\u001b[0m\u001b[0;34m\u001b[0m\u001b[0;34m\u001b[0m\u001b[0;34m\u001b[0m\u001b[0m\n\u001b[1;32m   6864\u001b[0m \u001b[0;34m\u001b[0m\u001b[0m\n",
            "\u001b[0;32m/usr/local/lib/python3.7/dist-packages/six.py\u001b[0m in \u001b[0;36mraise_from\u001b[0;34m(value, from_value)\u001b[0m\n",
            "\u001b[0;31mInvalidArgumentError\u001b[0m: cannot compute Sub as input #1(zero-based) was expected to be a float tensor but is a int32 tensor [Op:Sub]"
          ]
        }
      ]
    },
    {
      "cell_type": "markdown",
      "metadata": {
        "id": "hqO494VZK1kq"
      },
      "source": [
        "- As data types are differet hence getting error"
      ]
    },
    {
      "cell_type": "code",
      "metadata": {
        "id": "d2zaQ-1aPU_S",
        "colab": {
          "base_uri": "https://localhost:8080/"
        },
        "outputId": "e539c5c6-13cc-4fc9-93cf-326216c38ebc"
      },
      "source": [
        "tf1 = tf.constant(3.)\n",
        "tf2 = tf.cast(tf.Variable(3), tf.float32)    # change the data type from int32 to float32 and then apply subtraction \n",
        "tf.subtract(tf1,tf2)"
      ],
      "execution_count": 66,
      "outputs": [
        {
          "output_type": "execute_result",
          "data": {
            "text/plain": [
              "<tf.Tensor: shape=(), dtype=float32, numpy=0.0>"
            ]
          },
          "metadata": {
            "tags": []
          },
          "execution_count": 66
        }
      ]
    },
    {
      "cell_type": "code",
      "metadata": {
        "id": "HXDTidm6PVBc",
        "colab": {
          "base_uri": "https://localhost:8080/"
        },
        "outputId": "05d634a4-011e-40d4-b7a5-9386afab2c14"
      },
      "source": [
        "a = tf.constant(10)\n",
        "b = tf.constant(2)\n",
        "res = tf.subtract(tf.divide(a,b), 4)         # first do division of a & b. Then do subtract(result, 4)\n",
        "res"
      ],
      "execution_count": 81,
      "outputs": [
        {
          "output_type": "execute_result",
          "data": {
            "text/plain": [
              "<tf.Tensor: shape=(), dtype=float64, numpy=1.0>"
            ]
          },
          "metadata": {
            "tags": []
          },
          "execution_count": 81
        }
      ]
    },
    {
      "cell_type": "code",
      "metadata": {
        "id": "R3keQKDgPVFe"
      },
      "source": [
        ""
      ],
      "execution_count": 81,
      "outputs": []
    },
    {
      "cell_type": "code",
      "metadata": {
        "id": "5y08gbK9KekB"
      },
      "source": [
        ""
      ],
      "execution_count": null,
      "outputs": []
    }
  ]
}