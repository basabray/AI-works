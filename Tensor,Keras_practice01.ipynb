{
  "nbformat": 4,
  "nbformat_minor": 0,
  "metadata": {
    "colab": {
      "name": "Tensor practice01.ipynb",
      "provenance": [],
      "collapsed_sections": [],
      "authorship_tag": "ABX9TyMy1j7HhNKOEoF/mDVDp2oB",
      "include_colab_link": true
    },
    "kernelspec": {
      "name": "python3",
      "display_name": "Python 3"
    },
    "language_info": {
      "name": "python"
    }
  },
  "cells": [
    {
      "cell_type": "markdown",
      "metadata": {
        "id": "view-in-github",
        "colab_type": "text"
      },
      "source": [
        "<a href=\"https://colab.research.google.com/github/bray2020/AI-works/blob/main/Tensor%2CKeras_practice01.ipynb\" target=\"_parent\"><img src=\"https://colab.research.google.com/assets/colab-badge.svg\" alt=\"Open In Colab\"/></a>"
      ]
    },
    {
      "cell_type": "markdown",
      "metadata": {
        "id": "ujyV8HUE1CXn"
      },
      "source": [
        "# Tensorflow Linear Functions:\n",
        "- The most common operation in neural network is to calculate the linear combination of the inputs, their weights and the biases. We can write the output like this: y = x*w+b\n",
        "- Here w is the matrix of the weights "
      ]
    },
    {
      "cell_type": "markdown",
      "metadata": {
        "id": "tPPRxbmU2Coi"
      },
      "source": [
        "# Weights and bias in Tensor:\n",
        "- The aim of the neural network is to modify weights and bias in order to get the best prediction as the output\n",
        "- Now to do that we will need tensor that can be modified (suppose, W is the matrix that contains the weights)\n",
        "- So, we will need tf.Variable here. We will be able to change such tensor during runtime."
      ]
    },
    {
      "cell_type": "code",
      "metadata": {
        "colab": {
          "base_uri": "https://localhost:8080/"
        },
        "id": "itdY6AYO2FZY",
        "outputId": "0b143b0b-fc94-4b8a-aed6-cccccfc6f1aa"
      },
      "source": [
        "#create a varaible tensor of shape (10,3)\n",
        "import tensorflow as tf\n",
        "rows = 10\n",
        "features = 3\n",
        "tf1 = tf.Variable(tf.ones([rows,features]))\n",
        "tf1.numpy()"
      ],
      "execution_count": null,
      "outputs": [
        {
          "output_type": "execute_result",
          "data": {
            "text/plain": [
              "array([[1., 1., 1.],\n",
              "       [1., 1., 1.],\n",
              "       [1., 1., 1.],\n",
              "       [1., 1., 1.],\n",
              "       [1., 1., 1.],\n",
              "       [1., 1., 1.],\n",
              "       [1., 1., 1.],\n",
              "       [1., 1., 1.],\n",
              "       [1., 1., 1.],\n",
              "       [1., 1., 1.]], dtype=float32)"
            ]
          },
          "metadata": {
            "tags": []
          },
          "execution_count": 2
        }
      ]
    },
    {
      "cell_type": "markdown",
      "metadata": {
        "id": "kca180qU7mFX"
      },
      "source": [
        "#### How to get the probability values using tensor?\n",
        "- softmax gives the probability value for the given input logit values"
      ]
    },
    {
      "cell_type": "code",
      "metadata": {
        "colab": {
          "base_uri": "https://localhost:8080/"
        },
        "id": "MwW4MlmJ4HyC",
        "outputId": "b0194d88-5858-43c6-8f53-627cc480ef87"
      },
      "source": [
        "tf.nn.softmax([1.2,0.9,0.4])   # softmax gives the probability value for the given input logit values"
      ],
      "execution_count": null,
      "outputs": [
        {
          "output_type": "execute_result",
          "data": {
            "text/plain": [
              "<tf.Tensor: shape=(3,), dtype=float32, numpy=array([0.45659032, 0.3382504 , 0.20515925], dtype=float32)>"
            ]
          },
          "metadata": {
            "tags": []
          },
          "execution_count": 3
        }
      ]
    },
    {
      "cell_type": "code",
      "metadata": {
        "colab": {
          "base_uri": "https://localhost:8080/"
        },
        "id": "T9UgmNSG5szL",
        "outputId": "2d8c5e93-8d27-4755-9716-4aa916131a16"
      },
      "source": [
        "tf.reduce_sum([1,2,3,1])"
      ],
      "execution_count": null,
      "outputs": [
        {
          "output_type": "execute_result",
          "data": {
            "text/plain": [
              "<tf.Tensor: shape=(), dtype=int32, numpy=7>"
            ]
          },
          "metadata": {
            "tags": []
          },
          "execution_count": 4
        }
      ]
    },
    {
      "cell_type": "markdown",
      "metadata": {
        "id": "gka4Mwoa74KF"
      },
      "source": [
        "Calculate natural log:"
      ]
    },
    {
      "cell_type": "code",
      "metadata": {
        "colab": {
          "base_uri": "https://localhost:8080/",
          "height": 35
        },
        "id": "s9oS9ca07yya",
        "outputId": "e7f41dee-3059-4132-bfce-6a4d94aceb74"
      },
      "source": [
        "tf.keras.__version__"
      ],
      "execution_count": null,
      "outputs": [
        {
          "output_type": "execute_result",
          "data": {
            "application/vnd.google.colaboratory.intrinsic+json": {
              "type": "string"
            },
            "text/plain": [
              "'2.4.0'"
            ]
          },
          "metadata": {
            "tags": []
          },
          "execution_count": 5
        }
      ]
    },
    {
      "cell_type": "markdown",
      "metadata": {
        "id": "LwLcEGrj-OsK"
      },
      "source": [
        "Generate random values in a tensor:"
      ]
    },
    {
      "cell_type": "code",
      "metadata": {
        "colab": {
          "base_uri": "https://localhost:8080/"
        },
        "id": "y5XDDVVX-TL3",
        "outputId": "a2ed6da6-f6b6-439f-b7b8-e6191b9758c0"
      },
      "source": [
        "tf.random.normal((2,4))                     # normal distribution"
      ],
      "execution_count": null,
      "outputs": [
        {
          "output_type": "execute_result",
          "data": {
            "text/plain": [
              "<tf.Tensor: shape=(2, 4), dtype=float32, numpy=\n",
              "array([[-2.5424743 , -2.285726  , -1.2451997 , -1.3150425 ],\n",
              "       [ 0.71223736, -0.6257785 ,  0.92731684, -1.9431417 ]],\n",
              "      dtype=float32)>"
            ]
          },
          "metadata": {
            "tags": []
          },
          "execution_count": 6
        }
      ]
    },
    {
      "cell_type": "code",
      "metadata": {
        "colab": {
          "base_uri": "https://localhost:8080/"
        },
        "id": "ebTiawZL-TOr",
        "outputId": "841d2ce9-1750-44f4-d50e-5e21fe4e2734"
      },
      "source": [
        "tf.random.normal((2,4), mean=0, stddev=1)    # standard normal distribution"
      ],
      "execution_count": null,
      "outputs": [
        {
          "output_type": "execute_result",
          "data": {
            "text/plain": [
              "<tf.Tensor: shape=(2, 4), dtype=float32, numpy=\n",
              "array([[ 0.62630904,  1.6749508 , -1.2063437 , -0.56558347],\n",
              "       [ 0.7344349 ,  1.434644  ,  0.6992289 , -3.7895994 ]],\n",
              "      dtype=float32)>"
            ]
          },
          "metadata": {
            "tags": []
          },
          "execution_count": 7
        }
      ]
    },
    {
      "cell_type": "markdown",
      "metadata": {
        "id": "JE0MnAto_nx4"
      },
      "source": [
        "# Tensor flow built-in data types:\n",
        "- It has a very large number of data types\n",
        "- tf.int16 : 16-bit signed integer \n",
        "- tf.int32 : 32-bit signed integer \n",
        "- tf.int64 : 64-bit signed integer "
      ]
    },
    {
      "cell_type": "markdown",
      "metadata": {
        "id": "fysI1vbhBb_c"
      },
      "source": [
        "# Tensor reshaping"
      ]
    },
    {
      "cell_type": "code",
      "metadata": {
        "colab": {
          "base_uri": "https://localhost:8080/"
        },
        "id": "uCqq2Lu7-5Si",
        "outputId": "8ad1d3ed-682f-4f94-d4ff-b6cb2898a936"
      },
      "source": [
        "tf1 = tf.Variable([[[10,11,12],[13,14,15]],[[16,17,19],[19,21,35]]])\n",
        "tf1"
      ],
      "execution_count": null,
      "outputs": [
        {
          "output_type": "execute_result",
          "data": {
            "text/plain": [
              "<tf.Variable 'Variable:0' shape=(2, 2, 3) dtype=int32, numpy=\n",
              "array([[[10, 11, 12],\n",
              "        [13, 14, 15]],\n",
              "\n",
              "       [[16, 17, 19],\n",
              "        [19, 21, 35]]], dtype=int32)>"
            ]
          },
          "metadata": {
            "tags": []
          },
          "execution_count": 8
        }
      ]
    },
    {
      "cell_type": "code",
      "metadata": {
        "colab": {
          "base_uri": "https://localhost:8080/"
        },
        "id": "Mv4quar_BwoR",
        "outputId": "c5e71e03-4f21-410b-86bf-149059fc0c0e"
      },
      "source": [
        "print(tf.rank(tf1).numpy())"
      ],
      "execution_count": null,
      "outputs": [
        {
          "output_type": "stream",
          "text": [
            "3\n"
          ],
          "name": "stdout"
        }
      ]
    },
    {
      "cell_type": "markdown",
      "metadata": {
        "id": "EluFwnWfCP3r"
      },
      "source": [
        "Now reshape it to a shape(2,6)"
      ]
    },
    {
      "cell_type": "code",
      "metadata": {
        "colab": {
          "base_uri": "https://localhost:8080/"
        },
        "id": "ldybaRZOB2W6",
        "outputId": "6cf13cb2-6f75-4b91-b87d-6f48ff674e77"
      },
      "source": [
        "tf.reshape(tf1, (2,6))"
      ],
      "execution_count": null,
      "outputs": [
        {
          "output_type": "execute_result",
          "data": {
            "text/plain": [
              "<tf.Tensor: shape=(2, 6), dtype=int32, numpy=\n",
              "array([[10, 11, 12, 13, 14, 15],\n",
              "       [16, 17, 19, 19, 21, 35]], dtype=int32)>"
            ]
          },
          "metadata": {
            "tags": []
          },
          "execution_count": 10
        }
      ]
    },
    {
      "cell_type": "code",
      "metadata": {
        "colab": {
          "base_uri": "https://localhost:8080/"
        },
        "id": "SElFNp-VC3GV",
        "outputId": "c2fc54db-4d36-474d-df87-e4ba12783937"
      },
      "source": [
        "tf1 = tf.Variable([[[10,11,12],[13,14,15]],[[16,17,19],[19,21,35]]])\n",
        "tf.reshape(tf1, (3,-1))               # -1 at the column position automatically selects the required column value"
      ],
      "execution_count": null,
      "outputs": [
        {
          "output_type": "execute_result",
          "data": {
            "text/plain": [
              "<tf.Tensor: shape=(3, 4), dtype=int32, numpy=\n",
              "array([[10, 11, 12, 13],\n",
              "       [14, 15, 16, 17],\n",
              "       [19, 19, 21, 35]], dtype=int32)>"
            ]
          },
          "metadata": {
            "tags": []
          },
          "execution_count": 11
        }
      ]
    },
    {
      "cell_type": "markdown",
      "metadata": {
        "id": "yiMkWqWaHEWW"
      },
      "source": [
        "Transpose:"
      ]
    },
    {
      "cell_type": "code",
      "metadata": {
        "colab": {
          "base_uri": "https://localhost:8080/"
        },
        "id": "luhGZEjtDRdf",
        "outputId": "b7c6f314-754d-4c80-8646-2e2bd0950584"
      },
      "source": [
        "x = tf.reshape(tf1, (2,6))\n",
        "print(x)\n",
        "tf.transpose(x)"
      ],
      "execution_count": null,
      "outputs": [
        {
          "output_type": "stream",
          "text": [
            "tf.Tensor(\n",
            "[[10 11 12 13 14 15]\n",
            " [16 17 19 19 21 35]], shape=(2, 6), dtype=int32)\n"
          ],
          "name": "stdout"
        },
        {
          "output_type": "execute_result",
          "data": {
            "text/plain": [
              "<tf.Tensor: shape=(6, 2), dtype=int32, numpy=\n",
              "array([[10, 16],\n",
              "       [11, 17],\n",
              "       [12, 19],\n",
              "       [13, 19],\n",
              "       [14, 21],\n",
              "       [15, 35]], dtype=int32)>"
            ]
          },
          "metadata": {
            "tags": []
          },
          "execution_count": 12
        }
      ]
    },
    {
      "cell_type": "markdown",
      "metadata": {
        "id": "jn7GHVUGJKgR"
      },
      "source": [
        "Average or Mean:"
      ]
    },
    {
      "cell_type": "code",
      "metadata": {
        "colab": {
          "base_uri": "https://localhost:8080/"
        },
        "id": "tstHCkMJJPkq",
        "outputId": "8efa5d0c-8f62-4121-8727-2ea2e9937c23"
      },
      "source": [
        "v = tf.constant([[8.,9.],[1.,2.]])\n",
        "print(v.numpy())"
      ],
      "execution_count": null,
      "outputs": [
        {
          "output_type": "stream",
          "text": [
            "[[8. 9.]\n",
            " [1. 2.]]\n"
          ],
          "name": "stdout"
        }
      ]
    },
    {
      "cell_type": "code",
      "metadata": {
        "colab": {
          "base_uri": "https://localhost:8080/"
        },
        "id": "FYORK1j6JeLO",
        "outputId": "774fe597-cd7b-4ee6-802e-9500d0f8af98"
      },
      "source": [
        "tf.reduce_mean(v).numpy()                # overall mean"
      ],
      "execution_count": null,
      "outputs": [
        {
          "output_type": "execute_result",
          "data": {
            "text/plain": [
              "5.0"
            ]
          },
          "metadata": {
            "tags": []
          },
          "execution_count": 14
        }
      ]
    },
    {
      "cell_type": "code",
      "metadata": {
        "colab": {
          "base_uri": "https://localhost:8080/"
        },
        "id": "RXp3P8rUKR_K",
        "outputId": "7af1ffe3-0cee-4531-cc66-7c475b2e2d2d"
      },
      "source": [
        "r1 = tf.reduce_mean(v, axis=0).numpy()   # row wise mean\n",
        "print(r1)\n",
        "r2 = tf.reduce_mean(v, axis=1).numpy()   # row wise mean\n",
        "print(r2)"
      ],
      "execution_count": null,
      "outputs": [
        {
          "output_type": "stream",
          "text": [
            "[4.5 5.5]\n",
            "[8.5 1.5]\n"
          ],
          "name": "stdout"
        }
      ]
    },
    {
      "cell_type": "markdown",
      "metadata": {
        "id": "tnnViSSu852s"
      },
      "source": [
        "# Neural Network Model Building using Keras"
      ]
    },
    {
      "cell_type": "markdown",
      "metadata": {
        "id": "0qA7YFlU2cu5"
      },
      "source": [
        "## Keras:\n",
        "- import the mnist dataset, handwritten dataset of digits\n",
        "- This is a dataset of 60,000 28x28 grayscale images of the 10 digits, along with a test set of 10,000 images."
      ]
    },
    {
      "cell_type": "code",
      "metadata": {
        "id": "-_-uzdSAKYbd"
      },
      "source": [
        "data = tf.keras.datasets.mnist"
      ],
      "execution_count": null,
      "outputs": []
    },
    {
      "cell_type": "code",
      "metadata": {
        "colab": {
          "base_uri": "https://localhost:8080/"
        },
        "id": "y_5rygnX2-ii",
        "outputId": "e3253881-3af2-42cb-86f2-d4eddf33dbc4"
      },
      "source": [
        "data.load_data()    # load the data"
      ],
      "execution_count": null,
      "outputs": [
        {
          "output_type": "execute_result",
          "data": {
            "text/plain": [
              "((array([[[0, 0, 0, ..., 0, 0, 0],\n",
              "          [0, 0, 0, ..., 0, 0, 0],\n",
              "          [0, 0, 0, ..., 0, 0, 0],\n",
              "          ...,\n",
              "          [0, 0, 0, ..., 0, 0, 0],\n",
              "          [0, 0, 0, ..., 0, 0, 0],\n",
              "          [0, 0, 0, ..., 0, 0, 0]],\n",
              "  \n",
              "         [[0, 0, 0, ..., 0, 0, 0],\n",
              "          [0, 0, 0, ..., 0, 0, 0],\n",
              "          [0, 0, 0, ..., 0, 0, 0],\n",
              "          ...,\n",
              "          [0, 0, 0, ..., 0, 0, 0],\n",
              "          [0, 0, 0, ..., 0, 0, 0],\n",
              "          [0, 0, 0, ..., 0, 0, 0]],\n",
              "  \n",
              "         [[0, 0, 0, ..., 0, 0, 0],\n",
              "          [0, 0, 0, ..., 0, 0, 0],\n",
              "          [0, 0, 0, ..., 0, 0, 0],\n",
              "          ...,\n",
              "          [0, 0, 0, ..., 0, 0, 0],\n",
              "          [0, 0, 0, ..., 0, 0, 0],\n",
              "          [0, 0, 0, ..., 0, 0, 0]],\n",
              "  \n",
              "         ...,\n",
              "  \n",
              "         [[0, 0, 0, ..., 0, 0, 0],\n",
              "          [0, 0, 0, ..., 0, 0, 0],\n",
              "          [0, 0, 0, ..., 0, 0, 0],\n",
              "          ...,\n",
              "          [0, 0, 0, ..., 0, 0, 0],\n",
              "          [0, 0, 0, ..., 0, 0, 0],\n",
              "          [0, 0, 0, ..., 0, 0, 0]],\n",
              "  \n",
              "         [[0, 0, 0, ..., 0, 0, 0],\n",
              "          [0, 0, 0, ..., 0, 0, 0],\n",
              "          [0, 0, 0, ..., 0, 0, 0],\n",
              "          ...,\n",
              "          [0, 0, 0, ..., 0, 0, 0],\n",
              "          [0, 0, 0, ..., 0, 0, 0],\n",
              "          [0, 0, 0, ..., 0, 0, 0]],\n",
              "  \n",
              "         [[0, 0, 0, ..., 0, 0, 0],\n",
              "          [0, 0, 0, ..., 0, 0, 0],\n",
              "          [0, 0, 0, ..., 0, 0, 0],\n",
              "          ...,\n",
              "          [0, 0, 0, ..., 0, 0, 0],\n",
              "          [0, 0, 0, ..., 0, 0, 0],\n",
              "          [0, 0, 0, ..., 0, 0, 0]]], dtype=uint8),\n",
              "  array([5, 0, 4, ..., 5, 6, 8], dtype=uint8)),\n",
              " (array([[[0, 0, 0, ..., 0, 0, 0],\n",
              "          [0, 0, 0, ..., 0, 0, 0],\n",
              "          [0, 0, 0, ..., 0, 0, 0],\n",
              "          ...,\n",
              "          [0, 0, 0, ..., 0, 0, 0],\n",
              "          [0, 0, 0, ..., 0, 0, 0],\n",
              "          [0, 0, 0, ..., 0, 0, 0]],\n",
              "  \n",
              "         [[0, 0, 0, ..., 0, 0, 0],\n",
              "          [0, 0, 0, ..., 0, 0, 0],\n",
              "          [0, 0, 0, ..., 0, 0, 0],\n",
              "          ...,\n",
              "          [0, 0, 0, ..., 0, 0, 0],\n",
              "          [0, 0, 0, ..., 0, 0, 0],\n",
              "          [0, 0, 0, ..., 0, 0, 0]],\n",
              "  \n",
              "         [[0, 0, 0, ..., 0, 0, 0],\n",
              "          [0, 0, 0, ..., 0, 0, 0],\n",
              "          [0, 0, 0, ..., 0, 0, 0],\n",
              "          ...,\n",
              "          [0, 0, 0, ..., 0, 0, 0],\n",
              "          [0, 0, 0, ..., 0, 0, 0],\n",
              "          [0, 0, 0, ..., 0, 0, 0]],\n",
              "  \n",
              "         ...,\n",
              "  \n",
              "         [[0, 0, 0, ..., 0, 0, 0],\n",
              "          [0, 0, 0, ..., 0, 0, 0],\n",
              "          [0, 0, 0, ..., 0, 0, 0],\n",
              "          ...,\n",
              "          [0, 0, 0, ..., 0, 0, 0],\n",
              "          [0, 0, 0, ..., 0, 0, 0],\n",
              "          [0, 0, 0, ..., 0, 0, 0]],\n",
              "  \n",
              "         [[0, 0, 0, ..., 0, 0, 0],\n",
              "          [0, 0, 0, ..., 0, 0, 0],\n",
              "          [0, 0, 0, ..., 0, 0, 0],\n",
              "          ...,\n",
              "          [0, 0, 0, ..., 0, 0, 0],\n",
              "          [0, 0, 0, ..., 0, 0, 0],\n",
              "          [0, 0, 0, ..., 0, 0, 0]],\n",
              "  \n",
              "         [[0, 0, 0, ..., 0, 0, 0],\n",
              "          [0, 0, 0, ..., 0, 0, 0],\n",
              "          [0, 0, 0, ..., 0, 0, 0],\n",
              "          ...,\n",
              "          [0, 0, 0, ..., 0, 0, 0],\n",
              "          [0, 0, 0, ..., 0, 0, 0],\n",
              "          [0, 0, 0, ..., 0, 0, 0]]], dtype=uint8),\n",
              "  array([7, 2, 1, ..., 4, 5, 6], dtype=uint8)))"
            ]
          },
          "metadata": {
            "tags": []
          },
          "execution_count": 45
        }
      ]
    },
    {
      "cell_type": "markdown",
      "metadata": {
        "id": "AvnVn1HX4m-x"
      },
      "source": [
        "- split the loaded data"
      ]
    },
    {
      "cell_type": "code",
      "metadata": {
        "id": "RoP34Hh33WQM"
      },
      "source": [
        "#split the loaded data\n",
        "(train_x,train_y), (test_x,test_y) = data.load_data()"
      ],
      "execution_count": null,
      "outputs": []
    },
    {
      "cell_type": "code",
      "metadata": {
        "colab": {
          "base_uri": "https://localhost:8080/"
        },
        "id": "V4OADYUpEeSr",
        "outputId": "18c6eae1-ff21-44e3-91b4-ce41b1b418d3"
      },
      "source": [
        "print(train_x.shape)\n",
        "print(test_x.shape)"
      ],
      "execution_count": null,
      "outputs": [
        {
          "output_type": "stream",
          "text": [
            "(60000, 28, 28)\n",
            "(10000, 28, 28)\n"
          ],
          "name": "stdout"
        }
      ]
    },
    {
      "cell_type": "markdown",
      "metadata": {
        "id": "3OVsnNXk4rb2"
      },
      "source": [
        "#### Defining the variables: epochs and batch_size\n",
        "- Epochs represents the number of times we will send the full dataset through the ANN. \n",
        "- Batch_size is the number of observations after which the weights will be updated."
      ]
    },
    {
      "cell_type": "code",
      "metadata": {
        "id": "GW96vCVl4TSw"
      },
      "source": [
        "#Defining the variables: epochs and batch_size\n",
        "epochs = 10\n",
        "batch_size = 32"
      ],
      "execution_count": null,
      "outputs": []
    },
    {
      "cell_type": "code",
      "metadata": {
        "id": "nTuPiAxu5I0A"
      },
      "source": [
        "#Now normalize the data points and convert those into float data type\n",
        "#Here dividing all the data points by 255.0 to convert the all data into greyscale(black and white)\n",
        "#'RGB' (Red-Green-Blue) data points are being converted into greyscale(black and white)\n",
        "train_x, test_x = tf.cast(train_x/255.0, tf.float32), tf.cast(test_x/255.0, tf.float32)\n",
        "\n",
        "#cast the labels to int64\n",
        "train_y, test_y = tf.cast(train_y, tf.int64), tf.cast(test_y, tf.int64)"
      ],
      "execution_count": null,
      "outputs": []
    },
    {
      "cell_type": "code",
      "metadata": {
        "colab": {
          "base_uri": "https://localhost:8080/"
        },
        "id": "p-T5ceZ86Q1M",
        "outputId": "06f11942-feb8-4b68-98c0-59f96716f1fc"
      },
      "source": [
        "#check the train output\n",
        "train_y       "
      ],
      "execution_count": null,
      "outputs": [
        {
          "output_type": "execute_result",
          "data": {
            "text/plain": [
              "<tf.Tensor: shape=(60000,), dtype=int64, numpy=array([5, 0, 4, ..., 5, 6, 8])>"
            ]
          },
          "metadata": {
            "tags": []
          },
          "execution_count": 56
        }
      ]
    },
    {
      "cell_type": "markdown",
      "metadata": {
        "id": "lgyVmaAM7zux"
      },
      "source": [
        "- So there are total 60000 data points in the train set\n",
        "- The output/label is of int64 data type\n",
        "- And the output value will give always be from 0 to 9 as there are 10 digits only"
      ]
    },
    {
      "cell_type": "code",
      "metadata": {
        "colab": {
          "base_uri": "https://localhost:8080/"
        },
        "id": "LWs1qYpD7whv",
        "outputId": "5a4c426f-ca37-48a0-8337-96505b2a7990"
      },
      "source": [
        "#check the test set output\n",
        "test_y"
      ],
      "execution_count": null,
      "outputs": [
        {
          "output_type": "execute_result",
          "data": {
            "text/plain": [
              "<tf.Tensor: shape=(10000,), dtype=int64, numpy=array([7, 2, 1, ..., 4, 5, 6])>"
            ]
          },
          "metadata": {
            "tags": []
          },
          "execution_count": 57
        }
      ]
    },
    {
      "cell_type": "markdown",
      "metadata": {
        "id": "L-JL9KKn76Fj"
      },
      "source": [
        "- So there are total 10000 data points in the test set"
      ]
    },
    {
      "cell_type": "markdown",
      "metadata": {
        "id": "8ZG9a-x680xx"
      },
      "source": [
        "## Build a sequential Neural Netwrork Model using this data\n",
        "- In order to get the parameters like - how many dense leyers to generate, how many neurons should be in each layer etc can be found by doing hyper parameter tuning using GridSearchCV"
      ]
    },
    {
      "cell_type": "code",
      "metadata": {
        "id": "Z0uAD2Mg82Kg"
      },
      "source": [
        "model1 = tf.keras.models.Sequential(\n",
        "[tf.keras.layers.Flatten(),                                 #Flatten the input data \n",
        " tf.keras.layers.Dense(512, activation=tf.nn.relu),         #Total hidden layers to generate 512, activation function used 'relu'\n",
        " tf.keras.layers.Dropout(0.2),                               \n",
        " tf.keras.layers.Dense(10, activation=tf.nn.softmax)]       #10 neurons for 10 class/label prediction\n",
        ")"
      ],
      "execution_count": null,
      "outputs": []
    },
    {
      "cell_type": "markdown",
      "metadata": {
        "id": "TYopYaZ9-mu4"
      },
      "source": [
        "- 'tf.keras.models.Sequential' as we are building a sequemtial neural network\n",
        "- 'tf.keras.layers.Flatten()' to flatten all the input data. Suppose the input data is of shape=(mxn), flatten will make it as shape = (m,) or (m,1)\n",
        "- 'tf.keras.layers.Dense(512, activation=tf.nn.relu)', we are creating the network with total 512 neurons. And activation function used is 'relu'\n",
        "- 'tf.keras.layers.Dropout(0.2)', dropping 20% of the netwrok randomly and work with the rest of the netwrok\n",
        "-  'tf.keras.layers.Dense(10, activation=tf.nn.softmax)', Finally we are creating the output layer. As there are 10 target/label (0 to 9) so we have given 10 here. And the activation func used is 'softmax', it will give the probability value for all the class/labels"
      ]
    },
    {
      "cell_type": "markdown",
      "metadata": {
        "id": "bveJLzExBL7g"
      },
      "source": [
        "## Compile the Model\n",
        "#### What is Compile?\n",
        "- Compiling is basically applying an optimization algo to the whole neural network. The first parameter is the algo we want to use to get the optimal set of weights in the neural network. The algo used here is Adam.\n",
        "\n",
        "#### Why Need optimizer?\n",
        "- Optimizers are algorithms or methods used to change the attributes of the neural network such as weights, learning rate to reduce the losses/errors. Optimizers are used to solve optimization problems by minimizing the function.\n",
        "- Optimization algorithms are responsible for reducing the losses and to provide the most accurate results possible."
      ]
    },
    {
      "cell_type": "code",
      "metadata": {
        "id": "UVQKCMNAA6Hd"
      },
      "source": [
        "optimizer = tf.keras.optimizers.Adam() \n",
        "model1.compile(optimizer=optimizer, loss='sparse_categorical_crossentropy', metrics=['accuracy'])"
      ],
      "execution_count": null,
      "outputs": []
    },
    {
      "cell_type": "markdown",
      "metadata": {
        "id": "EgCufeSECD3c"
      },
      "source": [
        "## Fit the model with train data"
      ]
    },
    {
      "cell_type": "code",
      "metadata": {
        "colab": {
          "base_uri": "https://localhost:8080/"
        },
        "id": "-61JPQ20CCBW",
        "outputId": "ecda3032-8b78-4649-9dd5-bc6cf0477afd"
      },
      "source": [
        "model1.fit(train_x, train_y, batch_size=32, epochs=5)"
      ],
      "execution_count": null,
      "outputs": [
        {
          "output_type": "stream",
          "text": [
            "Epoch 1/5\n",
            "1875/1875 [==============================] - 10s 5ms/step - loss: 0.3641 - accuracy: 0.8922\n",
            "Epoch 2/5\n",
            "1875/1875 [==============================] - 10s 5ms/step - loss: 0.1017 - accuracy: 0.9700\n",
            "Epoch 3/5\n",
            "1875/1875 [==============================] - 10s 5ms/step - loss: 0.0678 - accuracy: 0.9789\n",
            "Epoch 4/5\n",
            "1875/1875 [==============================] - 10s 5ms/step - loss: 0.0500 - accuracy: 0.9836\n",
            "Epoch 5/5\n",
            "1875/1875 [==============================] - 10s 5ms/step - loss: 0.0386 - accuracy: 0.9870\n"
          ],
          "name": "stdout"
        },
        {
          "output_type": "execute_result",
          "data": {
            "text/plain": [
              "<tensorflow.python.keras.callbacks.History at 0x7f805528f810>"
            ]
          },
          "metadata": {
            "tags": []
          },
          "execution_count": 60
        }
      ]
    },
    {
      "cell_type": "markdown",
      "metadata": {
        "id": "gr8AKKnCCnfn"
      },
      "source": [
        "- Not above that for the 1st epoch the loss is highest and accuracy is the lowest\n",
        "- With each epoch the loss is getting decreased and the accuracy is increasing"
      ]
    },
    {
      "cell_type": "code",
      "metadata": {
        "colab": {
          "base_uri": "https://localhost:8080/"
        },
        "id": "ofxVwn-wCTHo",
        "outputId": "8c0d2d5b-8d85-416a-d98b-074032ad0b80"
      },
      "source": [
        "model1.summary()"
      ],
      "execution_count": null,
      "outputs": [
        {
          "output_type": "stream",
          "text": [
            "Model: \"sequential\"\n",
            "_________________________________________________________________\n",
            "Layer (type)                 Output Shape              Param #   \n",
            "=================================================================\n",
            "flatten (Flatten)            (32, 784)                 0         \n",
            "_________________________________________________________________\n",
            "dense (Dense)                (32, 512)                 401920    \n",
            "_________________________________________________________________\n",
            "dropout (Dropout)            (32, 512)                 0         \n",
            "_________________________________________________________________\n",
            "dense_1 (Dense)              (32, 10)                  5130      \n",
            "=================================================================\n",
            "Total params: 407,050\n",
            "Trainable params: 407,050\n",
            "Non-trainable params: 0\n",
            "_________________________________________________________________\n"
          ],
          "name": "stdout"
        }
      ]
    },
    {
      "cell_type": "markdown",
      "metadata": {
        "id": "_Wl76bptDxwP"
      },
      "source": [
        "## Evaluate The Model"
      ]
    },
    {
      "cell_type": "code",
      "metadata": {
        "colab": {
          "base_uri": "https://localhost:8080/"
        },
        "id": "IQWjogy_DZBZ",
        "outputId": "d3749f94-0133-4e46-98c0-c6db62d9f6ca"
      },
      "source": [
        "model1.evaluate(test_x, test_y)"
      ],
      "execution_count": null,
      "outputs": [
        {
          "output_type": "stream",
          "text": [
            "313/313 [==============================] - 1s 3ms/step - loss: 0.0666 - accuracy: 0.9803\n"
          ],
          "name": "stdout"
        },
        {
          "output_type": "execute_result",
          "data": {
            "text/plain": [
              "[0.06658080965280533, 0.9803000092506409]"
            ]
          },
          "metadata": {
            "tags": []
          },
          "execution_count": 61
        }
      ]
    },
    {
      "cell_type": "code",
      "metadata": {
        "id": "9CmhXyOAD-nl"
      },
      "source": [
        ""
      ],
      "execution_count": null,
      "outputs": []
    }
  ]
}